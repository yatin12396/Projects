{
 "cells": [
  {
   "cell_type": "markdown",
   "metadata": {},
   "source": [
    "# Importing Libraries"
   ]
  },
  {
   "cell_type": "code",
   "execution_count": 971,
   "metadata": {
    "ExecuteTime": {
     "end_time": "2022-04-24T09:56:02.545355Z",
     "start_time": "2022-04-24T09:56:02.529332Z"
    }
   },
   "outputs": [],
   "source": [
    "import numpy as np\n",
    "import pandas as pd\n",
    "import matplotlib.pyplot as plt\n",
    "import seaborn as sns\n",
    "\n",
    "import warnings\n",
    "warnings.filterwarnings('ignore')\n",
    "\n",
    "%matplotlib inline"
   ]
  },
  {
   "cell_type": "code",
   "execution_count": 972,
   "metadata": {
    "ExecuteTime": {
     "end_time": "2022-04-24T09:56:02.577757Z",
     "start_time": "2022-04-24T09:56:02.547473Z"
    }
   },
   "outputs": [],
   "source": [
    "pd.options.display.max_rows = 150\n",
    "pd.options.display.max_columns = 100\n",
    "\n",
    "plt.rcParams['figure.figsize'] = (12,8)"
   ]
  },
  {
   "cell_type": "markdown",
   "metadata": {},
   "source": [
    "# Importing Dataset"
   ]
  },
  {
   "cell_type": "code",
   "execution_count": 973,
   "metadata": {
    "ExecuteTime": {
     "end_time": "2022-04-24T09:56:02.641758Z",
     "start_time": "2022-04-24T09:56:02.577757Z"
    }
   },
   "outputs": [
    {
     "data": {
      "text/html": [
       "<div>\n",
       "<style scoped>\n",
       "    .dataframe tbody tr th:only-of-type {\n",
       "        vertical-align: middle;\n",
       "    }\n",
       "\n",
       "    .dataframe tbody tr th {\n",
       "        vertical-align: top;\n",
       "    }\n",
       "\n",
       "    .dataframe thead th {\n",
       "        text-align: right;\n",
       "    }\n",
       "</style>\n",
       "<table border=\"1\" class=\"dataframe\">\n",
       "  <thead>\n",
       "    <tr style=\"text-align: right;\">\n",
       "      <th></th>\n",
       "      <th>Id</th>\n",
       "      <th>Dwell_Type</th>\n",
       "      <th>Zone_Class</th>\n",
       "      <th>LotFrontage</th>\n",
       "      <th>LotArea</th>\n",
       "      <th>Road_Type</th>\n",
       "      <th>Alley</th>\n",
       "      <th>Property_Shape</th>\n",
       "      <th>LandContour</th>\n",
       "      <th>Utilities</th>\n",
       "      <th>LotConfig</th>\n",
       "      <th>LandSlope</th>\n",
       "      <th>Neighborhood</th>\n",
       "      <th>Condition1</th>\n",
       "      <th>Condition2</th>\n",
       "      <th>Dwelling_Type</th>\n",
       "      <th>HouseStyle</th>\n",
       "      <th>OverallQual</th>\n",
       "      <th>OverallCond</th>\n",
       "      <th>YearBuilt</th>\n",
       "      <th>YearRemodAdd</th>\n",
       "      <th>RoofStyle</th>\n",
       "      <th>RoofMatl</th>\n",
       "      <th>Exterior1st</th>\n",
       "      <th>Exterior2nd</th>\n",
       "      <th>MasVnrType</th>\n",
       "      <th>MasVnrArea</th>\n",
       "      <th>ExterQual</th>\n",
       "      <th>ExterCond</th>\n",
       "      <th>Foundation</th>\n",
       "      <th>BsmtQual</th>\n",
       "      <th>BsmtCond</th>\n",
       "      <th>BsmtExposure</th>\n",
       "      <th>BsmtFinType1</th>\n",
       "      <th>BsmtFinSF1</th>\n",
       "      <th>BsmtFinType2</th>\n",
       "      <th>BsmtFinSF2</th>\n",
       "      <th>BsmtUnfSF</th>\n",
       "      <th>TotalBsmtSF</th>\n",
       "      <th>Heating</th>\n",
       "      <th>HeatingQC</th>\n",
       "      <th>CentralAir</th>\n",
       "      <th>Electrical</th>\n",
       "      <th>1stFlrSF</th>\n",
       "      <th>2ndFlrSF</th>\n",
       "      <th>LowQualFinSF</th>\n",
       "      <th>GrLivArea</th>\n",
       "      <th>BsmtFullBath</th>\n",
       "      <th>BsmtHalfBath</th>\n",
       "      <th>FullBath</th>\n",
       "      <th>HalfBath</th>\n",
       "      <th>BedroomAbvGr</th>\n",
       "      <th>KitchenAbvGr</th>\n",
       "      <th>KitchenQual</th>\n",
       "      <th>TotRmsAbvGrd</th>\n",
       "      <th>Functional</th>\n",
       "      <th>Fireplaces</th>\n",
       "      <th>FireplaceQu</th>\n",
       "      <th>GarageType</th>\n",
       "      <th>GarageYrBlt</th>\n",
       "      <th>GarageFinish</th>\n",
       "      <th>GarageCars</th>\n",
       "      <th>GarageArea</th>\n",
       "      <th>GarageQual</th>\n",
       "      <th>GarageCond</th>\n",
       "      <th>PavedDrive</th>\n",
       "      <th>WoodDeckSF</th>\n",
       "      <th>OpenPorchSF</th>\n",
       "      <th>EnclosedPorch</th>\n",
       "      <th>3SsnPorch</th>\n",
       "      <th>ScreenPorch</th>\n",
       "      <th>PoolArea</th>\n",
       "      <th>PoolQC</th>\n",
       "      <th>Fence</th>\n",
       "      <th>MiscFeature</th>\n",
       "      <th>MiscVal</th>\n",
       "      <th>MoSold</th>\n",
       "      <th>YrSold</th>\n",
       "      <th>SaleType</th>\n",
       "      <th>SaleCondition</th>\n",
       "      <th>Property_Sale_Price</th>\n",
       "    </tr>\n",
       "  </thead>\n",
       "  <tbody>\n",
       "    <tr>\n",
       "      <th>0</th>\n",
       "      <td>1</td>\n",
       "      <td>60</td>\n",
       "      <td>RL</td>\n",
       "      <td>65.0</td>\n",
       "      <td>8450</td>\n",
       "      <td>Pave</td>\n",
       "      <td>NaN</td>\n",
       "      <td>Reg</td>\n",
       "      <td>Lvl</td>\n",
       "      <td>AllPub</td>\n",
       "      <td>Inside</td>\n",
       "      <td>Gtl</td>\n",
       "      <td>CollgCr</td>\n",
       "      <td>Norm</td>\n",
       "      <td>Norm</td>\n",
       "      <td>1Fam</td>\n",
       "      <td>2Story</td>\n",
       "      <td>7</td>\n",
       "      <td>5</td>\n",
       "      <td>2003</td>\n",
       "      <td>2003</td>\n",
       "      <td>Gable</td>\n",
       "      <td>CompShg</td>\n",
       "      <td>VinylSd</td>\n",
       "      <td>VinylSd</td>\n",
       "      <td>BrkFace</td>\n",
       "      <td>196.0</td>\n",
       "      <td>Gd</td>\n",
       "      <td>TA</td>\n",
       "      <td>PConc</td>\n",
       "      <td>Gd</td>\n",
       "      <td>TA</td>\n",
       "      <td>No</td>\n",
       "      <td>GLQ</td>\n",
       "      <td>706</td>\n",
       "      <td>Unf</td>\n",
       "      <td>0</td>\n",
       "      <td>150</td>\n",
       "      <td>856</td>\n",
       "      <td>GasA</td>\n",
       "      <td>Ex</td>\n",
       "      <td>Y</td>\n",
       "      <td>SBrkr</td>\n",
       "      <td>856</td>\n",
       "      <td>854</td>\n",
       "      <td>0</td>\n",
       "      <td>1710</td>\n",
       "      <td>1</td>\n",
       "      <td>0</td>\n",
       "      <td>2</td>\n",
       "      <td>1</td>\n",
       "      <td>3</td>\n",
       "      <td>1</td>\n",
       "      <td>Gd</td>\n",
       "      <td>8</td>\n",
       "      <td>Typ</td>\n",
       "      <td>0</td>\n",
       "      <td>NaN</td>\n",
       "      <td>Attchd</td>\n",
       "      <td>2003.0</td>\n",
       "      <td>RFn</td>\n",
       "      <td>2</td>\n",
       "      <td>548</td>\n",
       "      <td>TA</td>\n",
       "      <td>TA</td>\n",
       "      <td>Y</td>\n",
       "      <td>0</td>\n",
       "      <td>61</td>\n",
       "      <td>0</td>\n",
       "      <td>0</td>\n",
       "      <td>0</td>\n",
       "      <td>0</td>\n",
       "      <td>NaN</td>\n",
       "      <td>NaN</td>\n",
       "      <td>NaN</td>\n",
       "      <td>0</td>\n",
       "      <td>2</td>\n",
       "      <td>2008</td>\n",
       "      <td>WD</td>\n",
       "      <td>Normal</td>\n",
       "      <td>208500</td>\n",
       "    </tr>\n",
       "    <tr>\n",
       "      <th>1</th>\n",
       "      <td>2</td>\n",
       "      <td>20</td>\n",
       "      <td>RL</td>\n",
       "      <td>80.0</td>\n",
       "      <td>9600</td>\n",
       "      <td>Pave</td>\n",
       "      <td>NaN</td>\n",
       "      <td>Reg</td>\n",
       "      <td>Lvl</td>\n",
       "      <td>AllPub</td>\n",
       "      <td>FR2</td>\n",
       "      <td>Gtl</td>\n",
       "      <td>Veenker</td>\n",
       "      <td>Feedr</td>\n",
       "      <td>Norm</td>\n",
       "      <td>1Fam</td>\n",
       "      <td>1Story</td>\n",
       "      <td>6</td>\n",
       "      <td>8</td>\n",
       "      <td>1976</td>\n",
       "      <td>1976</td>\n",
       "      <td>Gable</td>\n",
       "      <td>CompShg</td>\n",
       "      <td>MetalSd</td>\n",
       "      <td>MetalSd</td>\n",
       "      <td>None</td>\n",
       "      <td>0.0</td>\n",
       "      <td>TA</td>\n",
       "      <td>TA</td>\n",
       "      <td>CBlock</td>\n",
       "      <td>Gd</td>\n",
       "      <td>TA</td>\n",
       "      <td>Gd</td>\n",
       "      <td>ALQ</td>\n",
       "      <td>978</td>\n",
       "      <td>Unf</td>\n",
       "      <td>0</td>\n",
       "      <td>284</td>\n",
       "      <td>1262</td>\n",
       "      <td>GasA</td>\n",
       "      <td>Ex</td>\n",
       "      <td>Y</td>\n",
       "      <td>SBrkr</td>\n",
       "      <td>1262</td>\n",
       "      <td>0</td>\n",
       "      <td>0</td>\n",
       "      <td>1262</td>\n",
       "      <td>0</td>\n",
       "      <td>1</td>\n",
       "      <td>2</td>\n",
       "      <td>0</td>\n",
       "      <td>3</td>\n",
       "      <td>1</td>\n",
       "      <td>TA</td>\n",
       "      <td>6</td>\n",
       "      <td>Typ</td>\n",
       "      <td>1</td>\n",
       "      <td>TA</td>\n",
       "      <td>Attchd</td>\n",
       "      <td>1976.0</td>\n",
       "      <td>RFn</td>\n",
       "      <td>2</td>\n",
       "      <td>460</td>\n",
       "      <td>TA</td>\n",
       "      <td>TA</td>\n",
       "      <td>Y</td>\n",
       "      <td>298</td>\n",
       "      <td>0</td>\n",
       "      <td>0</td>\n",
       "      <td>0</td>\n",
       "      <td>0</td>\n",
       "      <td>0</td>\n",
       "      <td>NaN</td>\n",
       "      <td>NaN</td>\n",
       "      <td>NaN</td>\n",
       "      <td>0</td>\n",
       "      <td>5</td>\n",
       "      <td>2007</td>\n",
       "      <td>WD</td>\n",
       "      <td>Normal</td>\n",
       "      <td>181500</td>\n",
       "    </tr>\n",
       "    <tr>\n",
       "      <th>2</th>\n",
       "      <td>3</td>\n",
       "      <td>60</td>\n",
       "      <td>RL</td>\n",
       "      <td>68.0</td>\n",
       "      <td>11250</td>\n",
       "      <td>Pave</td>\n",
       "      <td>NaN</td>\n",
       "      <td>IR1</td>\n",
       "      <td>Lvl</td>\n",
       "      <td>AllPub</td>\n",
       "      <td>Inside</td>\n",
       "      <td>Gtl</td>\n",
       "      <td>CollgCr</td>\n",
       "      <td>Norm</td>\n",
       "      <td>Norm</td>\n",
       "      <td>1Fam</td>\n",
       "      <td>2Story</td>\n",
       "      <td>7</td>\n",
       "      <td>5</td>\n",
       "      <td>2001</td>\n",
       "      <td>2002</td>\n",
       "      <td>Gable</td>\n",
       "      <td>CompShg</td>\n",
       "      <td>VinylSd</td>\n",
       "      <td>VinylSd</td>\n",
       "      <td>BrkFace</td>\n",
       "      <td>162.0</td>\n",
       "      <td>Gd</td>\n",
       "      <td>TA</td>\n",
       "      <td>PConc</td>\n",
       "      <td>Gd</td>\n",
       "      <td>TA</td>\n",
       "      <td>Mn</td>\n",
       "      <td>GLQ</td>\n",
       "      <td>486</td>\n",
       "      <td>Unf</td>\n",
       "      <td>0</td>\n",
       "      <td>434</td>\n",
       "      <td>920</td>\n",
       "      <td>GasA</td>\n",
       "      <td>Ex</td>\n",
       "      <td>Y</td>\n",
       "      <td>SBrkr</td>\n",
       "      <td>920</td>\n",
       "      <td>866</td>\n",
       "      <td>0</td>\n",
       "      <td>1786</td>\n",
       "      <td>1</td>\n",
       "      <td>0</td>\n",
       "      <td>2</td>\n",
       "      <td>1</td>\n",
       "      <td>3</td>\n",
       "      <td>1</td>\n",
       "      <td>Gd</td>\n",
       "      <td>6</td>\n",
       "      <td>Typ</td>\n",
       "      <td>1</td>\n",
       "      <td>TA</td>\n",
       "      <td>Attchd</td>\n",
       "      <td>2001.0</td>\n",
       "      <td>RFn</td>\n",
       "      <td>2</td>\n",
       "      <td>608</td>\n",
       "      <td>TA</td>\n",
       "      <td>TA</td>\n",
       "      <td>Y</td>\n",
       "      <td>0</td>\n",
       "      <td>42</td>\n",
       "      <td>0</td>\n",
       "      <td>0</td>\n",
       "      <td>0</td>\n",
       "      <td>0</td>\n",
       "      <td>NaN</td>\n",
       "      <td>NaN</td>\n",
       "      <td>NaN</td>\n",
       "      <td>0</td>\n",
       "      <td>9</td>\n",
       "      <td>2008</td>\n",
       "      <td>WD</td>\n",
       "      <td>Normal</td>\n",
       "      <td>223500</td>\n",
       "    </tr>\n",
       "    <tr>\n",
       "      <th>3</th>\n",
       "      <td>4</td>\n",
       "      <td>70</td>\n",
       "      <td>RL</td>\n",
       "      <td>60.0</td>\n",
       "      <td>9550</td>\n",
       "      <td>Pave</td>\n",
       "      <td>NaN</td>\n",
       "      <td>IR1</td>\n",
       "      <td>Lvl</td>\n",
       "      <td>AllPub</td>\n",
       "      <td>Corner</td>\n",
       "      <td>Gtl</td>\n",
       "      <td>Crawfor</td>\n",
       "      <td>Norm</td>\n",
       "      <td>Norm</td>\n",
       "      <td>1Fam</td>\n",
       "      <td>2Story</td>\n",
       "      <td>7</td>\n",
       "      <td>5</td>\n",
       "      <td>1915</td>\n",
       "      <td>1970</td>\n",
       "      <td>Gable</td>\n",
       "      <td>CompShg</td>\n",
       "      <td>Wd Sdng</td>\n",
       "      <td>Wd Shng</td>\n",
       "      <td>None</td>\n",
       "      <td>0.0</td>\n",
       "      <td>TA</td>\n",
       "      <td>TA</td>\n",
       "      <td>BrkTil</td>\n",
       "      <td>TA</td>\n",
       "      <td>Gd</td>\n",
       "      <td>No</td>\n",
       "      <td>ALQ</td>\n",
       "      <td>216</td>\n",
       "      <td>Unf</td>\n",
       "      <td>0</td>\n",
       "      <td>540</td>\n",
       "      <td>756</td>\n",
       "      <td>GasA</td>\n",
       "      <td>Gd</td>\n",
       "      <td>Y</td>\n",
       "      <td>SBrkr</td>\n",
       "      <td>961</td>\n",
       "      <td>756</td>\n",
       "      <td>0</td>\n",
       "      <td>1717</td>\n",
       "      <td>1</td>\n",
       "      <td>0</td>\n",
       "      <td>1</td>\n",
       "      <td>0</td>\n",
       "      <td>3</td>\n",
       "      <td>1</td>\n",
       "      <td>Gd</td>\n",
       "      <td>7</td>\n",
       "      <td>Typ</td>\n",
       "      <td>1</td>\n",
       "      <td>Gd</td>\n",
       "      <td>Detchd</td>\n",
       "      <td>1998.0</td>\n",
       "      <td>Unf</td>\n",
       "      <td>3</td>\n",
       "      <td>642</td>\n",
       "      <td>TA</td>\n",
       "      <td>TA</td>\n",
       "      <td>Y</td>\n",
       "      <td>0</td>\n",
       "      <td>35</td>\n",
       "      <td>272</td>\n",
       "      <td>0</td>\n",
       "      <td>0</td>\n",
       "      <td>0</td>\n",
       "      <td>NaN</td>\n",
       "      <td>NaN</td>\n",
       "      <td>NaN</td>\n",
       "      <td>0</td>\n",
       "      <td>2</td>\n",
       "      <td>2006</td>\n",
       "      <td>WD</td>\n",
       "      <td>Abnorml</td>\n",
       "      <td>140000</td>\n",
       "    </tr>\n",
       "    <tr>\n",
       "      <th>4</th>\n",
       "      <td>5</td>\n",
       "      <td>60</td>\n",
       "      <td>RL</td>\n",
       "      <td>84.0</td>\n",
       "      <td>14260</td>\n",
       "      <td>Pave</td>\n",
       "      <td>NaN</td>\n",
       "      <td>IR1</td>\n",
       "      <td>Lvl</td>\n",
       "      <td>AllPub</td>\n",
       "      <td>FR2</td>\n",
       "      <td>Gtl</td>\n",
       "      <td>NoRidge</td>\n",
       "      <td>Norm</td>\n",
       "      <td>Norm</td>\n",
       "      <td>1Fam</td>\n",
       "      <td>2Story</td>\n",
       "      <td>8</td>\n",
       "      <td>5</td>\n",
       "      <td>2000</td>\n",
       "      <td>2000</td>\n",
       "      <td>Gable</td>\n",
       "      <td>CompShg</td>\n",
       "      <td>VinylSd</td>\n",
       "      <td>VinylSd</td>\n",
       "      <td>BrkFace</td>\n",
       "      <td>350.0</td>\n",
       "      <td>Gd</td>\n",
       "      <td>TA</td>\n",
       "      <td>PConc</td>\n",
       "      <td>Gd</td>\n",
       "      <td>TA</td>\n",
       "      <td>Av</td>\n",
       "      <td>GLQ</td>\n",
       "      <td>655</td>\n",
       "      <td>Unf</td>\n",
       "      <td>0</td>\n",
       "      <td>490</td>\n",
       "      <td>1145</td>\n",
       "      <td>GasA</td>\n",
       "      <td>Ex</td>\n",
       "      <td>Y</td>\n",
       "      <td>SBrkr</td>\n",
       "      <td>1145</td>\n",
       "      <td>1053</td>\n",
       "      <td>0</td>\n",
       "      <td>2198</td>\n",
       "      <td>1</td>\n",
       "      <td>0</td>\n",
       "      <td>2</td>\n",
       "      <td>1</td>\n",
       "      <td>4</td>\n",
       "      <td>1</td>\n",
       "      <td>Gd</td>\n",
       "      <td>9</td>\n",
       "      <td>Typ</td>\n",
       "      <td>1</td>\n",
       "      <td>TA</td>\n",
       "      <td>Attchd</td>\n",
       "      <td>2000.0</td>\n",
       "      <td>RFn</td>\n",
       "      <td>3</td>\n",
       "      <td>836</td>\n",
       "      <td>TA</td>\n",
       "      <td>TA</td>\n",
       "      <td>Y</td>\n",
       "      <td>192</td>\n",
       "      <td>84</td>\n",
       "      <td>0</td>\n",
       "      <td>0</td>\n",
       "      <td>0</td>\n",
       "      <td>0</td>\n",
       "      <td>NaN</td>\n",
       "      <td>NaN</td>\n",
       "      <td>NaN</td>\n",
       "      <td>0</td>\n",
       "      <td>12</td>\n",
       "      <td>2008</td>\n",
       "      <td>WD</td>\n",
       "      <td>Normal</td>\n",
       "      <td>250000</td>\n",
       "    </tr>\n",
       "  </tbody>\n",
       "</table>\n",
       "</div>"
      ],
      "text/plain": [
       "   Id  Dwell_Type Zone_Class  LotFrontage  LotArea Road_Type Alley  \\\n",
       "0   1          60         RL         65.0     8450      Pave   NaN   \n",
       "1   2          20         RL         80.0     9600      Pave   NaN   \n",
       "2   3          60         RL         68.0    11250      Pave   NaN   \n",
       "3   4          70         RL         60.0     9550      Pave   NaN   \n",
       "4   5          60         RL         84.0    14260      Pave   NaN   \n",
       "\n",
       "  Property_Shape LandContour Utilities LotConfig LandSlope Neighborhood  \\\n",
       "0            Reg         Lvl    AllPub    Inside       Gtl      CollgCr   \n",
       "1            Reg         Lvl    AllPub       FR2       Gtl      Veenker   \n",
       "2            IR1         Lvl    AllPub    Inside       Gtl      CollgCr   \n",
       "3            IR1         Lvl    AllPub    Corner       Gtl      Crawfor   \n",
       "4            IR1         Lvl    AllPub       FR2       Gtl      NoRidge   \n",
       "\n",
       "  Condition1 Condition2 Dwelling_Type HouseStyle  OverallQual  OverallCond  \\\n",
       "0       Norm       Norm          1Fam     2Story            7            5   \n",
       "1      Feedr       Norm          1Fam     1Story            6            8   \n",
       "2       Norm       Norm          1Fam     2Story            7            5   \n",
       "3       Norm       Norm          1Fam     2Story            7            5   \n",
       "4       Norm       Norm          1Fam     2Story            8            5   \n",
       "\n",
       "   YearBuilt  YearRemodAdd RoofStyle RoofMatl Exterior1st Exterior2nd  \\\n",
       "0       2003          2003     Gable  CompShg     VinylSd     VinylSd   \n",
       "1       1976          1976     Gable  CompShg     MetalSd     MetalSd   \n",
       "2       2001          2002     Gable  CompShg     VinylSd     VinylSd   \n",
       "3       1915          1970     Gable  CompShg     Wd Sdng     Wd Shng   \n",
       "4       2000          2000     Gable  CompShg     VinylSd     VinylSd   \n",
       "\n",
       "  MasVnrType  MasVnrArea ExterQual ExterCond Foundation BsmtQual BsmtCond  \\\n",
       "0    BrkFace       196.0        Gd        TA      PConc       Gd       TA   \n",
       "1       None         0.0        TA        TA     CBlock       Gd       TA   \n",
       "2    BrkFace       162.0        Gd        TA      PConc       Gd       TA   \n",
       "3       None         0.0        TA        TA     BrkTil       TA       Gd   \n",
       "4    BrkFace       350.0        Gd        TA      PConc       Gd       TA   \n",
       "\n",
       "  BsmtExposure BsmtFinType1  BsmtFinSF1 BsmtFinType2  BsmtFinSF2  BsmtUnfSF  \\\n",
       "0           No          GLQ         706          Unf           0        150   \n",
       "1           Gd          ALQ         978          Unf           0        284   \n",
       "2           Mn          GLQ         486          Unf           0        434   \n",
       "3           No          ALQ         216          Unf           0        540   \n",
       "4           Av          GLQ         655          Unf           0        490   \n",
       "\n",
       "   TotalBsmtSF Heating HeatingQC CentralAir Electrical  1stFlrSF  2ndFlrSF  \\\n",
       "0          856    GasA        Ex          Y      SBrkr       856       854   \n",
       "1         1262    GasA        Ex          Y      SBrkr      1262         0   \n",
       "2          920    GasA        Ex          Y      SBrkr       920       866   \n",
       "3          756    GasA        Gd          Y      SBrkr       961       756   \n",
       "4         1145    GasA        Ex          Y      SBrkr      1145      1053   \n",
       "\n",
       "   LowQualFinSF  GrLivArea  BsmtFullBath  BsmtHalfBath  FullBath  HalfBath  \\\n",
       "0             0       1710             1             0         2         1   \n",
       "1             0       1262             0             1         2         0   \n",
       "2             0       1786             1             0         2         1   \n",
       "3             0       1717             1             0         1         0   \n",
       "4             0       2198             1             0         2         1   \n",
       "\n",
       "   BedroomAbvGr  KitchenAbvGr KitchenQual  TotRmsAbvGrd Functional  \\\n",
       "0             3             1          Gd             8        Typ   \n",
       "1             3             1          TA             6        Typ   \n",
       "2             3             1          Gd             6        Typ   \n",
       "3             3             1          Gd             7        Typ   \n",
       "4             4             1          Gd             9        Typ   \n",
       "\n",
       "   Fireplaces FireplaceQu GarageType  GarageYrBlt GarageFinish  GarageCars  \\\n",
       "0           0         NaN     Attchd       2003.0          RFn           2   \n",
       "1           1          TA     Attchd       1976.0          RFn           2   \n",
       "2           1          TA     Attchd       2001.0          RFn           2   \n",
       "3           1          Gd     Detchd       1998.0          Unf           3   \n",
       "4           1          TA     Attchd       2000.0          RFn           3   \n",
       "\n",
       "   GarageArea GarageQual GarageCond PavedDrive  WoodDeckSF  OpenPorchSF  \\\n",
       "0         548         TA         TA          Y           0           61   \n",
       "1         460         TA         TA          Y         298            0   \n",
       "2         608         TA         TA          Y           0           42   \n",
       "3         642         TA         TA          Y           0           35   \n",
       "4         836         TA         TA          Y         192           84   \n",
       "\n",
       "   EnclosedPorch  3SsnPorch  ScreenPorch  PoolArea PoolQC Fence MiscFeature  \\\n",
       "0              0          0            0         0    NaN   NaN         NaN   \n",
       "1              0          0            0         0    NaN   NaN         NaN   \n",
       "2              0          0            0         0    NaN   NaN         NaN   \n",
       "3            272          0            0         0    NaN   NaN         NaN   \n",
       "4              0          0            0         0    NaN   NaN         NaN   \n",
       "\n",
       "   MiscVal  MoSold  YrSold SaleType SaleCondition  Property_Sale_Price  \n",
       "0        0       2    2008       WD        Normal               208500  \n",
       "1        0       5    2007       WD        Normal               181500  \n",
       "2        0       9    2008       WD        Normal               223500  \n",
       "3        0       2    2006       WD       Abnorml               140000  \n",
       "4        0      12    2008       WD        Normal               250000  "
      ]
     },
     "execution_count": 973,
     "metadata": {},
     "output_type": "execute_result"
    }
   ],
   "source": [
    "df = pd.read_csv('HousePrices.csv')\n",
    "df.head()"
   ]
  },
  {
   "cell_type": "code",
   "execution_count": 974,
   "metadata": {
    "ExecuteTime": {
     "end_time": "2022-04-24T09:56:02.657758Z",
     "start_time": "2022-04-24T09:56:02.641758Z"
    }
   },
   "outputs": [
    {
     "data": {
      "text/plain": [
       "(2073, 81)"
      ]
     },
     "execution_count": 974,
     "metadata": {},
     "output_type": "execute_result"
    }
   ],
   "source": [
    "df.shape"
   ]
  },
  {
   "cell_type": "code",
   "execution_count": 975,
   "metadata": {
    "ExecuteTime": {
     "end_time": "2022-04-24T09:56:02.689757Z",
     "start_time": "2022-04-24T09:56:02.657758Z"
    },
    "scrolled": true
   },
   "outputs": [
    {
     "name": "stdout",
     "output_type": "stream",
     "text": [
      "<class 'pandas.core.frame.DataFrame'>\n",
      "RangeIndex: 2073 entries, 0 to 2072\n",
      "Data columns (total 81 columns):\n",
      " #   Column               Non-Null Count  Dtype  \n",
      "---  ------               --------------  -----  \n",
      " 0   Id                   2073 non-null   int64  \n",
      " 1   Dwell_Type           2073 non-null   int64  \n",
      " 2   Zone_Class           2073 non-null   object \n",
      " 3   LotFrontage          1753 non-null   float64\n",
      " 4   LotArea              2073 non-null   int64  \n",
      " 5   Road_Type            2073 non-null   object \n",
      " 6   Alley                129 non-null    object \n",
      " 7   Property_Shape       2073 non-null   object \n",
      " 8   LandContour          2073 non-null   object \n",
      " 9   Utilities            2073 non-null   object \n",
      " 10  LotConfig            2073 non-null   object \n",
      " 11  LandSlope            2073 non-null   object \n",
      " 12  Neighborhood         2073 non-null   object \n",
      " 13  Condition1           2073 non-null   object \n",
      " 14  Condition2           2073 non-null   object \n",
      " 15  Dwelling_Type        2073 non-null   object \n",
      " 16  HouseStyle           2073 non-null   object \n",
      " 17  OverallQual          2073 non-null   int64  \n",
      " 18  OverallCond          2073 non-null   int64  \n",
      " 19  YearBuilt            2073 non-null   int64  \n",
      " 20  YearRemodAdd         2073 non-null   int64  \n",
      " 21  RoofStyle            2073 non-null   object \n",
      " 22  RoofMatl             2073 non-null   object \n",
      " 23  Exterior1st          2073 non-null   object \n",
      " 24  Exterior2nd          2073 non-null   object \n",
      " 25  MasVnrType           2059 non-null   object \n",
      " 26  MasVnrArea           2059 non-null   float64\n",
      " 27  ExterQual            2073 non-null   object \n",
      " 28  ExterCond            2073 non-null   object \n",
      " 29  Foundation           2073 non-null   object \n",
      " 30  BsmtQual             2014 non-null   object \n",
      " 31  BsmtCond             2014 non-null   object \n",
      " 32  BsmtExposure         2012 non-null   object \n",
      " 33  BsmtFinType1         2014 non-null   object \n",
      " 34  BsmtFinSF1           2073 non-null   int64  \n",
      " 35  BsmtFinType2         2013 non-null   object \n",
      " 36  BsmtFinSF2           2073 non-null   int64  \n",
      " 37  BsmtUnfSF            2073 non-null   int64  \n",
      " 38  TotalBsmtSF          2073 non-null   int64  \n",
      " 39  Heating              2073 non-null   object \n",
      " 40  HeatingQC            2073 non-null   object \n",
      " 41  CentralAir           2073 non-null   object \n",
      " 42  Electrical           2072 non-null   object \n",
      " 43  1stFlrSF             2073 non-null   int64  \n",
      " 44  2ndFlrSF             2073 non-null   int64  \n",
      " 45  LowQualFinSF         2073 non-null   int64  \n",
      " 46  GrLivArea            2073 non-null   int64  \n",
      " 47  BsmtFullBath         2073 non-null   int64  \n",
      " 48  BsmtHalfBath         2073 non-null   int64  \n",
      " 49  FullBath             2073 non-null   int64  \n",
      " 50  HalfBath             2073 non-null   int64  \n",
      " 51  BedroomAbvGr         2073 non-null   int64  \n",
      " 52  KitchenAbvGr         2073 non-null   int64  \n",
      " 53  KitchenQual          2073 non-null   object \n",
      " 54  TotRmsAbvGrd         2073 non-null   int64  \n",
      " 55  Functional           2073 non-null   object \n",
      " 56  Fireplaces           2073 non-null   int64  \n",
      " 57  FireplaceQu          1085 non-null   object \n",
      " 58  GarageType           1960 non-null   object \n",
      " 59  GarageYrBlt          1960 non-null   float64\n",
      " 60  GarageFinish         1960 non-null   object \n",
      " 61  GarageCars           2073 non-null   int64  \n",
      " 62  GarageArea           2073 non-null   int64  \n",
      " 63  GarageQual           1960 non-null   object \n",
      " 64  GarageCond           1960 non-null   object \n",
      " 65  PavedDrive           2073 non-null   object \n",
      " 66  WoodDeckSF           2073 non-null   int64  \n",
      " 67  OpenPorchSF          2073 non-null   int64  \n",
      " 68  EnclosedPorch        2073 non-null   int64  \n",
      " 69  3SsnPorch            2073 non-null   int64  \n",
      " 70  ScreenPorch          2073 non-null   int64  \n",
      " 71  PoolArea             2073 non-null   int64  \n",
      " 72  PoolQC               8 non-null      object \n",
      " 73  Fence                404 non-null    object \n",
      " 74  MiscFeature          80 non-null     object \n",
      " 75  MiscVal              2073 non-null   int64  \n",
      " 76  MoSold               2073 non-null   int64  \n",
      " 77  YrSold               2073 non-null   int64  \n",
      " 78  SaleType             2073 non-null   object \n",
      " 79  SaleCondition        2073 non-null   object \n",
      " 80  Property_Sale_Price  2073 non-null   int64  \n",
      "dtypes: float64(3), int64(35), object(43)\n",
      "memory usage: 1.3+ MB\n"
     ]
    }
   ],
   "source": [
    "df.info()"
   ]
  },
  {
   "cell_type": "markdown",
   "metadata": {},
   "source": [
    "# Removing Duplicate values"
   ]
  },
  {
   "cell_type": "code",
   "execution_count": 976,
   "metadata": {
    "ExecuteTime": {
     "end_time": "2022-04-24T09:56:02.721748Z",
     "start_time": "2022-04-24T09:56:02.689757Z"
    }
   },
   "outputs": [
    {
     "data": {
      "text/plain": [
       "13"
      ]
     },
     "execution_count": 976,
     "metadata": {},
     "output_type": "execute_result"
    }
   ],
   "source": [
    "df.duplicated().sum()"
   ]
  },
  {
   "cell_type": "code",
   "execution_count": 977,
   "metadata": {
    "ExecuteTime": {
     "end_time": "2022-04-24T09:56:02.753755Z",
     "start_time": "2022-04-24T09:56:02.721748Z"
    }
   },
   "outputs": [],
   "source": [
    "df.drop_duplicates(inplace=True, ignore_index=True)"
   ]
  },
  {
   "cell_type": "code",
   "execution_count": 978,
   "metadata": {
    "ExecuteTime": {
     "end_time": "2022-04-24T09:56:02.785755Z",
     "start_time": "2022-04-24T09:56:02.753755Z"
    }
   },
   "outputs": [
    {
     "data": {
      "text/plain": [
       "0"
      ]
     },
     "execution_count": 978,
     "metadata": {},
     "output_type": "execute_result"
    }
   ],
   "source": [
    "df.duplicated().sum()"
   ]
  },
  {
   "cell_type": "markdown",
   "metadata": {},
   "source": [
    "# Missing Value Treatment"
   ]
  },
  {
   "cell_type": "markdown",
   "metadata": {},
   "source": [
    "- Mostly values are filled '0' or 'none' as values are missing only if that feature is not available"
   ]
  },
  {
   "cell_type": "code",
   "execution_count": 979,
   "metadata": {
    "ExecuteTime": {
     "end_time": "2022-04-24T09:56:02.817747Z",
     "start_time": "2022-04-24T09:56:02.785755Z"
    },
    "scrolled": true
   },
   "outputs": [
    {
     "data": {
      "text/html": [
       "<div>\n",
       "<style scoped>\n",
       "    .dataframe tbody tr th:only-of-type {\n",
       "        vertical-align: middle;\n",
       "    }\n",
       "\n",
       "    .dataframe tbody tr th {\n",
       "        vertical-align: top;\n",
       "    }\n",
       "\n",
       "    .dataframe thead th {\n",
       "        text-align: right;\n",
       "    }\n",
       "</style>\n",
       "<table border=\"1\" class=\"dataframe\">\n",
       "  <thead>\n",
       "    <tr style=\"text-align: right;\">\n",
       "      <th></th>\n",
       "      <th>0</th>\n",
       "      <th>Values</th>\n",
       "    </tr>\n",
       "  </thead>\n",
       "  <tbody>\n",
       "    <tr>\n",
       "      <th>PoolQC</th>\n",
       "      <td>2052</td>\n",
       "      <td>99.611650</td>\n",
       "    </tr>\n",
       "    <tr>\n",
       "      <th>MiscFeature</th>\n",
       "      <td>1981</td>\n",
       "      <td>96.165049</td>\n",
       "    </tr>\n",
       "    <tr>\n",
       "      <th>Alley</th>\n",
       "      <td>1932</td>\n",
       "      <td>93.786408</td>\n",
       "    </tr>\n",
       "    <tr>\n",
       "      <th>Fence</th>\n",
       "      <td>1659</td>\n",
       "      <td>80.533981</td>\n",
       "    </tr>\n",
       "    <tr>\n",
       "      <th>FireplaceQu</th>\n",
       "      <td>977</td>\n",
       "      <td>47.427184</td>\n",
       "    </tr>\n",
       "    <tr>\n",
       "      <th>LotFrontage</th>\n",
       "      <td>317</td>\n",
       "      <td>15.388350</td>\n",
       "    </tr>\n",
       "    <tr>\n",
       "      <th>GarageCond</th>\n",
       "      <td>113</td>\n",
       "      <td>5.485437</td>\n",
       "    </tr>\n",
       "    <tr>\n",
       "      <th>GarageType</th>\n",
       "      <td>113</td>\n",
       "      <td>5.485437</td>\n",
       "    </tr>\n",
       "    <tr>\n",
       "      <th>GarageYrBlt</th>\n",
       "      <td>113</td>\n",
       "      <td>5.485437</td>\n",
       "    </tr>\n",
       "    <tr>\n",
       "      <th>GarageFinish</th>\n",
       "      <td>113</td>\n",
       "      <td>5.485437</td>\n",
       "    </tr>\n",
       "    <tr>\n",
       "      <th>GarageQual</th>\n",
       "      <td>113</td>\n",
       "      <td>5.485437</td>\n",
       "    </tr>\n",
       "    <tr>\n",
       "      <th>BsmtExposure</th>\n",
       "      <td>60</td>\n",
       "      <td>2.912621</td>\n",
       "    </tr>\n",
       "    <tr>\n",
       "      <th>BsmtFinType2</th>\n",
       "      <td>59</td>\n",
       "      <td>2.864078</td>\n",
       "    </tr>\n",
       "    <tr>\n",
       "      <th>BsmtFinType1</th>\n",
       "      <td>58</td>\n",
       "      <td>2.815534</td>\n",
       "    </tr>\n",
       "    <tr>\n",
       "      <th>BsmtCond</th>\n",
       "      <td>58</td>\n",
       "      <td>2.815534</td>\n",
       "    </tr>\n",
       "    <tr>\n",
       "      <th>BsmtQual</th>\n",
       "      <td>58</td>\n",
       "      <td>2.815534</td>\n",
       "    </tr>\n",
       "    <tr>\n",
       "      <th>MasVnrArea</th>\n",
       "      <td>14</td>\n",
       "      <td>0.679612</td>\n",
       "    </tr>\n",
       "    <tr>\n",
       "      <th>MasVnrType</th>\n",
       "      <td>14</td>\n",
       "      <td>0.679612</td>\n",
       "    </tr>\n",
       "    <tr>\n",
       "      <th>Electrical</th>\n",
       "      <td>1</td>\n",
       "      <td>0.048544</td>\n",
       "    </tr>\n",
       "    <tr>\n",
       "      <th>Utilities</th>\n",
       "      <td>0</td>\n",
       "      <td>0.000000</td>\n",
       "    </tr>\n",
       "    <tr>\n",
       "      <th>YearRemodAdd</th>\n",
       "      <td>0</td>\n",
       "      <td>0.000000</td>\n",
       "    </tr>\n",
       "    <tr>\n",
       "      <th>Dwell_Type</th>\n",
       "      <td>0</td>\n",
       "      <td>0.000000</td>\n",
       "    </tr>\n",
       "    <tr>\n",
       "      <th>Foundation</th>\n",
       "      <td>0</td>\n",
       "      <td>0.000000</td>\n",
       "    </tr>\n",
       "    <tr>\n",
       "      <th>ExterCond</th>\n",
       "      <td>0</td>\n",
       "      <td>0.000000</td>\n",
       "    </tr>\n",
       "    <tr>\n",
       "      <th>ExterQual</th>\n",
       "      <td>0</td>\n",
       "      <td>0.000000</td>\n",
       "    </tr>\n",
       "    <tr>\n",
       "      <th>Exterior2nd</th>\n",
       "      <td>0</td>\n",
       "      <td>0.000000</td>\n",
       "    </tr>\n",
       "    <tr>\n",
       "      <th>Exterior1st</th>\n",
       "      <td>0</td>\n",
       "      <td>0.000000</td>\n",
       "    </tr>\n",
       "    <tr>\n",
       "      <th>RoofMatl</th>\n",
       "      <td>0</td>\n",
       "      <td>0.000000</td>\n",
       "    </tr>\n",
       "    <tr>\n",
       "      <th>RoofStyle</th>\n",
       "      <td>0</td>\n",
       "      <td>0.000000</td>\n",
       "    </tr>\n",
       "    <tr>\n",
       "      <th>YearBuilt</th>\n",
       "      <td>0</td>\n",
       "      <td>0.000000</td>\n",
       "    </tr>\n",
       "    <tr>\n",
       "      <th>LotConfig</th>\n",
       "      <td>0</td>\n",
       "      <td>0.000000</td>\n",
       "    </tr>\n",
       "    <tr>\n",
       "      <th>OverallCond</th>\n",
       "      <td>0</td>\n",
       "      <td>0.000000</td>\n",
       "    </tr>\n",
       "    <tr>\n",
       "      <th>OverallQual</th>\n",
       "      <td>0</td>\n",
       "      <td>0.000000</td>\n",
       "    </tr>\n",
       "    <tr>\n",
       "      <th>HouseStyle</th>\n",
       "      <td>0</td>\n",
       "      <td>0.000000</td>\n",
       "    </tr>\n",
       "    <tr>\n",
       "      <th>Dwelling_Type</th>\n",
       "      <td>0</td>\n",
       "      <td>0.000000</td>\n",
       "    </tr>\n",
       "    <tr>\n",
       "      <th>Condition2</th>\n",
       "      <td>0</td>\n",
       "      <td>0.000000</td>\n",
       "    </tr>\n",
       "    <tr>\n",
       "      <th>BsmtFinSF1</th>\n",
       "      <td>0</td>\n",
       "      <td>0.000000</td>\n",
       "    </tr>\n",
       "    <tr>\n",
       "      <th>Zone_Class</th>\n",
       "      <td>0</td>\n",
       "      <td>0.000000</td>\n",
       "    </tr>\n",
       "    <tr>\n",
       "      <th>LotArea</th>\n",
       "      <td>0</td>\n",
       "      <td>0.000000</td>\n",
       "    </tr>\n",
       "    <tr>\n",
       "      <th>Road_Type</th>\n",
       "      <td>0</td>\n",
       "      <td>0.000000</td>\n",
       "    </tr>\n",
       "    <tr>\n",
       "      <th>Condition1</th>\n",
       "      <td>0</td>\n",
       "      <td>0.000000</td>\n",
       "    </tr>\n",
       "    <tr>\n",
       "      <th>Neighborhood</th>\n",
       "      <td>0</td>\n",
       "      <td>0.000000</td>\n",
       "    </tr>\n",
       "    <tr>\n",
       "      <th>Property_Shape</th>\n",
       "      <td>0</td>\n",
       "      <td>0.000000</td>\n",
       "    </tr>\n",
       "    <tr>\n",
       "      <th>LandContour</th>\n",
       "      <td>0</td>\n",
       "      <td>0.000000</td>\n",
       "    </tr>\n",
       "    <tr>\n",
       "      <th>LandSlope</th>\n",
       "      <td>0</td>\n",
       "      <td>0.000000</td>\n",
       "    </tr>\n",
       "    <tr>\n",
       "      <th>Property_Sale_Price</th>\n",
       "      <td>0</td>\n",
       "      <td>0.000000</td>\n",
       "    </tr>\n",
       "    <tr>\n",
       "      <th>HeatingQC</th>\n",
       "      <td>0</td>\n",
       "      <td>0.000000</td>\n",
       "    </tr>\n",
       "    <tr>\n",
       "      <th>BsmtFinSF2</th>\n",
       "      <td>0</td>\n",
       "      <td>0.000000</td>\n",
       "    </tr>\n",
       "    <tr>\n",
       "      <th>EnclosedPorch</th>\n",
       "      <td>0</td>\n",
       "      <td>0.000000</td>\n",
       "    </tr>\n",
       "    <tr>\n",
       "      <th>Fireplaces</th>\n",
       "      <td>0</td>\n",
       "      <td>0.000000</td>\n",
       "    </tr>\n",
       "    <tr>\n",
       "      <th>GarageCars</th>\n",
       "      <td>0</td>\n",
       "      <td>0.000000</td>\n",
       "    </tr>\n",
       "    <tr>\n",
       "      <th>GarageArea</th>\n",
       "      <td>0</td>\n",
       "      <td>0.000000</td>\n",
       "    </tr>\n",
       "    <tr>\n",
       "      <th>PavedDrive</th>\n",
       "      <td>0</td>\n",
       "      <td>0.000000</td>\n",
       "    </tr>\n",
       "    <tr>\n",
       "      <th>WoodDeckSF</th>\n",
       "      <td>0</td>\n",
       "      <td>0.000000</td>\n",
       "    </tr>\n",
       "    <tr>\n",
       "      <th>OpenPorchSF</th>\n",
       "      <td>0</td>\n",
       "      <td>0.000000</td>\n",
       "    </tr>\n",
       "    <tr>\n",
       "      <th>3SsnPorch</th>\n",
       "      <td>0</td>\n",
       "      <td>0.000000</td>\n",
       "    </tr>\n",
       "    <tr>\n",
       "      <th>BsmtUnfSF</th>\n",
       "      <td>0</td>\n",
       "      <td>0.000000</td>\n",
       "    </tr>\n",
       "    <tr>\n",
       "      <th>ScreenPorch</th>\n",
       "      <td>0</td>\n",
       "      <td>0.000000</td>\n",
       "    </tr>\n",
       "    <tr>\n",
       "      <th>PoolArea</th>\n",
       "      <td>0</td>\n",
       "      <td>0.000000</td>\n",
       "    </tr>\n",
       "    <tr>\n",
       "      <th>MiscVal</th>\n",
       "      <td>0</td>\n",
       "      <td>0.000000</td>\n",
       "    </tr>\n",
       "    <tr>\n",
       "      <th>MoSold</th>\n",
       "      <td>0</td>\n",
       "      <td>0.000000</td>\n",
       "    </tr>\n",
       "    <tr>\n",
       "      <th>YrSold</th>\n",
       "      <td>0</td>\n",
       "      <td>0.000000</td>\n",
       "    </tr>\n",
       "    <tr>\n",
       "      <th>SaleType</th>\n",
       "      <td>0</td>\n",
       "      <td>0.000000</td>\n",
       "    </tr>\n",
       "    <tr>\n",
       "      <th>Functional</th>\n",
       "      <td>0</td>\n",
       "      <td>0.000000</td>\n",
       "    </tr>\n",
       "    <tr>\n",
       "      <th>TotRmsAbvGrd</th>\n",
       "      <td>0</td>\n",
       "      <td>0.000000</td>\n",
       "    </tr>\n",
       "    <tr>\n",
       "      <th>KitchenQual</th>\n",
       "      <td>0</td>\n",
       "      <td>0.000000</td>\n",
       "    </tr>\n",
       "    <tr>\n",
       "      <th>KitchenAbvGr</th>\n",
       "      <td>0</td>\n",
       "      <td>0.000000</td>\n",
       "    </tr>\n",
       "    <tr>\n",
       "      <th>BedroomAbvGr</th>\n",
       "      <td>0</td>\n",
       "      <td>0.000000</td>\n",
       "    </tr>\n",
       "    <tr>\n",
       "      <th>HalfBath</th>\n",
       "      <td>0</td>\n",
       "      <td>0.000000</td>\n",
       "    </tr>\n",
       "    <tr>\n",
       "      <th>FullBath</th>\n",
       "      <td>0</td>\n",
       "      <td>0.000000</td>\n",
       "    </tr>\n",
       "    <tr>\n",
       "      <th>BsmtHalfBath</th>\n",
       "      <td>0</td>\n",
       "      <td>0.000000</td>\n",
       "    </tr>\n",
       "    <tr>\n",
       "      <th>BsmtFullBath</th>\n",
       "      <td>0</td>\n",
       "      <td>0.000000</td>\n",
       "    </tr>\n",
       "    <tr>\n",
       "      <th>GrLivArea</th>\n",
       "      <td>0</td>\n",
       "      <td>0.000000</td>\n",
       "    </tr>\n",
       "    <tr>\n",
       "      <th>LowQualFinSF</th>\n",
       "      <td>0</td>\n",
       "      <td>0.000000</td>\n",
       "    </tr>\n",
       "    <tr>\n",
       "      <th>2ndFlrSF</th>\n",
       "      <td>0</td>\n",
       "      <td>0.000000</td>\n",
       "    </tr>\n",
       "    <tr>\n",
       "      <th>1stFlrSF</th>\n",
       "      <td>0</td>\n",
       "      <td>0.000000</td>\n",
       "    </tr>\n",
       "    <tr>\n",
       "      <th>CentralAir</th>\n",
       "      <td>0</td>\n",
       "      <td>0.000000</td>\n",
       "    </tr>\n",
       "    <tr>\n",
       "      <th>SaleCondition</th>\n",
       "      <td>0</td>\n",
       "      <td>0.000000</td>\n",
       "    </tr>\n",
       "    <tr>\n",
       "      <th>Heating</th>\n",
       "      <td>0</td>\n",
       "      <td>0.000000</td>\n",
       "    </tr>\n",
       "    <tr>\n",
       "      <th>TotalBsmtSF</th>\n",
       "      <td>0</td>\n",
       "      <td>0.000000</td>\n",
       "    </tr>\n",
       "    <tr>\n",
       "      <th>Id</th>\n",
       "      <td>0</td>\n",
       "      <td>0.000000</td>\n",
       "    </tr>\n",
       "  </tbody>\n",
       "</table>\n",
       "</div>"
      ],
      "text/plain": [
       "                        0     Values\n",
       "PoolQC               2052  99.611650\n",
       "MiscFeature          1981  96.165049\n",
       "Alley                1932  93.786408\n",
       "Fence                1659  80.533981\n",
       "FireplaceQu           977  47.427184\n",
       "LotFrontage           317  15.388350\n",
       "GarageCond            113   5.485437\n",
       "GarageType            113   5.485437\n",
       "GarageYrBlt           113   5.485437\n",
       "GarageFinish          113   5.485437\n",
       "GarageQual            113   5.485437\n",
       "BsmtExposure           60   2.912621\n",
       "BsmtFinType2           59   2.864078\n",
       "BsmtFinType1           58   2.815534\n",
       "BsmtCond               58   2.815534\n",
       "BsmtQual               58   2.815534\n",
       "MasVnrArea             14   0.679612\n",
       "MasVnrType             14   0.679612\n",
       "Electrical              1   0.048544\n",
       "Utilities               0   0.000000\n",
       "YearRemodAdd            0   0.000000\n",
       "Dwell_Type              0   0.000000\n",
       "Foundation              0   0.000000\n",
       "ExterCond               0   0.000000\n",
       "ExterQual               0   0.000000\n",
       "Exterior2nd             0   0.000000\n",
       "Exterior1st             0   0.000000\n",
       "RoofMatl                0   0.000000\n",
       "RoofStyle               0   0.000000\n",
       "YearBuilt               0   0.000000\n",
       "LotConfig               0   0.000000\n",
       "OverallCond             0   0.000000\n",
       "OverallQual             0   0.000000\n",
       "HouseStyle              0   0.000000\n",
       "Dwelling_Type           0   0.000000\n",
       "Condition2              0   0.000000\n",
       "BsmtFinSF1              0   0.000000\n",
       "Zone_Class              0   0.000000\n",
       "LotArea                 0   0.000000\n",
       "Road_Type               0   0.000000\n",
       "Condition1              0   0.000000\n",
       "Neighborhood            0   0.000000\n",
       "Property_Shape          0   0.000000\n",
       "LandContour             0   0.000000\n",
       "LandSlope               0   0.000000\n",
       "Property_Sale_Price     0   0.000000\n",
       "HeatingQC               0   0.000000\n",
       "BsmtFinSF2              0   0.000000\n",
       "EnclosedPorch           0   0.000000\n",
       "Fireplaces              0   0.000000\n",
       "GarageCars              0   0.000000\n",
       "GarageArea              0   0.000000\n",
       "PavedDrive              0   0.000000\n",
       "WoodDeckSF              0   0.000000\n",
       "OpenPorchSF             0   0.000000\n",
       "3SsnPorch               0   0.000000\n",
       "BsmtUnfSF               0   0.000000\n",
       "ScreenPorch             0   0.000000\n",
       "PoolArea                0   0.000000\n",
       "MiscVal                 0   0.000000\n",
       "MoSold                  0   0.000000\n",
       "YrSold                  0   0.000000\n",
       "SaleType                0   0.000000\n",
       "Functional              0   0.000000\n",
       "TotRmsAbvGrd            0   0.000000\n",
       "KitchenQual             0   0.000000\n",
       "KitchenAbvGr            0   0.000000\n",
       "BedroomAbvGr            0   0.000000\n",
       "HalfBath                0   0.000000\n",
       "FullBath                0   0.000000\n",
       "BsmtHalfBath            0   0.000000\n",
       "BsmtFullBath            0   0.000000\n",
       "GrLivArea               0   0.000000\n",
       "LowQualFinSF            0   0.000000\n",
       "2ndFlrSF                0   0.000000\n",
       "1stFlrSF                0   0.000000\n",
       "CentralAir              0   0.000000\n",
       "SaleCondition           0   0.000000\n",
       "Heating                 0   0.000000\n",
       "TotalBsmtSF             0   0.000000\n",
       "Id                      0   0.000000"
      ]
     },
     "execution_count": 979,
     "metadata": {},
     "output_type": "execute_result"
    }
   ],
   "source": [
    "missing_values = pd.DataFrame(df.isna().sum().sort_values(ascending=False))\n",
    "missing_values['Values'] = (df.isna().sum().sort_values(ascending=False)*100/df.shape[0]).values\n",
    "\n",
    "missing_values"
   ]
  },
  {
   "cell_type": "code",
   "execution_count": 980,
   "metadata": {
    "ExecuteTime": {
     "end_time": "2022-04-24T09:56:02.833757Z",
     "start_time": "2022-04-24T09:56:02.817747Z"
    }
   },
   "outputs": [],
   "source": [
    "## Dropping PoolQC\n",
    "\n",
    "df.drop(columns=['PoolQC'], inplace=True)"
   ]
  },
  {
   "cell_type": "markdown",
   "metadata": {},
   "source": [
    "## MiscFeature"
   ]
  },
  {
   "cell_type": "code",
   "execution_count": 981,
   "metadata": {
    "ExecuteTime": {
     "end_time": "2022-04-24T09:56:02.849759Z",
     "start_time": "2022-04-24T09:56:02.833757Z"
    }
   },
   "outputs": [],
   "source": [
    "df['MiscFeature'].fillna('None', inplace=True)"
   ]
  },
  {
   "cell_type": "markdown",
   "metadata": {},
   "source": [
    "## Alley"
   ]
  },
  {
   "cell_type": "code",
   "execution_count": 982,
   "metadata": {
    "ExecuteTime": {
     "end_time": "2022-04-24T09:56:02.865757Z",
     "start_time": "2022-04-24T09:56:02.849759Z"
    }
   },
   "outputs": [],
   "source": [
    "df['Alley'].fillna('None', inplace=True)"
   ]
  },
  {
   "cell_type": "markdown",
   "metadata": {},
   "source": [
    "## Fence"
   ]
  },
  {
   "cell_type": "code",
   "execution_count": 983,
   "metadata": {
    "ExecuteTime": {
     "end_time": "2022-04-24T09:56:02.881751Z",
     "start_time": "2022-04-24T09:56:02.865757Z"
    }
   },
   "outputs": [],
   "source": [
    "df['Fence'].fillna('None', inplace=True)"
   ]
  },
  {
   "cell_type": "markdown",
   "metadata": {},
   "source": [
    "## FireplaceQu"
   ]
  },
  {
   "cell_type": "code",
   "execution_count": 984,
   "metadata": {
    "ExecuteTime": {
     "end_time": "2022-04-24T09:56:02.897755Z",
     "start_time": "2022-04-24T09:56:02.881751Z"
    }
   },
   "outputs": [],
   "source": [
    "df['FireplaceQu'].fillna('None', inplace=True)"
   ]
  },
  {
   "cell_type": "markdown",
   "metadata": {},
   "source": [
    "## LotFrontage"
   ]
  },
  {
   "cell_type": "code",
   "execution_count": 985,
   "metadata": {
    "ExecuteTime": {
     "end_time": "2022-04-24T09:56:02.913756Z",
     "start_time": "2022-04-24T09:56:02.897755Z"
    }
   },
   "outputs": [
    {
     "data": {
      "text/plain": [
       "21.0    29\n",
       "24.0    23\n",
       "34.0    16\n",
       "35.0    14\n",
       "36.0     9\n",
       "30.0     8\n",
       "32.0     8\n",
       "39.0     5\n",
       "37.0     5\n",
       "38.0     3\n",
       "33.0     2\n",
       "Name: LotFrontage, dtype: int64"
      ]
     },
     "execution_count": 985,
     "metadata": {},
     "output_type": "execute_result"
    }
   ],
   "source": [
    "df[df['LotFrontage'] < 40]['LotFrontage'].value_counts()"
   ]
  },
  {
   "cell_type": "code",
   "execution_count": 986,
   "metadata": {
    "ExecuteTime": {
     "end_time": "2022-04-24T09:56:02.929753Z",
     "start_time": "2022-04-24T09:56:02.913756Z"
    }
   },
   "outputs": [],
   "source": [
    "## Linear feet of street-connected to the property\n",
    "\n",
    "df['LotFrontage'].fillna(0, inplace=True)"
   ]
  },
  {
   "cell_type": "markdown",
   "metadata": {},
   "source": [
    "## GarageCond"
   ]
  },
  {
   "cell_type": "code",
   "execution_count": 987,
   "metadata": {
    "ExecuteTime": {
     "end_time": "2022-04-24T09:56:02.945758Z",
     "start_time": "2022-04-24T09:56:02.929753Z"
    }
   },
   "outputs": [
    {
     "data": {
      "text/plain": [
       "TA    1872\n",
       "Fa      47\n",
       "Gd      17\n",
       "Po       8\n",
       "Ex       3\n",
       "Name: GarageCond, dtype: int64"
      ]
     },
     "execution_count": 987,
     "metadata": {},
     "output_type": "execute_result"
    }
   ],
   "source": [
    "df['GarageCond'].value_counts()"
   ]
  },
  {
   "cell_type": "code",
   "execution_count": 988,
   "metadata": {
    "ExecuteTime": {
     "end_time": "2022-04-24T09:56:02.953761Z",
     "start_time": "2022-04-24T09:56:02.945758Z"
    }
   },
   "outputs": [
    {
     "data": {
      "text/plain": [
       "113"
      ]
     },
     "execution_count": 988,
     "metadata": {},
     "output_type": "execute_result"
    }
   ],
   "source": [
    "df['GarageCond'].isna().sum()"
   ]
  },
  {
   "cell_type": "code",
   "execution_count": 989,
   "metadata": {
    "ExecuteTime": {
     "end_time": "2022-04-24T09:56:02.969753Z",
     "start_time": "2022-04-24T09:56:02.953761Z"
    }
   },
   "outputs": [],
   "source": [
    "# GarageCond is filled 'None' as Garage isn't available\n",
    "\n",
    "df['GarageCond'].fillna('None', inplace=True)"
   ]
  },
  {
   "cell_type": "markdown",
   "metadata": {},
   "source": [
    "## GarageType"
   ]
  },
  {
   "cell_type": "code",
   "execution_count": 990,
   "metadata": {
    "ExecuteTime": {
     "end_time": "2022-04-24T09:56:02.985757Z",
     "start_time": "2022-04-24T09:56:02.969753Z"
    }
   },
   "outputs": [
    {
     "data": {
      "text/plain": [
       "Attchd     1244\n",
       "Detchd      533\n",
       "BuiltIn     124\n",
       "Basment      27\n",
       "CarPort      12\n",
       "2Types        7\n",
       "Name: GarageType, dtype: int64"
      ]
     },
     "execution_count": 990,
     "metadata": {},
     "output_type": "execute_result"
    }
   ],
   "source": [
    "df['GarageType'].value_counts()"
   ]
  },
  {
   "cell_type": "code",
   "execution_count": 991,
   "metadata": {
    "ExecuteTime": {
     "end_time": "2022-04-24T09:56:03.001756Z",
     "start_time": "2022-04-24T09:56:02.985757Z"
    }
   },
   "outputs": [],
   "source": [
    "# GarageType is filled 'None' as Garage itself isn't available\n",
    "\n",
    "df['GarageType'].fillna('None', inplace=True)"
   ]
  },
  {
   "cell_type": "markdown",
   "metadata": {},
   "source": [
    "## GarageYrBlt"
   ]
  },
  {
   "cell_type": "code",
   "execution_count": 992,
   "metadata": {
    "ExecuteTime": {
     "end_time": "2022-04-24T09:56:03.017751Z",
     "start_time": "2022-04-24T09:56:03.001756Z"
    }
   },
   "outputs": [
    {
     "data": {
      "text/plain": [
       "113"
      ]
     },
     "execution_count": 992,
     "metadata": {},
     "output_type": "execute_result"
    }
   ],
   "source": [
    "df['GarageYrBlt'].isna().sum()"
   ]
  },
  {
   "cell_type": "code",
   "execution_count": 993,
   "metadata": {
    "ExecuteTime": {
     "end_time": "2022-04-24T09:56:03.049752Z",
     "start_time": "2022-04-24T09:56:03.017751Z"
    }
   },
   "outputs": [],
   "source": [
    "# filling NA values in GarageYrBlt assuming 1 year after House was built\n",
    "\n",
    "for i in df[df['GarageYrBlt'].isna()].index:\n",
    "    df['GarageYrBlt'][i] = df['YearBuilt'][i] + 1"
   ]
  },
  {
   "cell_type": "markdown",
   "metadata": {},
   "source": [
    "## GarageFinish"
   ]
  },
  {
   "cell_type": "code",
   "execution_count": 994,
   "metadata": {
    "ExecuteTime": {
     "end_time": "2022-04-24T09:56:03.065753Z",
     "start_time": "2022-04-24T09:56:03.049752Z"
    }
   },
   "outputs": [
    {
     "data": {
      "text/plain": [
       "Unf    851\n",
       "RFn    600\n",
       "Fin    496\n",
       "Name: GarageFinish, dtype: int64"
      ]
     },
     "execution_count": 994,
     "metadata": {},
     "output_type": "execute_result"
    }
   ],
   "source": [
    "df['GarageFinish'].value_counts()"
   ]
  },
  {
   "cell_type": "code",
   "execution_count": 995,
   "metadata": {
    "ExecuteTime": {
     "end_time": "2022-04-24T09:56:03.081756Z",
     "start_time": "2022-04-24T09:56:03.065753Z"
    }
   },
   "outputs": [],
   "source": [
    "df['GarageFinish'].fillna('None', inplace=True)"
   ]
  },
  {
   "cell_type": "markdown",
   "metadata": {},
   "source": [
    "## GarageQual"
   ]
  },
  {
   "cell_type": "code",
   "execution_count": 996,
   "metadata": {
    "ExecuteTime": {
     "end_time": "2022-04-24T09:56:03.097758Z",
     "start_time": "2022-04-24T09:56:03.081756Z"
    }
   },
   "outputs": [
    {
     "data": {
      "text/plain": [
       "TA    1857\n",
       "Fa      65\n",
       "Gd      18\n",
       "Ex       4\n",
       "Po       3\n",
       "Name: GarageQual, dtype: int64"
      ]
     },
     "execution_count": 996,
     "metadata": {},
     "output_type": "execute_result"
    }
   ],
   "source": [
    "df['GarageQual'].value_counts()"
   ]
  },
  {
   "cell_type": "code",
   "execution_count": 997,
   "metadata": {
    "ExecuteTime": {
     "end_time": "2022-04-24T09:56:03.113753Z",
     "start_time": "2022-04-24T09:56:03.097758Z"
    }
   },
   "outputs": [],
   "source": [
    "df['GarageQual'].fillna('None', inplace=True)"
   ]
  },
  {
   "cell_type": "markdown",
   "metadata": {},
   "source": [
    "## BsmtExposure"
   ]
  },
  {
   "cell_type": "code",
   "execution_count": 998,
   "metadata": {
    "ExecuteTime": {
     "end_time": "2022-04-24T09:56:03.129764Z",
     "start_time": "2022-04-24T09:56:03.113753Z"
    }
   },
   "outputs": [
    {
     "data": {
      "text/plain": [
       "No    1340\n",
       "Av     319\n",
       "Gd     181\n",
       "Mn     160\n",
       "Name: BsmtExposure, dtype: int64"
      ]
     },
     "execution_count": 998,
     "metadata": {},
     "output_type": "execute_result"
    }
   ],
   "source": [
    "df['BsmtExposure'].value_counts()"
   ]
  },
  {
   "cell_type": "code",
   "execution_count": 999,
   "metadata": {
    "ExecuteTime": {
     "end_time": "2022-04-24T09:56:03.145754Z",
     "start_time": "2022-04-24T09:56:03.129764Z"
    }
   },
   "outputs": [],
   "source": [
    "df['BsmtExposure'].fillna('No', inplace=True)"
   ]
  },
  {
   "cell_type": "markdown",
   "metadata": {
    "ExecuteTime": {
     "end_time": "2022-04-24T09:52:14.517987Z",
     "start_time": "2022-04-24T09:52:14.512510Z"
    }
   },
   "source": [
    "## BsmtFinType2"
   ]
  },
  {
   "cell_type": "code",
   "execution_count": 1000,
   "metadata": {
    "ExecuteTime": {
     "end_time": "2022-04-24T09:56:03.161752Z",
     "start_time": "2022-04-24T09:56:03.145754Z"
    }
   },
   "outputs": [
    {
     "data": {
      "text/plain": [
       "Unf    1759\n",
       "Rec      79\n",
       "LwQ      67\n",
       "BLQ      50\n",
       "ALQ      24\n",
       "GLQ      22\n",
       "Name: BsmtFinType2, dtype: int64"
      ]
     },
     "execution_count": 1000,
     "metadata": {},
     "output_type": "execute_result"
    }
   ],
   "source": [
    "df['BsmtFinType2'].value_counts()"
   ]
  },
  {
   "cell_type": "code",
   "execution_count": 1001,
   "metadata": {
    "ExecuteTime": {
     "end_time": "2022-04-24T09:56:03.177754Z",
     "start_time": "2022-04-24T09:56:03.161752Z"
    }
   },
   "outputs": [],
   "source": [
    "df['BsmtFinType2'].fillna('None', inplace=True)"
   ]
  },
  {
   "cell_type": "markdown",
   "metadata": {},
   "source": [
    "## BsmtFinType1"
   ]
  },
  {
   "cell_type": "code",
   "execution_count": 1002,
   "metadata": {
    "ExecuteTime": {
     "end_time": "2022-04-24T09:56:03.193755Z",
     "start_time": "2022-04-24T09:56:03.177754Z"
    }
   },
   "outputs": [
    {
     "data": {
      "text/plain": [
       "Unf    601\n",
       "GLQ    596\n",
       "ALQ    317\n",
       "BLQ    209\n",
       "Rec    170\n",
       "LwQ    109\n",
       "Name: BsmtFinType1, dtype: int64"
      ]
     },
     "execution_count": 1002,
     "metadata": {},
     "output_type": "execute_result"
    }
   ],
   "source": [
    "df['BsmtFinType1'].value_counts()"
   ]
  },
  {
   "cell_type": "code",
   "execution_count": 1003,
   "metadata": {
    "ExecuteTime": {
     "end_time": "2022-04-24T09:56:03.209751Z",
     "start_time": "2022-04-24T09:56:03.193755Z"
    }
   },
   "outputs": [],
   "source": [
    "df['BsmtFinType1'].fillna('None', inplace=True)"
   ]
  },
  {
   "cell_type": "markdown",
   "metadata": {
    "ExecuteTime": {
     "end_time": "2022-04-24T09:52:36.689116Z",
     "start_time": "2022-04-24T09:52:36.673396Z"
    }
   },
   "source": [
    "## BsmtCond"
   ]
  },
  {
   "cell_type": "code",
   "execution_count": 1004,
   "metadata": {
    "ExecuteTime": {
     "end_time": "2022-04-24T09:56:03.225748Z",
     "start_time": "2022-04-24T09:56:03.209751Z"
    }
   },
   "outputs": [
    {
     "data": {
      "text/plain": [
       "TA    1841\n",
       "Gd      98\n",
       "Fa      61\n",
       "Po       2\n",
       "Name: BsmtCond, dtype: int64"
      ]
     },
     "execution_count": 1004,
     "metadata": {},
     "output_type": "execute_result"
    }
   ],
   "source": [
    "df['BsmtCond'].value_counts()"
   ]
  },
  {
   "cell_type": "code",
   "execution_count": 1005,
   "metadata": {
    "ExecuteTime": {
     "end_time": "2022-04-24T09:56:03.241752Z",
     "start_time": "2022-04-24T09:56:03.225748Z"
    }
   },
   "outputs": [],
   "source": [
    "df['BsmtCond'].fillna('None', inplace=True)"
   ]
  },
  {
   "cell_type": "markdown",
   "metadata": {},
   "source": [
    "## BsmtQual"
   ]
  },
  {
   "cell_type": "code",
   "execution_count": 1006,
   "metadata": {
    "ExecuteTime": {
     "end_time": "2022-04-24T09:56:03.257754Z",
     "start_time": "2022-04-24T09:56:03.241752Z"
    }
   },
   "outputs": [
    {
     "data": {
      "text/plain": [
       "Gd    898\n",
       "TA    885\n",
       "Ex    169\n",
       "Fa     50\n",
       "Name: BsmtQual, dtype: int64"
      ]
     },
     "execution_count": 1006,
     "metadata": {},
     "output_type": "execute_result"
    }
   ],
   "source": [
    "df['BsmtQual'].value_counts()"
   ]
  },
  {
   "cell_type": "code",
   "execution_count": 1007,
   "metadata": {
    "ExecuteTime": {
     "end_time": "2022-04-24T09:56:03.273750Z",
     "start_time": "2022-04-24T09:56:03.257754Z"
    }
   },
   "outputs": [],
   "source": [
    "df['BsmtQual'].fillna('None', inplace=True)"
   ]
  },
  {
   "cell_type": "markdown",
   "metadata": {},
   "source": [
    "## MasVnrType"
   ]
  },
  {
   "cell_type": "code",
   "execution_count": 1008,
   "metadata": {
    "ExecuteTime": {
     "end_time": "2022-04-24T09:56:03.289756Z",
     "start_time": "2022-04-24T09:56:03.273750Z"
    }
   },
   "outputs": [
    {
     "data": {
      "text/plain": [
       "None       1225\n",
       "BrkFace     618\n",
       "Stone       183\n",
       "BrkCmn       20\n",
       "Name: MasVnrType, dtype: int64"
      ]
     },
     "execution_count": 1008,
     "metadata": {},
     "output_type": "execute_result"
    }
   ],
   "source": [
    "df['MasVnrType'].value_counts()"
   ]
  },
  {
   "cell_type": "code",
   "execution_count": 1009,
   "metadata": {
    "ExecuteTime": {
     "end_time": "2022-04-24T09:56:03.305769Z",
     "start_time": "2022-04-24T09:56:03.289756Z"
    }
   },
   "outputs": [],
   "source": [
    "df['MasVnrType'].fillna('None', inplace=True)"
   ]
  },
  {
   "cell_type": "markdown",
   "metadata": {},
   "source": [
    "## MasVnrArea"
   ]
  },
  {
   "cell_type": "code",
   "execution_count": 1010,
   "metadata": {
    "ExecuteTime": {
     "end_time": "2022-04-24T09:56:03.321751Z",
     "start_time": "2022-04-24T09:56:03.305769Z"
    }
   },
   "outputs": [],
   "source": [
    "df['MasVnrArea'].fillna(0, inplace=True)"
   ]
  },
  {
   "cell_type": "markdown",
   "metadata": {},
   "source": [
    "## Electrical"
   ]
  },
  {
   "cell_type": "code",
   "execution_count": 1011,
   "metadata": {
    "ExecuteTime": {
     "end_time": "2022-04-24T09:56:03.337750Z",
     "start_time": "2022-04-24T09:56:03.321751Z"
    }
   },
   "outputs": [
    {
     "data": {
      "text/plain": [
       "SBrkr    1891\n",
       "FuseA     124\n",
       "FuseF      40\n",
       "FuseP       3\n",
       "Mix         1\n",
       "Name: Electrical, dtype: int64"
      ]
     },
     "execution_count": 1011,
     "metadata": {},
     "output_type": "execute_result"
    }
   ],
   "source": [
    "df['Electrical'].value_counts()"
   ]
  },
  {
   "cell_type": "code",
   "execution_count": 1012,
   "metadata": {
    "ExecuteTime": {
     "end_time": "2022-04-24T09:56:03.353753Z",
     "start_time": "2022-04-24T09:56:03.337750Z"
    }
   },
   "outputs": [],
   "source": [
    "df['Electrical'].fillna('SBrkr', inplace=True)"
   ]
  },
  {
   "cell_type": "markdown",
   "metadata": {},
   "source": [
    "# Data Preprocessing"
   ]
  },
  {
   "cell_type": "code",
   "execution_count": 1013,
   "metadata": {
    "ExecuteTime": {
     "end_time": "2022-04-24T09:56:03.369750Z",
     "start_time": "2022-04-24T09:56:03.353753Z"
    },
    "scrolled": true
   },
   "outputs": [
    {
     "data": {
      "text/plain": [
       "20      717\n",
       "60      428\n",
       "50      205\n",
       "30      132\n",
       "120     114\n",
       "90       88\n",
       "80       78\n",
       "160      77\n",
       "70       77\n",
       "190      42\n",
       "85       34\n",
       "75       19\n",
       "180      14\n",
       "150      13\n",
       "45       13\n",
       "40        7\n",
       "303       1\n",
       "7080      1\n",
       "Name: Dwell_Type, dtype: int64"
      ]
     },
     "execution_count": 1013,
     "metadata": {},
     "output_type": "execute_result"
    }
   ],
   "source": [
    "df['Dwell_Type'].value_counts()"
   ]
  },
  {
   "cell_type": "code",
   "execution_count": 1014,
   "metadata": {
    "ExecuteTime": {
     "end_time": "2022-04-24T09:56:03.385751Z",
     "start_time": "2022-04-24T09:56:03.369750Z"
    }
   },
   "outputs": [],
   "source": [
    "df['Dwell_Type'] = df['Dwell_Type'].astype('object')"
   ]
  },
  {
   "cell_type": "code",
   "execution_count": 1015,
   "metadata": {
    "ExecuteTime": {
     "end_time": "2022-04-24T09:56:03.513746Z",
     "start_time": "2022-04-24T09:56:03.385751Z"
    }
   },
   "outputs": [
    {
     "data": {
      "text/plain": [
       "[<matplotlib.lines.Line2D at 0x17310761970>]"
      ]
     },
     "execution_count": 1015,
     "metadata": {},
     "output_type": "execute_result"
    },
    {
     "data": {
      "image/png": "[encoded data removed]",
      "text/plain": [
       "<Figure size 864x576 with 1 Axes>"
      ]
     },
     "metadata": {
      "needs_background": "light"
     },
     "output_type": "display_data"
    }
   ],
   "source": [
    "plt.plot(df['LotFrontage'].quantile(np.arange(0,1.01,0.01)), 'o', color='black')"
   ]
  },
  {
   "cell_type": "code",
   "execution_count": 1016,
   "metadata": {
    "ExecuteTime": {
     "end_time": "2022-04-24T09:56:03.529232Z",
     "start_time": "2022-04-24T09:56:03.513746Z"
    }
   },
   "outputs": [],
   "source": [
    "df['LotFrontage'] = df['LotFrontage'].apply(lambda x: 150 if x > 150 else x )"
   ]
  },
  {
   "cell_type": "code",
   "execution_count": 1017,
   "metadata": {
    "ExecuteTime": {
     "end_time": "2022-04-24T09:56:03.673320Z",
     "start_time": "2022-04-24T09:56:03.530276Z"
    }
   },
   "outputs": [
    {
     "data": {
      "text/plain": [
       "[<matplotlib.lines.Line2D at 0x173111c4130>]"
      ]
     },
     "execution_count": 1017,
     "metadata": {},
     "output_type": "execute_result"
    },
    {
     "data": {
      "image/png": "[encoded data removed]",
      "text/plain": [
       "<Figure size 864x576 with 1 Axes>"
      ]
     },
     "metadata": {
      "needs_background": "light"
     },
     "output_type": "display_data"
    }
   ],
   "source": [
    "plt.plot(df['LotArea'].quantile(np.arange(0,1.01,0.01)), 'o', color='black')"
   ]
  },
  {
   "cell_type": "code",
   "execution_count": 1018,
   "metadata": {
    "ExecuteTime": {
     "end_time": "2022-04-24T09:56:03.689147Z",
     "start_time": "2022-04-24T09:56:03.673320Z"
    }
   },
   "outputs": [],
   "source": [
    "df['LotArea'] = df['LotArea'].apply(lambda x: 45000 if x > 45000 else x)"
   ]
  },
  {
   "cell_type": "code",
   "execution_count": 1019,
   "metadata": {
    "ExecuteTime": {
     "end_time": "2022-04-24T09:56:03.736231Z",
     "start_time": "2022-04-24T09:56:03.690184Z"
    }
   },
   "outputs": [
    {
     "data": {
      "text/plain": [
       "Inside     1470\n",
       "Corner      385\n",
       "CulDSac     136\n",
       "FR2          65\n",
       "FR3           4\n",
       "Name: LotConfig, dtype: int64"
      ]
     },
     "execution_count": 1019,
     "metadata": {},
     "output_type": "execute_result"
    }
   ],
   "source": [
    "df['LotConfig'].value_counts()"
   ]
  },
  {
   "cell_type": "code",
   "execution_count": 1020,
   "metadata": {
    "ExecuteTime": {
     "end_time": "2022-04-24T09:56:03.752227Z",
     "start_time": "2022-04-24T09:56:03.736231Z"
    }
   },
   "outputs": [],
   "source": [
    "df['LotConfig'] = df['LotConfig'].apply(lambda x: 'FR2+' if (x == 'FR2') | (x == 'FR3') else x)"
   ]
  },
  {
   "cell_type": "code",
   "execution_count": 1021,
   "metadata": {
    "ExecuteTime": {
     "end_time": "2022-04-24T09:56:03.768228Z",
     "start_time": "2022-04-24T09:56:03.752227Z"
    }
   },
   "outputs": [
    {
     "data": {
      "text/plain": [
       "Gtl    1946\n",
       "Mod     100\n",
       "Sev      14\n",
       "Name: LandSlope, dtype: int64"
      ]
     },
     "execution_count": 1021,
     "metadata": {},
     "output_type": "execute_result"
    }
   ],
   "source": [
    "df['LandSlope'].value_counts()"
   ]
  },
  {
   "cell_type": "code",
   "execution_count": 1022,
   "metadata": {
    "ExecuteTime": {
     "end_time": "2022-04-24T09:56:03.784232Z",
     "start_time": "2022-04-24T09:56:03.768228Z"
    }
   },
   "outputs": [],
   "source": [
    "df['LandSlope'] = df['LandSlope'].apply(lambda x: 1 if x == 'Gtl' else 0).astype(str)"
   ]
  },
  {
   "cell_type": "code",
   "execution_count": 1023,
   "metadata": {
    "ExecuteTime": {
     "end_time": "2022-04-24T09:56:03.800237Z",
     "start_time": "2022-04-24T09:56:03.784232Z"
    },
    "scrolled": true
   },
   "outputs": [
    {
     "data": {
      "text/plain": [
       "5     501\n",
       "6     461\n",
       "7     413\n",
       "8     265\n",
       "4     213\n",
       "9     164\n",
       "3      20\n",
       "10     17\n",
       "2       4\n",
       "1       2\n",
       "Name: OverallQual, dtype: int64"
      ]
     },
     "execution_count": 1023,
     "metadata": {},
     "output_type": "execute_result"
    }
   ],
   "source": [
    "df['OverallQual'].value_counts()"
   ]
  },
  {
   "cell_type": "code",
   "execution_count": 1024,
   "metadata": {
    "ExecuteTime": {
     "end_time": "2022-04-24T09:56:03.808234Z",
     "start_time": "2022-04-24T09:56:03.800237Z"
    }
   },
   "outputs": [],
   "source": [
    "df['OverallQual'] = df['OverallQual'].astype(object)"
   ]
  },
  {
   "cell_type": "code",
   "execution_count": 1025,
   "metadata": {
    "ExecuteTime": {
     "end_time": "2022-04-24T09:56:03.824229Z",
     "start_time": "2022-04-24T09:56:03.808234Z"
    },
    "scrolled": true
   },
   "outputs": [
    {
     "data": {
      "text/plain": [
       "5    935\n",
       "6    348\n",
       "7    313\n",
       "8    172\n",
       "4    147\n",
       "9    113\n",
       "3     26\n",
       "2      5\n",
       "1      1\n",
       "Name: OverallCond, dtype: int64"
      ]
     },
     "execution_count": 1025,
     "metadata": {},
     "output_type": "execute_result"
    }
   ],
   "source": [
    "df['OverallCond'].value_counts()"
   ]
  },
  {
   "cell_type": "code",
   "execution_count": 1026,
   "metadata": {
    "ExecuteTime": {
     "end_time": "2022-04-24T09:56:03.840230Z",
     "start_time": "2022-04-24T09:56:03.824229Z"
    }
   },
   "outputs": [],
   "source": [
    "df['OverallCond'] = df['OverallCond'].astype('object')"
   ]
  },
  {
   "cell_type": "code",
   "execution_count": 1027,
   "metadata": {
    "ExecuteTime": {
     "end_time": "2022-04-24T09:56:03.856226Z",
     "start_time": "2022-04-24T09:56:03.840230Z"
    }
   },
   "outputs": [],
   "source": [
    "df['YearRemodAdd'] = 2024 - df['YearRemodAdd']"
   ]
  },
  {
   "cell_type": "code",
   "execution_count": 1028,
   "metadata": {
    "ExecuteTime": {
     "end_time": "2022-04-24T09:56:03.984228Z",
     "start_time": "2022-04-24T09:56:03.856226Z"
    }
   },
   "outputs": [
    {
     "data": {
      "text/plain": [
       "[<matplotlib.lines.Line2D at 0x173114f55b0>]"
      ]
     },
     "execution_count": 1028,
     "metadata": {},
     "output_type": "execute_result"
    },
    {
     "data": {
      "image/png": "[encoded data removed]",
      "text/plain": [
       "<Figure size 864x576 with 1 Axes>"
      ]
     },
     "metadata": {
      "needs_background": "light"
     },
     "output_type": "display_data"
    }
   ],
   "source": [
    "plt.plot(df['YearRemodAdd'].quantile(np.arange(0,1.01,0.01)), '*')"
   ]
  },
  {
   "cell_type": "code",
   "execution_count": 1029,
   "metadata": {
    "ExecuteTime": {
     "end_time": "2022-04-24T09:56:03.999616Z",
     "start_time": "2022-04-24T09:56:03.984228Z"
    }
   },
   "outputs": [
    {
     "data": {
      "text/plain": [
       "VinylSd    744\n",
       "HdBoard    313\n",
       "MetalSd    305\n",
       "Wd Sdng    285\n",
       "Plywood    155\n",
       "CemntBd     87\n",
       "BrkFace     72\n",
       "WdShing     37\n",
       "Stucco      28\n",
       "AsbShng     24\n",
       "Stone        3\n",
       "BrkComm      3\n",
       "AsphShn      2\n",
       "ImStucc      1\n",
       "CBlock       1\n",
       "Name: Exterior1st, dtype: int64"
      ]
     },
     "execution_count": 1029,
     "metadata": {},
     "output_type": "execute_result"
    }
   ],
   "source": [
    "df['Exterior1st'].value_counts()"
   ]
  },
  {
   "cell_type": "code",
   "execution_count": 1030,
   "metadata": {
    "ExecuteTime": {
     "end_time": "2022-04-24T09:56:04.032772Z",
     "start_time": "2022-04-24T09:56:04.001704Z"
    }
   },
   "outputs": [],
   "source": [
    "df['Exterior1st'] = df['Exterior1st'].apply(lambda x: 'other' if (x=='Stone')|(x=='BrkComm')|(x=='AsphShn')|(x=='CBlock')|\n",
    "                                                                 (x=='ImStucc') else x)"
   ]
  },
  {
   "cell_type": "code",
   "execution_count": 1031,
   "metadata": {
    "ExecuteTime": {
     "end_time": "2022-04-24T09:56:04.048764Z",
     "start_time": "2022-04-24T09:56:04.032772Z"
    }
   },
   "outputs": [
    {
     "data": {
      "text/plain": [
       "VinylSd    744\n",
       "HdBoard    313\n",
       "MetalSd    305\n",
       "Wd Sdng    285\n",
       "Plywood    155\n",
       "CemntBd     87\n",
       "BrkFace     72\n",
       "WdShing     37\n",
       "Stucco      28\n",
       "AsbShng     24\n",
       "other       10\n",
       "Name: Exterior1st, dtype: int64"
      ]
     },
     "execution_count": 1031,
     "metadata": {},
     "output_type": "execute_result"
    }
   ],
   "source": [
    "df['Exterior1st'].value_counts()"
   ]
  },
  {
   "cell_type": "code",
   "execution_count": 1032,
   "metadata": {
    "ExecuteTime": {
     "end_time": "2022-04-24T09:56:04.064766Z",
     "start_time": "2022-04-24T09:56:04.048764Z"
    }
   },
   "outputs": [
    {
     "data": {
      "text/plain": [
       "VinylSd    723\n",
       "MetalSd    296\n",
       "HdBoard    291\n",
       "Wd Sdng    276\n",
       "Plywood    203\n",
       "CmentBd     85\n",
       "Wd Shng     55\n",
       "BrkFace     35\n",
       "Stucco      29\n",
       "AsbShng     27\n",
       "ImStucc     14\n",
       "Brk Cmn     11\n",
       "Stone        9\n",
       "AsphShn      4\n",
       "CBlock       1\n",
       "Other        1\n",
       "Name: Exterior2nd, dtype: int64"
      ]
     },
     "execution_count": 1032,
     "metadata": {},
     "output_type": "execute_result"
    }
   ],
   "source": [
    "df['Exterior2nd'].value_counts()"
   ]
  },
  {
   "cell_type": "code",
   "execution_count": 1033,
   "metadata": {
    "ExecuteTime": {
     "end_time": "2022-04-24T09:56:04.080759Z",
     "start_time": "2022-04-24T09:56:04.064766Z"
    }
   },
   "outputs": [],
   "source": [
    "df['Exterior2nd'] = df['Exterior2nd'].apply(lambda x: 'Other' if (x=='Stone')|(x=='BrkComm')|(x=='AsphShn')|(x=='CBlock')|\n",
    "                                                                 (x=='ImStucc') else x)"
   ]
  },
  {
   "cell_type": "code",
   "execution_count": 1034,
   "metadata": {
    "ExecuteTime": {
     "end_time": "2022-04-24T09:56:04.096774Z",
     "start_time": "2022-04-24T09:56:04.080759Z"
    }
   },
   "outputs": [
    {
     "data": {
      "text/plain": [
       "VinylSd    723\n",
       "MetalSd    296\n",
       "HdBoard    291\n",
       "Wd Sdng    276\n",
       "Plywood    203\n",
       "CmentBd     85\n",
       "Wd Shng     55\n",
       "BrkFace     35\n",
       "Other       29\n",
       "Stucco      29\n",
       "AsbShng     27\n",
       "Brk Cmn     11\n",
       "Name: Exterior2nd, dtype: int64"
      ]
     },
     "execution_count": 1034,
     "metadata": {},
     "output_type": "execute_result"
    }
   ],
   "source": [
    "df['Exterior2nd'].value_counts()"
   ]
  },
  {
   "cell_type": "code",
   "execution_count": 1035,
   "metadata": {
    "ExecuteTime": {
     "end_time": "2022-04-24T09:56:04.224771Z",
     "start_time": "2022-04-24T09:56:04.096774Z"
    }
   },
   "outputs": [
    {
     "data": {
      "text/plain": [
       "[<matplotlib.lines.Line2D at 0x1731154f5b0>]"
      ]
     },
     "execution_count": 1035,
     "metadata": {},
     "output_type": "execute_result"
    },
    {
     "data": {
      "image/png": "[encoded data removed]",
      "text/plain": [
       "<Figure size 864x576 with 1 Axes>"
      ]
     },
     "metadata": {
      "needs_background": "light"
     },
     "output_type": "display_data"
    }
   ],
   "source": [
    "plt.plot(df['MasVnrArea'].quantile(np.arange(0,1.01,0.01)), '*')"
   ]
  },
  {
   "cell_type": "code",
   "execution_count": 1036,
   "metadata": {
    "ExecuteTime": {
     "end_time": "2022-04-24T09:56:04.240642Z",
     "start_time": "2022-04-24T09:56:04.224771Z"
    }
   },
   "outputs": [],
   "source": [
    "df['MasVnrArea'] = df['MasVnrArea'].apply(lambda x: 850 if x>850 else x)"
   ]
  },
  {
   "cell_type": "code",
   "execution_count": 1037,
   "metadata": {
    "ExecuteTime": {
     "end_time": "2022-04-24T09:56:04.287874Z",
     "start_time": "2022-04-24T09:56:04.242741Z"
    }
   },
   "outputs": [
    {
     "data": {
      "text/plain": [
       "PConc     923\n",
       "CBlock    895\n",
       "BrkTil    190\n",
       "Slab       39\n",
       "Stone      10\n",
       "Wood        3\n",
       "Name: Foundation, dtype: int64"
      ]
     },
     "execution_count": 1037,
     "metadata": {},
     "output_type": "execute_result"
    }
   ],
   "source": [
    "df['Foundation'].value_counts()"
   ]
  },
  {
   "cell_type": "code",
   "execution_count": 1038,
   "metadata": {
    "ExecuteTime": {
     "end_time": "2022-04-24T09:56:04.303883Z",
     "start_time": "2022-04-24T09:56:04.295883Z"
    }
   },
   "outputs": [],
   "source": [
    "df['Foundation'] = df['Foundation'].apply(lambda x: 'Other' if (x=='Stone')|(x=='Wood') else x)"
   ]
  },
  {
   "cell_type": "code",
   "execution_count": 1039,
   "metadata": {
    "ExecuteTime": {
     "end_time": "2022-04-24T09:56:04.319878Z",
     "start_time": "2022-04-24T09:56:04.303883Z"
    }
   },
   "outputs": [
    {
     "data": {
      "text/plain": [
       "TA      1841\n",
       "Gd        98\n",
       "Fa        61\n",
       "None      58\n",
       "Po         2\n",
       "Name: BsmtCond, dtype: int64"
      ]
     },
     "execution_count": 1039,
     "metadata": {},
     "output_type": "execute_result"
    }
   ],
   "source": [
    "df['BsmtCond'].value_counts()"
   ]
  },
  {
   "cell_type": "code",
   "execution_count": 1040,
   "metadata": {
    "ExecuteTime": {
     "end_time": "2022-04-24T09:56:04.335882Z",
     "start_time": "2022-04-24T09:56:04.319878Z"
    }
   },
   "outputs": [],
   "source": [
    "df['BsmtCond'] = df['BsmtCond'].apply(lambda x: 'None' if x=='Po' else x)"
   ]
  },
  {
   "cell_type": "code",
   "execution_count": 1041,
   "metadata": {
    "ExecuteTime": {
     "end_time": "2022-04-24T09:56:04.463873Z",
     "start_time": "2022-04-24T09:56:04.335882Z"
    },
    "scrolled": false
   },
   "outputs": [
    {
     "data": {
      "text/plain": [
       "[<matplotlib.lines.Line2D at 0x1731116fd90>]"
      ]
     },
     "execution_count": 1041,
     "metadata": {},
     "output_type": "execute_result"
    },
    {
     "data": {
      "image/png": "[encoded data removed]",
      "text/plain": [
       "<Figure size 864x576 with 1 Axes>"
      ]
     },
     "metadata": {
      "needs_background": "light"
     },
     "output_type": "display_data"
    }
   ],
   "source": [
    "plt.plot(df['BsmtFinSF1'].quantile(np.arange(0,1.01,0.01)), 'o')"
   ]
  },
  {
   "cell_type": "code",
   "execution_count": 1042,
   "metadata": {
    "ExecuteTime": {
     "end_time": "2022-04-24T09:56:04.479028Z",
     "start_time": "2022-04-24T09:56:04.463873Z"
    }
   },
   "outputs": [],
   "source": [
    "df['BsmtFinSF1'] = df['BsmtFinSF1'].apply(lambda x: 1640 if x > 1640 else x)"
   ]
  },
  {
   "cell_type": "code",
   "execution_count": 1043,
   "metadata": {
    "ExecuteTime": {
     "end_time": "2022-04-24T09:56:04.640196Z",
     "start_time": "2022-04-24T09:56:04.480078Z"
    },
    "scrolled": false
   },
   "outputs": [
    {
     "data": {
      "text/plain": [
       "[<matplotlib.lines.Line2D at 0x17311a87550>]"
      ]
     },
     "execution_count": 1043,
     "metadata": {},
     "output_type": "execute_result"
    },
    {
     "data": {
      "image/png": "[encoded data removed]",
      "text/plain": [
       "<Figure size 864x576 with 1 Axes>"
      ]
     },
     "metadata": {
      "needs_background": "light"
     },
     "output_type": "display_data"
    }
   ],
   "source": [
    "plt.plot(df['BsmtFinSF2'].quantile(np.arange(0,1.01,0.01)), 'o')"
   ]
  },
  {
   "cell_type": "code",
   "execution_count": 1044,
   "metadata": {
    "ExecuteTime": {
     "end_time": "2022-04-24T09:56:04.656024Z",
     "start_time": "2022-04-24T09:56:04.640196Z"
    }
   },
   "outputs": [],
   "source": [
    "df['BsmtFinSF2'] = df['BsmtFinSF2'].apply(lambda x: 900 if x > 900 else x)"
   ]
  },
  {
   "cell_type": "code",
   "execution_count": 1045,
   "metadata": {
    "ExecuteTime": {
     "end_time": "2022-04-24T09:56:04.791981Z",
     "start_time": "2022-04-24T09:56:04.658090Z"
    },
    "scrolled": false
   },
   "outputs": [
    {
     "data": {
      "text/plain": [
       "[<matplotlib.lines.Line2D at 0x17311dad340>]"
      ]
     },
     "execution_count": 1045,
     "metadata": {},
     "output_type": "execute_result"
    },
    {
     "data": {
      "image/png": "[encoded data removed]",
      "text/plain": [
       "<Figure size 864x576 with 1 Axes>"
      ]
     },
     "metadata": {
      "needs_background": "light"
     },
     "output_type": "display_data"
    }
   ],
   "source": [
    "plt.plot(df['BsmtUnfSF'].quantile(np.arange(0,1.01,0.01)), 'o')"
   ]
  },
  {
   "cell_type": "code",
   "execution_count": 1046,
   "metadata": {
    "ExecuteTime": {
     "end_time": "2022-04-24T09:56:04.807979Z",
     "start_time": "2022-04-24T09:56:04.791981Z"
    }
   },
   "outputs": [],
   "source": [
    "df['BsmtUnfSF'] = df['BsmtUnfSF'].apply(lambda x: 1920 if x > 1920 else x)"
   ]
  },
  {
   "cell_type": "code",
   "execution_count": 1047,
   "metadata": {
    "ExecuteTime": {
     "end_time": "2022-04-24T09:56:04.935972Z",
     "start_time": "2022-04-24T09:56:04.807979Z"
    }
   },
   "outputs": [
    {
     "data": {
      "text/plain": [
       "[<matplotlib.lines.Line2D at 0x17311f4a4c0>]"
      ]
     },
     "execution_count": 1047,
     "metadata": {},
     "output_type": "execute_result"
    },
    {
     "data": {
      "image/png": "[encoded data removed]",
      "text/plain": [
       "<Figure size 864x576 with 1 Axes>"
      ]
     },
     "metadata": {
      "needs_background": "light"
     },
     "output_type": "display_data"
    }
   ],
   "source": [
    "plt.plot(df['TotalBsmtSF'].quantile(np.arange(0,1.01,0.01)), 'o')"
   ]
  },
  {
   "cell_type": "code",
   "execution_count": 1048,
   "metadata": {
    "ExecuteTime": {
     "end_time": "2022-04-24T09:56:04.952098Z",
     "start_time": "2022-04-24T09:56:04.935972Z"
    }
   },
   "outputs": [],
   "source": [
    "df['TotalBsmtSF'] = df['TotalBsmtSF'].apply(lambda x: 2280 if x > 2280 else x)"
   ]
  },
  {
   "cell_type": "code",
   "execution_count": 1049,
   "metadata": {
    "ExecuteTime": {
     "end_time": "2022-04-24T09:56:05.000182Z",
     "start_time": "2022-04-24T09:56:04.953149Z"
    }
   },
   "outputs": [
    {
     "data": {
      "text/plain": [
       "GasA     2012\n",
       "GasW       25\n",
       "Grav       10\n",
       "Wall        8\n",
       "Floor       3\n",
       "OthW        2\n",
       "Name: Heating, dtype: int64"
      ]
     },
     "execution_count": 1049,
     "metadata": {},
     "output_type": "execute_result"
    }
   ],
   "source": [
    "df['Heating'].value_counts()"
   ]
  },
  {
   "cell_type": "code",
   "execution_count": 1050,
   "metadata": {
    "ExecuteTime": {
     "end_time": "2022-04-24T09:56:05.016184Z",
     "start_time": "2022-04-24T09:56:05.000182Z"
    }
   },
   "outputs": [],
   "source": [
    "df['Heating'] = df['Heating'].apply(lambda x: 'other' if (x=='Grav')|(x=='Wall')|(x=='Floor')|(x=='OthW') else x)"
   ]
  },
  {
   "cell_type": "code",
   "execution_count": 1051,
   "metadata": {
    "ExecuteTime": {
     "end_time": "2022-04-24T09:56:05.032182Z",
     "start_time": "2022-04-24T09:56:05.016184Z"
    }
   },
   "outputs": [
    {
     "data": {
      "text/plain": [
       "Ex    1039\n",
       "TA     611\n",
       "Gd     341\n",
       "Fa      68\n",
       "Po       1\n",
       "Name: HeatingQC, dtype: int64"
      ]
     },
     "execution_count": 1051,
     "metadata": {},
     "output_type": "execute_result"
    }
   ],
   "source": [
    "df['HeatingQC'].value_counts()"
   ]
  },
  {
   "cell_type": "code",
   "execution_count": 1052,
   "metadata": {
    "ExecuteTime": {
     "end_time": "2022-04-24T09:56:05.048182Z",
     "start_time": "2022-04-24T09:56:05.032182Z"
    }
   },
   "outputs": [],
   "source": [
    "df['HeatingQC'] = df['HeatingQC'].apply(lambda x: 'Fa' if x=='Po' else x)"
   ]
  },
  {
   "cell_type": "code",
   "execution_count": 1053,
   "metadata": {
    "ExecuteTime": {
     "end_time": "2022-04-24T09:56:05.064189Z",
     "start_time": "2022-04-24T09:56:05.048182Z"
    }
   },
   "outputs": [
    {
     "data": {
      "text/plain": [
       "Y    1924\n",
       "N     136\n",
       "Name: CentralAir, dtype: int64"
      ]
     },
     "execution_count": 1053,
     "metadata": {},
     "output_type": "execute_result"
    }
   ],
   "source": [
    "df['CentralAir'].value_counts()"
   ]
  },
  {
   "cell_type": "code",
   "execution_count": 1054,
   "metadata": {
    "ExecuteTime": {
     "end_time": "2022-04-24T09:56:05.080183Z",
     "start_time": "2022-04-24T09:56:05.064189Z"
    }
   },
   "outputs": [],
   "source": [
    "df['CentralAir'] = df['CentralAir'].map({'Y':1,'N':0}).astype(str)"
   ]
  },
  {
   "cell_type": "code",
   "execution_count": 1055,
   "metadata": {
    "ExecuteTime": {
     "end_time": "2022-04-24T09:56:05.096183Z",
     "start_time": "2022-04-24T09:56:05.080183Z"
    }
   },
   "outputs": [
    {
     "data": {
      "text/plain": [
       "SBrkr    1892\n",
       "FuseA     124\n",
       "FuseF      40\n",
       "FuseP       3\n",
       "Mix         1\n",
       "Name: Electrical, dtype: int64"
      ]
     },
     "execution_count": 1055,
     "metadata": {},
     "output_type": "execute_result"
    }
   ],
   "source": [
    "df['Electrical'].value_counts()"
   ]
  },
  {
   "cell_type": "code",
   "execution_count": 1056,
   "metadata": {
    "ExecuteTime": {
     "end_time": "2022-04-24T09:56:05.112183Z",
     "start_time": "2022-04-24T09:56:05.096183Z"
    }
   },
   "outputs": [],
   "source": [
    "df['Electrical'] = df['Electrical'].apply(lambda x: x if (x=='SBrkr')|(x=='FuseA') else 'Other')"
   ]
  },
  {
   "cell_type": "code",
   "execution_count": 1057,
   "metadata": {
    "ExecuteTime": {
     "end_time": "2022-04-24T09:56:05.208183Z",
     "start_time": "2022-04-24T09:56:05.112183Z"
    }
   },
   "outputs": [
    {
     "data": {
      "text/plain": [
       "[<matplotlib.lines.Line2D at 0x17312102640>]"
      ]
     },
     "execution_count": 1057,
     "metadata": {},
     "output_type": "execute_result"
    },
    {
     "data": {
      "image/png": "[encoded data removed]",
      "text/plain": [
       "<Figure size 864x576 with 1 Axes>"
      ]
     },
     "metadata": {
      "needs_background": "light"
     },
     "output_type": "display_data"
    }
   ],
   "source": [
    "plt.plot(df['1stFlrSF'].quantile(np.arange(0,1.01,0.01)),'o')"
   ]
  },
  {
   "cell_type": "code",
   "execution_count": 1058,
   "metadata": {
    "ExecuteTime": {
     "end_time": "2022-04-24T09:56:05.224183Z",
     "start_time": "2022-04-24T09:56:05.208183Z"
    }
   },
   "outputs": [],
   "source": [
    "df['1stFlrSF'] = df['1stFlrSF'].apply(lambda x: 2350 if x > 2350 else x)"
   ]
  },
  {
   "cell_type": "code",
   "execution_count": 1059,
   "metadata": {
    "ExecuteTime": {
     "end_time": "2022-04-24T09:56:05.336182Z",
     "start_time": "2022-04-24T09:56:05.224183Z"
    }
   },
   "outputs": [
    {
     "data": {
      "text/plain": [
       "[<matplotlib.lines.Line2D at 0x173122b6250>]"
      ]
     },
     "execution_count": 1059,
     "metadata": {},
     "output_type": "execute_result"
    },
    {
     "data": {
      "image/png": "[encoded data removed]",
      "text/plain": [
       "<Figure size 864x576 with 1 Axes>"
      ]
     },
     "metadata": {
      "needs_background": "light"
     },
     "output_type": "display_data"
    }
   ],
   "source": [
    "plt.plot(df['2ndFlrSF'].quantile(np.arange(0,1.01,0.01)),'o')"
   ]
  },
  {
   "cell_type": "code",
   "execution_count": 1060,
   "metadata": {
    "ExecuteTime": {
     "end_time": "2022-04-24T09:56:05.352183Z",
     "start_time": "2022-04-24T09:56:05.336182Z"
    }
   },
   "outputs": [],
   "source": [
    "df['2ndFlrSF'] = df['2ndFlrSF'].apply(lambda x: 1510 if x > 1510 else x)"
   ]
  },
  {
   "cell_type": "code",
   "execution_count": 1061,
   "metadata": {
    "ExecuteTime": {
     "end_time": "2022-04-24T09:56:05.464181Z",
     "start_time": "2022-04-24T09:56:05.352183Z"
    },
    "scrolled": false
   },
   "outputs": [
    {
     "data": {
      "text/plain": [
       "[<matplotlib.lines.Line2D at 0x173126b5430>]"
      ]
     },
     "execution_count": 1061,
     "metadata": {},
     "output_type": "execute_result"
    },
    {
     "data": {
      "image/png": "[encoded data removed]",
      "text/plain": [
       "<Figure size 864x576 with 1 Axes>"
      ]
     },
     "metadata": {
      "needs_background": "light"
     },
     "output_type": "display_data"
    }
   ],
   "source": [
    "plt.plot(df['GrLivArea'].quantile(np.arange(0,1.01,0.01)),'o')"
   ]
  },
  {
   "cell_type": "code",
   "execution_count": 1062,
   "metadata": {
    "ExecuteTime": {
     "end_time": "2022-04-24T09:56:05.479633Z",
     "start_time": "2022-04-24T09:56:05.464181Z"
    }
   },
   "outputs": [],
   "source": [
    "df['GrLivArea'] = df['GrLivArea'].apply(lambda x: 3400 if x>3400 else x)"
   ]
  },
  {
   "cell_type": "code",
   "execution_count": 1063,
   "metadata": {
    "ExecuteTime": {
     "end_time": "2022-04-24T09:56:05.510643Z",
     "start_time": "2022-04-24T09:56:05.480671Z"
    }
   },
   "outputs": [
    {
     "data": {
      "text/plain": [
       "0    1199\n",
       "1     836\n",
       "2      23\n",
       "3       2\n",
       "Name: BsmtFullBath, dtype: int64"
      ]
     },
     "execution_count": 1063,
     "metadata": {},
     "output_type": "execute_result"
    }
   ],
   "source": [
    "df['BsmtFullBath'].value_counts()"
   ]
  },
  {
   "cell_type": "code",
   "execution_count": 1064,
   "metadata": {
    "ExecuteTime": {
     "end_time": "2022-04-24T09:56:05.526643Z",
     "start_time": "2022-04-24T09:56:05.510643Z"
    }
   },
   "outputs": [],
   "source": [
    "df['BsmtFullBath'] = df['BsmtFullBath'].apply(lambda x: 2 if x == 3 else x).astype('object')"
   ]
  },
  {
   "cell_type": "code",
   "execution_count": 1065,
   "metadata": {
    "ExecuteTime": {
     "end_time": "2022-04-24T09:56:05.542635Z",
     "start_time": "2022-04-24T09:56:05.526643Z"
    }
   },
   "outputs": [
    {
     "data": {
      "text/plain": [
       "0    1946\n",
       "1     111\n",
       "2       3\n",
       "Name: BsmtHalfBath, dtype: int64"
      ]
     },
     "execution_count": 1065,
     "metadata": {},
     "output_type": "execute_result"
    }
   ],
   "source": [
    "df['BsmtHalfBath'].value_counts()"
   ]
  },
  {
   "cell_type": "code",
   "execution_count": 1066,
   "metadata": {
    "ExecuteTime": {
     "end_time": "2022-04-24T09:56:05.558635Z",
     "start_time": "2022-04-24T09:56:05.542635Z"
    }
   },
   "outputs": [],
   "source": [
    "df['BsmtHalfBath'] = df['BsmtHalfBath'].map({0:0, 1:1, 2:1}).astype(object)"
   ]
  },
  {
   "cell_type": "code",
   "execution_count": 1067,
   "metadata": {
    "ExecuteTime": {
     "end_time": "2022-04-24T09:56:05.574634Z",
     "start_time": "2022-04-24T09:56:05.558635Z"
    }
   },
   "outputs": [
    {
     "data": {
      "text/plain": [
       "2    1109\n",
       "1     896\n",
       "3      41\n",
       "0      14\n",
       "Name: FullBath, dtype: int64"
      ]
     },
     "execution_count": 1067,
     "metadata": {},
     "output_type": "execute_result"
    }
   ],
   "source": [
    "df['FullBath'].value_counts()"
   ]
  },
  {
   "cell_type": "code",
   "execution_count": 1068,
   "metadata": {
    "ExecuteTime": {
     "end_time": "2022-04-24T09:56:05.590635Z",
     "start_time": "2022-04-24T09:56:05.574634Z"
    }
   },
   "outputs": [],
   "source": [
    "df['FullBath'] = df['FullBath'].astype(object)"
   ]
  },
  {
   "cell_type": "code",
   "execution_count": 1069,
   "metadata": {
    "ExecuteTime": {
     "end_time": "2022-04-24T09:56:05.606639Z",
     "start_time": "2022-04-24T09:56:05.590635Z"
    }
   },
   "outputs": [
    {
     "data": {
      "text/plain": [
       "0    1295\n",
       "1     750\n",
       "2      15\n",
       "Name: HalfBath, dtype: int64"
      ]
     },
     "execution_count": 1069,
     "metadata": {},
     "output_type": "execute_result"
    }
   ],
   "source": [
    "df['HalfBath'].value_counts()"
   ]
  },
  {
   "cell_type": "code",
   "execution_count": 1070,
   "metadata": {
    "ExecuteTime": {
     "end_time": "2022-04-24T09:56:05.622634Z",
     "start_time": "2022-04-24T09:56:05.606639Z"
    }
   },
   "outputs": [],
   "source": [
    "df['HalfBath'] = df['HalfBath'].astype(object)"
   ]
  },
  {
   "cell_type": "code",
   "execution_count": 1071,
   "metadata": {
    "ExecuteTime": {
     "end_time": "2022-04-24T09:56:05.638634Z",
     "start_time": "2022-04-24T09:56:05.622634Z"
    }
   },
   "outputs": [
    {
     "data": {
      "text/plain": [
       "3    1123\n",
       "2     501\n",
       "4     317\n",
       "1      71\n",
       "5      29\n",
       "6       9\n",
       "0       9\n",
       "8       1\n",
       "Name: BedroomAbvGr, dtype: int64"
      ]
     },
     "execution_count": 1071,
     "metadata": {},
     "output_type": "execute_result"
    }
   ],
   "source": [
    "df['BedroomAbvGr'].value_counts()"
   ]
  },
  {
   "cell_type": "code",
   "execution_count": 1072,
   "metadata": {
    "ExecuteTime": {
     "end_time": "2022-04-24T09:56:05.654636Z",
     "start_time": "2022-04-24T09:56:05.638634Z"
    }
   },
   "outputs": [],
   "source": [
    "df['BedroomAbvGr'] = df['BedroomAbvGr'].apply(lambda x: '4+' if x>3 else x)"
   ]
  },
  {
   "cell_type": "code",
   "execution_count": 1073,
   "metadata": {
    "ExecuteTime": {
     "end_time": "2022-04-24T09:56:05.670637Z",
     "start_time": "2022-04-24T09:56:05.654636Z"
    }
   },
   "outputs": [
    {
     "data": {
      "text/plain": [
       "1    1955\n",
       "2      98\n",
       "3       5\n",
       "0       2\n",
       "Name: KitchenAbvGr, dtype: int64"
      ]
     },
     "execution_count": 1073,
     "metadata": {},
     "output_type": "execute_result"
    }
   ],
   "source": [
    "df['KitchenAbvGr'].value_counts()"
   ]
  },
  {
   "cell_type": "code",
   "execution_count": 1074,
   "metadata": {
    "ExecuteTime": {
     "end_time": "2022-04-24T09:56:05.686637Z",
     "start_time": "2022-04-24T09:56:05.670637Z"
    }
   },
   "outputs": [],
   "source": [
    "df['KitchenAbvGr'] = df['KitchenAbvGr'].map({0:0,1:1,2:2,3:2}).astype(str)"
   ]
  },
  {
   "cell_type": "code",
   "execution_count": 1075,
   "metadata": {
    "ExecuteTime": {
     "end_time": "2022-04-24T09:56:05.702636Z",
     "start_time": "2022-04-24T09:56:05.686637Z"
    }
   },
   "outputs": [
    {
     "data": {
      "text/plain": [
       "6     574\n",
       "7     458\n",
       "5     395\n",
       "8     265\n",
       "4     126\n",
       "9     106\n",
       "10     65\n",
       "11     30\n",
       "3      22\n",
       "12     17\n",
       "14      1\n",
       "2       1\n",
       "Name: TotRmsAbvGrd, dtype: int64"
      ]
     },
     "execution_count": 1075,
     "metadata": {},
     "output_type": "execute_result"
    }
   ],
   "source": [
    "df['TotRmsAbvGrd'].value_counts()"
   ]
  },
  {
   "cell_type": "code",
   "execution_count": 1076,
   "metadata": {
    "ExecuteTime": {
     "end_time": "2022-04-24T09:56:05.718636Z",
     "start_time": "2022-04-24T09:56:05.702636Z"
    }
   },
   "outputs": [
    {
     "data": {
      "text/plain": [
       "6     574\n",
       "8+    484\n",
       "7     458\n",
       "5     395\n",
       "4     126\n",
       "3      22\n",
       "2       1\n",
       "Name: TotRmsAbvGrd, dtype: int64"
      ]
     },
     "execution_count": 1076,
     "metadata": {},
     "output_type": "execute_result"
    }
   ],
   "source": [
    "df['TotRmsAbvGrd'].apply(lambda x: '8+' if x>7 else x) .value_counts()"
   ]
  },
  {
   "cell_type": "code",
   "execution_count": 1077,
   "metadata": {
    "ExecuteTime": {
     "end_time": "2022-04-24T09:56:05.726639Z",
     "start_time": "2022-04-24T09:56:05.718636Z"
    }
   },
   "outputs": [
    {
     "data": {
      "text/plain": [
       "Typ     1925\n",
       "Min1      48\n",
       "Min2      47\n",
       "Mod       18\n",
       "Maj1      15\n",
       "Maj2       6\n",
       "Sev        1\n",
       "Name: Functional, dtype: int64"
      ]
     },
     "execution_count": 1077,
     "metadata": {},
     "output_type": "execute_result"
    }
   ],
   "source": [
    "df['Functional'].value_counts()"
   ]
  },
  {
   "cell_type": "code",
   "execution_count": 1078,
   "metadata": {
    "ExecuteTime": {
     "end_time": "2022-04-24T09:56:05.742639Z",
     "start_time": "2022-04-24T09:56:05.726639Z"
    }
   },
   "outputs": [],
   "source": [
    "df['Functional'] = df['Functional'].map({'Typ':'Typ','Min1':'Min','Min2':'Min','Mod':'Mod','Maj1':'Mod','Maj2':'Maj',\n",
    "                                         'Sev':'Maj'})"
   ]
  },
  {
   "cell_type": "code",
   "execution_count": 1079,
   "metadata": {
    "ExecuteTime": {
     "end_time": "2022-04-24T09:56:05.758635Z",
     "start_time": "2022-04-24T09:56:05.742639Z"
    }
   },
   "outputs": [
    {
     "data": {
      "text/plain": [
       "0    977\n",
       "1    925\n",
       "2    153\n",
       "3      5\n",
       "Name: Fireplaces, dtype: int64"
      ]
     },
     "execution_count": 1079,
     "metadata": {},
     "output_type": "execute_result"
    }
   ],
   "source": [
    "df['Fireplaces'].value_counts()"
   ]
  },
  {
   "cell_type": "code",
   "execution_count": 1080,
   "metadata": {
    "ExecuteTime": {
     "end_time": "2022-04-24T09:56:05.774635Z",
     "start_time": "2022-04-24T09:56:05.758635Z"
    }
   },
   "outputs": [],
   "source": [
    "df['Fireplaces'] = df['Fireplaces'].astype(str)"
   ]
  },
  {
   "cell_type": "code",
   "execution_count": 1081,
   "metadata": {
    "ExecuteTime": {
     "end_time": "2022-04-24T09:56:05.886638Z",
     "start_time": "2022-04-24T09:56:05.774635Z"
    }
   },
   "outputs": [
    {
     "data": {
      "text/plain": [
       "[<matplotlib.lines.Line2D at 0x1731281ac40>]"
      ]
     },
     "execution_count": 1081,
     "metadata": {},
     "output_type": "execute_result"
    },
    {
     "data": {
      "image/png": "[encoded data removed]",
      "text/plain": [
       "<Figure size 864x576 with 1 Axes>"
      ]
     },
     "metadata": {
      "needs_background": "light"
     },
     "output_type": "display_data"
    }
   ],
   "source": [
    "plt.plot(df['GarageYrBlt'].quantile(np.arange(0,1.01,0.01)),'o')"
   ]
  },
  {
   "cell_type": "code",
   "execution_count": 1082,
   "metadata": {
    "ExecuteTime": {
     "end_time": "2022-04-24T09:56:05.902347Z",
     "start_time": "2022-04-24T09:56:05.886638Z"
    }
   },
   "outputs": [],
   "source": [
    "df['GarageYrBlt'] = 2024 - df['GarageYrBlt'].apply(lambda x: 1900 if x<1900 else x)"
   ]
  },
  {
   "cell_type": "code",
   "execution_count": 1083,
   "metadata": {
    "ExecuteTime": {
     "end_time": "2022-04-24T09:56:05.933396Z",
     "start_time": "2022-04-24T09:56:05.903409Z"
    }
   },
   "outputs": [
    {
     "data": {
      "text/plain": [
       "2    1178\n",
       "1     505\n",
       "3     258\n",
       "0     113\n",
       "4       6\n",
       "Name: GarageCars, dtype: int64"
      ]
     },
     "execution_count": 1083,
     "metadata": {},
     "output_type": "execute_result"
    }
   ],
   "source": [
    "df['GarageCars'].value_counts()"
   ]
  },
  {
   "cell_type": "code",
   "execution_count": 1084,
   "metadata": {
    "ExecuteTime": {
     "end_time": "2022-04-24T09:56:05.949392Z",
     "start_time": "2022-04-24T09:56:05.933396Z"
    }
   },
   "outputs": [],
   "source": [
    "df['GarageCars'] = df['GarageCars'].apply(lambda x: '3+' if x>2 else x)"
   ]
  },
  {
   "cell_type": "code",
   "execution_count": 1085,
   "metadata": {
    "ExecuteTime": {
     "end_time": "2022-04-24T09:56:06.061393Z",
     "start_time": "2022-04-24T09:56:05.949392Z"
    }
   },
   "outputs": [
    {
     "data": {
      "text/plain": [
       "[<matplotlib.lines.Line2D at 0x1731287c4c0>]"
      ]
     },
     "execution_count": 1085,
     "metadata": {},
     "output_type": "execute_result"
    },
    {
     "data": {
      "image/png": "[encoded data removed]",
      "text/plain": [
       "<Figure size 864x576 with 1 Axes>"
      ]
     },
     "metadata": {
      "needs_background": "light"
     },
     "output_type": "display_data"
    }
   ],
   "source": [
    "plt.plot(df['GarageArea'].quantile(np.arange(0,1.01,0.01)),'o')"
   ]
  },
  {
   "cell_type": "code",
   "execution_count": 1086,
   "metadata": {
    "ExecuteTime": {
     "end_time": "2022-04-24T09:56:06.077392Z",
     "start_time": "2022-04-24T09:56:06.061393Z"
    }
   },
   "outputs": [],
   "source": [
    "df['GarageArea'] = df['GarageArea'].apply(lambda x: 1080 if x>1080 else x)"
   ]
  },
  {
   "cell_type": "code",
   "execution_count": 1087,
   "metadata": {
    "ExecuteTime": {
     "end_time": "2022-04-24T09:56:06.093392Z",
     "start_time": "2022-04-24T09:56:06.077392Z"
    }
   },
   "outputs": [
    {
     "data": {
      "text/plain": [
       "TA      1857\n",
       "None     113\n",
       "Fa        65\n",
       "Gd        18\n",
       "Ex         4\n",
       "Po         3\n",
       "Name: GarageQual, dtype: int64"
      ]
     },
     "execution_count": 1087,
     "metadata": {},
     "output_type": "execute_result"
    }
   ],
   "source": [
    "df['GarageQual'].value_counts()"
   ]
  },
  {
   "cell_type": "code",
   "execution_count": 1088,
   "metadata": {
    "ExecuteTime": {
     "end_time": "2022-04-24T09:56:06.109392Z",
     "start_time": "2022-04-24T09:56:06.093392Z"
    }
   },
   "outputs": [],
   "source": [
    "df['GarageQual'] = df['GarageQual'].apply(lambda x: 'None' if x=='Po' else 'Gd' if x=='Ex' else x)"
   ]
  },
  {
   "cell_type": "code",
   "execution_count": 1089,
   "metadata": {
    "ExecuteTime": {
     "end_time": "2022-04-24T09:56:06.125394Z",
     "start_time": "2022-04-24T09:56:06.109392Z"
    }
   },
   "outputs": [
    {
     "data": {
      "text/plain": [
       "TA      1872\n",
       "None     113\n",
       "Fa        47\n",
       "Gd        17\n",
       "Po         8\n",
       "Ex         3\n",
       "Name: GarageCond, dtype: int64"
      ]
     },
     "execution_count": 1089,
     "metadata": {},
     "output_type": "execute_result"
    }
   ],
   "source": [
    "df['GarageCond'].value_counts()"
   ]
  },
  {
   "cell_type": "code",
   "execution_count": 1090,
   "metadata": {
    "ExecuteTime": {
     "end_time": "2022-04-24T09:56:06.141392Z",
     "start_time": "2022-04-24T09:56:06.125394Z"
    }
   },
   "outputs": [],
   "source": [
    "df['GarageCond'] = df['GarageCond'].apply(lambda x: 'None' if x=='Po' else 'Gd' if x=='Ex' else x)"
   ]
  },
  {
   "cell_type": "code",
   "execution_count": 1091,
   "metadata": {
    "ExecuteTime": {
     "end_time": "2022-04-24T09:56:06.157392Z",
     "start_time": "2022-04-24T09:56:06.141392Z"
    }
   },
   "outputs": [
    {
     "data": {
      "text/plain": [
       "Y    1900\n",
       "N     116\n",
       "P      44\n",
       "Name: PavedDrive, dtype: int64"
      ]
     },
     "execution_count": 1091,
     "metadata": {},
     "output_type": "execute_result"
    }
   ],
   "source": [
    "df['PavedDrive'].value_counts()"
   ]
  },
  {
   "cell_type": "code",
   "execution_count": 1092,
   "metadata": {
    "ExecuteTime": {
     "end_time": "2022-04-24T09:56:06.269391Z",
     "start_time": "2022-04-24T09:56:06.157392Z"
    }
   },
   "outputs": [
    {
     "data": {
      "text/plain": [
       "[<matplotlib.lines.Line2D at 0x17312ba91f0>]"
      ]
     },
     "execution_count": 1092,
     "metadata": {},
     "output_type": "execute_result"
    },
    {
     "data": {
      "image/png": "[encoded data removed]",
      "text/plain": [
       "<Figure size 864x576 with 1 Axes>"
      ]
     },
     "metadata": {
      "needs_background": "light"
     },
     "output_type": "display_data"
    }
   ],
   "source": [
    "plt.plot(df['WoodDeckSF'].quantile(np.arange(0,1.01,0.01)),'o')"
   ]
  },
  {
   "cell_type": "code",
   "execution_count": 1093,
   "metadata": {
    "ExecuteTime": {
     "end_time": "2022-04-24T09:56:06.285392Z",
     "start_time": "2022-04-24T09:56:06.269391Z"
    }
   },
   "outputs": [],
   "source": [
    "df['WoodDeckSF'] = df['WoodDeckSF'].apply(lambda x: 584 if x>584 else x)"
   ]
  },
  {
   "cell_type": "code",
   "execution_count": 1094,
   "metadata": {
    "ExecuteTime": {
     "end_time": "2022-04-24T09:56:06.397393Z",
     "start_time": "2022-04-24T09:56:06.285392Z"
    }
   },
   "outputs": [
    {
     "data": {
      "text/plain": [
       "[<matplotlib.lines.Line2D at 0x17312bdd580>]"
      ]
     },
     "execution_count": 1094,
     "metadata": {},
     "output_type": "execute_result"
    },
    {
     "data": {
      "image/png": "[encoded data removed]",
      "text/plain": [
       "<Figure size 864x576 with 1 Axes>"
      ]
     },
     "metadata": {
      "needs_background": "light"
     },
     "output_type": "display_data"
    }
   ],
   "source": [
    "plt.plot(df['OpenPorchSF'].quantile(np.arange(0,1.01,0.01)),'o')"
   ]
  },
  {
   "cell_type": "code",
   "execution_count": 1095,
   "metadata": {
    "ExecuteTime": {
     "end_time": "2022-04-24T09:56:06.412531Z",
     "start_time": "2022-04-24T09:56:06.397393Z"
    }
   },
   "outputs": [],
   "source": [
    "df['OpenPorchSF'] = df['OpenPorchSF'].apply(lambda x: 333 if x>333 else x)"
   ]
  },
  {
   "cell_type": "code",
   "execution_count": 1096,
   "metadata": {
    "ExecuteTime": {
     "end_time": "2022-04-24T09:56:06.524535Z",
     "start_time": "2022-04-24T09:56:06.412531Z"
    }
   },
   "outputs": [
    {
     "data": {
      "text/plain": [
       "[<matplotlib.lines.Line2D at 0x17312daa850>]"
      ]
     },
     "execution_count": 1096,
     "metadata": {},
     "output_type": "execute_result"
    },
    {
     "data": {
      "image/png": "[encoded data removed]",
      "text/plain": [
       "<Figure size 864x576 with 1 Axes>"
      ]
     },
     "metadata": {
      "needs_background": "light"
     },
     "output_type": "display_data"
    }
   ],
   "source": [
    "plt.plot(df['EnclosedPorch'].quantile(np.arange(0,1.01,0.01)),'o')"
   ]
  },
  {
   "cell_type": "code",
   "execution_count": 1097,
   "metadata": {
    "ExecuteTime": {
     "end_time": "2022-04-24T09:56:06.540531Z",
     "start_time": "2022-04-24T09:56:06.524535Z"
    }
   },
   "outputs": [],
   "source": [
    "df['EnclosedPorch'] = df['EnclosedPorch'].apply(lambda x: 280 if x>280 else x)"
   ]
  },
  {
   "cell_type": "code",
   "execution_count": 1098,
   "metadata": {
    "ExecuteTime": {
     "end_time": "2022-04-24T09:56:06.556529Z",
     "start_time": "2022-04-24T09:56:06.540531Z"
    }
   },
   "outputs": [],
   "source": [
    "df['PoolArea'] = df['PoolArea'].apply(lambda x: 1 if x!=0 else 0)"
   ]
  },
  {
   "cell_type": "markdown",
   "metadata": {
    "ExecuteTime": {
     "end_time": "2022-04-23T17:13:59.962776Z",
     "start_time": "2022-04-23T17:13:59.946775Z"
    }
   },
   "source": [
    "- **'MiscFeature', 'Alley', 'Fence', 'FireplaceQu'**"
   ]
  },
  {
   "cell_type": "code",
   "execution_count": 1099,
   "metadata": {
    "ExecuteTime": {
     "end_time": "2022-04-24T09:56:06.572532Z",
     "start_time": "2022-04-24T09:56:06.556529Z"
    }
   },
   "outputs": [
    {
     "data": {
      "text/plain": [
       "None    1981\n",
       "Shed      73\n",
       "Othr       3\n",
       "Gar2       2\n",
       "TenC       1\n",
       "Name: MiscFeature, dtype: int64"
      ]
     },
     "execution_count": 1099,
     "metadata": {},
     "output_type": "execute_result"
    }
   ],
   "source": [
    "df['MiscFeature'].value_counts()"
   ]
  },
  {
   "cell_type": "code",
   "execution_count": 1100,
   "metadata": {
    "ExecuteTime": {
     "end_time": "2022-04-24T09:56:06.588531Z",
     "start_time": "2022-04-24T09:56:06.572532Z"
    }
   },
   "outputs": [],
   "source": [
    "df['MiscFeature'] = df['MiscFeature'].apply(lambda x: 0 if x == 'None' else 1)"
   ]
  },
  {
   "cell_type": "code",
   "execution_count": 1101,
   "metadata": {
    "ExecuteTime": {
     "end_time": "2022-04-24T09:56:06.604534Z",
     "start_time": "2022-04-24T09:56:06.588531Z"
    }
   },
   "outputs": [
    {
     "data": {
      "text/plain": [
       "None    1932\n",
       "Grvl      72\n",
       "Pave      56\n",
       "Name: Alley, dtype: int64"
      ]
     },
     "execution_count": 1101,
     "metadata": {},
     "output_type": "execute_result"
    }
   ],
   "source": [
    "df['Alley'].value_counts()"
   ]
  },
  {
   "cell_type": "code",
   "execution_count": 1102,
   "metadata": {
    "ExecuteTime": {
     "end_time": "2022-04-24T09:56:06.620531Z",
     "start_time": "2022-04-24T09:56:06.604534Z"
    }
   },
   "outputs": [],
   "source": [
    "df['Alley'] = df['Alley'].apply(lambda x: 0 if x == 'None' else 1)"
   ]
  },
  {
   "cell_type": "code",
   "execution_count": 1103,
   "metadata": {
    "ExecuteTime": {
     "end_time": "2022-04-24T09:56:06.636531Z",
     "start_time": "2022-04-24T09:56:06.620531Z"
    }
   },
   "outputs": [],
   "source": [
    "df['Alley'] = df['Alley'].astype(str)"
   ]
  },
  {
   "cell_type": "code",
   "execution_count": 1104,
   "metadata": {
    "ExecuteTime": {
     "end_time": "2022-04-24T09:56:06.652533Z",
     "start_time": "2022-04-24T09:56:06.636531Z"
    }
   },
   "outputs": [
    {
     "data": {
      "text/plain": [
       "None     1659\n",
       "MnPrv     230\n",
       "GdPrv      88\n",
       "GdWo       69\n",
       "MnWw       14\n",
       "Name: Fence, dtype: int64"
      ]
     },
     "execution_count": 1104,
     "metadata": {},
     "output_type": "execute_result"
    }
   ],
   "source": [
    "df['Fence'].value_counts()"
   ]
  },
  {
   "cell_type": "code",
   "execution_count": 1105,
   "metadata": {
    "ExecuteTime": {
     "end_time": "2022-04-24T09:56:06.668531Z",
     "start_time": "2022-04-24T09:56:06.652533Z"
    }
   },
   "outputs": [],
   "source": [
    "df['Fence'] = df['Fence'].apply(lambda x: 'Yes' if x=='GdPrv' else 'No' if x=='None' else 'min')"
   ]
  },
  {
   "cell_type": "code",
   "execution_count": 1106,
   "metadata": {
    "ExecuteTime": {
     "end_time": "2022-04-24T09:56:06.684532Z",
     "start_time": "2022-04-24T09:56:06.668531Z"
    }
   },
   "outputs": [
    {
     "data": {
      "text/plain": [
       "None    977\n",
       "Gd      528\n",
       "TA      457\n",
       "Fa       40\n",
       "Ex       33\n",
       "Po       25\n",
       "Name: FireplaceQu, dtype: int64"
      ]
     },
     "execution_count": 1106,
     "metadata": {},
     "output_type": "execute_result"
    }
   ],
   "source": [
    "df['FireplaceQu'].value_counts()"
   ]
  },
  {
   "cell_type": "code",
   "execution_count": 1107,
   "metadata": {
    "ExecuteTime": {
     "end_time": "2022-04-24T09:56:06.700531Z",
     "start_time": "2022-04-24T09:56:06.684532Z"
    }
   },
   "outputs": [],
   "source": [
    "df['FireplaceQu'] = df['FireplaceQu'].apply(lambda x: 'None' if x=='Po' else x)"
   ]
  },
  {
   "cell_type": "code",
   "execution_count": 1108,
   "metadata": {
    "ExecuteTime": {
     "end_time": "2022-04-24T09:56:06.716527Z",
     "start_time": "2022-04-24T09:56:06.700531Z"
    }
   },
   "outputs": [],
   "source": [
    "df['ScreenPorch'] = df['ScreenPorch'].apply(lambda x: 1 if x>0 else 0).astype(str)"
   ]
  },
  {
   "cell_type": "code",
   "execution_count": 1109,
   "metadata": {
    "ExecuteTime": {
     "end_time": "2022-04-24T09:56:06.732526Z",
     "start_time": "2022-04-24T09:56:06.716527Z"
    }
   },
   "outputs": [],
   "source": [
    "df['YrSold'] = 2024 - df['YrSold']"
   ]
  },
  {
   "cell_type": "code",
   "execution_count": 1110,
   "metadata": {
    "ExecuteTime": {
     "end_time": "2022-04-24T09:56:06.748528Z",
     "start_time": "2022-04-24T09:56:06.732526Z"
    }
   },
   "outputs": [
    {
     "data": {
      "text/plain": [
       "WD       1787\n",
       "New       168\n",
       "COD        68\n",
       "ConLD      14\n",
       "ConLw       5\n",
       "ConLI       5\n",
       "Oth         5\n",
       "CWD         5\n",
       "Con         3\n",
       "Name: SaleType, dtype: int64"
      ]
     },
     "execution_count": 1110,
     "metadata": {},
     "output_type": "execute_result"
    }
   ],
   "source": [
    "df['SaleType'].value_counts()"
   ]
  },
  {
   "cell_type": "code",
   "execution_count": 1111,
   "metadata": {
    "ExecuteTime": {
     "end_time": "2022-04-24T09:56:06.764541Z",
     "start_time": "2022-04-24T09:56:06.748528Z"
    }
   },
   "outputs": [],
   "source": [
    "df['SaleType'] = df['SaleType'].apply(lambda x: 'WD' if x=='CWD' else 'Con' if (x=='ConLw')|(x=='ConLD')|(x=='ConLI') else x)"
   ]
  },
  {
   "cell_type": "markdown",
   "metadata": {},
   "source": [
    "## Dropping unnecessary columns"
   ]
  },
  {
   "cell_type": "markdown",
   "metadata": {},
   "source": [
    "- **'RoofMatl','LowQualFinSF','3SsnPorch','YearBuilt', 'Id', 'Utilities', 'Road_Type', 'MiscVal', 'MoSold'**\n",
    "\n",
    "- Dropping these columns as they has very few '1' value in binary dtype or above 95% of values belong to same category which is often not perceived by the model correctly."
   ]
  },
  {
   "cell_type": "code",
   "execution_count": 1112,
   "metadata": {
    "ExecuteTime": {
     "end_time": "2022-04-24T09:56:06.780542Z",
     "start_time": "2022-04-24T09:56:06.764541Z"
    }
   },
   "outputs": [
    {
     "data": {
      "text/plain": [
       "Pave    2050\n",
       "Grvl      10\n",
       "Name: Road_Type, dtype: int64"
      ]
     },
     "execution_count": 1112,
     "metadata": {},
     "output_type": "execute_result"
    }
   ],
   "source": [
    "df['Road_Type'].value_counts()"
   ]
  },
  {
   "cell_type": "code",
   "execution_count": 1113,
   "metadata": {
    "ExecuteTime": {
     "end_time": "2022-04-24T09:56:06.796542Z",
     "start_time": "2022-04-24T09:56:06.780542Z"
    }
   },
   "outputs": [
    {
     "data": {
      "text/plain": [
       "CompShg    2023\n",
       "Tar&Grv      17\n",
       "WdShngl      10\n",
       "WdShake       6\n",
       "Metal         1\n",
       "ClyTile       1\n",
       "Membran       1\n",
       "Roll          1\n",
       "Name: RoofMatl, dtype: int64"
      ]
     },
     "execution_count": 1113,
     "metadata": {},
     "output_type": "execute_result"
    }
   ],
   "source": [
    "df['RoofMatl'].value_counts()"
   ]
  },
  {
   "cell_type": "code",
   "execution_count": 1114,
   "metadata": {
    "ExecuteTime": {
     "end_time": "2022-04-24T09:56:06.812542Z",
     "start_time": "2022-04-24T09:56:06.796542Z"
    }
   },
   "outputs": [],
   "source": [
    "df.drop(columns=['RoofMatl','LowQualFinSF','3SsnPorch','YearBuilt', 'Id', 'Utilities', 'Road_Type', 'MiscVal', 'MoSold'],\n",
    "                inplace=True)"
   ]
  },
  {
   "cell_type": "markdown",
   "metadata": {
    "ExecuteTime": {
     "end_time": "2021-10-29T21:47:29.083306Z",
     "start_time": "2021-10-29T21:47:29.069306Z"
    },
    "scrolled": false
   },
   "source": [
    "# Model Making"
   ]
  },
  {
   "cell_type": "code",
   "execution_count": 1115,
   "metadata": {
    "ExecuteTime": {
     "end_time": "2022-04-24T09:56:06.828542Z",
     "start_time": "2022-04-24T09:56:06.812542Z"
    }
   },
   "outputs": [],
   "source": [
    "from sklearn.preprocessing import StandardScaler\n",
    "from statsmodels.stats.outliers_influence import variance_inflation_factor as vif\n",
    "\n",
    "from sklearn.model_selection import train_test_split, cross_validate, GridSearchCV\n",
    "\n",
    "from sklearn.linear_model import LinearRegression\n",
    "from sklearn.ensemble import RandomForestRegressor\n",
    "\n",
    "from mlxtend.feature_selection import SequentialFeatureSelector as sfs\n",
    "from mlxtend.plotting import plot_sequential_feature_selection as plot_sfs\n",
    "\n",
    "import math\n",
    "from sklearn import metrics\n",
    "from sklearn.metrics import mean_absolute_error, mean_squared_error"
   ]
  },
  {
   "cell_type": "code",
   "execution_count": 1116,
   "metadata": {
    "ExecuteTime": {
     "end_time": "2022-04-24T09:56:06.844542Z",
     "start_time": "2022-04-24T09:56:06.828542Z"
    }
   },
   "outputs": [],
   "source": [
    "df1 = df.copy()"
   ]
  },
  {
   "cell_type": "code",
   "execution_count": 1117,
   "metadata": {
    "ExecuteTime": {
     "end_time": "2022-04-24T09:56:06.860542Z",
     "start_time": "2022-04-24T09:56:06.844542Z"
    }
   },
   "outputs": [
    {
     "name": "stdout",
     "output_type": "stream",
     "text": [
      "['LotFrontage', 'LotArea', 'YearRemodAdd', 'MasVnrArea', 'BsmtFinSF1', 'BsmtFinSF2', 'BsmtUnfSF', 'TotalBsmtSF', '1stFlrSF', '2ndFlrSF', 'GrLivArea', 'TotRmsAbvGrd', 'GarageYrBlt', 'GarageArea', 'WoodDeckSF', 'OpenPorchSF', 'EnclosedPorch', 'PoolArea', 'MiscFeature', 'YrSold']\n"
     ]
    }
   ],
   "source": [
    "num_col = [i for i in df1.columns if df1[i].dtype != object]\n",
    "num_col.remove('Property_Sale_Price')\n",
    "print(num_col)"
   ]
  },
  {
   "cell_type": "markdown",
   "metadata": {
    "ExecuteTime": {
     "end_time": "2022-04-23T17:14:01.029697Z",
     "start_time": "2022-04-23T17:14:01.013486Z"
    }
   },
   "source": [
    "- **Scaling numerical Features**`"
   ]
  },
  {
   "cell_type": "code",
   "execution_count": 1118,
   "metadata": {
    "ExecuteTime": {
     "end_time": "2022-04-24T09:56:06.876535Z",
     "start_time": "2022-04-24T09:56:06.860542Z"
    }
   },
   "outputs": [],
   "source": [
    "sc = StandardScaler()"
   ]
  },
  {
   "cell_type": "code",
   "execution_count": 1119,
   "metadata": {
    "ExecuteTime": {
     "end_time": "2022-04-24T09:56:06.892530Z",
     "start_time": "2022-04-24T09:56:06.876535Z"
    },
    "scrolled": true
   },
   "outputs": [
    {
     "data": {
      "text/plain": [
       "array([[ 0.14590102],\n",
       "       [ 0.60161128],\n",
       "       [ 0.23704308],\n",
       "       ...,\n",
       "       [ 2.72825917],\n",
       "       [-0.24904787],\n",
       "       [ 1.1484636 ]])"
      ]
     },
     "execution_count": 1119,
     "metadata": {},
     "output_type": "execute_result"
    }
   ],
   "source": [
    "sc.fit_transform(df1['LotFrontage'].values.reshape(-1,1))"
   ]
  },
  {
   "cell_type": "code",
   "execution_count": 1120,
   "metadata": {
    "ExecuteTime": {
     "end_time": "2022-04-24T09:56:06.908531Z",
     "start_time": "2022-04-24T09:56:06.892530Z"
    }
   },
   "outputs": [],
   "source": [
    "for i in num_col:\n",
    "    df1[i] = sc.fit_transform(df1[i].values.reshape(-1,1))"
   ]
  },
  {
   "cell_type": "code",
   "execution_count": 1121,
   "metadata": {
    "ExecuteTime": {
     "end_time": "2022-04-24T09:56:06.924533Z",
     "start_time": "2022-04-24T09:56:06.908531Z"
    }
   },
   "outputs": [
    {
     "data": {
      "text/html": [
       "<div>\n",
       "<style scoped>\n",
       "    .dataframe tbody tr th:only-of-type {\n",
       "        vertical-align: middle;\n",
       "    }\n",
       "\n",
       "    .dataframe tbody tr th {\n",
       "        vertical-align: top;\n",
       "    }\n",
       "\n",
       "    .dataframe thead th {\n",
       "        text-align: right;\n",
       "    }\n",
       "</style>\n",
       "<table border=\"1\" class=\"dataframe\">\n",
       "  <thead>\n",
       "    <tr style=\"text-align: right;\">\n",
       "      <th></th>\n",
       "      <th>LotFrontage</th>\n",
       "      <th>LotArea</th>\n",
       "      <th>YearRemodAdd</th>\n",
       "      <th>MasVnrArea</th>\n",
       "      <th>BsmtFinSF1</th>\n",
       "      <th>BsmtFinSF2</th>\n",
       "      <th>BsmtUnfSF</th>\n",
       "      <th>TotalBsmtSF</th>\n",
       "      <th>1stFlrSF</th>\n",
       "      <th>2ndFlrSF</th>\n",
       "      <th>GrLivArea</th>\n",
       "      <th>TotRmsAbvGrd</th>\n",
       "      <th>GarageYrBlt</th>\n",
       "      <th>GarageArea</th>\n",
       "      <th>WoodDeckSF</th>\n",
       "      <th>OpenPorchSF</th>\n",
       "      <th>EnclosedPorch</th>\n",
       "      <th>PoolArea</th>\n",
       "      <th>MiscFeature</th>\n",
       "      <th>YrSold</th>\n",
       "    </tr>\n",
       "  </thead>\n",
       "  <tbody>\n",
       "    <tr>\n",
       "      <th>0</th>\n",
       "      <td>0.145901</td>\n",
       "      <td>-0.334048</td>\n",
       "      <td>-0.800849</td>\n",
       "      <td>0.565281</td>\n",
       "      <td>0.634314</td>\n",
       "      <td>-0.304764</td>\n",
       "      <td>-0.925241</td>\n",
       "      <td>-0.472962</td>\n",
       "      <td>-0.849089</td>\n",
       "      <td>1.170946</td>\n",
       "      <td>0.388372</td>\n",
       "      <td>0.898299</td>\n",
       "      <td>-0.953513</td>\n",
       "      <td>0.352153</td>\n",
       "      <td>-0.751476</td>\n",
       "      <td>0.244430</td>\n",
       "      <td>-0.358791</td>\n",
       "      <td>-0.062439</td>\n",
       "      <td>-0.199697</td>\n",
       "      <td>-0.111862</td>\n",
       "    </tr>\n",
       "    <tr>\n",
       "      <th>1</th>\n",
       "      <td>0.601611</td>\n",
       "      <td>-0.142685</td>\n",
       "      <td>0.522636</td>\n",
       "      <td>-0.587197</td>\n",
       "      <td>1.270039</td>\n",
       "      <td>-0.304764</td>\n",
       "      <td>-0.626371</td>\n",
       "      <td>0.521046</td>\n",
       "      <td>0.270145</td>\n",
       "      <td>-0.788123</td>\n",
       "      <td>-0.502730</td>\n",
       "      <td>-0.330858</td>\n",
       "      <td>0.103686</td>\n",
       "      <td>-0.067108</td>\n",
       "      <td>1.641080</td>\n",
       "      <td>-0.731457</td>\n",
       "      <td>-0.358791</td>\n",
       "      <td>-0.062439</td>\n",
       "      <td>-0.199697</td>\n",
       "      <td>0.641195</td>\n",
       "    </tr>\n",
       "    <tr>\n",
       "      <th>2</th>\n",
       "      <td>0.237043</td>\n",
       "      <td>0.131879</td>\n",
       "      <td>-0.751831</td>\n",
       "      <td>0.365361</td>\n",
       "      <td>0.120125</td>\n",
       "      <td>-0.304764</td>\n",
       "      <td>-0.291814</td>\n",
       "      <td>-0.316271</td>\n",
       "      <td>-0.672658</td>\n",
       "      <td>1.198474</td>\n",
       "      <td>0.539541</td>\n",
       "      <td>-0.330858</td>\n",
       "      <td>-0.875202</td>\n",
       "      <td>0.638013</td>\n",
       "      <td>-0.751476</td>\n",
       "      <td>-0.059535</td>\n",
       "      <td>-0.358791</td>\n",
       "      <td>-0.062439</td>\n",
       "      <td>-0.199697</td>\n",
       "      <td>-0.111862</td>\n",
       "    </tr>\n",
       "  </tbody>\n",
       "</table>\n",
       "</div>"
      ],
      "text/plain": [
       "   LotFrontage   LotArea  YearRemodAdd  MasVnrArea  BsmtFinSF1  BsmtFinSF2  \\\n",
       "0     0.145901 -0.334048     -0.800849    0.565281    0.634314   -0.304764   \n",
       "1     0.601611 -0.142685      0.522636   -0.587197    1.270039   -0.304764   \n",
       "2     0.237043  0.131879     -0.751831    0.365361    0.120125   -0.304764   \n",
       "\n",
       "   BsmtUnfSF  TotalBsmtSF  1stFlrSF  2ndFlrSF  GrLivArea  TotRmsAbvGrd  \\\n",
       "0  -0.925241    -0.472962 -0.849089  1.170946   0.388372      0.898299   \n",
       "1  -0.626371     0.521046  0.270145 -0.788123  -0.502730     -0.330858   \n",
       "2  -0.291814    -0.316271 -0.672658  1.198474   0.539541     -0.330858   \n",
       "\n",
       "   GarageYrBlt  GarageArea  WoodDeckSF  OpenPorchSF  EnclosedPorch  PoolArea  \\\n",
       "0    -0.953513    0.352153   -0.751476     0.244430      -0.358791 -0.062439   \n",
       "1     0.103686   -0.067108    1.641080    -0.731457      -0.358791 -0.062439   \n",
       "2    -0.875202    0.638013   -0.751476    -0.059535      -0.358791 -0.062439   \n",
       "\n",
       "   MiscFeature    YrSold  \n",
       "0    -0.199697 -0.111862  \n",
       "1    -0.199697  0.641195  \n",
       "2    -0.199697 -0.111862  "
      ]
     },
     "execution_count": 1121,
     "metadata": {},
     "output_type": "execute_result"
    }
   ],
   "source": [
    "df1[num_col].head(3)"
   ]
  },
  {
   "cell_type": "markdown",
   "metadata": {},
   "source": [
    "- **Creating Dummy Dataframe**"
   ]
  },
  {
   "cell_type": "code",
   "execution_count": 1122,
   "metadata": {
    "ExecuteTime": {
     "end_time": "2022-04-24T09:56:06.940536Z",
     "start_time": "2022-04-24T09:56:06.924533Z"
    }
   },
   "outputs": [
    {
     "name": "stdout",
     "output_type": "stream",
     "text": [
      "['Dwell_Type', 'Zone_Class', 'Property_Shape', 'LandContour', 'LotConfig', 'Neighborhood', 'Condition1', 'Condition2', 'Dwelling_Type', 'HouseStyle', 'OverallQual', 'OverallCond', 'RoofStyle', 'Exterior1st', 'Exterior2nd', 'MasVnrType', 'ExterQual', 'ExterCond', 'Foundation', 'BsmtQual', 'BsmtCond', 'BsmtExposure', 'BsmtFinType1', 'BsmtFinType2', 'Heating', 'HeatingQC', 'Electrical', 'BsmtFullBath', 'FullBath', 'HalfBath', 'BedroomAbvGr', 'KitchenAbvGr', 'KitchenQual', 'Functional', 'Fireplaces', 'FireplaceQu', 'GarageType', 'GarageFinish', 'GarageCars', 'GarageQual', 'GarageCond', 'PavedDrive', 'Fence', 'SaleType', 'SaleCondition']\n"
     ]
    }
   ],
   "source": [
    "dummy_col = [i for i in df1.columns if (df1[i].dtype == object)&(df1[i].nunique()>2)]\n",
    "print(dummy_col)"
   ]
  },
  {
   "cell_type": "code",
   "execution_count": 1123,
   "metadata": {
    "ExecuteTime": {
     "end_time": "2022-04-24T09:56:06.972531Z",
     "start_time": "2022-04-24T09:56:06.940536Z"
    }
   },
   "outputs": [],
   "source": [
    "df1 = pd.get_dummies(df1, columns=dummy_col, drop_first=True)"
   ]
  },
  {
   "cell_type": "code",
   "execution_count": 1124,
   "metadata": {
    "ExecuteTime": {
     "end_time": "2022-04-24T09:56:06.988529Z",
     "start_time": "2022-04-24T09:56:06.972531Z"
    }
   },
   "outputs": [
    {
     "data": {
      "text/plain": [
       "(2060, 249)"
      ]
     },
     "execution_count": 1124,
     "metadata": {},
     "output_type": "execute_result"
    }
   ],
   "source": [
    "df1.shape"
   ]
  },
  {
   "cell_type": "markdown",
   "metadata": {},
   "source": [
    "## Linear Regression"
   ]
  },
  {
   "cell_type": "markdown",
   "metadata": {},
   "source": [
    "### Num_col"
   ]
  },
  {
   "cell_type": "code",
   "execution_count": 1125,
   "metadata": {
    "ExecuteTime": {
     "end_time": "2022-04-24T09:56:07.004533Z",
     "start_time": "2022-04-24T09:56:06.988529Z"
    }
   },
   "outputs": [],
   "source": [
    "x = df1[num_col]\n",
    "y = df1['Property_Sale_Price']\n",
    "\n",
    "x_train, x_test, y_train, y_test = train_test_split(x, y, test_size=0.25, random_state = 112)"
   ]
  },
  {
   "cell_type": "code",
   "execution_count": 1126,
   "metadata": {
    "ExecuteTime": {
     "end_time": "2022-04-24T09:56:07.020536Z",
     "start_time": "2022-04-24T09:56:07.004533Z"
    }
   },
   "outputs": [
    {
     "name": "stdout",
     "output_type": "stream",
     "text": [
      "X Train : (1545, 20)\n",
      "X Train : (515, 20)\n"
     ]
    }
   ],
   "source": [
    "print('X Train : {}'.format(x_train.shape))\n",
    "print('X Train : {}'.format(x_test.shape))"
   ]
  },
  {
   "cell_type": "code",
   "execution_count": 1127,
   "metadata": {
    "ExecuteTime": {
     "end_time": "2022-04-24T09:56:07.036529Z",
     "start_time": "2022-04-24T09:56:07.020536Z"
    }
   },
   "outputs": [],
   "source": [
    "lr = LinearRegression()\n",
    "lr.fit(x_train, y_train)\n",
    "\n",
    "y_pred = lr.predict(x_test)"
   ]
  },
  {
   "cell_type": "code",
   "execution_count": 1128,
   "metadata": {
    "ExecuteTime": {
     "end_time": "2022-04-24T09:56:07.052526Z",
     "start_time": "2022-04-24T09:56:07.036529Z"
    }
   },
   "outputs": [
    {
     "name": "stdout",
     "output_type": "stream",
     "text": [
      "RMSE : 36134.435111182225\n",
      "MAE : 23243.61831943319\n"
     ]
    }
   ],
   "source": [
    "# print('MSE :', metrics.mean_squared_error(y_test, y_pred))\n",
    "print('RMSE :', metrics.mean_squared_error(y_test, y_pred,squared=False))\n",
    "print('MAE :', metrics.mean_absolute_error(y_test, y_pred))"
   ]
  },
  {
   "cell_type": "markdown",
   "metadata": {},
   "source": [
    "- SequentialFeatureSelector (Similar to step function in r)"
   ]
  },
  {
   "cell_type": "code",
   "execution_count": 1129,
   "metadata": {
    "ExecuteTime": {
     "end_time": "2022-04-24T09:56:10.068530Z",
     "start_time": "2022-04-24T09:56:07.052526Z"
    },
    "scrolled": true
   },
   "outputs": [
    {
     "name": "stderr",
     "output_type": "stream",
     "text": [
      "[Parallel(n_jobs=1)]: Using backend SequentialBackend with 1 concurrent workers.\n",
      "[Parallel(n_jobs=1)]: Done  20 out of  20 | elapsed:    0.0s finished\n",
      "Features: 1/20[Parallel(n_jobs=1)]: Using backend SequentialBackend with 1 concurrent workers.\n",
      "[Parallel(n_jobs=1)]: Done  19 out of  19 | elapsed:    0.0s finished\n",
      "[Parallel(n_jobs=1)]: Using backend SequentialBackend with 1 concurrent workers.\n",
      "[Parallel(n_jobs=1)]: Done   1 out of   1 | elapsed:    0.0s finished\n",
      "Features: 2/20[Parallel(n_jobs=1)]: Using backend SequentialBackend with 1 concurrent workers.\n",
      "[Parallel(n_jobs=1)]: Done  18 out of  18 | elapsed:    0.0s finished\n",
      "[Parallel(n_jobs=1)]: Using backend SequentialBackend with 1 concurrent workers.\n",
      "[Parallel(n_jobs=1)]: Done   2 out of   2 | elapsed:    0.0s finished\n",
      "Features: 3/20[Parallel(n_jobs=1)]: Using backend SequentialBackend with 1 concurrent workers.\n",
      "[Parallel(n_jobs=1)]: Done  17 out of  17 | elapsed:    0.0s finished\n",
      "[Parallel(n_jobs=1)]: Using backend SequentialBackend with 1 concurrent workers.\n",
      "[Parallel(n_jobs=1)]: Done   3 out of   3 | elapsed:    0.0s finished\n",
      "Features: 4/20[Parallel(n_jobs=1)]: Using backend SequentialBackend with 1 concurrent workers.\n",
      "[Parallel(n_jobs=1)]: Done  16 out of  16 | elapsed:    0.0s finished\n",
      "[Parallel(n_jobs=1)]: Using backend SequentialBackend with 1 concurrent workers.\n",
      "[Parallel(n_jobs=1)]: Done   4 out of   4 | elapsed:    0.0s finished\n",
      "Features: 5/20[Parallel(n_jobs=1)]: Using backend SequentialBackend with 1 concurrent workers.\n",
      "[Parallel(n_jobs=1)]: Done  15 out of  15 | elapsed:    0.0s finished\n",
      "[Parallel(n_jobs=1)]: Using backend SequentialBackend with 1 concurrent workers.\n",
      "[Parallel(n_jobs=1)]: Done   5 out of   5 | elapsed:    0.0s finished\n",
      "Features: 6/20[Parallel(n_jobs=1)]: Using backend SequentialBackend with 1 concurrent workers.\n",
      "[Parallel(n_jobs=1)]: Done  14 out of  14 | elapsed:    0.0s finished\n",
      "[Parallel(n_jobs=1)]: Using backend SequentialBackend with 1 concurrent workers.\n",
      "[Parallel(n_jobs=1)]: Done   6 out of   6 | elapsed:    0.0s finished\n",
      "Features: 7/20[Parallel(n_jobs=1)]: Using backend SequentialBackend with 1 concurrent workers.\n",
      "[Parallel(n_jobs=1)]: Done  13 out of  13 | elapsed:    0.0s finished\n",
      "[Parallel(n_jobs=1)]: Using backend SequentialBackend with 1 concurrent workers.\n",
      "[Parallel(n_jobs=1)]: Done   7 out of   7 | elapsed:    0.0s finished\n",
      "Features: 8/20[Parallel(n_jobs=1)]: Using backend SequentialBackend with 1 concurrent workers.\n",
      "[Parallel(n_jobs=1)]: Done  12 out of  12 | elapsed:    0.0s finished\n",
      "[Parallel(n_jobs=1)]: Using backend SequentialBackend with 1 concurrent workers.\n",
      "[Parallel(n_jobs=1)]: Done   8 out of   8 | elapsed:    0.0s finished\n",
      "Features: 9/20[Parallel(n_jobs=1)]: Using backend SequentialBackend with 1 concurrent workers.\n",
      "[Parallel(n_jobs=1)]: Done  11 out of  11 | elapsed:    0.0s finished\n",
      "[Parallel(n_jobs=1)]: Using backend SequentialBackend with 1 concurrent workers.\n",
      "[Parallel(n_jobs=1)]: Done   9 out of   9 | elapsed:    0.0s finished\n",
      "[Parallel(n_jobs=1)]: Using backend SequentialBackend with 1 concurrent workers.\n",
      "[Parallel(n_jobs=1)]: Done   8 out of   8 | elapsed:    0.0s finished\n",
      "Features: 9/20[Parallel(n_jobs=1)]: Using backend SequentialBackend with 1 concurrent workers.\n",
      "[Parallel(n_jobs=1)]: Done  11 out of  11 | elapsed:    0.0s finished\n",
      "[Parallel(n_jobs=1)]: Using backend SequentialBackend with 1 concurrent workers.\n",
      "[Parallel(n_jobs=1)]: Done   9 out of   9 | elapsed:    0.0s finished\n",
      "Features: 10/20[Parallel(n_jobs=1)]: Using backend SequentialBackend with 1 concurrent workers.\n",
      "[Parallel(n_jobs=1)]: Done  10 out of  10 | elapsed:    0.0s finished\n",
      "[Parallel(n_jobs=1)]: Using backend SequentialBackend with 1 concurrent workers.\n",
      "[Parallel(n_jobs=1)]: Done  10 out of  10 | elapsed:    0.0s finished\n",
      "Features: 11/20[Parallel(n_jobs=1)]: Using backend SequentialBackend with 1 concurrent workers.\n",
      "[Parallel(n_jobs=1)]: Done   9 out of   9 | elapsed:    0.0s finished\n",
      "[Parallel(n_jobs=1)]: Using backend SequentialBackend with 1 concurrent workers.\n",
      "[Parallel(n_jobs=1)]: Done  11 out of  11 | elapsed:    0.0s finished\n",
      "Features: 12/20[Parallel(n_jobs=1)]: Using backend SequentialBackend with 1 concurrent workers.\n",
      "[Parallel(n_jobs=1)]: Done   8 out of   8 | elapsed:    0.0s finished\n",
      "[Parallel(n_jobs=1)]: Using backend SequentialBackend with 1 concurrent workers.\n",
      "[Parallel(n_jobs=1)]: Done  12 out of  12 | elapsed:    0.0s finished\n",
      "Features: 13/20[Parallel(n_jobs=1)]: Using backend SequentialBackend with 1 concurrent workers.\n",
      "[Parallel(n_jobs=1)]: Done   7 out of   7 | elapsed:    0.0s finished\n",
      "[Parallel(n_jobs=1)]: Using backend SequentialBackend with 1 concurrent workers.\n",
      "[Parallel(n_jobs=1)]: Done  13 out of  13 | elapsed:    0.0s finished\n",
      "Features: 14/20[Parallel(n_jobs=1)]: Using backend SequentialBackend with 1 concurrent workers.\n",
      "[Parallel(n_jobs=1)]: Done   6 out of   6 | elapsed:    0.0s finished\n",
      "[Parallel(n_jobs=1)]: Using backend SequentialBackend with 1 concurrent workers.\n",
      "[Parallel(n_jobs=1)]: Done  14 out of  14 | elapsed:    0.0s finished\n",
      "[Parallel(n_jobs=1)]: Using backend SequentialBackend with 1 concurrent workers.\n",
      "[Parallel(n_jobs=1)]: Done  13 out of  13 | elapsed:    0.0s finished\n",
      "[Parallel(n_jobs=1)]: Using backend SequentialBackend with 1 concurrent workers.\n",
      "[Parallel(n_jobs=1)]: Done  12 out of  12 | elapsed:    0.0s finished\n",
      "Features: 13/20[Parallel(n_jobs=1)]: Using backend SequentialBackend with 1 concurrent workers.\n",
      "[Parallel(n_jobs=1)]: Done   7 out of   7 | elapsed:    0.0s finished\n",
      "[Parallel(n_jobs=1)]: Using backend SequentialBackend with 1 concurrent workers.\n",
      "[Parallel(n_jobs=1)]: Done  13 out of  13 | elapsed:    0.0s finished\n",
      "Features: 14/20[Parallel(n_jobs=1)]: Using backend SequentialBackend with 1 concurrent workers.\n",
      "[Parallel(n_jobs=1)]: Done   6 out of   6 | elapsed:    0.0s finished\n",
      "[Parallel(n_jobs=1)]: Using backend SequentialBackend with 1 concurrent workers.\n",
      "[Parallel(n_jobs=1)]: Done  14 out of  14 | elapsed:    0.0s finished\n",
      "Features: 15/20[Parallel(n_jobs=1)]: Using backend SequentialBackend with 1 concurrent workers.\n",
      "[Parallel(n_jobs=1)]: Done   5 out of   5 | elapsed:    0.0s finished\n",
      "[Parallel(n_jobs=1)]: Using backend SequentialBackend with 1 concurrent workers.\n",
      "[Parallel(n_jobs=1)]: Done  15 out of  15 | elapsed:    0.0s finished\n",
      "Features: 16/20[Parallel(n_jobs=1)]: Using backend SequentialBackend with 1 concurrent workers.\n",
      "[Parallel(n_jobs=1)]: Done   4 out of   4 | elapsed:    0.0s finished\n",
      "[Parallel(n_jobs=1)]: Using backend SequentialBackend with 1 concurrent workers.\n",
      "[Parallel(n_jobs=1)]: Done  16 out of  16 | elapsed:    0.0s finished\n",
      "Features: 17/20[Parallel(n_jobs=1)]: Using backend SequentialBackend with 1 concurrent workers.\n",
      "[Parallel(n_jobs=1)]: Done   3 out of   3 | elapsed:    0.0s finished\n",
      "[Parallel(n_jobs=1)]: Using backend SequentialBackend with 1 concurrent workers.\n",
      "[Parallel(n_jobs=1)]: Done  17 out of  17 | elapsed:    0.0s finished\n",
      "Features: 18/20[Parallel(n_jobs=1)]: Using backend SequentialBackend with 1 concurrent workers.\n",
      "[Parallel(n_jobs=1)]: Done   2 out of   2 | elapsed:    0.0s finished\n",
      "[Parallel(n_jobs=1)]: Using backend SequentialBackend with 1 concurrent workers.\n",
      "[Parallel(n_jobs=1)]: Done  18 out of  18 | elapsed:    0.0s finished\n",
      "Features: 19/20[Parallel(n_jobs=1)]: Using backend SequentialBackend with 1 concurrent workers.\n",
      "[Parallel(n_jobs=1)]: Done   1 out of   1 | elapsed:    0.0s finished\n",
      "[Parallel(n_jobs=1)]: Using backend SequentialBackend with 1 concurrent workers.\n",
      "[Parallel(n_jobs=1)]: Done  19 out of  19 | elapsed:    0.0s finished\n",
      "Features: 20/20"
     ]
    },
    {
     "data": {
      "text/plain": [
       "SequentialFeatureSelector(estimator=LinearRegression(), floating=True,\n",
       "                          k_features=20, scoring='r2', verbose=1)"
      ]
     },
     "execution_count": 1129,
     "metadata": {},
     "output_type": "execute_result"
    }
   ],
   "source": [
    "sfs1 = sfs(LinearRegression(), k_features=20, forward=True, floating=True, cv=5, verbose=1, scoring='r2')\n",
    "\n",
    "sfs1.fit(x_train, y_train)"
   ]
  },
  {
   "cell_type": "code",
   "execution_count": 1130,
   "metadata": {
    "ExecuteTime": {
     "end_time": "2022-04-24T09:56:10.263272Z",
     "start_time": "2022-04-24T09:56:10.068530Z"
    }
   },
   "outputs": [
    {
     "data": {
      "image/png": "[encoded data removed]",
      "text/plain": [
       "<Figure size 1080x576 with 1 Axes>"
      ]
     },
     "metadata": {
      "needs_background": "light"
     },
     "output_type": "display_data"
    }
   ],
   "source": [
    "plt.rcParams['figure.figsize'] = (15,8)\n",
    "\n",
    "fig1 = plot_sfs(sfs1.get_metric_dict())\n",
    "plt.title('Sequential Forward Selection')\n",
    "plt.grid()\n",
    "plt.show()"
   ]
  },
  {
   "cell_type": "code",
   "execution_count": 1131,
   "metadata": {
    "ExecuteTime": {
     "end_time": "2022-04-24T09:56:10.279275Z",
     "start_time": "2022-04-24T09:56:10.263272Z"
    }
   },
   "outputs": [
    {
     "data": {
      "text/html": [
       "<div>\n",
       "<style scoped>\n",
       "    .dataframe tbody tr th:only-of-type {\n",
       "        vertical-align: middle;\n",
       "    }\n",
       "\n",
       "    .dataframe tbody tr th {\n",
       "        vertical-align: top;\n",
       "    }\n",
       "\n",
       "    .dataframe thead th {\n",
       "        text-align: right;\n",
       "    }\n",
       "</style>\n",
       "<table border=\"1\" class=\"dataframe\">\n",
       "  <thead>\n",
       "    <tr style=\"text-align: right;\">\n",
       "      <th></th>\n",
       "      <th>index</th>\n",
       "      <th>feature_idx</th>\n",
       "      <th>cv_scores</th>\n",
       "      <th>avg_score</th>\n",
       "      <th>feature_names</th>\n",
       "      <th>ci_bound</th>\n",
       "      <th>std_dev</th>\n",
       "      <th>std_err</th>\n",
       "    </tr>\n",
       "  </thead>\n",
       "  <tbody>\n",
       "    <tr>\n",
       "      <th>0</th>\n",
       "      <td>1</td>\n",
       "      <td>(10,)</td>\n",
       "      <td>[0.47255035699363745, 0.3751140046492668, 0.51...</td>\n",
       "      <td>0.491133</td>\n",
       "      <td>(GrLivArea,)</td>\n",
       "      <td>0.0831352</td>\n",
       "      <td>0.064682</td>\n",
       "      <td>0.032341</td>\n",
       "    </tr>\n",
       "    <tr>\n",
       "      <th>1</th>\n",
       "      <td>2</td>\n",
       "      <td>(7, 10)</td>\n",
       "      <td>[0.6431105258134693, 0.5702667449170122, 0.652...</td>\n",
       "      <td>0.650001</td>\n",
       "      <td>(TotalBsmtSF, GrLivArea)</td>\n",
       "      <td>0.0578179</td>\n",
       "      <td>0.0449843</td>\n",
       "      <td>0.0224921</td>\n",
       "    </tr>\n",
       "    <tr>\n",
       "      <th>2</th>\n",
       "      <td>3</td>\n",
       "      <td>(7, 10, 12)</td>\n",
       "      <td>[0.7113205294132794, 0.6339338876311481, 0.689...</td>\n",
       "      <td>0.705429</td>\n",
       "      <td>(TotalBsmtSF, GrLivArea, GarageYrBlt)</td>\n",
       "      <td>0.0540531</td>\n",
       "      <td>0.0420551</td>\n",
       "      <td>0.0210276</td>\n",
       "    </tr>\n",
       "  </tbody>\n",
       "</table>\n",
       "</div>"
      ],
      "text/plain": [
       "   index  feature_idx                                          cv_scores  \\\n",
       "0      1        (10,)  [0.47255035699363745, 0.3751140046492668, 0.51...   \n",
       "1      2      (7, 10)  [0.6431105258134693, 0.5702667449170122, 0.652...   \n",
       "2      3  (7, 10, 12)  [0.7113205294132794, 0.6339338876311481, 0.689...   \n",
       "\n",
       "  avg_score                          feature_names   ci_bound    std_dev  \\\n",
       "0  0.491133                           (GrLivArea,)  0.0831352   0.064682   \n",
       "1  0.650001               (TotalBsmtSF, GrLivArea)  0.0578179  0.0449843   \n",
       "2  0.705429  (TotalBsmtSF, GrLivArea, GarageYrBlt)  0.0540531  0.0420551   \n",
       "\n",
       "     std_err  \n",
       "0   0.032341  \n",
       "1  0.0224921  \n",
       "2  0.0210276  "
      ]
     },
     "metadata": {},
     "output_type": "display_data"
    }
   ],
   "source": [
    "# Creating Dataframe representing performance of Features in SFS \n",
    "\n",
    "sfs1_df = pd.DataFrame(sfs1.get_metric_dict()).T.reset_index()\n",
    "\n",
    "display(sfs1_df.head(3))"
   ]
  },
  {
   "cell_type": "code",
   "execution_count": 1132,
   "metadata": {
    "ExecuteTime": {
     "end_time": "2022-04-24T09:56:10.295275Z",
     "start_time": "2022-04-24T09:56:10.279275Z"
    }
   },
   "outputs": [
    {
     "data": {
      "text/html": [
       "<div>\n",
       "<style scoped>\n",
       "    .dataframe tbody tr th:only-of-type {\n",
       "        vertical-align: middle;\n",
       "    }\n",
       "\n",
       "    .dataframe tbody tr th {\n",
       "        vertical-align: top;\n",
       "    }\n",
       "\n",
       "    .dataframe thead th {\n",
       "        text-align: right;\n",
       "    }\n",
       "</style>\n",
       "<table border=\"1\" class=\"dataframe\">\n",
       "  <thead>\n",
       "    <tr style=\"text-align: right;\">\n",
       "      <th></th>\n",
       "      <th>9</th>\n",
       "    </tr>\n",
       "  </thead>\n",
       "  <tbody>\n",
       "    <tr>\n",
       "      <th>index</th>\n",
       "      <td>10</td>\n",
       "    </tr>\n",
       "    <tr>\n",
       "      <th>feature_idx</th>\n",
       "      <td>(1, 2, 3, 4, 7, 8, 9, 12, 13, 14)</td>\n",
       "    </tr>\n",
       "    <tr>\n",
       "      <th>cv_scores</th>\n",
       "      <td>[0.7246336762577608, 0.7255202683045416, 0.743...</td>\n",
       "    </tr>\n",
       "    <tr>\n",
       "      <th>avg_score</th>\n",
       "      <td>0.761065</td>\n",
       "    </tr>\n",
       "    <tr>\n",
       "      <th>feature_names</th>\n",
       "      <td>(LotArea, YearRemodAdd, MasVnrArea, BsmtFinSF1...</td>\n",
       "    </tr>\n",
       "    <tr>\n",
       "      <th>ci_bound</th>\n",
       "      <td>0.0507917</td>\n",
       "    </tr>\n",
       "    <tr>\n",
       "      <th>std_dev</th>\n",
       "      <td>0.0395177</td>\n",
       "    </tr>\n",
       "    <tr>\n",
       "      <th>std_err</th>\n",
       "      <td>0.0197589</td>\n",
       "    </tr>\n",
       "  </tbody>\n",
       "</table>\n",
       "</div>"
      ],
      "text/plain": [
       "                                                               9\n",
       "index                                                         10\n",
       "feature_idx                    (1, 2, 3, 4, 7, 8, 9, 12, 13, 14)\n",
       "cv_scores      [0.7246336762577608, 0.7255202683045416, 0.743...\n",
       "avg_score                                               0.761065\n",
       "feature_names  (LotArea, YearRemodAdd, MasVnrArea, BsmtFinSF1...\n",
       "ci_bound                                               0.0507917\n",
       "std_dev                                                0.0395177\n",
       "std_err                                                0.0197589"
      ]
     },
     "execution_count": 1132,
     "metadata": {},
     "output_type": "execute_result"
    }
   ],
   "source": [
    "# Best score at \n",
    "\n",
    "sfs1_df.iloc[9].to_frame()"
   ]
  },
  {
   "cell_type": "code",
   "execution_count": 1133,
   "metadata": {
    "ExecuteTime": {
     "end_time": "2022-04-24T09:56:10.311274Z",
     "start_time": "2022-04-24T09:56:10.295275Z"
    }
   },
   "outputs": [
    {
     "data": {
      "text/plain": [
       "10"
      ]
     },
     "execution_count": 1133,
     "metadata": {},
     "output_type": "execute_result"
    }
   ],
   "source": [
    "num_features = list(sfs1_df.iloc[9][4])\n",
    "len(num_features)"
   ]
  },
  {
   "cell_type": "code",
   "execution_count": 1134,
   "metadata": {
    "ExecuteTime": {
     "end_time": "2022-04-24T09:56:10.327565Z",
     "start_time": "2022-04-24T09:56:10.311274Z"
    }
   },
   "outputs": [],
   "source": [
    "x = df1[num_features]\n",
    "y = df1['Property_Sale_Price']\n",
    "\n",
    "x_train, x_test, y_train, y_test = train_test_split(x, y, test_size=0.25, random_state = 112)"
   ]
  },
  {
   "cell_type": "code",
   "execution_count": 1135,
   "metadata": {
    "ExecuteTime": {
     "end_time": "2022-04-24T09:56:10.343262Z",
     "start_time": "2022-04-24T09:56:10.327565Z"
    }
   },
   "outputs": [],
   "source": [
    "lr = LinearRegression()\n",
    "lr.fit(x_train, y_train)\n",
    "\n",
    "y_pred = lr.predict(x_test)"
   ]
  },
  {
   "cell_type": "code",
   "execution_count": 1136,
   "metadata": {
    "ExecuteTime": {
     "end_time": "2022-04-24T09:56:10.359260Z",
     "start_time": "2022-04-24T09:56:10.343262Z"
    }
   },
   "outputs": [
    {
     "name": "stdout",
     "output_type": "stream",
     "text": [
      "RMSE : 34074.26655487672\n",
      "MAE : 23401.50671178942\n"
     ]
    }
   ],
   "source": [
    "# print('MSE :', metrics.mean_squared_error(y_test, y_pred))\n",
    "print('RMSE :', metrics.mean_squared_error(y_test, y_pred, squared=False))\n",
    "print('MAE :', metrics.mean_absolute_error(y_test, y_pred))"
   ]
  },
  {
   "cell_type": "markdown",
   "metadata": {},
   "source": [
    "### Cat_col"
   ]
  },
  {
   "cell_type": "code",
   "execution_count": 1137,
   "metadata": {
    "ExecuteTime": {
     "end_time": "2022-04-24T09:56:10.375261Z",
     "start_time": "2022-04-24T09:56:10.359260Z"
    }
   },
   "outputs": [],
   "source": [
    "x = df1.drop(columns=num_col).drop(columns=['Property_Sale_Price'])\n",
    "y = df1['Property_Sale_Price']\n",
    "\n",
    "x_train, x_test, y_train, y_test = train_test_split(x, y, test_size=0.25, random_state = 112)"
   ]
  },
  {
   "cell_type": "code",
   "execution_count": 1138,
   "metadata": {
    "ExecuteTime": {
     "end_time": "2022-04-24T09:56:10.391261Z",
     "start_time": "2022-04-24T09:56:10.375261Z"
    }
   },
   "outputs": [
    {
     "name": "stdout",
     "output_type": "stream",
     "text": [
      "X Train : (1545, 228)\n",
      "X Train : (515, 228)\n"
     ]
    }
   ],
   "source": [
    "print('X Train : {}'.format(x_train.shape))\n",
    "print('X Train : {}'.format(x_test.shape))"
   ]
  },
  {
   "cell_type": "code",
   "execution_count": 1139,
   "metadata": {
    "ExecuteTime": {
     "end_time": "2022-04-24T09:56:10.439262Z",
     "start_time": "2022-04-24T09:56:10.391261Z"
    }
   },
   "outputs": [],
   "source": [
    "lr = LinearRegression()\n",
    "lr.fit(x_train, y_train)\n",
    "\n",
    "y_pred = lr.predict(x_test)"
   ]
  },
  {
   "cell_type": "code",
   "execution_count": 1140,
   "metadata": {
    "ExecuteTime": {
     "end_time": "2022-04-24T09:56:10.455264Z",
     "start_time": "2022-04-24T09:56:10.439262Z"
    }
   },
   "outputs": [
    {
     "name": "stdout",
     "output_type": "stream",
     "text": [
      "RMSE : 1927416170744930.5\n",
      "MAE : 85371116881085.38\n"
     ]
    }
   ],
   "source": [
    "# print('MSE :', metrics.mean_squared_error(y_test, y_pred))\n",
    "print('RMSE :', metrics.mean_squared_error(y_test, y_pred,squared=False))\n",
    "print('MAE :', metrics.mean_absolute_error(y_test, y_pred))"
   ]
  },
  {
   "cell_type": "code",
   "execution_count": 1141,
   "metadata": {
    "ExecuteTime": {
     "end_time": "2022-04-24T10:00:25.631421Z",
     "start_time": "2022-04-24T09:56:10.455264Z"
    },
    "scrolled": true
   },
   "outputs": [
    {
     "name": "stderr",
     "output_type": "stream",
     "text": [
      "[Parallel(n_jobs=1)]: Using backend SequentialBackend with 1 concurrent workers.\n",
      "[Parallel(n_jobs=1)]: Done 228 out of 228 | elapsed:    1.4s finished\n",
      "Features: 1/72[Parallel(n_jobs=1)]: Using backend SequentialBackend with 1 concurrent workers.\n",
      "[Parallel(n_jobs=1)]: Done 227 out of 227 | elapsed:    1.1s finished\n",
      "[Parallel(n_jobs=1)]: Using backend SequentialBackend with 1 concurrent workers.\n",
      "[Parallel(n_jobs=1)]: Done   1 out of   1 | elapsed:    0.0s finished\n",
      "Features: 2/72[Parallel(n_jobs=1)]: Using backend SequentialBackend with 1 concurrent workers.\n",
      "[Parallel(n_jobs=1)]: Done 226 out of 226 | elapsed:    1.1s finished\n",
      "[Parallel(n_jobs=1)]: Using backend SequentialBackend with 1 concurrent workers.\n",
      "[Parallel(n_jobs=1)]: Done   2 out of   2 | elapsed:    0.0s finished\n",
      "Features: 3/72[Parallel(n_jobs=1)]: Using backend SequentialBackend with 1 concurrent workers.\n",
      "[Parallel(n_jobs=1)]: Done 225 out of 225 | elapsed:    1.1s finished\n",
      "[Parallel(n_jobs=1)]: Using backend SequentialBackend with 1 concurrent workers.\n",
      "[Parallel(n_jobs=1)]: Done   3 out of   3 | elapsed:    0.0s finished\n",
      "Features: 4/72[Parallel(n_jobs=1)]: Using backend SequentialBackend with 1 concurrent workers.\n",
      "[Parallel(n_jobs=1)]: Done 224 out of 224 | elapsed:    1.1s finished\n",
      "[Parallel(n_jobs=1)]: Using backend SequentialBackend with 1 concurrent workers.\n",
      "[Parallel(n_jobs=1)]: Done   4 out of   4 | elapsed:    0.0s finished\n",
      "Features: 5/72[Parallel(n_jobs=1)]: Using backend SequentialBackend with 1 concurrent workers.\n",
      "[Parallel(n_jobs=1)]: Done 223 out of 223 | elapsed:    1.2s finished\n",
      "[Parallel(n_jobs=1)]: Using backend SequentialBackend with 1 concurrent workers.\n",
      "[Parallel(n_jobs=1)]: Done   5 out of   5 | elapsed:    0.0s finished\n",
      "Features: 6/72[Parallel(n_jobs=1)]: Using backend SequentialBackend with 1 concurrent workers.\n",
      "[Parallel(n_jobs=1)]: Done 222 out of 222 | elapsed:    1.2s finished\n",
      "[Parallel(n_jobs=1)]: Using backend SequentialBackend with 1 concurrent workers.\n",
      "[Parallel(n_jobs=1)]: Done   6 out of   6 | elapsed:    0.0s finished\n",
      "Features: 7/72[Parallel(n_jobs=1)]: Using backend SequentialBackend with 1 concurrent workers.\n",
      "[Parallel(n_jobs=1)]: Done 221 out of 221 | elapsed:    1.3s finished\n",
      "[Parallel(n_jobs=1)]: Using backend SequentialBackend with 1 concurrent workers.\n",
      "[Parallel(n_jobs=1)]: Done   7 out of   7 | elapsed:    0.0s finished\n",
      "Features: 8/72[Parallel(n_jobs=1)]: Using backend SequentialBackend with 1 concurrent workers.\n",
      "[Parallel(n_jobs=1)]: Done 220 out of 220 | elapsed:    1.4s finished\n",
      "[Parallel(n_jobs=1)]: Using backend SequentialBackend with 1 concurrent workers.\n",
      "[Parallel(n_jobs=1)]: Done   8 out of   8 | elapsed:    0.0s finished\n",
      "Features: 9/72[Parallel(n_jobs=1)]: Using backend SequentialBackend with 1 concurrent workers.\n",
      "[Parallel(n_jobs=1)]: Done 219 out of 219 | elapsed:    1.5s finished\n",
      "[Parallel(n_jobs=1)]: Using backend SequentialBackend with 1 concurrent workers.\n",
      "[Parallel(n_jobs=1)]: Done   9 out of   9 | elapsed:    0.0s finished\n",
      "Features: 10/72[Parallel(n_jobs=1)]: Using backend SequentialBackend with 1 concurrent workers.\n",
      "[Parallel(n_jobs=1)]: Done 218 out of 218 | elapsed:    1.5s finished\n",
      "[Parallel(n_jobs=1)]: Using backend SequentialBackend with 1 concurrent workers.\n",
      "[Parallel(n_jobs=1)]: Done  10 out of  10 | elapsed:    0.0s finished\n",
      "Features: 11/72[Parallel(n_jobs=1)]: Using backend SequentialBackend with 1 concurrent workers.\n",
      "[Parallel(n_jobs=1)]: Done 217 out of 217 | elapsed:    1.5s finished\n",
      "[Parallel(n_jobs=1)]: Using backend SequentialBackend with 1 concurrent workers.\n",
      "[Parallel(n_jobs=1)]: Done  11 out of  11 | elapsed:    0.0s finished\n",
      "Features: 12/72[Parallel(n_jobs=1)]: Using backend SequentialBackend with 1 concurrent workers.\n",
      "[Parallel(n_jobs=1)]: Done 216 out of 216 | elapsed:    1.5s finished\n",
      "[Parallel(n_jobs=1)]: Using backend SequentialBackend with 1 concurrent workers.\n",
      "[Parallel(n_jobs=1)]: Done  12 out of  12 | elapsed:    0.0s finished\n",
      "Features: 13/72[Parallel(n_jobs=1)]: Using backend SequentialBackend with 1 concurrent workers.\n",
      "[Parallel(n_jobs=1)]: Done 215 out of 215 | elapsed:    1.6s finished\n",
      "[Parallel(n_jobs=1)]: Using backend SequentialBackend with 1 concurrent workers.\n",
      "[Parallel(n_jobs=1)]: Done  13 out of  13 | elapsed:    0.0s finished\n",
      "Features: 14/72[Parallel(n_jobs=1)]: Using backend SequentialBackend with 1 concurrent workers.\n",
      "[Parallel(n_jobs=1)]: Done 214 out of 214 | elapsed:    1.8s finished\n",
      "[Parallel(n_jobs=1)]: Using backend SequentialBackend with 1 concurrent workers.\n",
      "[Parallel(n_jobs=1)]: Done  14 out of  14 | elapsed:    0.0s finished\n",
      "Features: 15/72[Parallel(n_jobs=1)]: Using backend SequentialBackend with 1 concurrent workers.\n",
      "[Parallel(n_jobs=1)]: Done 213 out of 213 | elapsed:    2.0s finished\n",
      "[Parallel(n_jobs=1)]: Using backend SequentialBackend with 1 concurrent workers.\n",
      "[Parallel(n_jobs=1)]: Done  15 out of  15 | elapsed:    0.0s finished\n",
      "Features: 16/72[Parallel(n_jobs=1)]: Using backend SequentialBackend with 1 concurrent workers.\n",
      "[Parallel(n_jobs=1)]: Done 212 out of 212 | elapsed:    2.0s finished\n",
      "[Parallel(n_jobs=1)]: Using backend SequentialBackend with 1 concurrent workers.\n",
      "[Parallel(n_jobs=1)]: Done  16 out of  16 | elapsed:    0.1s finished\n",
      "Features: 17/72[Parallel(n_jobs=1)]: Using backend SequentialBackend with 1 concurrent workers.\n",
      "[Parallel(n_jobs=1)]: Done 211 out of 211 | elapsed:    1.9s finished\n",
      "[Parallel(n_jobs=1)]: Using backend SequentialBackend with 1 concurrent workers.\n",
      "[Parallel(n_jobs=1)]: Done  17 out of  17 | elapsed:    0.1s finished\n",
      "Features: 18/72[Parallel(n_jobs=1)]: Using backend SequentialBackend with 1 concurrent workers.\n",
      "[Parallel(n_jobs=1)]: Done 210 out of 210 | elapsed:    2.0s finished\n",
      "[Parallel(n_jobs=1)]: Using backend SequentialBackend with 1 concurrent workers.\n",
      "[Parallel(n_jobs=1)]: Done  18 out of  18 | elapsed:    0.1s finished\n",
      "Features: 19/72[Parallel(n_jobs=1)]: Using backend SequentialBackend with 1 concurrent workers.\n",
      "[Parallel(n_jobs=1)]: Done 209 out of 209 | elapsed:    2.1s finished\n",
      "[Parallel(n_jobs=1)]: Using backend SequentialBackend with 1 concurrent workers.\n",
      "[Parallel(n_jobs=1)]: Done  19 out of  19 | elapsed:    0.1s finished\n",
      "Features: 20/72[Parallel(n_jobs=1)]: Using backend SequentialBackend with 1 concurrent workers.\n",
      "[Parallel(n_jobs=1)]: Done 208 out of 208 | elapsed:    1.9s finished\n",
      "[Parallel(n_jobs=1)]: Using backend SequentialBackend with 1 concurrent workers.\n",
      "[Parallel(n_jobs=1)]: Done  20 out of  20 | elapsed:    0.1s finished\n",
      "Features: 21/72[Parallel(n_jobs=1)]: Using backend SequentialBackend with 1 concurrent workers.\n",
      "[Parallel(n_jobs=1)]: Done 207 out of 207 | elapsed:    1.9s finished\n",
      "[Parallel(n_jobs=1)]: Using backend SequentialBackend with 1 concurrent workers.\n",
      "[Parallel(n_jobs=1)]: Done  21 out of  21 | elapsed:    0.1s finished\n",
      "Features: 22/72[Parallel(n_jobs=1)]: Using backend SequentialBackend with 1 concurrent workers.\n",
      "[Parallel(n_jobs=1)]: Done 206 out of 206 | elapsed:    2.0s finished\n",
      "[Parallel(n_jobs=1)]: Using backend SequentialBackend with 1 concurrent workers.\n",
      "[Parallel(n_jobs=1)]: Done  22 out of  22 | elapsed:    0.1s finished\n",
      "Features: 23/72[Parallel(n_jobs=1)]: Using backend SequentialBackend with 1 concurrent workers.\n",
      "[Parallel(n_jobs=1)]: Done 205 out of 205 | elapsed:    2.1s finished\n",
      "[Parallel(n_jobs=1)]: Using backend SequentialBackend with 1 concurrent workers.\n",
      "[Parallel(n_jobs=1)]: Done  23 out of  23 | elapsed:    0.1s finished\n",
      "Features: 24/72[Parallel(n_jobs=1)]: Using backend SequentialBackend with 1 concurrent workers.\n",
      "[Parallel(n_jobs=1)]: Done 204 out of 204 | elapsed:    2.2s finished\n",
      "[Parallel(n_jobs=1)]: Using backend SequentialBackend with 1 concurrent workers.\n",
      "[Parallel(n_jobs=1)]: Done  24 out of  24 | elapsed:    0.2s finished\n",
      "Features: 25/72[Parallel(n_jobs=1)]: Using backend SequentialBackend with 1 concurrent workers.\n",
      "[Parallel(n_jobs=1)]: Done 203 out of 203 | elapsed:    2.1s finished\n",
      "[Parallel(n_jobs=1)]: Using backend SequentialBackend with 1 concurrent workers.\n",
      "[Parallel(n_jobs=1)]: Done  25 out of  25 | elapsed:    0.2s finished\n",
      "Features: 26/72[Parallel(n_jobs=1)]: Using backend SequentialBackend with 1 concurrent workers.\n",
      "[Parallel(n_jobs=1)]: Done 202 out of 202 | elapsed:    2.2s finished\n",
      "[Parallel(n_jobs=1)]: Using backend SequentialBackend with 1 concurrent workers.\n"
     ]
    },
    {
     "name": "stderr",
     "output_type": "stream",
     "text": [
      "[Parallel(n_jobs=1)]: Done  26 out of  26 | elapsed:    0.2s finished\n",
      "Features: 27/72[Parallel(n_jobs=1)]: Using backend SequentialBackend with 1 concurrent workers.\n",
      "[Parallel(n_jobs=1)]: Done 201 out of 201 | elapsed:    2.2s finished\n",
      "[Parallel(n_jobs=1)]: Using backend SequentialBackend with 1 concurrent workers.\n",
      "[Parallel(n_jobs=1)]: Done  27 out of  27 | elapsed:    0.2s finished\n",
      "Features: 28/72[Parallel(n_jobs=1)]: Using backend SequentialBackend with 1 concurrent workers.\n",
      "[Parallel(n_jobs=1)]: Done 200 out of 200 | elapsed:    2.3s finished\n",
      "[Parallel(n_jobs=1)]: Using backend SequentialBackend with 1 concurrent workers.\n",
      "[Parallel(n_jobs=1)]: Done  28 out of  28 | elapsed:    0.2s finished\n",
      "Features: 29/72[Parallel(n_jobs=1)]: Using backend SequentialBackend with 1 concurrent workers.\n",
      "[Parallel(n_jobs=1)]: Done 199 out of 199 | elapsed:    2.3s finished\n",
      "[Parallel(n_jobs=1)]: Using backend SequentialBackend with 1 concurrent workers.\n",
      "[Parallel(n_jobs=1)]: Done  29 out of  29 | elapsed:    0.3s finished\n",
      "Features: 30/72[Parallel(n_jobs=1)]: Using backend SequentialBackend with 1 concurrent workers.\n",
      "[Parallel(n_jobs=1)]: Done 198 out of 198 | elapsed:    2.5s finished\n",
      "[Parallel(n_jobs=1)]: Using backend SequentialBackend with 1 concurrent workers.\n",
      "[Parallel(n_jobs=1)]: Done  30 out of  30 | elapsed:    0.3s finished\n",
      "Features: 31/72[Parallel(n_jobs=1)]: Using backend SequentialBackend with 1 concurrent workers.\n",
      "[Parallel(n_jobs=1)]: Done 197 out of 197 | elapsed:    2.5s finished\n",
      "[Parallel(n_jobs=1)]: Using backend SequentialBackend with 1 concurrent workers.\n",
      "[Parallel(n_jobs=1)]: Done  31 out of  31 | elapsed:    0.3s finished\n",
      "Features: 32/72[Parallel(n_jobs=1)]: Using backend SequentialBackend with 1 concurrent workers.\n",
      "[Parallel(n_jobs=1)]: Done 196 out of 196 | elapsed:    2.7s finished\n",
      "[Parallel(n_jobs=1)]: Using backend SequentialBackend with 1 concurrent workers.\n",
      "[Parallel(n_jobs=1)]: Done  32 out of  32 | elapsed:    0.3s finished\n",
      "Features: 33/72[Parallel(n_jobs=1)]: Using backend SequentialBackend with 1 concurrent workers.\n",
      "[Parallel(n_jobs=1)]: Done 195 out of 195 | elapsed:    2.6s finished\n",
      "[Parallel(n_jobs=1)]: Using backend SequentialBackend with 1 concurrent workers.\n",
      "[Parallel(n_jobs=1)]: Done  33 out of  33 | elapsed:    0.4s finished\n",
      "Features: 34/72[Parallel(n_jobs=1)]: Using backend SequentialBackend with 1 concurrent workers.\n",
      "[Parallel(n_jobs=1)]: Done 194 out of 194 | elapsed:    2.8s finished\n",
      "[Parallel(n_jobs=1)]: Using backend SequentialBackend with 1 concurrent workers.\n",
      "[Parallel(n_jobs=1)]: Done  34 out of  34 | elapsed:    0.4s finished\n",
      "Features: 35/72[Parallel(n_jobs=1)]: Using backend SequentialBackend with 1 concurrent workers.\n",
      "[Parallel(n_jobs=1)]: Done 193 out of 193 | elapsed:    2.9s finished\n",
      "[Parallel(n_jobs=1)]: Using backend SequentialBackend with 1 concurrent workers.\n",
      "[Parallel(n_jobs=1)]: Done  35 out of  35 | elapsed:    0.4s finished\n",
      "Features: 36/72[Parallel(n_jobs=1)]: Using backend SequentialBackend with 1 concurrent workers.\n",
      "[Parallel(n_jobs=1)]: Done 192 out of 192 | elapsed:    2.9s finished\n",
      "[Parallel(n_jobs=1)]: Using backend SequentialBackend with 1 concurrent workers.\n",
      "[Parallel(n_jobs=1)]: Done  36 out of  36 | elapsed:    0.5s finished\n",
      "[Parallel(n_jobs=1)]: Using backend SequentialBackend with 1 concurrent workers.\n",
      "[Parallel(n_jobs=1)]: Done  35 out of  35 | elapsed:    0.4s finished\n",
      "Features: 36/72[Parallel(n_jobs=1)]: Using backend SequentialBackend with 1 concurrent workers.\n",
      "[Parallel(n_jobs=1)]: Done 192 out of 192 | elapsed:    2.8s finished\n",
      "[Parallel(n_jobs=1)]: Using backend SequentialBackend with 1 concurrent workers.\n",
      "[Parallel(n_jobs=1)]: Done  36 out of  36 | elapsed:    0.4s finished\n",
      "[Parallel(n_jobs=1)]: Using backend SequentialBackend with 1 concurrent workers.\n",
      "[Parallel(n_jobs=1)]: Done  35 out of  35 | elapsed:    0.4s finished\n",
      "Features: 36/72[Parallel(n_jobs=1)]: Using backend SequentialBackend with 1 concurrent workers.\n",
      "[Parallel(n_jobs=1)]: Done 192 out of 192 | elapsed:    2.6s finished\n",
      "[Parallel(n_jobs=1)]: Using backend SequentialBackend with 1 concurrent workers.\n",
      "[Parallel(n_jobs=1)]: Done  36 out of  36 | elapsed:    0.4s finished\n",
      "Features: 37/72[Parallel(n_jobs=1)]: Using backend SequentialBackend with 1 concurrent workers.\n",
      "[Parallel(n_jobs=1)]: Done 191 out of 191 | elapsed:    2.7s finished\n",
      "[Parallel(n_jobs=1)]: Using backend SequentialBackend with 1 concurrent workers.\n",
      "[Parallel(n_jobs=1)]: Done  37 out of  37 | elapsed:    0.5s finished\n",
      "Features: 38/72[Parallel(n_jobs=1)]: Using backend SequentialBackend with 1 concurrent workers.\n",
      "[Parallel(n_jobs=1)]: Done 190 out of 190 | elapsed:    2.7s finished\n",
      "[Parallel(n_jobs=1)]: Using backend SequentialBackend with 1 concurrent workers.\n",
      "[Parallel(n_jobs=1)]: Done  38 out of  38 | elapsed:    0.4s finished\n",
      "Features: 39/72[Parallel(n_jobs=1)]: Using backend SequentialBackend with 1 concurrent workers.\n",
      "[Parallel(n_jobs=1)]: Done 189 out of 189 | elapsed:    2.7s finished\n",
      "[Parallel(n_jobs=1)]: Using backend SequentialBackend with 1 concurrent workers.\n",
      "[Parallel(n_jobs=1)]: Done  39 out of  39 | elapsed:    0.4s finished\n",
      "Features: 40/72[Parallel(n_jobs=1)]: Using backend SequentialBackend with 1 concurrent workers.\n",
      "[Parallel(n_jobs=1)]: Done 188 out of 188 | elapsed:    2.7s finished\n",
      "[Parallel(n_jobs=1)]: Using backend SequentialBackend with 1 concurrent workers.\n",
      "[Parallel(n_jobs=1)]: Done  40 out of  40 | elapsed:    0.5s finished\n",
      "Features: 41/72[Parallel(n_jobs=1)]: Using backend SequentialBackend with 1 concurrent workers.\n",
      "[Parallel(n_jobs=1)]: Done 187 out of 187 | elapsed:    2.8s finished\n",
      "[Parallel(n_jobs=1)]: Using backend SequentialBackend with 1 concurrent workers.\n",
      "[Parallel(n_jobs=1)]: Done  41 out of  41 | elapsed:    0.5s finished\n",
      "Features: 42/72[Parallel(n_jobs=1)]: Using backend SequentialBackend with 1 concurrent workers.\n",
      "[Parallel(n_jobs=1)]: Done 186 out of 186 | elapsed:    2.8s finished\n",
      "[Parallel(n_jobs=1)]: Using backend SequentialBackend with 1 concurrent workers.\n",
      "[Parallel(n_jobs=1)]: Done  42 out of  42 | elapsed:    0.5s finished\n",
      "Features: 43/72[Parallel(n_jobs=1)]: Using backend SequentialBackend with 1 concurrent workers.\n",
      "[Parallel(n_jobs=1)]: Done 185 out of 185 | elapsed:    2.8s finished\n",
      "[Parallel(n_jobs=1)]: Using backend SequentialBackend with 1 concurrent workers.\n",
      "[Parallel(n_jobs=1)]: Done  43 out of  43 | elapsed:    0.6s finished\n",
      "Features: 44/72[Parallel(n_jobs=1)]: Using backend SequentialBackend with 1 concurrent workers.\n",
      "[Parallel(n_jobs=1)]: Done 184 out of 184 | elapsed:    2.8s finished\n",
      "[Parallel(n_jobs=1)]: Using backend SequentialBackend with 1 concurrent workers.\n",
      "[Parallel(n_jobs=1)]: Done  44 out of  44 | elapsed:    0.6s finished\n",
      "Features: 45/72[Parallel(n_jobs=1)]: Using backend SequentialBackend with 1 concurrent workers.\n",
      "[Parallel(n_jobs=1)]: Done 183 out of 183 | elapsed:    2.9s finished\n",
      "[Parallel(n_jobs=1)]: Using backend SequentialBackend with 1 concurrent workers.\n",
      "[Parallel(n_jobs=1)]: Done  45 out of  45 | elapsed:    0.7s finished\n",
      "Features: 46/72[Parallel(n_jobs=1)]: Using backend SequentialBackend with 1 concurrent workers.\n",
      "[Parallel(n_jobs=1)]: Done 182 out of 182 | elapsed:    2.9s finished\n",
      "[Parallel(n_jobs=1)]: Using backend SequentialBackend with 1 concurrent workers.\n",
      "[Parallel(n_jobs=1)]: Done  46 out of  46 | elapsed:    0.7s finished\n",
      "Features: 47/72[Parallel(n_jobs=1)]: Using backend SequentialBackend with 1 concurrent workers.\n",
      "[Parallel(n_jobs=1)]: Done 181 out of 181 | elapsed:    3.0s finished\n",
      "[Parallel(n_jobs=1)]: Using backend SequentialBackend with 1 concurrent workers.\n",
      "[Parallel(n_jobs=1)]: Done  47 out of  47 | elapsed:    0.7s finished\n",
      "Features: 48/72[Parallel(n_jobs=1)]: Using backend SequentialBackend with 1 concurrent workers.\n",
      "[Parallel(n_jobs=1)]: Done 180 out of 180 | elapsed:    3.0s finished\n",
      "[Parallel(n_jobs=1)]: Using backend SequentialBackend with 1 concurrent workers.\n",
      "[Parallel(n_jobs=1)]: Done  48 out of  48 | elapsed:    0.7s finished\n",
      "Features: 49/72[Parallel(n_jobs=1)]: Using backend SequentialBackend with 1 concurrent workers.\n",
      "[Parallel(n_jobs=1)]: Done 179 out of 179 | elapsed:    3.1s finished\n",
      "[Parallel(n_jobs=1)]: Using backend SequentialBackend with 1 concurrent workers.\n"
     ]
    },
    {
     "name": "stderr",
     "output_type": "stream",
     "text": [
      "[Parallel(n_jobs=1)]: Done  49 out of  49 | elapsed:    0.8s finished\n",
      "Features: 50/72[Parallel(n_jobs=1)]: Using backend SequentialBackend with 1 concurrent workers.\n",
      "[Parallel(n_jobs=1)]: Done 178 out of 178 | elapsed:    3.1s finished\n",
      "[Parallel(n_jobs=1)]: Using backend SequentialBackend with 1 concurrent workers.\n",
      "[Parallel(n_jobs=1)]: Done  50 out of  50 | elapsed:    0.8s finished\n",
      "Features: 51/72[Parallel(n_jobs=1)]: Using backend SequentialBackend with 1 concurrent workers.\n",
      "[Parallel(n_jobs=1)]: Done 177 out of 177 | elapsed:    3.3s finished\n",
      "[Parallel(n_jobs=1)]: Using backend SequentialBackend with 1 concurrent workers.\n",
      "[Parallel(n_jobs=1)]: Done  51 out of  51 | elapsed:    0.9s finished\n",
      "Features: 52/72[Parallel(n_jobs=1)]: Using backend SequentialBackend with 1 concurrent workers.\n",
      "[Parallel(n_jobs=1)]: Done 176 out of 176 | elapsed:    3.3s finished\n",
      "[Parallel(n_jobs=1)]: Using backend SequentialBackend with 1 concurrent workers.\n",
      "[Parallel(n_jobs=1)]: Done  52 out of  52 | elapsed:    0.9s finished\n",
      "Features: 53/72[Parallel(n_jobs=1)]: Using backend SequentialBackend with 1 concurrent workers.\n",
      "[Parallel(n_jobs=1)]: Done 175 out of 175 | elapsed:    3.5s finished\n",
      "[Parallel(n_jobs=1)]: Using backend SequentialBackend with 1 concurrent workers.\n",
      "[Parallel(n_jobs=1)]: Done  53 out of  53 | elapsed:    0.9s finished\n",
      "Features: 54/72[Parallel(n_jobs=1)]: Using backend SequentialBackend with 1 concurrent workers.\n",
      "[Parallel(n_jobs=1)]: Done 174 out of 174 | elapsed:    3.4s finished\n",
      "[Parallel(n_jobs=1)]: Using backend SequentialBackend with 1 concurrent workers.\n",
      "[Parallel(n_jobs=1)]: Done  54 out of  54 | elapsed:    1.0s finished\n",
      "Features: 55/72[Parallel(n_jobs=1)]: Using backend SequentialBackend with 1 concurrent workers.\n",
      "[Parallel(n_jobs=1)]: Done 173 out of 173 | elapsed:    3.4s finished\n",
      "[Parallel(n_jobs=1)]: Using backend SequentialBackend with 1 concurrent workers.\n",
      "[Parallel(n_jobs=1)]: Done  55 out of  55 | elapsed:    1.0s finished\n",
      "Features: 56/72[Parallel(n_jobs=1)]: Using backend SequentialBackend with 1 concurrent workers.\n",
      "[Parallel(n_jobs=1)]: Done 172 out of 172 | elapsed:    3.5s finished\n",
      "[Parallel(n_jobs=1)]: Using backend SequentialBackend with 1 concurrent workers.\n",
      "[Parallel(n_jobs=1)]: Done  56 out of  56 | elapsed:    1.1s finished\n",
      "Features: 57/72[Parallel(n_jobs=1)]: Using backend SequentialBackend with 1 concurrent workers.\n",
      "[Parallel(n_jobs=1)]: Done 171 out of 171 | elapsed:    3.5s finished\n",
      "[Parallel(n_jobs=1)]: Using backend SequentialBackend with 1 concurrent workers.\n",
      "[Parallel(n_jobs=1)]: Done  57 out of  57 | elapsed:    1.1s finished\n",
      "Features: 58/72[Parallel(n_jobs=1)]: Using backend SequentialBackend with 1 concurrent workers.\n",
      "[Parallel(n_jobs=1)]: Done 170 out of 170 | elapsed:    3.5s finished\n",
      "[Parallel(n_jobs=1)]: Using backend SequentialBackend with 1 concurrent workers.\n",
      "[Parallel(n_jobs=1)]: Done  58 out of  58 | elapsed:    1.1s finished\n",
      "Features: 59/72[Parallel(n_jobs=1)]: Using backend SequentialBackend with 1 concurrent workers.\n",
      "[Parallel(n_jobs=1)]: Done 169 out of 169 | elapsed:    3.6s finished\n",
      "[Parallel(n_jobs=1)]: Using backend SequentialBackend with 1 concurrent workers.\n",
      "[Parallel(n_jobs=1)]: Done  59 out of  59 | elapsed:    1.1s finished\n",
      "Features: 60/72[Parallel(n_jobs=1)]: Using backend SequentialBackend with 1 concurrent workers.\n",
      "[Parallel(n_jobs=1)]: Done 168 out of 168 | elapsed:    3.9s finished\n",
      "[Parallel(n_jobs=1)]: Using backend SequentialBackend with 1 concurrent workers.\n",
      "[Parallel(n_jobs=1)]: Done  60 out of  60 | elapsed:    1.2s finished\n",
      "Features: 61/72[Parallel(n_jobs=1)]: Using backend SequentialBackend with 1 concurrent workers.\n",
      "[Parallel(n_jobs=1)]: Done 167 out of 167 | elapsed:    3.8s finished\n",
      "[Parallel(n_jobs=1)]: Using backend SequentialBackend with 1 concurrent workers.\n",
      "[Parallel(n_jobs=1)]: Done  61 out of  61 | elapsed:    1.2s finished\n",
      "Features: 62/72[Parallel(n_jobs=1)]: Using backend SequentialBackend with 1 concurrent workers.\n",
      "[Parallel(n_jobs=1)]: Done 166 out of 166 | elapsed:    3.6s finished\n",
      "[Parallel(n_jobs=1)]: Using backend SequentialBackend with 1 concurrent workers.\n",
      "[Parallel(n_jobs=1)]: Done  62 out of  62 | elapsed:    1.2s finished\n",
      "Features: 63/72[Parallel(n_jobs=1)]: Using backend SequentialBackend with 1 concurrent workers.\n",
      "[Parallel(n_jobs=1)]: Done 165 out of 165 | elapsed:    3.6s finished\n",
      "[Parallel(n_jobs=1)]: Using backend SequentialBackend with 1 concurrent workers.\n",
      "[Parallel(n_jobs=1)]: Done  63 out of  63 | elapsed:    1.3s finished\n",
      "Features: 64/72[Parallel(n_jobs=1)]: Using backend SequentialBackend with 1 concurrent workers.\n",
      "[Parallel(n_jobs=1)]: Done 164 out of 164 | elapsed:    3.7s finished\n",
      "[Parallel(n_jobs=1)]: Using backend SequentialBackend with 1 concurrent workers.\n",
      "[Parallel(n_jobs=1)]: Done  64 out of  64 | elapsed:    1.4s finished\n",
      "Features: 65/72[Parallel(n_jobs=1)]: Using backend SequentialBackend with 1 concurrent workers.\n",
      "[Parallel(n_jobs=1)]: Done 163 out of 163 | elapsed:    3.7s finished\n",
      "[Parallel(n_jobs=1)]: Using backend SequentialBackend with 1 concurrent workers.\n",
      "[Parallel(n_jobs=1)]: Done  65 out of  65 | elapsed:    1.4s finished\n",
      "Features: 66/72[Parallel(n_jobs=1)]: Using backend SequentialBackend with 1 concurrent workers.\n",
      "[Parallel(n_jobs=1)]: Done 162 out of 162 | elapsed:    3.7s finished\n",
      "[Parallel(n_jobs=1)]: Using backend SequentialBackend with 1 concurrent workers.\n",
      "[Parallel(n_jobs=1)]: Done  66 out of  66 | elapsed:    1.4s finished\n",
      "Features: 67/72[Parallel(n_jobs=1)]: Using backend SequentialBackend with 1 concurrent workers.\n",
      "[Parallel(n_jobs=1)]: Done 161 out of 161 | elapsed:    3.7s finished\n",
      "[Parallel(n_jobs=1)]: Using backend SequentialBackend with 1 concurrent workers.\n",
      "[Parallel(n_jobs=1)]: Done  67 out of  67 | elapsed:    1.6s finished\n",
      "Features: 68/72[Parallel(n_jobs=1)]: Using backend SequentialBackend with 1 concurrent workers.\n",
      "[Parallel(n_jobs=1)]: Done 160 out of 160 | elapsed:    3.8s finished\n",
      "[Parallel(n_jobs=1)]: Using backend SequentialBackend with 1 concurrent workers.\n",
      "[Parallel(n_jobs=1)]: Done  68 out of  68 | elapsed:    1.6s finished\n",
      "Features: 69/72[Parallel(n_jobs=1)]: Using backend SequentialBackend with 1 concurrent workers.\n",
      "[Parallel(n_jobs=1)]: Done 159 out of 159 | elapsed:    3.8s finished\n",
      "[Parallel(n_jobs=1)]: Using backend SequentialBackend with 1 concurrent workers.\n",
      "[Parallel(n_jobs=1)]: Done  69 out of  69 | elapsed:    1.6s finished\n",
      "Features: 70/72[Parallel(n_jobs=1)]: Using backend SequentialBackend with 1 concurrent workers.\n",
      "[Parallel(n_jobs=1)]: Done 158 out of 158 | elapsed:    3.9s finished\n",
      "[Parallel(n_jobs=1)]: Using backend SequentialBackend with 1 concurrent workers.\n",
      "[Parallel(n_jobs=1)]: Done  70 out of  70 | elapsed:    1.7s finished\n",
      "Features: 71/72[Parallel(n_jobs=1)]: Using backend SequentialBackend with 1 concurrent workers.\n",
      "[Parallel(n_jobs=1)]: Done 157 out of 157 | elapsed:    3.9s finished\n",
      "[Parallel(n_jobs=1)]: Using backend SequentialBackend with 1 concurrent workers.\n",
      "[Parallel(n_jobs=1)]: Done  71 out of  71 | elapsed:    1.7s finished\n",
      "[Parallel(n_jobs=1)]: Using backend SequentialBackend with 1 concurrent workers.\n",
      "[Parallel(n_jobs=1)]: Done  70 out of  70 | elapsed:    1.6s finished\n",
      "Features: 71/72[Parallel(n_jobs=1)]: Using backend SequentialBackend with 1 concurrent workers.\n",
      "[Parallel(n_jobs=1)]: Done 157 out of 157 | elapsed:    3.8s finished\n",
      "[Parallel(n_jobs=1)]: Using backend SequentialBackend with 1 concurrent workers.\n",
      "[Parallel(n_jobs=1)]: Done  71 out of  71 | elapsed:    1.6s finished\n",
      "Features: 72/72"
     ]
    },
    {
     "data": {
      "text/plain": [
       "SequentialFeatureSelector(estimator=LinearRegression(n_jobs=-1), floating=True,\n",
       "                          k_features=72, scoring='r2', verbose=1)"
      ]
     },
     "execution_count": 1141,
     "metadata": {},
     "output_type": "execute_result"
    }
   ],
   "source": [
    "sfs2 = sfs(LinearRegression(n_jobs=-1), k_features=72, forward=True, floating=True, cv=5, verbose=1, scoring='r2')\n",
    "\n",
    "sfs2.fit(x_train, y_train)"
   ]
  },
  {
   "cell_type": "code",
   "execution_count": 1142,
   "metadata": {
    "ExecuteTime": {
     "end_time": "2022-04-24T10:00:26.521054Z",
     "start_time": "2022-04-24T10:00:25.631421Z"
    },
    "scrolled": false
   },
   "outputs": [
    {
     "data": {
      "image/png": "[encoded data removed]",
      "text/plain": [
       "<Figure size 1080x576 with 1 Axes>"
      ]
     },
     "metadata": {
      "needs_background": "light"
     },
     "output_type": "display_data"
    }
   ],
   "source": [
    "fig1 = plot_sfs(sfs2.get_metric_dict())\n",
    "plt.title('Sequential Forward Selection')\n",
    "plt.grid()\n",
    "plt.show()"
   ]
  },
  {
   "cell_type": "code",
   "execution_count": 1143,
   "metadata": {
    "ExecuteTime": {
     "end_time": "2022-04-24T10:00:26.545034Z",
     "start_time": "2022-04-24T10:00:26.521054Z"
    }
   },
   "outputs": [
    {
     "data": {
      "text/html": [
       "<div>\n",
       "<style scoped>\n",
       "    .dataframe tbody tr th:only-of-type {\n",
       "        vertical-align: middle;\n",
       "    }\n",
       "\n",
       "    .dataframe tbody tr th {\n",
       "        vertical-align: top;\n",
       "    }\n",
       "\n",
       "    .dataframe thead th {\n",
       "        text-align: right;\n",
       "    }\n",
       "</style>\n",
       "<table border=\"1\" class=\"dataframe\">\n",
       "  <thead>\n",
       "    <tr style=\"text-align: right;\">\n",
       "      <th></th>\n",
       "      <th>index</th>\n",
       "      <th>feature_idx</th>\n",
       "      <th>cv_scores</th>\n",
       "      <th>avg_score</th>\n",
       "      <th>feature_names</th>\n",
       "      <th>ci_bound</th>\n",
       "      <th>std_dev</th>\n",
       "      <th>std_err</th>\n",
       "    </tr>\n",
       "  </thead>\n",
       "  <tbody>\n",
       "    <tr>\n",
       "      <th>0</th>\n",
       "      <td>1</td>\n",
       "      <td>(208,)</td>\n",
       "      <td>[0.3681839750808069, 0.24847377704385198, 0.32...</td>\n",
       "      <td>0.382426</td>\n",
       "      <td>(GarageCars_3+,)</td>\n",
       "      <td>0.117029</td>\n",
       "      <td>0.0910522</td>\n",
       "      <td>0.0455261</td>\n",
       "    </tr>\n",
       "    <tr>\n",
       "      <th>1</th>\n",
       "      <td>2</td>\n",
       "      <td>(133, 208)</td>\n",
       "      <td>[0.5414468333677965, 0.4571868774860238, 0.483...</td>\n",
       "      <td>0.531629</td>\n",
       "      <td>(ExterQual_TA, GarageCars_3+)</td>\n",
       "      <td>0.070645</td>\n",
       "      <td>0.0549642</td>\n",
       "      <td>0.0274821</td>\n",
       "    </tr>\n",
       "    <tr>\n",
       "      <th>2</th>\n",
       "      <td>3</td>\n",
       "      <td>(133, 195, 208)</td>\n",
       "      <td>[0.6102398421585946, 0.5692343009300644, 0.548...</td>\n",
       "      <td>0.605365</td>\n",
       "      <td>(ExterQual_TA, FireplaceQu_None, GarageCars_3+)</td>\n",
       "      <td>0.0588484</td>\n",
       "      <td>0.045786</td>\n",
       "      <td>0.022893</td>\n",
       "    </tr>\n",
       "  </tbody>\n",
       "</table>\n",
       "</div>"
      ],
      "text/plain": [
       "   index      feature_idx                                          cv_scores  \\\n",
       "0      1           (208,)  [0.3681839750808069, 0.24847377704385198, 0.32...   \n",
       "1      2       (133, 208)  [0.5414468333677965, 0.4571868774860238, 0.483...   \n",
       "2      3  (133, 195, 208)  [0.6102398421585946, 0.5692343009300644, 0.548...   \n",
       "\n",
       "  avg_score                                    feature_names   ci_bound  \\\n",
       "0  0.382426                                 (GarageCars_3+,)   0.117029   \n",
       "1  0.531629                    (ExterQual_TA, GarageCars_3+)   0.070645   \n",
       "2  0.605365  (ExterQual_TA, FireplaceQu_None, GarageCars_3+)  0.0588484   \n",
       "\n",
       "     std_dev    std_err  \n",
       "0  0.0910522  0.0455261  \n",
       "1  0.0549642  0.0274821  \n",
       "2   0.045786   0.022893  "
      ]
     },
     "metadata": {},
     "output_type": "display_data"
    }
   ],
   "source": [
    "# Creating Dataframe representing performance of Features in SFS \n",
    "\n",
    "sfs2_df = pd.DataFrame(sfs2.get_metric_dict()).T.reset_index()\n",
    "\n",
    "display(sfs2_df.head(3))"
   ]
  },
  {
   "cell_type": "code",
   "execution_count": 1144,
   "metadata": {
    "ExecuteTime": {
     "end_time": "2022-04-24T10:00:26.592469Z",
     "start_time": "2022-04-24T10:00:26.546072Z"
    }
   },
   "outputs": [
    {
     "data": {
      "text/html": [
       "<div>\n",
       "<style scoped>\n",
       "    .dataframe tbody tr th:only-of-type {\n",
       "        vertical-align: middle;\n",
       "    }\n",
       "\n",
       "    .dataframe tbody tr th {\n",
       "        vertical-align: top;\n",
       "    }\n",
       "\n",
       "    .dataframe thead th {\n",
       "        text-align: right;\n",
       "    }\n",
       "</style>\n",
       "<table border=\"1\" class=\"dataframe\">\n",
       "  <thead>\n",
       "    <tr style=\"text-align: right;\">\n",
       "      <th></th>\n",
       "      <th>47</th>\n",
       "    </tr>\n",
       "  </thead>\n",
       "  <tbody>\n",
       "    <tr>\n",
       "      <th>index</th>\n",
       "      <td>48</td>\n",
       "    </tr>\n",
       "    <tr>\n",
       "      <th>feature_idx</th>\n",
       "      <td>(5, 32, 33, 39, 40, 41, 43, 49, 50, 51, 55, 56...</td>\n",
       "    </tr>\n",
       "    <tr>\n",
       "      <th>cv_scores</th>\n",
       "      <td>[0.8488030704037357, 0.8400811079057008, 0.833...</td>\n",
       "    </tr>\n",
       "    <tr>\n",
       "      <th>avg_score</th>\n",
       "      <td>0.852275</td>\n",
       "    </tr>\n",
       "    <tr>\n",
       "      <th>feature_names</th>\n",
       "      <td>(Dwell_Type_30, LotConfig_CulDSac, LotConfig_F...</td>\n",
       "    </tr>\n",
       "    <tr>\n",
       "      <th>ci_bound</th>\n",
       "      <td>0.0209538</td>\n",
       "    </tr>\n",
       "    <tr>\n",
       "      <th>std_dev</th>\n",
       "      <td>0.0163028</td>\n",
       "    </tr>\n",
       "    <tr>\n",
       "      <th>std_err</th>\n",
       "      <td>0.00815139</td>\n",
       "    </tr>\n",
       "  </tbody>\n",
       "</table>\n",
       "</div>"
      ],
      "text/plain": [
       "                                                              47\n",
       "index                                                         48\n",
       "feature_idx    (5, 32, 33, 39, 40, 41, 43, 49, 50, 51, 55, 56...\n",
       "cv_scores      [0.8488030704037357, 0.8400811079057008, 0.833...\n",
       "avg_score                                               0.852275\n",
       "feature_names  (Dwell_Type_30, LotConfig_CulDSac, LotConfig_F...\n",
       "ci_bound                                               0.0209538\n",
       "std_dev                                                0.0163028\n",
       "std_err                                               0.00815139"
      ]
     },
     "execution_count": 1144,
     "metadata": {},
     "output_type": "execute_result"
    }
   ],
   "source": [
    "# Best score at \n",
    "\n",
    "sfs2_df.iloc[47].to_frame()"
   ]
  },
  {
   "cell_type": "code",
   "execution_count": 1145,
   "metadata": {
    "ExecuteTime": {
     "end_time": "2022-04-24T10:00:26.608445Z",
     "start_time": "2022-04-24T10:00:26.592469Z"
    }
   },
   "outputs": [
    {
     "data": {
      "text/plain": [
       "48"
      ]
     },
     "execution_count": 1145,
     "metadata": {},
     "output_type": "execute_result"
    }
   ],
   "source": [
    "cat_features = list(sfs2_df.iloc[47][4])\n",
    "len(cat_features)"
   ]
  },
  {
   "cell_type": "code",
   "execution_count": 1146,
   "metadata": {
    "ExecuteTime": {
     "end_time": "2022-04-24T10:00:26.624446Z",
     "start_time": "2022-04-24T10:00:26.608445Z"
    }
   },
   "outputs": [],
   "source": [
    "x = df1[cat_features]\n",
    "y = df1['Property_Sale_Price']\n",
    "\n",
    "x_train, x_test, y_train, y_test = train_test_split(x, y, test_size=0.25, random_state = 112)"
   ]
  },
  {
   "cell_type": "code",
   "execution_count": 1147,
   "metadata": {
    "ExecuteTime": {
     "end_time": "2022-04-24T10:00:26.640438Z",
     "start_time": "2022-04-24T10:00:26.624446Z"
    }
   },
   "outputs": [
    {
     "name": "stdout",
     "output_type": "stream",
     "text": [
      "RMSE : 29132.6571937972\n",
      "MAE : 20776.28789345988\n"
     ]
    }
   ],
   "source": [
    "lr = LinearRegression()\n",
    "lr.fit(x_train, y_train)\n",
    "\n",
    "y_pred = lr.predict(x_test)\n",
    "\n",
    "# print('MSE :', metrics.mean_squared_error(y_test, y_pred))\n",
    "print('RMSE :', metrics.mean_squared_error(y_test, y_pred, squared=False))\n",
    "print('MAE :', metrics.mean_absolute_error(y_test, y_pred))"
   ]
  },
  {
   "cell_type": "markdown",
   "metadata": {},
   "source": [
    "### Num_features + Cat_features"
   ]
  },
  {
   "cell_type": "code",
   "execution_count": 1148,
   "metadata": {
    "ExecuteTime": {
     "end_time": "2022-04-24T10:00:26.656435Z",
     "start_time": "2022-04-24T10:00:26.640438Z"
    },
    "scrolled": true
   },
   "outputs": [],
   "source": [
    "features = num_features + cat_features"
   ]
  },
  {
   "cell_type": "code",
   "execution_count": 1149,
   "metadata": {
    "ExecuteTime": {
     "end_time": "2022-04-24T10:00:26.672435Z",
     "start_time": "2022-04-24T10:00:26.656435Z"
    }
   },
   "outputs": [
    {
     "data": {
      "text/plain": [
       "58"
      ]
     },
     "execution_count": 1149,
     "metadata": {},
     "output_type": "execute_result"
    }
   ],
   "source": [
    "len(features)"
   ]
  },
  {
   "cell_type": "code",
   "execution_count": 1150,
   "metadata": {
    "ExecuteTime": {
     "end_time": "2022-04-24T10:00:26.688435Z",
     "start_time": "2022-04-24T10:00:26.672435Z"
    }
   },
   "outputs": [],
   "source": [
    "x = df1[features]\n",
    "y = df1['Property_Sale_Price']\n",
    "\n",
    "x_train, x_test, y_train, y_test = train_test_split(x, y, test_size=0.25, random_state = 112)"
   ]
  },
  {
   "cell_type": "code",
   "execution_count": 1151,
   "metadata": {
    "ExecuteTime": {
     "end_time": "2022-04-24T10:00:26.704439Z",
     "start_time": "2022-04-24T10:00:26.688435Z"
    }
   },
   "outputs": [],
   "source": [
    "lr = LinearRegression()\n",
    "lr.fit(x_train, y_train)\n",
    "\n",
    "y_pred = lr.predict(x_test)"
   ]
  },
  {
   "cell_type": "code",
   "execution_count": 1152,
   "metadata": {
    "ExecuteTime": {
     "end_time": "2022-04-24T10:00:26.720439Z",
     "start_time": "2022-04-24T10:00:26.704439Z"
    }
   },
   "outputs": [
    {
     "name": "stdout",
     "output_type": "stream",
     "text": [
      "RMSE : 23582.832856294834\n",
      "MAE : 16433.49784178819\n"
     ]
    }
   ],
   "source": [
    "# print('MSE :', metrics.mean_squared_error(y_test, y_pred))\n",
    "print('RMSE :', metrics.mean_squared_error(y_test, y_pred,squared=False))\n",
    "print('MAE :', metrics.mean_absolute_error(y_test, y_pred))"
   ]
  },
  {
   "cell_type": "markdown",
   "metadata": {},
   "source": [
    "- To check if we can use lesser features to predict the same or better"
   ]
  },
  {
   "cell_type": "code",
   "execution_count": 1153,
   "metadata": {
    "ExecuteTime": {
     "end_time": "2022-04-24T10:00:51.182032Z",
     "start_time": "2022-04-24T10:00:26.720439Z"
    },
    "scrolled": true
   },
   "outputs": [
    {
     "name": "stderr",
     "output_type": "stream",
     "text": [
      "[Parallel(n_jobs=1)]: Using backend SequentialBackend with 1 concurrent workers.\n",
      "[Parallel(n_jobs=1)]: Done  58 out of  58 | elapsed:    0.2s finished\n",
      "Features: 1/58[Parallel(n_jobs=1)]: Using backend SequentialBackend with 1 concurrent workers.\n",
      "[Parallel(n_jobs=1)]: Done  57 out of  57 | elapsed:    0.2s finished\n",
      "[Parallel(n_jobs=1)]: Using backend SequentialBackend with 1 concurrent workers.\n",
      "[Parallel(n_jobs=1)]: Done   1 out of   1 | elapsed:    0.0s finished\n",
      "Features: 2/58[Parallel(n_jobs=1)]: Using backend SequentialBackend with 1 concurrent workers.\n",
      "[Parallel(n_jobs=1)]: Done  56 out of  56 | elapsed:    0.2s finished\n",
      "[Parallel(n_jobs=1)]: Using backend SequentialBackend with 1 concurrent workers.\n",
      "[Parallel(n_jobs=1)]: Done   2 out of   2 | elapsed:    0.0s finished\n",
      "Features: 3/58[Parallel(n_jobs=1)]: Using backend SequentialBackend with 1 concurrent workers.\n",
      "[Parallel(n_jobs=1)]: Done  55 out of  55 | elapsed:    0.2s finished\n",
      "[Parallel(n_jobs=1)]: Using backend SequentialBackend with 1 concurrent workers.\n",
      "[Parallel(n_jobs=1)]: Done   3 out of   3 | elapsed:    0.0s finished\n",
      "Features: 4/58[Parallel(n_jobs=1)]: Using backend SequentialBackend with 1 concurrent workers.\n",
      "[Parallel(n_jobs=1)]: Done  54 out of  54 | elapsed:    0.2s finished\n",
      "[Parallel(n_jobs=1)]: Using backend SequentialBackend with 1 concurrent workers.\n",
      "[Parallel(n_jobs=1)]: Done   4 out of   4 | elapsed:    0.0s finished\n",
      "Features: 5/58[Parallel(n_jobs=1)]: Using backend SequentialBackend with 1 concurrent workers.\n",
      "[Parallel(n_jobs=1)]: Done  53 out of  53 | elapsed:    0.2s finished\n",
      "[Parallel(n_jobs=1)]: Using backend SequentialBackend with 1 concurrent workers.\n",
      "[Parallel(n_jobs=1)]: Done   5 out of   5 | elapsed:    0.0s finished\n",
      "Features: 6/58[Parallel(n_jobs=1)]: Using backend SequentialBackend with 1 concurrent workers.\n",
      "[Parallel(n_jobs=1)]: Done  52 out of  52 | elapsed:    0.2s finished\n",
      "[Parallel(n_jobs=1)]: Using backend SequentialBackend with 1 concurrent workers.\n",
      "[Parallel(n_jobs=1)]: Done   6 out of   6 | elapsed:    0.0s finished\n",
      "Features: 7/58[Parallel(n_jobs=1)]: Using backend SequentialBackend with 1 concurrent workers.\n",
      "[Parallel(n_jobs=1)]: Done  51 out of  51 | elapsed:    0.1s finished\n",
      "[Parallel(n_jobs=1)]: Using backend SequentialBackend with 1 concurrent workers.\n",
      "[Parallel(n_jobs=1)]: Done   7 out of   7 | elapsed:    0.0s finished\n",
      "Features: 8/58[Parallel(n_jobs=1)]: Using backend SequentialBackend with 1 concurrent workers.\n",
      "[Parallel(n_jobs=1)]: Done  50 out of  50 | elapsed:    0.1s finished\n",
      "[Parallel(n_jobs=1)]: Using backend SequentialBackend with 1 concurrent workers.\n",
      "[Parallel(n_jobs=1)]: Done   8 out of   8 | elapsed:    0.0s finished\n",
      "Features: 9/58[Parallel(n_jobs=1)]: Using backend SequentialBackend with 1 concurrent workers.\n",
      "[Parallel(n_jobs=1)]: Done  49 out of  49 | elapsed:    0.2s finished\n",
      "[Parallel(n_jobs=1)]: Using backend SequentialBackend with 1 concurrent workers.\n",
      "[Parallel(n_jobs=1)]: Done   9 out of   9 | elapsed:    0.0s finished\n",
      "Features: 10/58[Parallel(n_jobs=1)]: Using backend SequentialBackend with 1 concurrent workers.\n",
      "[Parallel(n_jobs=1)]: Done  48 out of  48 | elapsed:    0.1s finished\n",
      "[Parallel(n_jobs=1)]: Using backend SequentialBackend with 1 concurrent workers.\n",
      "[Parallel(n_jobs=1)]: Done  10 out of  10 | elapsed:    0.0s finished\n",
      "Features: 11/58[Parallel(n_jobs=1)]: Using backend SequentialBackend with 1 concurrent workers.\n",
      "[Parallel(n_jobs=1)]: Done  47 out of  47 | elapsed:    0.1s finished\n",
      "[Parallel(n_jobs=1)]: Using backend SequentialBackend with 1 concurrent workers.\n",
      "[Parallel(n_jobs=1)]: Done  11 out of  11 | elapsed:    0.0s finished\n",
      "Features: 12/58[Parallel(n_jobs=1)]: Using backend SequentialBackend with 1 concurrent workers.\n",
      "[Parallel(n_jobs=1)]: Done  46 out of  46 | elapsed:    0.2s finished\n",
      "[Parallel(n_jobs=1)]: Using backend SequentialBackend with 1 concurrent workers.\n",
      "[Parallel(n_jobs=1)]: Done  12 out of  12 | elapsed:    0.0s finished\n",
      "Features: 13/58[Parallel(n_jobs=1)]: Using backend SequentialBackend with 1 concurrent workers.\n",
      "[Parallel(n_jobs=1)]: Done  45 out of  45 | elapsed:    0.2s finished\n",
      "[Parallel(n_jobs=1)]: Using backend SequentialBackend with 1 concurrent workers.\n",
      "[Parallel(n_jobs=1)]: Done  13 out of  13 | elapsed:    0.0s finished\n",
      "Features: 14/58[Parallel(n_jobs=1)]: Using backend SequentialBackend with 1 concurrent workers.\n",
      "[Parallel(n_jobs=1)]: Done  44 out of  44 | elapsed:    0.2s finished\n",
      "[Parallel(n_jobs=1)]: Using backend SequentialBackend with 1 concurrent workers.\n",
      "[Parallel(n_jobs=1)]: Done  14 out of  14 | elapsed:    0.0s finished\n",
      "Features: 15/58[Parallel(n_jobs=1)]: Using backend SequentialBackend with 1 concurrent workers.\n",
      "[Parallel(n_jobs=1)]: Done  43 out of  43 | elapsed:    0.1s finished\n",
      "[Parallel(n_jobs=1)]: Using backend SequentialBackend with 1 concurrent workers.\n",
      "[Parallel(n_jobs=1)]: Done  15 out of  15 | elapsed:    0.0s finished\n",
      "Features: 16/58[Parallel(n_jobs=1)]: Using backend SequentialBackend with 1 concurrent workers.\n",
      "[Parallel(n_jobs=1)]: Done  42 out of  42 | elapsed:    0.1s finished\n",
      "[Parallel(n_jobs=1)]: Using backend SequentialBackend with 1 concurrent workers.\n",
      "[Parallel(n_jobs=1)]: Done  16 out of  16 | elapsed:    0.0s finished\n",
      "Features: 17/58[Parallel(n_jobs=1)]: Using backend SequentialBackend with 1 concurrent workers.\n",
      "[Parallel(n_jobs=1)]: Done  41 out of  41 | elapsed:    0.1s finished\n",
      "[Parallel(n_jobs=1)]: Using backend SequentialBackend with 1 concurrent workers.\n",
      "[Parallel(n_jobs=1)]: Done  17 out of  17 | elapsed:    0.0s finished\n",
      "Features: 18/58[Parallel(n_jobs=1)]: Using backend SequentialBackend with 1 concurrent workers.\n",
      "[Parallel(n_jobs=1)]: Done  40 out of  40 | elapsed:    0.1s finished\n",
      "[Parallel(n_jobs=1)]: Using backend SequentialBackend with 1 concurrent workers.\n",
      "[Parallel(n_jobs=1)]: Done  18 out of  18 | elapsed:    0.0s finished\n",
      "Features: 19/58[Parallel(n_jobs=1)]: Using backend SequentialBackend with 1 concurrent workers.\n",
      "[Parallel(n_jobs=1)]: Done  39 out of  39 | elapsed:    0.1s finished\n",
      "[Parallel(n_jobs=1)]: Using backend SequentialBackend with 1 concurrent workers.\n",
      "[Parallel(n_jobs=1)]: Done  19 out of  19 | elapsed:    0.0s finished\n",
      "Features: 20/58[Parallel(n_jobs=1)]: Using backend SequentialBackend with 1 concurrent workers.\n",
      "[Parallel(n_jobs=1)]: Done  38 out of  38 | elapsed:    0.1s finished\n",
      "[Parallel(n_jobs=1)]: Using backend SequentialBackend with 1 concurrent workers.\n",
      "[Parallel(n_jobs=1)]: Done  20 out of  20 | elapsed:    0.0s finished\n",
      "Features: 21/58[Parallel(n_jobs=1)]: Using backend SequentialBackend with 1 concurrent workers.\n",
      "[Parallel(n_jobs=1)]: Done  37 out of  37 | elapsed:    0.1s finished\n",
      "[Parallel(n_jobs=1)]: Using backend SequentialBackend with 1 concurrent workers.\n",
      "[Parallel(n_jobs=1)]: Done  21 out of  21 | elapsed:    0.0s finished\n",
      "Features: 22/58[Parallel(n_jobs=1)]: Using backend SequentialBackend with 1 concurrent workers.\n",
      "[Parallel(n_jobs=1)]: Done  36 out of  36 | elapsed:    0.1s finished\n",
      "[Parallel(n_jobs=1)]: Using backend SequentialBackend with 1 concurrent workers.\n",
      "[Parallel(n_jobs=1)]: Done  22 out of  22 | elapsed:    0.0s finished\n",
      "Features: 23/58[Parallel(n_jobs=1)]: Using backend SequentialBackend with 1 concurrent workers.\n",
      "[Parallel(n_jobs=1)]: Done  35 out of  35 | elapsed:    0.1s finished\n",
      "[Parallel(n_jobs=1)]: Using backend SequentialBackend with 1 concurrent workers.\n",
      "[Parallel(n_jobs=1)]: Done  23 out of  23 | elapsed:    0.0s finished\n",
      "Features: 24/58[Parallel(n_jobs=1)]: Using backend SequentialBackend with 1 concurrent workers.\n",
      "[Parallel(n_jobs=1)]: Done  34 out of  34 | elapsed:    0.1s finished\n",
      "[Parallel(n_jobs=1)]: Using backend SequentialBackend with 1 concurrent workers.\n",
      "[Parallel(n_jobs=1)]: Done  24 out of  24 | elapsed:    0.1s finished\n",
      "Features: 25/58[Parallel(n_jobs=1)]: Using backend SequentialBackend with 1 concurrent workers.\n",
      "[Parallel(n_jobs=1)]: Done  33 out of  33 | elapsed:    0.1s finished\n",
      "[Parallel(n_jobs=1)]: Using backend SequentialBackend with 1 concurrent workers.\n",
      "[Parallel(n_jobs=1)]: Done  25 out of  25 | elapsed:    0.1s finished\n",
      "Features: 26/58[Parallel(n_jobs=1)]: Using backend SequentialBackend with 1 concurrent workers.\n",
      "[Parallel(n_jobs=1)]: Done  32 out of  32 | elapsed:    0.1s finished\n",
      "[Parallel(n_jobs=1)]: Using backend SequentialBackend with 1 concurrent workers.\n",
      "[Parallel(n_jobs=1)]: Done  26 out of  26 | elapsed:    0.1s finished\n"
     ]
    },
    {
     "name": "stderr",
     "output_type": "stream",
     "text": [
      "Features: 27/58[Parallel(n_jobs=1)]: Using backend SequentialBackend with 1 concurrent workers.\n",
      "[Parallel(n_jobs=1)]: Done  31 out of  31 | elapsed:    0.1s finished\n",
      "[Parallel(n_jobs=1)]: Using backend SequentialBackend with 1 concurrent workers.\n",
      "[Parallel(n_jobs=1)]: Done  27 out of  27 | elapsed:    0.1s finished\n",
      "Features: 28/58[Parallel(n_jobs=1)]: Using backend SequentialBackend with 1 concurrent workers.\n",
      "[Parallel(n_jobs=1)]: Done  30 out of  30 | elapsed:    0.1s finished\n",
      "[Parallel(n_jobs=1)]: Using backend SequentialBackend with 1 concurrent workers.\n",
      "[Parallel(n_jobs=1)]: Done  28 out of  28 | elapsed:    0.1s finished\n",
      "Features: 29/58[Parallel(n_jobs=1)]: Using backend SequentialBackend with 1 concurrent workers.\n",
      "[Parallel(n_jobs=1)]: Done  29 out of  29 | elapsed:    0.1s finished\n",
      "[Parallel(n_jobs=1)]: Using backend SequentialBackend with 1 concurrent workers.\n",
      "[Parallel(n_jobs=1)]: Done  29 out of  29 | elapsed:    0.1s finished\n",
      "Features: 30/58[Parallel(n_jobs=1)]: Using backend SequentialBackend with 1 concurrent workers.\n",
      "[Parallel(n_jobs=1)]: Done  28 out of  28 | elapsed:    0.1s finished\n",
      "[Parallel(n_jobs=1)]: Using backend SequentialBackend with 1 concurrent workers.\n",
      "[Parallel(n_jobs=1)]: Done  30 out of  30 | elapsed:    0.1s finished\n",
      "Features: 31/58[Parallel(n_jobs=1)]: Using backend SequentialBackend with 1 concurrent workers.\n",
      "[Parallel(n_jobs=1)]: Done  27 out of  27 | elapsed:    0.1s finished\n",
      "[Parallel(n_jobs=1)]: Using backend SequentialBackend with 1 concurrent workers.\n",
      "[Parallel(n_jobs=1)]: Done  31 out of  31 | elapsed:    0.1s finished\n",
      "Features: 32/58[Parallel(n_jobs=1)]: Using backend SequentialBackend with 1 concurrent workers.\n",
      "[Parallel(n_jobs=1)]: Done  26 out of  26 | elapsed:    0.1s finished\n",
      "[Parallel(n_jobs=1)]: Using backend SequentialBackend with 1 concurrent workers.\n",
      "[Parallel(n_jobs=1)]: Done  32 out of  32 | elapsed:    0.1s finished\n",
      "Features: 33/58[Parallel(n_jobs=1)]: Using backend SequentialBackend with 1 concurrent workers.\n",
      "[Parallel(n_jobs=1)]: Done  25 out of  25 | elapsed:    0.1s finished\n",
      "[Parallel(n_jobs=1)]: Using backend SequentialBackend with 1 concurrent workers.\n",
      "[Parallel(n_jobs=1)]: Done  33 out of  33 | elapsed:    0.1s finished\n",
      "Features: 34/58[Parallel(n_jobs=1)]: Using backend SequentialBackend with 1 concurrent workers.\n",
      "[Parallel(n_jobs=1)]: Done  24 out of  24 | elapsed:    0.1s finished\n",
      "[Parallel(n_jobs=1)]: Using backend SequentialBackend with 1 concurrent workers.\n",
      "[Parallel(n_jobs=1)]: Done  34 out of  34 | elapsed:    0.1s finished\n",
      "Features: 35/58[Parallel(n_jobs=1)]: Using backend SequentialBackend with 1 concurrent workers.\n",
      "[Parallel(n_jobs=1)]: Done  23 out of  23 | elapsed:    0.1s finished\n",
      "[Parallel(n_jobs=1)]: Using backend SequentialBackend with 1 concurrent workers.\n",
      "[Parallel(n_jobs=1)]: Done  35 out of  35 | elapsed:    0.2s finished\n",
      "Features: 36/58[Parallel(n_jobs=1)]: Using backend SequentialBackend with 1 concurrent workers.\n",
      "[Parallel(n_jobs=1)]: Done  22 out of  22 | elapsed:    0.1s finished\n",
      "[Parallel(n_jobs=1)]: Using backend SequentialBackend with 1 concurrent workers.\n",
      "[Parallel(n_jobs=1)]: Done  36 out of  36 | elapsed:    0.2s finished\n",
      "Features: 37/58[Parallel(n_jobs=1)]: Using backend SequentialBackend with 1 concurrent workers.\n",
      "[Parallel(n_jobs=1)]: Done  21 out of  21 | elapsed:    0.1s finished\n",
      "[Parallel(n_jobs=1)]: Using backend SequentialBackend with 1 concurrent workers.\n",
      "[Parallel(n_jobs=1)]: Done  37 out of  37 | elapsed:    0.2s finished\n",
      "Features: 38/58[Parallel(n_jobs=1)]: Using backend SequentialBackend with 1 concurrent workers.\n",
      "[Parallel(n_jobs=1)]: Done  20 out of  20 | elapsed:    0.1s finished\n",
      "[Parallel(n_jobs=1)]: Using backend SequentialBackend with 1 concurrent workers.\n",
      "[Parallel(n_jobs=1)]: Done  38 out of  38 | elapsed:    0.2s finished\n",
      "Features: 39/58[Parallel(n_jobs=1)]: Using backend SequentialBackend with 1 concurrent workers.\n",
      "[Parallel(n_jobs=1)]: Done  19 out of  19 | elapsed:    0.1s finished\n",
      "[Parallel(n_jobs=1)]: Using backend SequentialBackend with 1 concurrent workers.\n",
      "[Parallel(n_jobs=1)]: Done  39 out of  39 | elapsed:    0.2s finished\n",
      "Features: 40/58[Parallel(n_jobs=1)]: Using backend SequentialBackend with 1 concurrent workers.\n",
      "[Parallel(n_jobs=1)]: Done  18 out of  18 | elapsed:    0.1s finished\n",
      "[Parallel(n_jobs=1)]: Using backend SequentialBackend with 1 concurrent workers.\n",
      "[Parallel(n_jobs=1)]: Done  40 out of  40 | elapsed:    0.2s finished\n",
      "Features: 41/58[Parallel(n_jobs=1)]: Using backend SequentialBackend with 1 concurrent workers.\n",
      "[Parallel(n_jobs=1)]: Done  17 out of  17 | elapsed:    0.0s finished\n",
      "[Parallel(n_jobs=1)]: Using backend SequentialBackend with 1 concurrent workers.\n",
      "[Parallel(n_jobs=1)]: Done  41 out of  41 | elapsed:    0.2s finished\n",
      "Features: 42/58[Parallel(n_jobs=1)]: Using backend SequentialBackend with 1 concurrent workers.\n",
      "[Parallel(n_jobs=1)]: Done  16 out of  16 | elapsed:    0.0s finished\n",
      "[Parallel(n_jobs=1)]: Using backend SequentialBackend with 1 concurrent workers.\n",
      "[Parallel(n_jobs=1)]: Done  42 out of  42 | elapsed:    0.2s finished\n",
      "[Parallel(n_jobs=1)]: Using backend SequentialBackend with 1 concurrent workers.\n",
      "[Parallel(n_jobs=1)]: Done  41 out of  41 | elapsed:    0.2s finished\n",
      "Features: 42/58[Parallel(n_jobs=1)]: Using backend SequentialBackend with 1 concurrent workers.\n",
      "[Parallel(n_jobs=1)]: Done  16 out of  16 | elapsed:    0.0s finished\n",
      "[Parallel(n_jobs=1)]: Using backend SequentialBackend with 1 concurrent workers.\n",
      "[Parallel(n_jobs=1)]: Done  42 out of  42 | elapsed:    0.3s finished\n",
      "Features: 43/58[Parallel(n_jobs=1)]: Using backend SequentialBackend with 1 concurrent workers.\n",
      "[Parallel(n_jobs=1)]: Done  15 out of  15 | elapsed:    0.0s finished\n",
      "[Parallel(n_jobs=1)]: Using backend SequentialBackend with 1 concurrent workers.\n",
      "[Parallel(n_jobs=1)]: Done  43 out of  43 | elapsed:    0.2s finished\n",
      "Features: 44/58[Parallel(n_jobs=1)]: Using backend SequentialBackend with 1 concurrent workers.\n",
      "[Parallel(n_jobs=1)]: Done  14 out of  14 | elapsed:    0.0s finished\n",
      "[Parallel(n_jobs=1)]: Using backend SequentialBackend with 1 concurrent workers.\n",
      "[Parallel(n_jobs=1)]: Done  44 out of  44 | elapsed:    0.3s finished\n",
      "Features: 45/58[Parallel(n_jobs=1)]: Using backend SequentialBackend with 1 concurrent workers.\n",
      "[Parallel(n_jobs=1)]: Done  13 out of  13 | elapsed:    0.0s finished\n",
      "[Parallel(n_jobs=1)]: Using backend SequentialBackend with 1 concurrent workers.\n",
      "[Parallel(n_jobs=1)]: Done  45 out of  45 | elapsed:    0.3s finished\n",
      "Features: 46/58[Parallel(n_jobs=1)]: Using backend SequentialBackend with 1 concurrent workers.\n",
      "[Parallel(n_jobs=1)]: Done  12 out of  12 | elapsed:    0.0s finished\n",
      "[Parallel(n_jobs=1)]: Using backend SequentialBackend with 1 concurrent workers.\n",
      "[Parallel(n_jobs=1)]: Done  46 out of  46 | elapsed:    0.3s finished\n",
      "Features: 47/58[Parallel(n_jobs=1)]: Using backend SequentialBackend with 1 concurrent workers.\n",
      "[Parallel(n_jobs=1)]: Done  11 out of  11 | elapsed:    0.0s finished\n",
      "[Parallel(n_jobs=1)]: Using backend SequentialBackend with 1 concurrent workers.\n",
      "[Parallel(n_jobs=1)]: Done  47 out of  47 | elapsed:    0.3s finished\n",
      "Features: 48/58[Parallel(n_jobs=1)]: Using backend SequentialBackend with 1 concurrent workers.\n",
      "[Parallel(n_jobs=1)]: Done  10 out of  10 | elapsed:    0.0s finished\n",
      "[Parallel(n_jobs=1)]: Using backend SequentialBackend with 1 concurrent workers.\n",
      "[Parallel(n_jobs=1)]: Done  48 out of  48 | elapsed:    0.3s finished\n",
      "Features: 49/58[Parallel(n_jobs=1)]: Using backend SequentialBackend with 1 concurrent workers.\n",
      "[Parallel(n_jobs=1)]: Done   9 out of   9 | elapsed:    0.0s finished\n",
      "[Parallel(n_jobs=1)]: Using backend SequentialBackend with 1 concurrent workers.\n",
      "[Parallel(n_jobs=1)]: Done  49 out of  49 | elapsed:    0.3s finished\n",
      "Features: 50/58[Parallel(n_jobs=1)]: Using backend SequentialBackend with 1 concurrent workers.\n",
      "[Parallel(n_jobs=1)]: Done   8 out of   8 | elapsed:    0.0s finished\n",
      "[Parallel(n_jobs=1)]: Using backend SequentialBackend with 1 concurrent workers.\n",
      "[Parallel(n_jobs=1)]: Done  50 out of  50 | elapsed:    0.3s finished\n",
      "Features: 51/58[Parallel(n_jobs=1)]: Using backend SequentialBackend with 1 concurrent workers.\n",
      "[Parallel(n_jobs=1)]: Done   7 out of   7 | elapsed:    0.0s finished\n",
      "[Parallel(n_jobs=1)]: Using backend SequentialBackend with 1 concurrent workers.\n"
     ]
    },
    {
     "name": "stderr",
     "output_type": "stream",
     "text": [
      "[Parallel(n_jobs=1)]: Done  51 out of  51 | elapsed:    0.4s finished\n",
      "Features: 52/58[Parallel(n_jobs=1)]: Using backend SequentialBackend with 1 concurrent workers.\n",
      "[Parallel(n_jobs=1)]: Done   6 out of   6 | elapsed:    0.0s finished\n",
      "[Parallel(n_jobs=1)]: Using backend SequentialBackend with 1 concurrent workers.\n",
      "[Parallel(n_jobs=1)]: Done  52 out of  52 | elapsed:    0.4s finished\n",
      "Features: 53/58[Parallel(n_jobs=1)]: Using backend SequentialBackend with 1 concurrent workers.\n",
      "[Parallel(n_jobs=1)]: Done   5 out of   5 | elapsed:    0.0s finished\n",
      "[Parallel(n_jobs=1)]: Using backend SequentialBackend with 1 concurrent workers.\n",
      "[Parallel(n_jobs=1)]: Done  53 out of  53 | elapsed:    0.4s finished\n",
      "Features: 54/58[Parallel(n_jobs=1)]: Using backend SequentialBackend with 1 concurrent workers.\n",
      "[Parallel(n_jobs=1)]: Done   4 out of   4 | elapsed:    0.0s finished\n",
      "[Parallel(n_jobs=1)]: Using backend SequentialBackend with 1 concurrent workers.\n",
      "[Parallel(n_jobs=1)]: Done  54 out of  54 | elapsed:    0.4s finished\n",
      "Features: 55/58[Parallel(n_jobs=1)]: Using backend SequentialBackend with 1 concurrent workers.\n",
      "[Parallel(n_jobs=1)]: Done   3 out of   3 | elapsed:    0.0s finished\n",
      "[Parallel(n_jobs=1)]: Using backend SequentialBackend with 1 concurrent workers.\n",
      "[Parallel(n_jobs=1)]: Done  55 out of  55 | elapsed:    0.4s finished\n",
      "Features: 56/58[Parallel(n_jobs=1)]: Using backend SequentialBackend with 1 concurrent workers.\n",
      "[Parallel(n_jobs=1)]: Done   2 out of   2 | elapsed:    0.0s finished\n",
      "[Parallel(n_jobs=1)]: Using backend SequentialBackend with 1 concurrent workers.\n",
      "[Parallel(n_jobs=1)]: Done  56 out of  56 | elapsed:    0.4s finished\n",
      "Features: 57/58[Parallel(n_jobs=1)]: Using backend SequentialBackend with 1 concurrent workers.\n",
      "[Parallel(n_jobs=1)]: Done   1 out of   1 | elapsed:    0.0s finished\n",
      "[Parallel(n_jobs=1)]: Using backend SequentialBackend with 1 concurrent workers.\n",
      "[Parallel(n_jobs=1)]: Done  57 out of  57 | elapsed:    0.5s finished\n",
      "Features: 58/58"
     ]
    },
    {
     "data": {
      "text/plain": [
       "SequentialFeatureSelector(estimator=LinearRegression(), floating=True,\n",
       "                          k_features=58, scoring='r2', verbose=1)"
      ]
     },
     "execution_count": 1153,
     "metadata": {},
     "output_type": "execute_result"
    }
   ],
   "source": [
    "sfs3 = sfs(LinearRegression(), k_features=58, forward=True, floating=True, cv=5, verbose=1, scoring='r2')\n",
    "\n",
    "sfs3.fit(x_train, y_train)"
   ]
  },
  {
   "cell_type": "code",
   "execution_count": 1154,
   "metadata": {
    "ExecuteTime": {
     "end_time": "2022-04-24T10:00:51.896298Z",
     "start_time": "2022-04-24T10:00:51.182032Z"
    },
    "scrolled": false
   },
   "outputs": [
    {
     "data": {
      "image/png": "[encoded data removed]",
      "text/plain": [
       "<Figure size 1080x576 with 1 Axes>"
      ]
     },
     "metadata": {
      "needs_background": "light"
     },
     "output_type": "display_data"
    }
   ],
   "source": [
    "fig1 = plot_sfs(sfs3.get_metric_dict())\n",
    "plt.title('Sequential Forward Selection')\n",
    "plt.grid()\n",
    "plt.show()"
   ]
  },
  {
   "cell_type": "code",
   "execution_count": 1155,
   "metadata": {
    "ExecuteTime": {
     "end_time": "2022-04-24T10:00:51.927373Z",
     "start_time": "2022-04-24T10:00:51.896298Z"
    },
    "scrolled": true
   },
   "outputs": [
    {
     "data": {
      "text/html": [
       "<div>\n",
       "<style scoped>\n",
       "    .dataframe tbody tr th:only-of-type {\n",
       "        vertical-align: middle;\n",
       "    }\n",
       "\n",
       "    .dataframe tbody tr th {\n",
       "        vertical-align: top;\n",
       "    }\n",
       "\n",
       "    .dataframe thead th {\n",
       "        text-align: right;\n",
       "    }\n",
       "</style>\n",
       "<table border=\"1\" class=\"dataframe\">\n",
       "  <thead>\n",
       "    <tr style=\"text-align: right;\">\n",
       "      <th></th>\n",
       "      <th>index</th>\n",
       "      <th>feature_idx</th>\n",
       "      <th>cv_scores</th>\n",
       "      <th>avg_score</th>\n",
       "      <th>feature_names</th>\n",
       "      <th>ci_bound</th>\n",
       "      <th>std_dev</th>\n",
       "      <th>std_err</th>\n",
       "    </tr>\n",
       "  </thead>\n",
       "  <tbody>\n",
       "    <tr>\n",
       "      <th>0</th>\n",
       "      <td>1</td>\n",
       "      <td>(4,)</td>\n",
       "      <td>[0.4031839489873048, 0.3311982895260801, 0.386...</td>\n",
       "      <td>0.396028</td>\n",
       "      <td>(TotalBsmtSF,)</td>\n",
       "      <td>0.0568122</td>\n",
       "      <td>0.0442018</td>\n",
       "      <td>0.0221009</td>\n",
       "    </tr>\n",
       "    <tr>\n",
       "      <th>1</th>\n",
       "      <td>2</td>\n",
       "      <td>(4, 6)</td>\n",
       "      <td>[0.5969337899303989, 0.5426967436854133, 0.596...</td>\n",
       "      <td>0.602437</td>\n",
       "      <td>(TotalBsmtSF, 2ndFlrSF)</td>\n",
       "      <td>0.0461365</td>\n",
       "      <td>0.0358957</td>\n",
       "      <td>0.0179479</td>\n",
       "    </tr>\n",
       "    <tr>\n",
       "      <th>2</th>\n",
       "      <td>3</td>\n",
       "      <td>(4, 6, 8)</td>\n",
       "      <td>[0.6602831467281318, 0.636959795285607, 0.6384...</td>\n",
       "      <td>0.675946</td>\n",
       "      <td>(TotalBsmtSF, 2ndFlrSF, GarageArea)</td>\n",
       "      <td>0.0504201</td>\n",
       "      <td>0.0392286</td>\n",
       "      <td>0.0196143</td>\n",
       "    </tr>\n",
       "  </tbody>\n",
       "</table>\n",
       "</div>"
      ],
      "text/plain": [
       "   index feature_idx                                          cv_scores  \\\n",
       "0      1        (4,)  [0.4031839489873048, 0.3311982895260801, 0.386...   \n",
       "1      2      (4, 6)  [0.5969337899303989, 0.5426967436854133, 0.596...   \n",
       "2      3   (4, 6, 8)  [0.6602831467281318, 0.636959795285607, 0.6384...   \n",
       "\n",
       "  avg_score                        feature_names   ci_bound    std_dev  \\\n",
       "0  0.396028                       (TotalBsmtSF,)  0.0568122  0.0442018   \n",
       "1  0.602437              (TotalBsmtSF, 2ndFlrSF)  0.0461365  0.0358957   \n",
       "2  0.675946  (TotalBsmtSF, 2ndFlrSF, GarageArea)  0.0504201  0.0392286   \n",
       "\n",
       "     std_err  \n",
       "0  0.0221009  \n",
       "1  0.0179479  \n",
       "2  0.0196143  "
      ]
     },
     "metadata": {},
     "output_type": "display_data"
    }
   ],
   "source": [
    "# Creating Dataframe representing performance of Features in SFS \n",
    "\n",
    "sfs3_df = pd.DataFrame(sfs3.get_metric_dict()).T.reset_index()\n",
    "\n",
    "display(sfs3_df.head(3))"
   ]
  },
  {
   "cell_type": "code",
   "execution_count": 1179,
   "metadata": {
    "ExecuteTime": {
     "end_time": "2022-04-24T10:24:57.717023Z",
     "start_time": "2022-04-24T10:24:57.701847Z"
    }
   },
   "outputs": [
    {
     "data": {
      "text/html": [
       "<div>\n",
       "<style scoped>\n",
       "    .dataframe tbody tr th:only-of-type {\n",
       "        vertical-align: middle;\n",
       "    }\n",
       "\n",
       "    .dataframe tbody tr th {\n",
       "        vertical-align: top;\n",
       "    }\n",
       "\n",
       "    .dataframe thead th {\n",
       "        text-align: right;\n",
       "    }\n",
       "</style>\n",
       "<table border=\"1\" class=\"dataframe\">\n",
       "  <thead>\n",
       "    <tr style=\"text-align: right;\">\n",
       "      <th></th>\n",
       "      <th>43</th>\n",
       "    </tr>\n",
       "  </thead>\n",
       "  <tbody>\n",
       "    <tr>\n",
       "      <th>index</th>\n",
       "      <td>44</td>\n",
       "    </tr>\n",
       "    <tr>\n",
       "      <th>feature_idx</th>\n",
       "      <td>(1, 3, 4, 5, 6, 11, 13, 14, 15, 16, 17, 18, 19...</td>\n",
       "    </tr>\n",
       "    <tr>\n",
       "      <th>cv_scores</th>\n",
       "      <td>[0.8664295270023019, 0.8865862329976011, 0.856...</td>\n",
       "    </tr>\n",
       "    <tr>\n",
       "      <th>avg_score</th>\n",
       "      <td>0.885453</td>\n",
       "    </tr>\n",
       "    <tr>\n",
       "      <th>feature_names</th>\n",
       "      <td>(YearRemodAdd, BsmtFinSF1, TotalBsmtSF, 1stFlr...</td>\n",
       "    </tr>\n",
       "    <tr>\n",
       "      <th>ci_bound</th>\n",
       "      <td>0.0286941</td>\n",
       "    </tr>\n",
       "    <tr>\n",
       "      <th>std_dev</th>\n",
       "      <td>0.022325</td>\n",
       "    </tr>\n",
       "    <tr>\n",
       "      <th>std_err</th>\n",
       "      <td>0.0111625</td>\n",
       "    </tr>\n",
       "  </tbody>\n",
       "</table>\n",
       "</div>"
      ],
      "text/plain": [
       "                                                              43\n",
       "index                                                         44\n",
       "feature_idx    (1, 3, 4, 5, 6, 11, 13, 14, 15, 16, 17, 18, 19...\n",
       "cv_scores      [0.8664295270023019, 0.8865862329976011, 0.856...\n",
       "avg_score                                               0.885453\n",
       "feature_names  (YearRemodAdd, BsmtFinSF1, TotalBsmtSF, 1stFlr...\n",
       "ci_bound                                               0.0286941\n",
       "std_dev                                                 0.022325\n",
       "std_err                                                0.0111625"
      ]
     },
     "execution_count": 1179,
     "metadata": {},
     "output_type": "execute_result"
    }
   ],
   "source": [
    "# Best score at \n",
    "\n",
    "sfs3_df.iloc[43].to_frame()"
   ]
  },
  {
   "cell_type": "code",
   "execution_count": 1175,
   "metadata": {
    "ExecuteTime": {
     "end_time": "2022-04-24T10:24:30.312875Z",
     "start_time": "2022-04-24T10:24:30.297291Z"
    }
   },
   "outputs": [
    {
     "data": {
      "text/plain": [
       "44"
      ]
     },
     "execution_count": 1175,
     "metadata": {},
     "output_type": "execute_result"
    }
   ],
   "source": [
    "final_features = list(sfs3_df.iloc[43][4])\n",
    "len(final_features)"
   ]
  },
  {
   "cell_type": "code",
   "execution_count": null,
   "metadata": {},
   "outputs": [],
   "source": []
  },
  {
   "cell_type": "code",
   "execution_count": 1176,
   "metadata": {
    "ExecuteTime": {
     "end_time": "2022-04-24T10:24:32.531573Z",
     "start_time": "2022-04-24T10:24:32.508248Z"
    }
   },
   "outputs": [],
   "source": [
    "x = df1[final_features]\n",
    "y = df1['Property_Sale_Price']\n",
    "\n",
    "x_train, x_test, y_train, y_test = train_test_split(x, y, test_size=0.25, random_state = 112)"
   ]
  },
  {
   "cell_type": "code",
   "execution_count": 1177,
   "metadata": {
    "ExecuteTime": {
     "end_time": "2022-04-24T10:24:32.811051Z",
     "start_time": "2022-04-24T10:24:32.787518Z"
    }
   },
   "outputs": [],
   "source": [
    "lr = LinearRegression()\n",
    "lr.fit(x_train, y_train)\n",
    "\n",
    "y_pred = lr.predict(x_test)"
   ]
  },
  {
   "cell_type": "code",
   "execution_count": 1178,
   "metadata": {
    "ExecuteTime": {
     "end_time": "2022-04-24T10:24:33.058142Z",
     "start_time": "2022-04-24T10:24:33.034635Z"
    }
   },
   "outputs": [
    {
     "name": "stdout",
     "output_type": "stream",
     "text": [
      "RMSE : 23435.472035234867\n",
      "MAE : 16555.56362893123\n"
     ]
    }
   ],
   "source": [
    "# print('MSE :', metrics.mean_squared_error(y_test, y_pred))\n",
    "print('RMSE :', metrics.mean_squared_error(y_test, y_pred,squared=False))\n",
    "print('MAE :', metrics.mean_absolute_error(y_test, y_pred))"
   ]
  },
  {
   "cell_type": "markdown",
   "metadata": {
    "ExecuteTime": {
     "end_time": "2021-10-31T18:11:42.165376Z",
     "start_time": "2021-10-31T18:11:42.151378Z"
    }
   },
   "source": [
    "## RandomForest"
   ]
  },
  {
   "cell_type": "code",
   "execution_count": 1161,
   "metadata": {
    "ExecuteTime": {
     "end_time": "2022-04-24T10:00:52.045990Z",
     "start_time": "2022-04-24T10:00:52.029985Z"
    }
   },
   "outputs": [],
   "source": [
    "x = df1.drop(columns=['Property_Sale_Price'])\n",
    "y = df1['Property_Sale_Price']\n",
    "\n",
    "x_train, x_test, y_train, y_test = train_test_split(x, y, test_size=0.25, random_state = 112)"
   ]
  },
  {
   "cell_type": "code",
   "execution_count": 1162,
   "metadata": {
    "ExecuteTime": {
     "end_time": "2022-04-24T10:00:52.061988Z",
     "start_time": "2022-04-24T10:00:52.045990Z"
    }
   },
   "outputs": [],
   "source": [
    "rf = RandomForestRegressor(n_estimators=400)"
   ]
  },
  {
   "cell_type": "code",
   "execution_count": 1163,
   "metadata": {
    "ExecuteTime": {
     "end_time": "2022-04-24T10:00:59.829249Z",
     "start_time": "2022-04-24T10:00:52.061988Z"
    }
   },
   "outputs": [
    {
     "name": "stdout",
     "output_type": "stream",
     "text": [
      "RMSE : 24231.797338066197\n"
     ]
    }
   ],
   "source": [
    "rf.fit(x_train, y_train)\n",
    "y_pred = rf.predict(x_test)\n",
    "\n",
    "print('RMSE :', metrics.mean_squared_error(y_test, y_pred,squared=False))"
   ]
  },
  {
   "cell_type": "markdown",
   "metadata": {
    "ExecuteTime": {
     "end_time": "2022-04-24T07:36:24.402979Z",
     "start_time": "2022-04-24T07:36:24.393598Z"
    }
   },
   "source": [
    "### Using GridSearchCV to get best Hyper-Parameters"
   ]
  },
  {
   "cell_type": "code",
   "execution_count": 1164,
   "metadata": {
    "ExecuteTime": {
     "end_time": "2022-04-24T10:00:59.845288Z",
     "start_time": "2022-04-24T10:00:59.829249Z"
    }
   },
   "outputs": [
    {
     "name": "stdout",
     "output_type": "stream",
     "text": [
      "{'n_estimators': [100, 200, 300, 400, 500], 'max_depth': [4, 5, 7, 9, 10, 12, 14, 16], 'max_features': [2, 4, 6, 8, 10, 12, 14, 16]}\n"
     ]
    }
   ],
   "source": [
    "# Number of trees in random forest\n",
    "n_estimators = [int(x) for x in np.linspace(start = 100, stop = 500, num = 5)]\n",
    "\n",
    "# Maximum number of levels in tree\n",
    "max_depth = [int(x) for x in np.linspace(4, 16, num = 8)]\n",
    "\n",
    "# Maximum Features\n",
    "max_features = [int(x) for x in np.linspace(2, 16, num = 8)]\n",
    "\n",
    "params = {'n_estimators': n_estimators,\n",
    "          'max_depth': max_depth,\n",
    "          'max_features': max_features}\n",
    "\n",
    "print(params)"
   ]
  },
  {
   "cell_type": "code",
   "execution_count": 1165,
   "metadata": {
    "ExecuteTime": {
     "end_time": "2022-04-24T10:09:40.532024Z",
     "start_time": "2022-04-24T10:00:59.846333Z"
    },
    "scrolled": true
   },
   "outputs": [
    {
     "name": "stdout",
     "output_type": "stream",
     "text": [
      "Fitting 4 folds for each of 320 candidates, totalling 1280 fits\n",
      "[CV] max_depth=4, max_features=2, n_estimators=100 ...................\n",
      "[CV] .... max_depth=4, max_features=2, n_estimators=100, total=   0.1s\n",
      "[CV] max_depth=4, max_features=2, n_estimators=100 ...................\n"
     ]
    },
    {
     "name": "stderr",
     "output_type": "stream",
     "text": [
      "[Parallel(n_jobs=1)]: Using backend SequentialBackend with 1 concurrent workers.\n",
      "[Parallel(n_jobs=1)]: Done   1 out of   1 | elapsed:    0.0s remaining:    0.0s\n"
     ]
    },
    {
     "name": "stdout",
     "output_type": "stream",
     "text": [
      "[CV] .... max_depth=4, max_features=2, n_estimators=100, total=   0.1s\n",
      "[CV] max_depth=4, max_features=2, n_estimators=100 ...................\n",
      "[CV] .... max_depth=4, max_features=2, n_estimators=100, total=   0.1s\n",
      "[CV] max_depth=4, max_features=2, n_estimators=100 ...................\n",
      "[CV] .... max_depth=4, max_features=2, n_estimators=100, total=   0.1s\n",
      "[CV] max_depth=4, max_features=2, n_estimators=200 ...................\n",
      "[CV] .... max_depth=4, max_features=2, n_estimators=200, total=   0.2s\n",
      "[CV] max_depth=4, max_features=2, n_estimators=200 ...................\n",
      "[CV] .... max_depth=4, max_features=2, n_estimators=200, total=   0.2s\n",
      "[CV] max_depth=4, max_features=2, n_estimators=200 ...................\n",
      "[CV] .... max_depth=4, max_features=2, n_estimators=200, total=   0.2s\n",
      "[CV] max_depth=4, max_features=2, n_estimators=200 ...................\n",
      "[CV] .... max_depth=4, max_features=2, n_estimators=200, total=   0.2s\n",
      "[CV] max_depth=4, max_features=2, n_estimators=300 ...................\n",
      "[CV] .... max_depth=4, max_features=2, n_estimators=300, total=   0.3s\n",
      "[CV] max_depth=4, max_features=2, n_estimators=300 ...................\n",
      "[CV] .... max_depth=4, max_features=2, n_estimators=300, total=   0.3s\n",
      "[CV] max_depth=4, max_features=2, n_estimators=300 ...................\n",
      "[CV] .... max_depth=4, max_features=2, n_estimators=300, total=   0.3s\n",
      "[CV] max_depth=4, max_features=2, n_estimators=300 ...................\n",
      "[CV] .... max_depth=4, max_features=2, n_estimators=300, total=   0.3s\n",
      "[CV] max_depth=4, max_features=2, n_estimators=400 ...................\n",
      "[CV] .... max_depth=4, max_features=2, n_estimators=400, total=   0.3s\n",
      "[CV] max_depth=4, max_features=2, n_estimators=400 ...................\n",
      "[CV] .... max_depth=4, max_features=2, n_estimators=400, total=   0.3s\n",
      "[CV] max_depth=4, max_features=2, n_estimators=400 ...................\n",
      "[CV] .... max_depth=4, max_features=2, n_estimators=400, total=   0.3s\n",
      "[CV] max_depth=4, max_features=2, n_estimators=400 ...................\n",
      "[CV] .... max_depth=4, max_features=2, n_estimators=400, total=   0.3s\n",
      "[CV] max_depth=4, max_features=2, n_estimators=500 ...................\n",
      "[CV] .... max_depth=4, max_features=2, n_estimators=500, total=   0.4s\n",
      "[CV] max_depth=4, max_features=2, n_estimators=500 ...................\n",
      "[CV] .... max_depth=4, max_features=2, n_estimators=500, total=   0.4s\n",
      "[CV] max_depth=4, max_features=2, n_estimators=500 ...................\n",
      "[CV] .... max_depth=4, max_features=2, n_estimators=500, total=   0.4s\n",
      "[CV] max_depth=4, max_features=2, n_estimators=500 ...................\n",
      "[CV] .... max_depth=4, max_features=2, n_estimators=500, total=   0.4s\n",
      "[CV] max_depth=4, max_features=4, n_estimators=100 ...................\n",
      "[CV] .... max_depth=4, max_features=4, n_estimators=100, total=   0.1s\n",
      "[CV] max_depth=4, max_features=4, n_estimators=100 ...................\n",
      "[CV] .... max_depth=4, max_features=4, n_estimators=100, total=   0.1s\n",
      "[CV] max_depth=4, max_features=4, n_estimators=100 ...................\n",
      "[CV] .... max_depth=4, max_features=4, n_estimators=100, total=   0.1s\n",
      "[CV] max_depth=4, max_features=4, n_estimators=100 ...................\n",
      "[CV] .... max_depth=4, max_features=4, n_estimators=100, total=   0.1s\n",
      "[CV] max_depth=4, max_features=4, n_estimators=200 ...................\n",
      "[CV] .... max_depth=4, max_features=4, n_estimators=200, total=   0.2s\n",
      "[CV] max_depth=4, max_features=4, n_estimators=200 ...................\n",
      "[CV] .... max_depth=4, max_features=4, n_estimators=200, total=   0.2s\n",
      "[CV] max_depth=4, max_features=4, n_estimators=200 ...................\n",
      "[CV] .... max_depth=4, max_features=4, n_estimators=200, total=   0.2s\n",
      "[CV] max_depth=4, max_features=4, n_estimators=200 ...................\n",
      "[CV] .... max_depth=4, max_features=4, n_estimators=200, total=   0.2s\n",
      "[CV] max_depth=4, max_features=4, n_estimators=300 ...................\n",
      "[CV] .... max_depth=4, max_features=4, n_estimators=300, total=   0.3s\n",
      "[CV] max_depth=4, max_features=4, n_estimators=300 ...................\n",
      "[CV] .... max_depth=4, max_features=4, n_estimators=300, total=   0.3s\n",
      "[CV] max_depth=4, max_features=4, n_estimators=300 ...................\n",
      "[CV] .... max_depth=4, max_features=4, n_estimators=300, total=   0.3s\n",
      "[CV] max_depth=4, max_features=4, n_estimators=300 ...................\n",
      "[CV] .... max_depth=4, max_features=4, n_estimators=300, total=   0.3s\n",
      "[CV] max_depth=4, max_features=4, n_estimators=400 ...................\n",
      "[CV] .... max_depth=4, max_features=4, n_estimators=400, total=   0.4s\n",
      "[CV] max_depth=4, max_features=4, n_estimators=400 ...................\n",
      "[CV] .... max_depth=4, max_features=4, n_estimators=400, total=   0.3s\n",
      "[CV] max_depth=4, max_features=4, n_estimators=400 ...................\n",
      "[CV] .... max_depth=4, max_features=4, n_estimators=400, total=   0.3s\n",
      "[CV] max_depth=4, max_features=4, n_estimators=400 ...................\n",
      "[CV] .... max_depth=4, max_features=4, n_estimators=400, total=   0.4s\n",
      "[CV] max_depth=4, max_features=4, n_estimators=500 ...................\n",
      "[CV] .... max_depth=4, max_features=4, n_estimators=500, total=   0.4s\n",
      "[CV] max_depth=4, max_features=4, n_estimators=500 ...................\n",
      "[CV] .... max_depth=4, max_features=4, n_estimators=500, total=   0.4s\n",
      "[CV] max_depth=4, max_features=4, n_estimators=500 ...................\n",
      "[CV] .... max_depth=4, max_features=4, n_estimators=500, total=   0.4s\n",
      "[CV] max_depth=4, max_features=4, n_estimators=500 ...................\n",
      "[CV] .... max_depth=4, max_features=4, n_estimators=500, total=   0.4s\n",
      "[CV] max_depth=4, max_features=6, n_estimators=100 ...................\n",
      "[CV] .... max_depth=4, max_features=6, n_estimators=100, total=   0.1s\n",
      "[CV] max_depth=4, max_features=6, n_estimators=100 ...................\n",
      "[CV] .... max_depth=4, max_features=6, n_estimators=100, total=   0.1s\n",
      "[CV] max_depth=4, max_features=6, n_estimators=100 ...................\n",
      "[CV] .... max_depth=4, max_features=6, n_estimators=100, total=   0.1s\n",
      "[CV] max_depth=4, max_features=6, n_estimators=100 ...................\n",
      "[CV] .... max_depth=4, max_features=6, n_estimators=100, total=   0.1s\n",
      "[CV] max_depth=4, max_features=6, n_estimators=200 ...................\n",
      "[CV] .... max_depth=4, max_features=6, n_estimators=200, total=   0.2s\n",
      "[CV] max_depth=4, max_features=6, n_estimators=200 ...................\n",
      "[CV] .... max_depth=4, max_features=6, n_estimators=200, total=   0.2s\n",
      "[CV] max_depth=4, max_features=6, n_estimators=200 ...................\n",
      "[CV] .... max_depth=4, max_features=6, n_estimators=200, total=   0.2s\n",
      "[CV] max_depth=4, max_features=6, n_estimators=200 ...................\n",
      "[CV] .... max_depth=4, max_features=6, n_estimators=200, total=   0.2s\n",
      "[CV] max_depth=4, max_features=6, n_estimators=300 ...................\n",
      "[CV] .... max_depth=4, max_features=6, n_estimators=300, total=   0.3s\n",
      "[CV] max_depth=4, max_features=6, n_estimators=300 ...................\n",
      "[CV] .... max_depth=4, max_features=6, n_estimators=300, total=   0.3s\n",
      "[CV] max_depth=4, max_features=6, n_estimators=300 ...................\n",
      "[CV] .... max_depth=4, max_features=6, n_estimators=300, total=   0.3s\n",
      "[CV] max_depth=4, max_features=6, n_estimators=300 ...................\n",
      "[CV] .... max_depth=4, max_features=6, n_estimators=300, total=   0.3s\n",
      "[CV] max_depth=4, max_features=6, n_estimators=400 ...................\n",
      "[CV] .... max_depth=4, max_features=6, n_estimators=400, total=   0.4s\n",
      "[CV] max_depth=4, max_features=6, n_estimators=400 ...................\n",
      "[CV] .... max_depth=4, max_features=6, n_estimators=400, total=   0.4s\n",
      "[CV] max_depth=4, max_features=6, n_estimators=400 ...................\n",
      "[CV] .... max_depth=4, max_features=6, n_estimators=400, total=   0.4s\n",
      "[CV] max_depth=4, max_features=6, n_estimators=400 ...................\n",
      "[CV] .... max_depth=4, max_features=6, n_estimators=400, total=   0.4s\n",
      "[CV] max_depth=4, max_features=6, n_estimators=500 ...................\n",
      "[CV] .... max_depth=4, max_features=6, n_estimators=500, total=   0.4s\n",
      "[CV] max_depth=4, max_features=6, n_estimators=500 ...................\n",
      "[CV] .... max_depth=4, max_features=6, n_estimators=500, total=   0.5s\n",
      "[CV] max_depth=4, max_features=6, n_estimators=500 ...................\n",
      "[CV] .... max_depth=4, max_features=6, n_estimators=500, total=   0.4s\n",
      "[CV] max_depth=4, max_features=6, n_estimators=500 ...................\n"
     ]
    },
    {
     "name": "stdout",
     "output_type": "stream",
     "text": [
      "[CV] .... max_depth=4, max_features=6, n_estimators=500, total=   0.4s\n",
      "[CV] max_depth=4, max_features=8, n_estimators=100 ...................\n",
      "[CV] .... max_depth=4, max_features=8, n_estimators=100, total=   0.1s\n",
      "[CV] max_depth=4, max_features=8, n_estimators=100 ...................\n",
      "[CV] .... max_depth=4, max_features=8, n_estimators=100, total=   0.1s\n",
      "[CV] max_depth=4, max_features=8, n_estimators=100 ...................\n",
      "[CV] .... max_depth=4, max_features=8, n_estimators=100, total=   0.1s\n",
      "[CV] max_depth=4, max_features=8, n_estimators=100 ...................\n",
      "[CV] .... max_depth=4, max_features=8, n_estimators=100, total=   0.1s\n",
      "[CV] max_depth=4, max_features=8, n_estimators=200 ...................\n",
      "[CV] .... max_depth=4, max_features=8, n_estimators=200, total=   0.2s\n",
      "[CV] max_depth=4, max_features=8, n_estimators=200 ...................\n",
      "[CV] .... max_depth=4, max_features=8, n_estimators=200, total=   0.2s\n",
      "[CV] max_depth=4, max_features=8, n_estimators=200 ...................\n",
      "[CV] .... max_depth=4, max_features=8, n_estimators=200, total=   0.2s\n",
      "[CV] max_depth=4, max_features=8, n_estimators=200 ...................\n",
      "[CV] .... max_depth=4, max_features=8, n_estimators=200, total=   0.2s\n",
      "[CV] max_depth=4, max_features=8, n_estimators=300 ...................\n",
      "[CV] .... max_depth=4, max_features=8, n_estimators=300, total=   0.3s\n",
      "[CV] max_depth=4, max_features=8, n_estimators=300 ...................\n",
      "[CV] .... max_depth=4, max_features=8, n_estimators=300, total=   0.3s\n",
      "[CV] max_depth=4, max_features=8, n_estimators=300 ...................\n",
      "[CV] .... max_depth=4, max_features=8, n_estimators=300, total=   0.3s\n",
      "[CV] max_depth=4, max_features=8, n_estimators=300 ...................\n",
      "[CV] .... max_depth=4, max_features=8, n_estimators=300, total=   0.3s\n",
      "[CV] max_depth=4, max_features=8, n_estimators=400 ...................\n",
      "[CV] .... max_depth=4, max_features=8, n_estimators=400, total=   0.4s\n",
      "[CV] max_depth=4, max_features=8, n_estimators=400 ...................\n",
      "[CV] .... max_depth=4, max_features=8, n_estimators=400, total=   0.4s\n",
      "[CV] max_depth=4, max_features=8, n_estimators=400 ...................\n",
      "[CV] .... max_depth=4, max_features=8, n_estimators=400, total=   0.4s\n",
      "[CV] max_depth=4, max_features=8, n_estimators=400 ...................\n",
      "[CV] .... max_depth=4, max_features=8, n_estimators=400, total=   0.4s\n",
      "[CV] max_depth=4, max_features=8, n_estimators=500 ...................\n",
      "[CV] .... max_depth=4, max_features=8, n_estimators=500, total=   0.5s\n",
      "[CV] max_depth=4, max_features=8, n_estimators=500 ...................\n",
      "[CV] .... max_depth=4, max_features=8, n_estimators=500, total=   0.5s\n",
      "[CV] max_depth=4, max_features=8, n_estimators=500 ...................\n",
      "[CV] .... max_depth=4, max_features=8, n_estimators=500, total=   0.5s\n",
      "[CV] max_depth=4, max_features=8, n_estimators=500 ...................\n",
      "[CV] .... max_depth=4, max_features=8, n_estimators=500, total=   0.5s\n",
      "[CV] max_depth=4, max_features=10, n_estimators=100 ..................\n",
      "[CV] ... max_depth=4, max_features=10, n_estimators=100, total=   0.1s\n",
      "[CV] max_depth=4, max_features=10, n_estimators=100 ..................\n",
      "[CV] ... max_depth=4, max_features=10, n_estimators=100, total=   0.1s\n",
      "[CV] max_depth=4, max_features=10, n_estimators=100 ..................\n",
      "[CV] ... max_depth=4, max_features=10, n_estimators=100, total=   0.1s\n",
      "[CV] max_depth=4, max_features=10, n_estimators=100 ..................\n",
      "[CV] ... max_depth=4, max_features=10, n_estimators=100, total=   0.1s\n",
      "[CV] max_depth=4, max_features=10, n_estimators=200 ..................\n",
      "[CV] ... max_depth=4, max_features=10, n_estimators=200, total=   0.2s\n",
      "[CV] max_depth=4, max_features=10, n_estimators=200 ..................\n",
      "[CV] ... max_depth=4, max_features=10, n_estimators=200, total=   0.2s\n",
      "[CV] max_depth=4, max_features=10, n_estimators=200 ..................\n",
      "[CV] ... max_depth=4, max_features=10, n_estimators=200, total=   0.2s\n",
      "[CV] max_depth=4, max_features=10, n_estimators=200 ..................\n",
      "[CV] ... max_depth=4, max_features=10, n_estimators=200, total=   0.2s\n",
      "[CV] max_depth=4, max_features=10, n_estimators=300 ..................\n",
      "[CV] ... max_depth=4, max_features=10, n_estimators=300, total=   0.3s\n",
      "[CV] max_depth=4, max_features=10, n_estimators=300 ..................\n",
      "[CV] ... max_depth=4, max_features=10, n_estimators=300, total=   0.3s\n",
      "[CV] max_depth=4, max_features=10, n_estimators=300 ..................\n",
      "[CV] ... max_depth=4, max_features=10, n_estimators=300, total=   0.3s\n",
      "[CV] max_depth=4, max_features=10, n_estimators=300 ..................\n",
      "[CV] ... max_depth=4, max_features=10, n_estimators=300, total=   0.3s\n",
      "[CV] max_depth=4, max_features=10, n_estimators=400 ..................\n",
      "[CV] ... max_depth=4, max_features=10, n_estimators=400, total=   0.4s\n",
      "[CV] max_depth=4, max_features=10, n_estimators=400 ..................\n",
      "[CV] ... max_depth=4, max_features=10, n_estimators=400, total=   0.4s\n",
      "[CV] max_depth=4, max_features=10, n_estimators=400 ..................\n",
      "[CV] ... max_depth=4, max_features=10, n_estimators=400, total=   0.4s\n",
      "[CV] max_depth=4, max_features=10, n_estimators=400 ..................\n",
      "[CV] ... max_depth=4, max_features=10, n_estimators=400, total=   0.4s\n",
      "[CV] max_depth=4, max_features=10, n_estimators=500 ..................\n",
      "[CV] ... max_depth=4, max_features=10, n_estimators=500, total=   0.5s\n",
      "[CV] max_depth=4, max_features=10, n_estimators=500 ..................\n",
      "[CV] ... max_depth=4, max_features=10, n_estimators=500, total=   0.5s\n",
      "[CV] max_depth=4, max_features=10, n_estimators=500 ..................\n",
      "[CV] ... max_depth=4, max_features=10, n_estimators=500, total=   0.5s\n",
      "[CV] max_depth=4, max_features=10, n_estimators=500 ..................\n",
      "[CV] ... max_depth=4, max_features=10, n_estimators=500, total=   0.5s\n",
      "[CV] max_depth=4, max_features=12, n_estimators=100 ..................\n",
      "[CV] ... max_depth=4, max_features=12, n_estimators=100, total=   0.1s\n",
      "[CV] max_depth=4, max_features=12, n_estimators=100 ..................\n",
      "[CV] ... max_depth=4, max_features=12, n_estimators=100, total=   0.1s\n",
      "[CV] max_depth=4, max_features=12, n_estimators=100 ..................\n",
      "[CV] ... max_depth=4, max_features=12, n_estimators=100, total=   0.1s\n",
      "[CV] max_depth=4, max_features=12, n_estimators=100 ..................\n",
      "[CV] ... max_depth=4, max_features=12, n_estimators=100, total=   0.1s\n",
      "[CV] max_depth=4, max_features=12, n_estimators=200 ..................\n",
      "[CV] ... max_depth=4, max_features=12, n_estimators=200, total=   0.2s\n",
      "[CV] max_depth=4, max_features=12, n_estimators=200 ..................\n",
      "[CV] ... max_depth=4, max_features=12, n_estimators=200, total=   0.2s\n",
      "[CV] max_depth=4, max_features=12, n_estimators=200 ..................\n",
      "[CV] ... max_depth=4, max_features=12, n_estimators=200, total=   0.2s\n",
      "[CV] max_depth=4, max_features=12, n_estimators=200 ..................\n",
      "[CV] ... max_depth=4, max_features=12, n_estimators=200, total=   0.2s\n",
      "[CV] max_depth=4, max_features=12, n_estimators=300 ..................\n",
      "[CV] ... max_depth=4, max_features=12, n_estimators=300, total=   0.3s\n",
      "[CV] max_depth=4, max_features=12, n_estimators=300 ..................\n",
      "[CV] ... max_depth=4, max_features=12, n_estimators=300, total=   0.3s\n",
      "[CV] max_depth=4, max_features=12, n_estimators=300 ..................\n",
      "[CV] ... max_depth=4, max_features=12, n_estimators=300, total=   0.3s\n",
      "[CV] max_depth=4, max_features=12, n_estimators=300 ..................\n",
      "[CV] ... max_depth=4, max_features=12, n_estimators=300, total=   0.3s\n",
      "[CV] max_depth=4, max_features=12, n_estimators=400 ..................\n",
      "[CV] ... max_depth=4, max_features=12, n_estimators=400, total=   0.4s\n",
      "[CV] max_depth=4, max_features=12, n_estimators=400 ..................\n",
      "[CV] ... max_depth=4, max_features=12, n_estimators=400, total=   0.4s\n",
      "[CV] max_depth=4, max_features=12, n_estimators=400 ..................\n",
      "[CV] ... max_depth=4, max_features=12, n_estimators=400, total=   0.4s\n",
      "[CV] max_depth=4, max_features=12, n_estimators=400 ..................\n",
      "[CV] ... max_depth=4, max_features=12, n_estimators=400, total=   0.4s\n",
      "[CV] max_depth=4, max_features=12, n_estimators=500 ..................\n",
      "[CV] ... max_depth=4, max_features=12, n_estimators=500, total=   0.5s\n",
      "[CV] max_depth=4, max_features=12, n_estimators=500 ..................\n"
     ]
    },
    {
     "name": "stdout",
     "output_type": "stream",
     "text": [
      "[CV] ... max_depth=4, max_features=12, n_estimators=500, total=   0.5s\n",
      "[CV] max_depth=4, max_features=12, n_estimators=500 ..................\n",
      "[CV] ... max_depth=4, max_features=12, n_estimators=500, total=   0.5s\n",
      "[CV] max_depth=4, max_features=12, n_estimators=500 ..................\n",
      "[CV] ... max_depth=4, max_features=12, n_estimators=500, total=   0.5s\n",
      "[CV] max_depth=4, max_features=14, n_estimators=100 ..................\n",
      "[CV] ... max_depth=4, max_features=14, n_estimators=100, total=   0.1s\n",
      "[CV] max_depth=4, max_features=14, n_estimators=100 ..................\n",
      "[CV] ... max_depth=4, max_features=14, n_estimators=100, total=   0.1s\n",
      "[CV] max_depth=4, max_features=14, n_estimators=100 ..................\n",
      "[CV] ... max_depth=4, max_features=14, n_estimators=100, total=   0.1s\n",
      "[CV] max_depth=4, max_features=14, n_estimators=100 ..................\n",
      "[CV] ... max_depth=4, max_features=14, n_estimators=100, total=   0.1s\n",
      "[CV] max_depth=4, max_features=14, n_estimators=200 ..................\n",
      "[CV] ... max_depth=4, max_features=14, n_estimators=200, total=   0.2s\n",
      "[CV] max_depth=4, max_features=14, n_estimators=200 ..................\n",
      "[CV] ... max_depth=4, max_features=14, n_estimators=200, total=   0.2s\n",
      "[CV] max_depth=4, max_features=14, n_estimators=200 ..................\n",
      "[CV] ... max_depth=4, max_features=14, n_estimators=200, total=   0.2s\n",
      "[CV] max_depth=4, max_features=14, n_estimators=200 ..................\n",
      "[CV] ... max_depth=4, max_features=14, n_estimators=200, total=   0.2s\n",
      "[CV] max_depth=4, max_features=14, n_estimators=300 ..................\n",
      "[CV] ... max_depth=4, max_features=14, n_estimators=300, total=   0.3s\n",
      "[CV] max_depth=4, max_features=14, n_estimators=300 ..................\n",
      "[CV] ... max_depth=4, max_features=14, n_estimators=300, total=   0.3s\n",
      "[CV] max_depth=4, max_features=14, n_estimators=300 ..................\n",
      "[CV] ... max_depth=4, max_features=14, n_estimators=300, total=   0.3s\n",
      "[CV] max_depth=4, max_features=14, n_estimators=300 ..................\n",
      "[CV] ... max_depth=4, max_features=14, n_estimators=300, total=   0.3s\n",
      "[CV] max_depth=4, max_features=14, n_estimators=400 ..................\n",
      "[CV] ... max_depth=4, max_features=14, n_estimators=400, total=   0.4s\n",
      "[CV] max_depth=4, max_features=14, n_estimators=400 ..................\n",
      "[CV] ... max_depth=4, max_features=14, n_estimators=400, total=   0.4s\n",
      "[CV] max_depth=4, max_features=14, n_estimators=400 ..................\n",
      "[CV] ... max_depth=4, max_features=14, n_estimators=400, total=   0.4s\n",
      "[CV] max_depth=4, max_features=14, n_estimators=400 ..................\n",
      "[CV] ... max_depth=4, max_features=14, n_estimators=400, total=   0.4s\n",
      "[CV] max_depth=4, max_features=14, n_estimators=500 ..................\n",
      "[CV] ... max_depth=4, max_features=14, n_estimators=500, total=   0.5s\n",
      "[CV] max_depth=4, max_features=14, n_estimators=500 ..................\n",
      "[CV] ... max_depth=4, max_features=14, n_estimators=500, total=   0.5s\n",
      "[CV] max_depth=4, max_features=14, n_estimators=500 ..................\n",
      "[CV] ... max_depth=4, max_features=14, n_estimators=500, total=   0.5s\n",
      "[CV] max_depth=4, max_features=14, n_estimators=500 ..................\n",
      "[CV] ... max_depth=4, max_features=14, n_estimators=500, total=   0.5s\n",
      "[CV] max_depth=4, max_features=16, n_estimators=100 ..................\n",
      "[CV] ... max_depth=4, max_features=16, n_estimators=100, total=   0.1s\n",
      "[CV] max_depth=4, max_features=16, n_estimators=100 ..................\n",
      "[CV] ... max_depth=4, max_features=16, n_estimators=100, total=   0.1s\n",
      "[CV] max_depth=4, max_features=16, n_estimators=100 ..................\n",
      "[CV] ... max_depth=4, max_features=16, n_estimators=100, total=   0.1s\n",
      "[CV] max_depth=4, max_features=16, n_estimators=100 ..................\n",
      "[CV] ... max_depth=4, max_features=16, n_estimators=100, total=   0.1s\n",
      "[CV] max_depth=4, max_features=16, n_estimators=200 ..................\n",
      "[CV] ... max_depth=4, max_features=16, n_estimators=200, total=   0.2s\n",
      "[CV] max_depth=4, max_features=16, n_estimators=200 ..................\n",
      "[CV] ... max_depth=4, max_features=16, n_estimators=200, total=   0.2s\n",
      "[CV] max_depth=4, max_features=16, n_estimators=200 ..................\n",
      "[CV] ... max_depth=4, max_features=16, n_estimators=200, total=   0.2s\n",
      "[CV] max_depth=4, max_features=16, n_estimators=200 ..................\n",
      "[CV] ... max_depth=4, max_features=16, n_estimators=200, total=   0.2s\n",
      "[CV] max_depth=4, max_features=16, n_estimators=300 ..................\n",
      "[CV] ... max_depth=4, max_features=16, n_estimators=300, total=   0.3s\n",
      "[CV] max_depth=4, max_features=16, n_estimators=300 ..................\n",
      "[CV] ... max_depth=4, max_features=16, n_estimators=300, total=   0.3s\n",
      "[CV] max_depth=4, max_features=16, n_estimators=300 ..................\n",
      "[CV] ... max_depth=4, max_features=16, n_estimators=300, total=   0.3s\n",
      "[CV] max_depth=4, max_features=16, n_estimators=300 ..................\n",
      "[CV] ... max_depth=4, max_features=16, n_estimators=300, total=   0.3s\n",
      "[CV] max_depth=4, max_features=16, n_estimators=400 ..................\n",
      "[CV] ... max_depth=4, max_features=16, n_estimators=400, total=   0.4s\n",
      "[CV] max_depth=4, max_features=16, n_estimators=400 ..................\n",
      "[CV] ... max_depth=4, max_features=16, n_estimators=400, total=   0.4s\n",
      "[CV] max_depth=4, max_features=16, n_estimators=400 ..................\n",
      "[CV] ... max_depth=4, max_features=16, n_estimators=400, total=   0.5s\n",
      "[CV] max_depth=4, max_features=16, n_estimators=400 ..................\n",
      "[CV] ... max_depth=4, max_features=16, n_estimators=400, total=   0.4s\n",
      "[CV] max_depth=4, max_features=16, n_estimators=500 ..................\n",
      "[CV] ... max_depth=4, max_features=16, n_estimators=500, total=   0.5s\n",
      "[CV] max_depth=4, max_features=16, n_estimators=500 ..................\n",
      "[CV] ... max_depth=4, max_features=16, n_estimators=500, total=   0.6s\n",
      "[CV] max_depth=4, max_features=16, n_estimators=500 ..................\n",
      "[CV] ... max_depth=4, max_features=16, n_estimators=500, total=   0.5s\n",
      "[CV] max_depth=4, max_features=16, n_estimators=500 ..................\n",
      "[CV] ... max_depth=4, max_features=16, n_estimators=500, total=   0.6s\n",
      "[CV] max_depth=5, max_features=2, n_estimators=100 ...................\n",
      "[CV] .... max_depth=5, max_features=2, n_estimators=100, total=   0.1s\n",
      "[CV] max_depth=5, max_features=2, n_estimators=100 ...................\n",
      "[CV] .... max_depth=5, max_features=2, n_estimators=100, total=   0.1s\n",
      "[CV] max_depth=5, max_features=2, n_estimators=100 ...................\n",
      "[CV] .... max_depth=5, max_features=2, n_estimators=100, total=   0.1s\n",
      "[CV] max_depth=5, max_features=2, n_estimators=100 ...................\n",
      "[CV] .... max_depth=5, max_features=2, n_estimators=100, total=   0.1s\n",
      "[CV] max_depth=5, max_features=2, n_estimators=200 ...................\n",
      "[CV] .... max_depth=5, max_features=2, n_estimators=200, total=   0.2s\n",
      "[CV] max_depth=5, max_features=2, n_estimators=200 ...................\n",
      "[CV] .... max_depth=5, max_features=2, n_estimators=200, total=   0.2s\n",
      "[CV] max_depth=5, max_features=2, n_estimators=200 ...................\n",
      "[CV] .... max_depth=5, max_features=2, n_estimators=200, total=   0.2s\n",
      "[CV] max_depth=5, max_features=2, n_estimators=200 ...................\n",
      "[CV] .... max_depth=5, max_features=2, n_estimators=200, total=   0.2s\n",
      "[CV] max_depth=5, max_features=2, n_estimators=300 ...................\n",
      "[CV] .... max_depth=5, max_features=2, n_estimators=300, total=   0.3s\n",
      "[CV] max_depth=5, max_features=2, n_estimators=300 ...................\n",
      "[CV] .... max_depth=5, max_features=2, n_estimators=300, total=   0.3s\n",
      "[CV] max_depth=5, max_features=2, n_estimators=300 ...................\n",
      "[CV] .... max_depth=5, max_features=2, n_estimators=300, total=   0.3s\n",
      "[CV] max_depth=5, max_features=2, n_estimators=300 ...................\n",
      "[CV] .... max_depth=5, max_features=2, n_estimators=300, total=   0.3s\n",
      "[CV] max_depth=5, max_features=2, n_estimators=400 ...................\n",
      "[CV] .... max_depth=5, max_features=2, n_estimators=400, total=   0.3s\n",
      "[CV] max_depth=5, max_features=2, n_estimators=400 ...................\n",
      "[CV] .... max_depth=5, max_features=2, n_estimators=400, total=   0.3s\n",
      "[CV] max_depth=5, max_features=2, n_estimators=400 ...................\n",
      "[CV] .... max_depth=5, max_features=2, n_estimators=400, total=   0.3s\n",
      "[CV] max_depth=5, max_features=2, n_estimators=400 ...................\n"
     ]
    },
    {
     "name": "stdout",
     "output_type": "stream",
     "text": [
      "[CV] .... max_depth=5, max_features=2, n_estimators=400, total=   0.3s\n",
      "[CV] max_depth=5, max_features=2, n_estimators=500 ...................\n",
      "[CV] .... max_depth=5, max_features=2, n_estimators=500, total=   0.4s\n",
      "[CV] max_depth=5, max_features=2, n_estimators=500 ...................\n",
      "[CV] .... max_depth=5, max_features=2, n_estimators=500, total=   0.4s\n",
      "[CV] max_depth=5, max_features=2, n_estimators=500 ...................\n",
      "[CV] .... max_depth=5, max_features=2, n_estimators=500, total=   0.4s\n",
      "[CV] max_depth=5, max_features=2, n_estimators=500 ...................\n",
      "[CV] .... max_depth=5, max_features=2, n_estimators=500, total=   0.4s\n",
      "[CV] max_depth=5, max_features=4, n_estimators=100 ...................\n",
      "[CV] .... max_depth=5, max_features=4, n_estimators=100, total=   0.1s\n",
      "[CV] max_depth=5, max_features=4, n_estimators=100 ...................\n",
      "[CV] .... max_depth=5, max_features=4, n_estimators=100, total=   0.1s\n",
      "[CV] max_depth=5, max_features=4, n_estimators=100 ...................\n",
      "[CV] .... max_depth=5, max_features=4, n_estimators=100, total=   0.1s\n",
      "[CV] max_depth=5, max_features=4, n_estimators=100 ...................\n",
      "[CV] .... max_depth=5, max_features=4, n_estimators=100, total=   0.1s\n",
      "[CV] max_depth=5, max_features=4, n_estimators=200 ...................\n",
      "[CV] .... max_depth=5, max_features=4, n_estimators=200, total=   0.2s\n",
      "[CV] max_depth=5, max_features=4, n_estimators=200 ...................\n",
      "[CV] .... max_depth=5, max_features=4, n_estimators=200, total=   0.2s\n",
      "[CV] max_depth=5, max_features=4, n_estimators=200 ...................\n",
      "[CV] .... max_depth=5, max_features=4, n_estimators=200, total=   0.2s\n",
      "[CV] max_depth=5, max_features=4, n_estimators=200 ...................\n",
      "[CV] .... max_depth=5, max_features=4, n_estimators=200, total=   0.2s\n",
      "[CV] max_depth=5, max_features=4, n_estimators=300 ...................\n",
      "[CV] .... max_depth=5, max_features=4, n_estimators=300, total=   0.3s\n",
      "[CV] max_depth=5, max_features=4, n_estimators=300 ...................\n",
      "[CV] .... max_depth=5, max_features=4, n_estimators=300, total=   0.3s\n",
      "[CV] max_depth=5, max_features=4, n_estimators=300 ...................\n",
      "[CV] .... max_depth=5, max_features=4, n_estimators=300, total=   0.3s\n",
      "[CV] max_depth=5, max_features=4, n_estimators=300 ...................\n",
      "[CV] .... max_depth=5, max_features=4, n_estimators=300, total=   0.3s\n",
      "[CV] max_depth=5, max_features=4, n_estimators=400 ...................\n",
      "[CV] .... max_depth=5, max_features=4, n_estimators=400, total=   0.4s\n",
      "[CV] max_depth=5, max_features=4, n_estimators=400 ...................\n",
      "[CV] .... max_depth=5, max_features=4, n_estimators=400, total=   0.3s\n",
      "[CV] max_depth=5, max_features=4, n_estimators=400 ...................\n",
      "[CV] .... max_depth=5, max_features=4, n_estimators=400, total=   0.4s\n",
      "[CV] max_depth=5, max_features=4, n_estimators=400 ...................\n",
      "[CV] .... max_depth=5, max_features=4, n_estimators=400, total=   0.4s\n",
      "[CV] max_depth=5, max_features=4, n_estimators=500 ...................\n",
      "[CV] .... max_depth=5, max_features=4, n_estimators=500, total=   0.4s\n",
      "[CV] max_depth=5, max_features=4, n_estimators=500 ...................\n",
      "[CV] .... max_depth=5, max_features=4, n_estimators=500, total=   0.4s\n",
      "[CV] max_depth=5, max_features=4, n_estimators=500 ...................\n",
      "[CV] .... max_depth=5, max_features=4, n_estimators=500, total=   0.4s\n",
      "[CV] max_depth=5, max_features=4, n_estimators=500 ...................\n",
      "[CV] .... max_depth=5, max_features=4, n_estimators=500, total=   0.5s\n",
      "[CV] max_depth=5, max_features=6, n_estimators=100 ...................\n",
      "[CV] .... max_depth=5, max_features=6, n_estimators=100, total=   0.1s\n",
      "[CV] max_depth=5, max_features=6, n_estimators=100 ...................\n",
      "[CV] .... max_depth=5, max_features=6, n_estimators=100, total=   0.1s\n",
      "[CV] max_depth=5, max_features=6, n_estimators=100 ...................\n",
      "[CV] .... max_depth=5, max_features=6, n_estimators=100, total=   0.1s\n",
      "[CV] max_depth=5, max_features=6, n_estimators=100 ...................\n",
      "[CV] .... max_depth=5, max_features=6, n_estimators=100, total=   0.1s\n",
      "[CV] max_depth=5, max_features=6, n_estimators=200 ...................\n",
      "[CV] .... max_depth=5, max_features=6, n_estimators=200, total=   0.2s\n",
      "[CV] max_depth=5, max_features=6, n_estimators=200 ...................\n",
      "[CV] .... max_depth=5, max_features=6, n_estimators=200, total=   0.2s\n",
      "[CV] max_depth=5, max_features=6, n_estimators=200 ...................\n",
      "[CV] .... max_depth=5, max_features=6, n_estimators=200, total=   0.2s\n",
      "[CV] max_depth=5, max_features=6, n_estimators=200 ...................\n",
      "[CV] .... max_depth=5, max_features=6, n_estimators=200, total=   0.2s\n",
      "[CV] max_depth=5, max_features=6, n_estimators=300 ...................\n",
      "[CV] .... max_depth=5, max_features=6, n_estimators=300, total=   0.3s\n",
      "[CV] max_depth=5, max_features=6, n_estimators=300 ...................\n",
      "[CV] .... max_depth=5, max_features=6, n_estimators=300, total=   0.3s\n",
      "[CV] max_depth=5, max_features=6, n_estimators=300 ...................\n",
      "[CV] .... max_depth=5, max_features=6, n_estimators=300, total=   0.3s\n",
      "[CV] max_depth=5, max_features=6, n_estimators=300 ...................\n",
      "[CV] .... max_depth=5, max_features=6, n_estimators=300, total=   0.3s\n",
      "[CV] max_depth=5, max_features=6, n_estimators=400 ...................\n",
      "[CV] .... max_depth=5, max_features=6, n_estimators=400, total=   0.4s\n",
      "[CV] max_depth=5, max_features=6, n_estimators=400 ...................\n",
      "[CV] .... max_depth=5, max_features=6, n_estimators=400, total=   0.4s\n",
      "[CV] max_depth=5, max_features=6, n_estimators=400 ...................\n",
      "[CV] .... max_depth=5, max_features=6, n_estimators=400, total=   0.4s\n",
      "[CV] max_depth=5, max_features=6, n_estimators=400 ...................\n",
      "[CV] .... max_depth=5, max_features=6, n_estimators=400, total=   0.4s\n",
      "[CV] max_depth=5, max_features=6, n_estimators=500 ...................\n",
      "[CV] .... max_depth=5, max_features=6, n_estimators=500, total=   0.5s\n",
      "[CV] max_depth=5, max_features=6, n_estimators=500 ...................\n",
      "[CV] .... max_depth=5, max_features=6, n_estimators=500, total=   0.5s\n",
      "[CV] max_depth=5, max_features=6, n_estimators=500 ...................\n",
      "[CV] .... max_depth=5, max_features=6, n_estimators=500, total=   0.5s\n",
      "[CV] max_depth=5, max_features=6, n_estimators=500 ...................\n",
      "[CV] .... max_depth=5, max_features=6, n_estimators=500, total=   0.5s\n",
      "[CV] max_depth=5, max_features=8, n_estimators=100 ...................\n",
      "[CV] .... max_depth=5, max_features=8, n_estimators=100, total=   0.1s\n",
      "[CV] max_depth=5, max_features=8, n_estimators=100 ...................\n",
      "[CV] .... max_depth=5, max_features=8, n_estimators=100, total=   0.1s\n",
      "[CV] max_depth=5, max_features=8, n_estimators=100 ...................\n",
      "[CV] .... max_depth=5, max_features=8, n_estimators=100, total=   0.1s\n",
      "[CV] max_depth=5, max_features=8, n_estimators=100 ...................\n",
      "[CV] .... max_depth=5, max_features=8, n_estimators=100, total=   0.1s\n",
      "[CV] max_depth=5, max_features=8, n_estimators=200 ...................\n",
      "[CV] .... max_depth=5, max_features=8, n_estimators=200, total=   0.2s\n",
      "[CV] max_depth=5, max_features=8, n_estimators=200 ...................\n",
      "[CV] .... max_depth=5, max_features=8, n_estimators=200, total=   0.2s\n",
      "[CV] max_depth=5, max_features=8, n_estimators=200 ...................\n",
      "[CV] .... max_depth=5, max_features=8, n_estimators=200, total=   0.2s\n",
      "[CV] max_depth=5, max_features=8, n_estimators=200 ...................\n",
      "[CV] .... max_depth=5, max_features=8, n_estimators=200, total=   0.2s\n",
      "[CV] max_depth=5, max_features=8, n_estimators=300 ...................\n",
      "[CV] .... max_depth=5, max_features=8, n_estimators=300, total=   0.3s\n",
      "[CV] max_depth=5, max_features=8, n_estimators=300 ...................\n",
      "[CV] .... max_depth=5, max_features=8, n_estimators=300, total=   0.3s\n",
      "[CV] max_depth=5, max_features=8, n_estimators=300 ...................\n",
      "[CV] .... max_depth=5, max_features=8, n_estimators=300, total=   0.3s\n",
      "[CV] max_depth=5, max_features=8, n_estimators=300 ...................\n",
      "[CV] .... max_depth=5, max_features=8, n_estimators=300, total=   0.3s\n",
      "[CV] max_depth=5, max_features=8, n_estimators=400 ...................\n",
      "[CV] .... max_depth=5, max_features=8, n_estimators=400, total=   0.4s\n",
      "[CV] max_depth=5, max_features=8, n_estimators=400 ...................\n"
     ]
    },
    {
     "name": "stdout",
     "output_type": "stream",
     "text": [
      "[CV] .... max_depth=5, max_features=8, n_estimators=400, total=   0.4s\n",
      "[CV] max_depth=5, max_features=8, n_estimators=400 ...................\n",
      "[CV] .... max_depth=5, max_features=8, n_estimators=400, total=   0.4s\n",
      "[CV] max_depth=5, max_features=8, n_estimators=400 ...................\n",
      "[CV] .... max_depth=5, max_features=8, n_estimators=400, total=   0.4s\n",
      "[CV] max_depth=5, max_features=8, n_estimators=500 ...................\n",
      "[CV] .... max_depth=5, max_features=8, n_estimators=500, total=   0.5s\n",
      "[CV] max_depth=5, max_features=8, n_estimators=500 ...................\n",
      "[CV] .... max_depth=5, max_features=8, n_estimators=500, total=   0.5s\n",
      "[CV] max_depth=5, max_features=8, n_estimators=500 ...................\n",
      "[CV] .... max_depth=5, max_features=8, n_estimators=500, total=   0.5s\n",
      "[CV] max_depth=5, max_features=8, n_estimators=500 ...................\n",
      "[CV] .... max_depth=5, max_features=8, n_estimators=500, total=   0.5s\n",
      "[CV] max_depth=5, max_features=10, n_estimators=100 ..................\n",
      "[CV] ... max_depth=5, max_features=10, n_estimators=100, total=   0.1s\n",
      "[CV] max_depth=5, max_features=10, n_estimators=100 ..................\n",
      "[CV] ... max_depth=5, max_features=10, n_estimators=100, total=   0.1s\n",
      "[CV] max_depth=5, max_features=10, n_estimators=100 ..................\n",
      "[CV] ... max_depth=5, max_features=10, n_estimators=100, total=   0.1s\n",
      "[CV] max_depth=5, max_features=10, n_estimators=100 ..................\n",
      "[CV] ... max_depth=5, max_features=10, n_estimators=100, total=   0.1s\n",
      "[CV] max_depth=5, max_features=10, n_estimators=200 ..................\n",
      "[CV] ... max_depth=5, max_features=10, n_estimators=200, total=   0.2s\n",
      "[CV] max_depth=5, max_features=10, n_estimators=200 ..................\n",
      "[CV] ... max_depth=5, max_features=10, n_estimators=200, total=   0.2s\n",
      "[CV] max_depth=5, max_features=10, n_estimators=200 ..................\n",
      "[CV] ... max_depth=5, max_features=10, n_estimators=200, total=   0.2s\n",
      "[CV] max_depth=5, max_features=10, n_estimators=200 ..................\n",
      "[CV] ... max_depth=5, max_features=10, n_estimators=200, total=   0.2s\n",
      "[CV] max_depth=5, max_features=10, n_estimators=300 ..................\n",
      "[CV] ... max_depth=5, max_features=10, n_estimators=300, total=   0.3s\n",
      "[CV] max_depth=5, max_features=10, n_estimators=300 ..................\n",
      "[CV] ... max_depth=5, max_features=10, n_estimators=300, total=   0.3s\n",
      "[CV] max_depth=5, max_features=10, n_estimators=300 ..................\n",
      "[CV] ... max_depth=5, max_features=10, n_estimators=300, total=   0.3s\n",
      "[CV] max_depth=5, max_features=10, n_estimators=300 ..................\n",
      "[CV] ... max_depth=5, max_features=10, n_estimators=300, total=   0.3s\n",
      "[CV] max_depth=5, max_features=10, n_estimators=400 ..................\n",
      "[CV] ... max_depth=5, max_features=10, n_estimators=400, total=   0.4s\n",
      "[CV] max_depth=5, max_features=10, n_estimators=400 ..................\n",
      "[CV] ... max_depth=5, max_features=10, n_estimators=400, total=   0.4s\n",
      "[CV] max_depth=5, max_features=10, n_estimators=400 ..................\n",
      "[CV] ... max_depth=5, max_features=10, n_estimators=400, total=   0.4s\n",
      "[CV] max_depth=5, max_features=10, n_estimators=400 ..................\n",
      "[CV] ... max_depth=5, max_features=10, n_estimators=400, total=   0.4s\n",
      "[CV] max_depth=5, max_features=10, n_estimators=500 ..................\n",
      "[CV] ... max_depth=5, max_features=10, n_estimators=500, total=   0.5s\n",
      "[CV] max_depth=5, max_features=10, n_estimators=500 ..................\n",
      "[CV] ... max_depth=5, max_features=10, n_estimators=500, total=   0.5s\n",
      "[CV] max_depth=5, max_features=10, n_estimators=500 ..................\n",
      "[CV] ... max_depth=5, max_features=10, n_estimators=500, total=   0.5s\n",
      "[CV] max_depth=5, max_features=10, n_estimators=500 ..................\n",
      "[CV] ... max_depth=5, max_features=10, n_estimators=500, total=   0.5s\n",
      "[CV] max_depth=5, max_features=12, n_estimators=100 ..................\n",
      "[CV] ... max_depth=5, max_features=12, n_estimators=100, total=   0.1s\n",
      "[CV] max_depth=5, max_features=12, n_estimators=100 ..................\n",
      "[CV] ... max_depth=5, max_features=12, n_estimators=100, total=   0.1s\n",
      "[CV] max_depth=5, max_features=12, n_estimators=100 ..................\n",
      "[CV] ... max_depth=5, max_features=12, n_estimators=100, total=   0.1s\n",
      "[CV] max_depth=5, max_features=12, n_estimators=100 ..................\n",
      "[CV] ... max_depth=5, max_features=12, n_estimators=100, total=   0.1s\n",
      "[CV] max_depth=5, max_features=12, n_estimators=200 ..................\n",
      "[CV] ... max_depth=5, max_features=12, n_estimators=200, total=   0.2s\n",
      "[CV] max_depth=5, max_features=12, n_estimators=200 ..................\n",
      "[CV] ... max_depth=5, max_features=12, n_estimators=200, total=   0.2s\n",
      "[CV] max_depth=5, max_features=12, n_estimators=200 ..................\n",
      "[CV] ... max_depth=5, max_features=12, n_estimators=200, total=   0.2s\n",
      "[CV] max_depth=5, max_features=12, n_estimators=200 ..................\n",
      "[CV] ... max_depth=5, max_features=12, n_estimators=200, total=   0.2s\n",
      "[CV] max_depth=5, max_features=12, n_estimators=300 ..................\n",
      "[CV] ... max_depth=5, max_features=12, n_estimators=300, total=   0.3s\n",
      "[CV] max_depth=5, max_features=12, n_estimators=300 ..................\n",
      "[CV] ... max_depth=5, max_features=12, n_estimators=300, total=   0.3s\n",
      "[CV] max_depth=5, max_features=12, n_estimators=300 ..................\n",
      "[CV] ... max_depth=5, max_features=12, n_estimators=300, total=   0.3s\n",
      "[CV] max_depth=5, max_features=12, n_estimators=300 ..................\n",
      "[CV] ... max_depth=5, max_features=12, n_estimators=300, total=   0.3s\n",
      "[CV] max_depth=5, max_features=12, n_estimators=400 ..................\n",
      "[CV] ... max_depth=5, max_features=12, n_estimators=400, total=   0.4s\n",
      "[CV] max_depth=5, max_features=12, n_estimators=400 ..................\n",
      "[CV] ... max_depth=5, max_features=12, n_estimators=400, total=   0.4s\n",
      "[CV] max_depth=5, max_features=12, n_estimators=400 ..................\n",
      "[CV] ... max_depth=5, max_features=12, n_estimators=400, total=   0.4s\n",
      "[CV] max_depth=5, max_features=12, n_estimators=400 ..................\n",
      "[CV] ... max_depth=5, max_features=12, n_estimators=400, total=   0.4s\n",
      "[CV] max_depth=5, max_features=12, n_estimators=500 ..................\n",
      "[CV] ... max_depth=5, max_features=12, n_estimators=500, total=   0.6s\n",
      "[CV] max_depth=5, max_features=12, n_estimators=500 ..................\n",
      "[CV] ... max_depth=5, max_features=12, n_estimators=500, total=   0.5s\n",
      "[CV] max_depth=5, max_features=12, n_estimators=500 ..................\n",
      "[CV] ... max_depth=5, max_features=12, n_estimators=500, total=   0.6s\n",
      "[CV] max_depth=5, max_features=12, n_estimators=500 ..................\n",
      "[CV] ... max_depth=5, max_features=12, n_estimators=500, total=   0.5s\n",
      "[CV] max_depth=5, max_features=14, n_estimators=100 ..................\n",
      "[CV] ... max_depth=5, max_features=14, n_estimators=100, total=   0.1s\n",
      "[CV] max_depth=5, max_features=14, n_estimators=100 ..................\n",
      "[CV] ... max_depth=5, max_features=14, n_estimators=100, total=   0.1s\n",
      "[CV] max_depth=5, max_features=14, n_estimators=100 ..................\n",
      "[CV] ... max_depth=5, max_features=14, n_estimators=100, total=   0.1s\n",
      "[CV] max_depth=5, max_features=14, n_estimators=100 ..................\n",
      "[CV] ... max_depth=5, max_features=14, n_estimators=100, total=   0.1s\n",
      "[CV] max_depth=5, max_features=14, n_estimators=200 ..................\n",
      "[CV] ... max_depth=5, max_features=14, n_estimators=200, total=   0.2s\n",
      "[CV] max_depth=5, max_features=14, n_estimators=200 ..................\n",
      "[CV] ... max_depth=5, max_features=14, n_estimators=200, total=   0.2s\n",
      "[CV] max_depth=5, max_features=14, n_estimators=200 ..................\n",
      "[CV] ... max_depth=5, max_features=14, n_estimators=200, total=   0.2s\n",
      "[CV] max_depth=5, max_features=14, n_estimators=200 ..................\n",
      "[CV] ... max_depth=5, max_features=14, n_estimators=200, total=   0.2s\n",
      "[CV] max_depth=5, max_features=14, n_estimators=300 ..................\n",
      "[CV] ... max_depth=5, max_features=14, n_estimators=300, total=   0.3s\n",
      "[CV] max_depth=5, max_features=14, n_estimators=300 ..................\n",
      "[CV] ... max_depth=5, max_features=14, n_estimators=300, total=   0.3s\n",
      "[CV] max_depth=5, max_features=14, n_estimators=300 ..................\n",
      "[CV] ... max_depth=5, max_features=14, n_estimators=300, total=   0.3s\n",
      "[CV] max_depth=5, max_features=14, n_estimators=300 ..................\n"
     ]
    },
    {
     "name": "stdout",
     "output_type": "stream",
     "text": [
      "[CV] ... max_depth=5, max_features=14, n_estimators=300, total=   0.4s\n",
      "[CV] max_depth=5, max_features=14, n_estimators=400 ..................\n",
      "[CV] ... max_depth=5, max_features=14, n_estimators=400, total=   0.5s\n",
      "[CV] max_depth=5, max_features=14, n_estimators=400 ..................\n",
      "[CV] ... max_depth=5, max_features=14, n_estimators=400, total=   0.4s\n",
      "[CV] max_depth=5, max_features=14, n_estimators=400 ..................\n",
      "[CV] ... max_depth=5, max_features=14, n_estimators=400, total=   0.5s\n",
      "[CV] max_depth=5, max_features=14, n_estimators=400 ..................\n",
      "[CV] ... max_depth=5, max_features=14, n_estimators=400, total=   0.4s\n",
      "[CV] max_depth=5, max_features=14, n_estimators=500 ..................\n",
      "[CV] ... max_depth=5, max_features=14, n_estimators=500, total=   0.6s\n",
      "[CV] max_depth=5, max_features=14, n_estimators=500 ..................\n",
      "[CV] ... max_depth=5, max_features=14, n_estimators=500, total=   0.6s\n",
      "[CV] max_depth=5, max_features=14, n_estimators=500 ..................\n",
      "[CV] ... max_depth=5, max_features=14, n_estimators=500, total=   0.6s\n",
      "[CV] max_depth=5, max_features=14, n_estimators=500 ..................\n",
      "[CV] ... max_depth=5, max_features=14, n_estimators=500, total=   0.6s\n",
      "[CV] max_depth=5, max_features=16, n_estimators=100 ..................\n",
      "[CV] ... max_depth=5, max_features=16, n_estimators=100, total=   0.1s\n",
      "[CV] max_depth=5, max_features=16, n_estimators=100 ..................\n",
      "[CV] ... max_depth=5, max_features=16, n_estimators=100, total=   0.1s\n",
      "[CV] max_depth=5, max_features=16, n_estimators=100 ..................\n",
      "[CV] ... max_depth=5, max_features=16, n_estimators=100, total=   0.1s\n",
      "[CV] max_depth=5, max_features=16, n_estimators=100 ..................\n",
      "[CV] ... max_depth=5, max_features=16, n_estimators=100, total=   0.1s\n",
      "[CV] max_depth=5, max_features=16, n_estimators=200 ..................\n",
      "[CV] ... max_depth=5, max_features=16, n_estimators=200, total=   0.2s\n",
      "[CV] max_depth=5, max_features=16, n_estimators=200 ..................\n",
      "[CV] ... max_depth=5, max_features=16, n_estimators=200, total=   0.3s\n",
      "[CV] max_depth=5, max_features=16, n_estimators=200 ..................\n",
      "[CV] ... max_depth=5, max_features=16, n_estimators=200, total=   0.2s\n",
      "[CV] max_depth=5, max_features=16, n_estimators=200 ..................\n",
      "[CV] ... max_depth=5, max_features=16, n_estimators=200, total=   0.2s\n",
      "[CV] max_depth=5, max_features=16, n_estimators=300 ..................\n",
      "[CV] ... max_depth=5, max_features=16, n_estimators=300, total=   0.4s\n",
      "[CV] max_depth=5, max_features=16, n_estimators=300 ..................\n",
      "[CV] ... max_depth=5, max_features=16, n_estimators=300, total=   0.4s\n",
      "[CV] max_depth=5, max_features=16, n_estimators=300 ..................\n",
      "[CV] ... max_depth=5, max_features=16, n_estimators=300, total=   0.4s\n",
      "[CV] max_depth=5, max_features=16, n_estimators=300 ..................\n",
      "[CV] ... max_depth=5, max_features=16, n_estimators=300, total=   0.4s\n",
      "[CV] max_depth=5, max_features=16, n_estimators=400 ..................\n",
      "[CV] ... max_depth=5, max_features=16, n_estimators=400, total=   0.5s\n",
      "[CV] max_depth=5, max_features=16, n_estimators=400 ..................\n",
      "[CV] ... max_depth=5, max_features=16, n_estimators=400, total=   0.5s\n",
      "[CV] max_depth=5, max_features=16, n_estimators=400 ..................\n",
      "[CV] ... max_depth=5, max_features=16, n_estimators=400, total=   0.5s\n",
      "[CV] max_depth=5, max_features=16, n_estimators=400 ..................\n",
      "[CV] ... max_depth=5, max_features=16, n_estimators=400, total=   0.5s\n",
      "[CV] max_depth=5, max_features=16, n_estimators=500 ..................\n",
      "[CV] ... max_depth=5, max_features=16, n_estimators=500, total=   0.6s\n",
      "[CV] max_depth=5, max_features=16, n_estimators=500 ..................\n",
      "[CV] ... max_depth=5, max_features=16, n_estimators=500, total=   0.6s\n",
      "[CV] max_depth=5, max_features=16, n_estimators=500 ..................\n",
      "[CV] ... max_depth=5, max_features=16, n_estimators=500, total=   0.6s\n",
      "[CV] max_depth=5, max_features=16, n_estimators=500 ..................\n",
      "[CV] ... max_depth=5, max_features=16, n_estimators=500, total=   0.6s\n",
      "[CV] max_depth=7, max_features=2, n_estimators=100 ...................\n",
      "[CV] .... max_depth=7, max_features=2, n_estimators=100, total=   0.1s\n",
      "[CV] max_depth=7, max_features=2, n_estimators=100 ...................\n",
      "[CV] .... max_depth=7, max_features=2, n_estimators=100, total=   0.1s\n",
      "[CV] max_depth=7, max_features=2, n_estimators=100 ...................\n",
      "[CV] .... max_depth=7, max_features=2, n_estimators=100, total=   0.1s\n",
      "[CV] max_depth=7, max_features=2, n_estimators=100 ...................\n",
      "[CV] .... max_depth=7, max_features=2, n_estimators=100, total=   0.1s\n",
      "[CV] max_depth=7, max_features=2, n_estimators=200 ...................\n",
      "[CV] .... max_depth=7, max_features=2, n_estimators=200, total=   0.2s\n",
      "[CV] max_depth=7, max_features=2, n_estimators=200 ...................\n",
      "[CV] .... max_depth=7, max_features=2, n_estimators=200, total=   0.2s\n",
      "[CV] max_depth=7, max_features=2, n_estimators=200 ...................\n",
      "[CV] .... max_depth=7, max_features=2, n_estimators=200, total=   0.2s\n",
      "[CV] max_depth=7, max_features=2, n_estimators=200 ...................\n",
      "[CV] .... max_depth=7, max_features=2, n_estimators=200, total=   0.2s\n",
      "[CV] max_depth=7, max_features=2, n_estimators=300 ...................\n",
      "[CV] .... max_depth=7, max_features=2, n_estimators=300, total=   0.3s\n",
      "[CV] max_depth=7, max_features=2, n_estimators=300 ...................\n",
      "[CV] .... max_depth=7, max_features=2, n_estimators=300, total=   0.3s\n",
      "[CV] max_depth=7, max_features=2, n_estimators=300 ...................\n",
      "[CV] .... max_depth=7, max_features=2, n_estimators=300, total=   0.3s\n",
      "[CV] max_depth=7, max_features=2, n_estimators=300 ...................\n",
      "[CV] .... max_depth=7, max_features=2, n_estimators=300, total=   0.3s\n",
      "[CV] max_depth=7, max_features=2, n_estimators=400 ...................\n",
      "[CV] .... max_depth=7, max_features=2, n_estimators=400, total=   0.4s\n",
      "[CV] max_depth=7, max_features=2, n_estimators=400 ...................\n",
      "[CV] .... max_depth=7, max_features=2, n_estimators=400, total=   0.4s\n",
      "[CV] max_depth=7, max_features=2, n_estimators=400 ...................\n",
      "[CV] .... max_depth=7, max_features=2, n_estimators=400, total=   0.4s\n",
      "[CV] max_depth=7, max_features=2, n_estimators=400 ...................\n",
      "[CV] .... max_depth=7, max_features=2, n_estimators=400, total=   0.4s\n",
      "[CV] max_depth=7, max_features=2, n_estimators=500 ...................\n",
      "[CV] .... max_depth=7, max_features=2, n_estimators=500, total=   0.4s\n",
      "[CV] max_depth=7, max_features=2, n_estimators=500 ...................\n",
      "[CV] .... max_depth=7, max_features=2, n_estimators=500, total=   0.4s\n",
      "[CV] max_depth=7, max_features=2, n_estimators=500 ...................\n",
      "[CV] .... max_depth=7, max_features=2, n_estimators=500, total=   0.4s\n",
      "[CV] max_depth=7, max_features=2, n_estimators=500 ...................\n",
      "[CV] .... max_depth=7, max_features=2, n_estimators=500, total=   0.4s\n",
      "[CV] max_depth=7, max_features=4, n_estimators=100 ...................\n",
      "[CV] .... max_depth=7, max_features=4, n_estimators=100, total=   0.1s\n",
      "[CV] max_depth=7, max_features=4, n_estimators=100 ...................\n",
      "[CV] .... max_depth=7, max_features=4, n_estimators=100, total=   0.1s\n",
      "[CV] max_depth=7, max_features=4, n_estimators=100 ...................\n",
      "[CV] .... max_depth=7, max_features=4, n_estimators=100, total=   0.1s\n",
      "[CV] max_depth=7, max_features=4, n_estimators=100 ...................\n",
      "[CV] .... max_depth=7, max_features=4, n_estimators=100, total=   0.1s\n",
      "[CV] max_depth=7, max_features=4, n_estimators=200 ...................\n",
      "[CV] .... max_depth=7, max_features=4, n_estimators=200, total=   0.2s\n",
      "[CV] max_depth=7, max_features=4, n_estimators=200 ...................\n",
      "[CV] .... max_depth=7, max_features=4, n_estimators=200, total=   0.2s\n",
      "[CV] max_depth=7, max_features=4, n_estimators=200 ...................\n",
      "[CV] .... max_depth=7, max_features=4, n_estimators=200, total=   0.2s\n",
      "[CV] max_depth=7, max_features=4, n_estimators=200 ...................\n",
      "[CV] .... max_depth=7, max_features=4, n_estimators=200, total=   0.2s\n",
      "[CV] max_depth=7, max_features=4, n_estimators=300 ...................\n",
      "[CV] .... max_depth=7, max_features=4, n_estimators=300, total=   0.3s\n",
      "[CV] max_depth=7, max_features=4, n_estimators=300 ...................\n"
     ]
    },
    {
     "name": "stdout",
     "output_type": "stream",
     "text": [
      "[CV] .... max_depth=7, max_features=4, n_estimators=300, total=   0.3s\n",
      "[CV] max_depth=7, max_features=4, n_estimators=300 ...................\n",
      "[CV] .... max_depth=7, max_features=4, n_estimators=300, total=   0.3s\n",
      "[CV] max_depth=7, max_features=4, n_estimators=300 ...................\n",
      "[CV] .... max_depth=7, max_features=4, n_estimators=300, total=   0.3s\n",
      "[CV] max_depth=7, max_features=4, n_estimators=400 ...................\n",
      "[CV] .... max_depth=7, max_features=4, n_estimators=400, total=   0.4s\n",
      "[CV] max_depth=7, max_features=4, n_estimators=400 ...................\n",
      "[CV] .... max_depth=7, max_features=4, n_estimators=400, total=   0.4s\n",
      "[CV] max_depth=7, max_features=4, n_estimators=400 ...................\n",
      "[CV] .... max_depth=7, max_features=4, n_estimators=400, total=   0.4s\n",
      "[CV] max_depth=7, max_features=4, n_estimators=400 ...................\n",
      "[CV] .... max_depth=7, max_features=4, n_estimators=400, total=   0.4s\n",
      "[CV] max_depth=7, max_features=4, n_estimators=500 ...................\n",
      "[CV] .... max_depth=7, max_features=4, n_estimators=500, total=   0.5s\n",
      "[CV] max_depth=7, max_features=4, n_estimators=500 ...................\n",
      "[CV] .... max_depth=7, max_features=4, n_estimators=500, total=   0.5s\n",
      "[CV] max_depth=7, max_features=4, n_estimators=500 ...................\n",
      "[CV] .... max_depth=7, max_features=4, n_estimators=500, total=   0.5s\n",
      "[CV] max_depth=7, max_features=4, n_estimators=500 ...................\n",
      "[CV] .... max_depth=7, max_features=4, n_estimators=500, total=   0.5s\n",
      "[CV] max_depth=7, max_features=6, n_estimators=100 ...................\n",
      "[CV] .... max_depth=7, max_features=6, n_estimators=100, total=   0.1s\n",
      "[CV] max_depth=7, max_features=6, n_estimators=100 ...................\n",
      "[CV] .... max_depth=7, max_features=6, n_estimators=100, total=   0.1s\n",
      "[CV] max_depth=7, max_features=6, n_estimators=100 ...................\n",
      "[CV] .... max_depth=7, max_features=6, n_estimators=100, total=   0.1s\n",
      "[CV] max_depth=7, max_features=6, n_estimators=100 ...................\n",
      "[CV] .... max_depth=7, max_features=6, n_estimators=100, total=   0.1s\n",
      "[CV] max_depth=7, max_features=6, n_estimators=200 ...................\n",
      "[CV] .... max_depth=7, max_features=6, n_estimators=200, total=   0.2s\n",
      "[CV] max_depth=7, max_features=6, n_estimators=200 ...................\n",
      "[CV] .... max_depth=7, max_features=6, n_estimators=200, total=   0.2s\n",
      "[CV] max_depth=7, max_features=6, n_estimators=200 ...................\n",
      "[CV] .... max_depth=7, max_features=6, n_estimators=200, total=   0.2s\n",
      "[CV] max_depth=7, max_features=6, n_estimators=200 ...................\n",
      "[CV] .... max_depth=7, max_features=6, n_estimators=200, total=   0.2s\n",
      "[CV] max_depth=7, max_features=6, n_estimators=300 ...................\n",
      "[CV] .... max_depth=7, max_features=6, n_estimators=300, total=   0.3s\n",
      "[CV] max_depth=7, max_features=6, n_estimators=300 ...................\n",
      "[CV] .... max_depth=7, max_features=6, n_estimators=300, total=   0.3s\n",
      "[CV] max_depth=7, max_features=6, n_estimators=300 ...................\n",
      "[CV] .... max_depth=7, max_features=6, n_estimators=300, total=   0.3s\n",
      "[CV] max_depth=7, max_features=6, n_estimators=300 ...................\n",
      "[CV] .... max_depth=7, max_features=6, n_estimators=300, total=   0.3s\n",
      "[CV] max_depth=7, max_features=6, n_estimators=400 ...................\n",
      "[CV] .... max_depth=7, max_features=6, n_estimators=400, total=   0.4s\n",
      "[CV] max_depth=7, max_features=6, n_estimators=400 ...................\n",
      "[CV] .... max_depth=7, max_features=6, n_estimators=400, total=   0.4s\n",
      "[CV] max_depth=7, max_features=6, n_estimators=400 ...................\n",
      "[CV] .... max_depth=7, max_features=6, n_estimators=400, total=   0.4s\n",
      "[CV] max_depth=7, max_features=6, n_estimators=400 ...................\n",
      "[CV] .... max_depth=7, max_features=6, n_estimators=400, total=   0.4s\n",
      "[CV] max_depth=7, max_features=6, n_estimators=500 ...................\n",
      "[CV] .... max_depth=7, max_features=6, n_estimators=500, total=   0.5s\n",
      "[CV] max_depth=7, max_features=6, n_estimators=500 ...................\n",
      "[CV] .... max_depth=7, max_features=6, n_estimators=500, total=   0.5s\n",
      "[CV] max_depth=7, max_features=6, n_estimators=500 ...................\n",
      "[CV] .... max_depth=7, max_features=6, n_estimators=500, total=   0.5s\n",
      "[CV] max_depth=7, max_features=6, n_estimators=500 ...................\n",
      "[CV] .... max_depth=7, max_features=6, n_estimators=500, total=   0.5s\n",
      "[CV] max_depth=7, max_features=8, n_estimators=100 ...................\n",
      "[CV] .... max_depth=7, max_features=8, n_estimators=100, total=   0.1s\n",
      "[CV] max_depth=7, max_features=8, n_estimators=100 ...................\n",
      "[CV] .... max_depth=7, max_features=8, n_estimators=100, total=   0.1s\n",
      "[CV] max_depth=7, max_features=8, n_estimators=100 ...................\n",
      "[CV] .... max_depth=7, max_features=8, n_estimators=100, total=   0.1s\n",
      "[CV] max_depth=7, max_features=8, n_estimators=100 ...................\n",
      "[CV] .... max_depth=7, max_features=8, n_estimators=100, total=   0.1s\n",
      "[CV] max_depth=7, max_features=8, n_estimators=200 ...................\n",
      "[CV] .... max_depth=7, max_features=8, n_estimators=200, total=   0.2s\n",
      "[CV] max_depth=7, max_features=8, n_estimators=200 ...................\n",
      "[CV] .... max_depth=7, max_features=8, n_estimators=200, total=   0.2s\n",
      "[CV] max_depth=7, max_features=8, n_estimators=200 ...................\n",
      "[CV] .... max_depth=7, max_features=8, n_estimators=200, total=   0.2s\n",
      "[CV] max_depth=7, max_features=8, n_estimators=200 ...................\n",
      "[CV] .... max_depth=7, max_features=8, n_estimators=200, total=   0.2s\n",
      "[CV] max_depth=7, max_features=8, n_estimators=300 ...................\n",
      "[CV] .... max_depth=7, max_features=8, n_estimators=300, total=   0.3s\n",
      "[CV] max_depth=7, max_features=8, n_estimators=300 ...................\n",
      "[CV] .... max_depth=7, max_features=8, n_estimators=300, total=   0.3s\n",
      "[CV] max_depth=7, max_features=8, n_estimators=300 ...................\n",
      "[CV] .... max_depth=7, max_features=8, n_estimators=300, total=   0.3s\n",
      "[CV] max_depth=7, max_features=8, n_estimators=300 ...................\n",
      "[CV] .... max_depth=7, max_features=8, n_estimators=300, total=   0.3s\n",
      "[CV] max_depth=7, max_features=8, n_estimators=400 ...................\n",
      "[CV] .... max_depth=7, max_features=8, n_estimators=400, total=   0.4s\n",
      "[CV] max_depth=7, max_features=8, n_estimators=400 ...................\n",
      "[CV] .... max_depth=7, max_features=8, n_estimators=400, total=   0.4s\n",
      "[CV] max_depth=7, max_features=8, n_estimators=400 ...................\n",
      "[CV] .... max_depth=7, max_features=8, n_estimators=400, total=   0.4s\n",
      "[CV] max_depth=7, max_features=8, n_estimators=400 ...................\n",
      "[CV] .... max_depth=7, max_features=8, n_estimators=400, total=   0.4s\n",
      "[CV] max_depth=7, max_features=8, n_estimators=500 ...................\n",
      "[CV] .... max_depth=7, max_features=8, n_estimators=500, total=   0.6s\n",
      "[CV] max_depth=7, max_features=8, n_estimators=500 ...................\n",
      "[CV] .... max_depth=7, max_features=8, n_estimators=500, total=   0.5s\n",
      "[CV] max_depth=7, max_features=8, n_estimators=500 ...................\n",
      "[CV] .... max_depth=7, max_features=8, n_estimators=500, total=   0.5s\n",
      "[CV] max_depth=7, max_features=8, n_estimators=500 ...................\n",
      "[CV] .... max_depth=7, max_features=8, n_estimators=500, total=   0.6s\n",
      "[CV] max_depth=7, max_features=10, n_estimators=100 ..................\n",
      "[CV] ... max_depth=7, max_features=10, n_estimators=100, total=   0.1s\n",
      "[CV] max_depth=7, max_features=10, n_estimators=100 ..................\n",
      "[CV] ... max_depth=7, max_features=10, n_estimators=100, total=   0.1s\n",
      "[CV] max_depth=7, max_features=10, n_estimators=100 ..................\n",
      "[CV] ... max_depth=7, max_features=10, n_estimators=100, total=   0.1s\n",
      "[CV] max_depth=7, max_features=10, n_estimators=100 ..................\n",
      "[CV] ... max_depth=7, max_features=10, n_estimators=100, total=   0.1s\n",
      "[CV] max_depth=7, max_features=10, n_estimators=200 ..................\n",
      "[CV] ... max_depth=7, max_features=10, n_estimators=200, total=   0.2s\n",
      "[CV] max_depth=7, max_features=10, n_estimators=200 ..................\n",
      "[CV] ... max_depth=7, max_features=10, n_estimators=200, total=   0.3s\n",
      "[CV] max_depth=7, max_features=10, n_estimators=200 ..................\n",
      "[CV] ... max_depth=7, max_features=10, n_estimators=200, total=   0.2s\n",
      "[CV] max_depth=7, max_features=10, n_estimators=200 ..................\n"
     ]
    },
    {
     "name": "stdout",
     "output_type": "stream",
     "text": [
      "[CV] ... max_depth=7, max_features=10, n_estimators=200, total=   0.2s\n",
      "[CV] max_depth=7, max_features=10, n_estimators=300 ..................\n",
      "[CV] ... max_depth=7, max_features=10, n_estimators=300, total=   0.4s\n",
      "[CV] max_depth=7, max_features=10, n_estimators=300 ..................\n",
      "[CV] ... max_depth=7, max_features=10, n_estimators=300, total=   0.4s\n",
      "[CV] max_depth=7, max_features=10, n_estimators=300 ..................\n",
      "[CV] ... max_depth=7, max_features=10, n_estimators=300, total=   0.4s\n",
      "[CV] max_depth=7, max_features=10, n_estimators=300 ..................\n",
      "[CV] ... max_depth=7, max_features=10, n_estimators=300, total=   0.4s\n",
      "[CV] max_depth=7, max_features=10, n_estimators=400 ..................\n",
      "[CV] ... max_depth=7, max_features=10, n_estimators=400, total=   0.5s\n",
      "[CV] max_depth=7, max_features=10, n_estimators=400 ..................\n",
      "[CV] ... max_depth=7, max_features=10, n_estimators=400, total=   0.5s\n",
      "[CV] max_depth=7, max_features=10, n_estimators=400 ..................\n",
      "[CV] ... max_depth=7, max_features=10, n_estimators=400, total=   0.5s\n",
      "[CV] max_depth=7, max_features=10, n_estimators=400 ..................\n",
      "[CV] ... max_depth=7, max_features=10, n_estimators=400, total=   0.5s\n",
      "[CV] max_depth=7, max_features=10, n_estimators=500 ..................\n",
      "[CV] ... max_depth=7, max_features=10, n_estimators=500, total=   0.6s\n",
      "[CV] max_depth=7, max_features=10, n_estimators=500 ..................\n",
      "[CV] ... max_depth=7, max_features=10, n_estimators=500, total=   0.6s\n",
      "[CV] max_depth=7, max_features=10, n_estimators=500 ..................\n",
      "[CV] ... max_depth=7, max_features=10, n_estimators=500, total=   0.6s\n",
      "[CV] max_depth=7, max_features=10, n_estimators=500 ..................\n",
      "[CV] ... max_depth=7, max_features=10, n_estimators=500, total=   0.6s\n",
      "[CV] max_depth=7, max_features=12, n_estimators=100 ..................\n",
      "[CV] ... max_depth=7, max_features=12, n_estimators=100, total=   0.1s\n",
      "[CV] max_depth=7, max_features=12, n_estimators=100 ..................\n",
      "[CV] ... max_depth=7, max_features=12, n_estimators=100, total=   0.2s\n",
      "[CV] max_depth=7, max_features=12, n_estimators=100 ..................\n",
      "[CV] ... max_depth=7, max_features=12, n_estimators=100, total=   0.1s\n",
      "[CV] max_depth=7, max_features=12, n_estimators=100 ..................\n",
      "[CV] ... max_depth=7, max_features=12, n_estimators=100, total=   0.2s\n",
      "[CV] max_depth=7, max_features=12, n_estimators=200 ..................\n",
      "[CV] ... max_depth=7, max_features=12, n_estimators=200, total=   0.2s\n",
      "[CV] max_depth=7, max_features=12, n_estimators=200 ..................\n",
      "[CV] ... max_depth=7, max_features=12, n_estimators=200, total=   0.3s\n",
      "[CV] max_depth=7, max_features=12, n_estimators=200 ..................\n",
      "[CV] ... max_depth=7, max_features=12, n_estimators=200, total=   0.3s\n",
      "[CV] max_depth=7, max_features=12, n_estimators=200 ..................\n",
      "[CV] ... max_depth=7, max_features=12, n_estimators=200, total=   0.3s\n",
      "[CV] max_depth=7, max_features=12, n_estimators=300 ..................\n",
      "[CV] ... max_depth=7, max_features=12, n_estimators=300, total=   0.4s\n",
      "[CV] max_depth=7, max_features=12, n_estimators=300 ..................\n",
      "[CV] ... max_depth=7, max_features=12, n_estimators=300, total=   0.4s\n",
      "[CV] max_depth=7, max_features=12, n_estimators=300 ..................\n",
      "[CV] ... max_depth=7, max_features=12, n_estimators=300, total=   0.4s\n",
      "[CV] max_depth=7, max_features=12, n_estimators=300 ..................\n",
      "[CV] ... max_depth=7, max_features=12, n_estimators=300, total=   0.4s\n",
      "[CV] max_depth=7, max_features=12, n_estimators=400 ..................\n",
      "[CV] ... max_depth=7, max_features=12, n_estimators=400, total=   0.5s\n",
      "[CV] max_depth=7, max_features=12, n_estimators=400 ..................\n",
      "[CV] ... max_depth=7, max_features=12, n_estimators=400, total=   0.5s\n",
      "[CV] max_depth=7, max_features=12, n_estimators=400 ..................\n",
      "[CV] ... max_depth=7, max_features=12, n_estimators=400, total=   0.5s\n",
      "[CV] max_depth=7, max_features=12, n_estimators=400 ..................\n",
      "[CV] ... max_depth=7, max_features=12, n_estimators=400, total=   0.5s\n",
      "[CV] max_depth=7, max_features=12, n_estimators=500 ..................\n",
      "[CV] ... max_depth=7, max_features=12, n_estimators=500, total=   0.6s\n",
      "[CV] max_depth=7, max_features=12, n_estimators=500 ..................\n",
      "[CV] ... max_depth=7, max_features=12, n_estimators=500, total=   0.6s\n",
      "[CV] max_depth=7, max_features=12, n_estimators=500 ..................\n",
      "[CV] ... max_depth=7, max_features=12, n_estimators=500, total=   0.6s\n",
      "[CV] max_depth=7, max_features=12, n_estimators=500 ..................\n",
      "[CV] ... max_depth=7, max_features=12, n_estimators=500, total=   0.6s\n",
      "[CV] max_depth=7, max_features=14, n_estimators=100 ..................\n",
      "[CV] ... max_depth=7, max_features=14, n_estimators=100, total=   0.1s\n",
      "[CV] max_depth=7, max_features=14, n_estimators=100 ..................\n",
      "[CV] ... max_depth=7, max_features=14, n_estimators=100, total=   0.2s\n",
      "[CV] max_depth=7, max_features=14, n_estimators=100 ..................\n",
      "[CV] ... max_depth=7, max_features=14, n_estimators=100, total=   0.2s\n",
      "[CV] max_depth=7, max_features=14, n_estimators=100 ..................\n",
      "[CV] ... max_depth=7, max_features=14, n_estimators=100, total=   0.1s\n",
      "[CV] max_depth=7, max_features=14, n_estimators=200 ..................\n",
      "[CV] ... max_depth=7, max_features=14, n_estimators=200, total=   0.3s\n",
      "[CV] max_depth=7, max_features=14, n_estimators=200 ..................\n",
      "[CV] ... max_depth=7, max_features=14, n_estimators=200, total=   0.3s\n",
      "[CV] max_depth=7, max_features=14, n_estimators=200 ..................\n",
      "[CV] ... max_depth=7, max_features=14, n_estimators=200, total=   0.3s\n",
      "[CV] max_depth=7, max_features=14, n_estimators=200 ..................\n",
      "[CV] ... max_depth=7, max_features=14, n_estimators=200, total=   0.3s\n",
      "[CV] max_depth=7, max_features=14, n_estimators=300 ..................\n",
      "[CV] ... max_depth=7, max_features=14, n_estimators=300, total=   0.4s\n",
      "[CV] max_depth=7, max_features=14, n_estimators=300 ..................\n",
      "[CV] ... max_depth=7, max_features=14, n_estimators=300, total=   0.4s\n",
      "[CV] max_depth=7, max_features=14, n_estimators=300 ..................\n",
      "[CV] ... max_depth=7, max_features=14, n_estimators=300, total=   0.4s\n",
      "[CV] max_depth=7, max_features=14, n_estimators=300 ..................\n",
      "[CV] ... max_depth=7, max_features=14, n_estimators=300, total=   0.4s\n",
      "[CV] max_depth=7, max_features=14, n_estimators=400 ..................\n",
      "[CV] ... max_depth=7, max_features=14, n_estimators=400, total=   0.5s\n",
      "[CV] max_depth=7, max_features=14, n_estimators=400 ..................\n",
      "[CV] ... max_depth=7, max_features=14, n_estimators=400, total=   0.5s\n",
      "[CV] max_depth=7, max_features=14, n_estimators=400 ..................\n",
      "[CV] ... max_depth=7, max_features=14, n_estimators=400, total=   0.5s\n",
      "[CV] max_depth=7, max_features=14, n_estimators=400 ..................\n",
      "[CV] ... max_depth=7, max_features=14, n_estimators=400, total=   0.5s\n",
      "[CV] max_depth=7, max_features=14, n_estimators=500 ..................\n",
      "[CV] ... max_depth=7, max_features=14, n_estimators=500, total=   0.7s\n",
      "[CV] max_depth=7, max_features=14, n_estimators=500 ..................\n",
      "[CV] ... max_depth=7, max_features=14, n_estimators=500, total=   0.7s\n",
      "[CV] max_depth=7, max_features=14, n_estimators=500 ..................\n",
      "[CV] ... max_depth=7, max_features=14, n_estimators=500, total=   0.7s\n",
      "[CV] max_depth=7, max_features=14, n_estimators=500 ..................\n",
      "[CV] ... max_depth=7, max_features=14, n_estimators=500, total=   0.7s\n",
      "[CV] max_depth=7, max_features=16, n_estimators=100 ..................\n",
      "[CV] ... max_depth=7, max_features=16, n_estimators=100, total=   0.2s\n",
      "[CV] max_depth=7, max_features=16, n_estimators=100 ..................\n",
      "[CV] ... max_depth=7, max_features=16, n_estimators=100, total=   0.2s\n",
      "[CV] max_depth=7, max_features=16, n_estimators=100 ..................\n",
      "[CV] ... max_depth=7, max_features=16, n_estimators=100, total=   0.2s\n",
      "[CV] max_depth=7, max_features=16, n_estimators=100 ..................\n",
      "[CV] ... max_depth=7, max_features=16, n_estimators=100, total=   0.2s\n",
      "[CV] max_depth=7, max_features=16, n_estimators=200 ..................\n",
      "[CV] ... max_depth=7, max_features=16, n_estimators=200, total=   0.3s\n",
      "[CV] max_depth=7, max_features=16, n_estimators=200 ..................\n"
     ]
    },
    {
     "name": "stdout",
     "output_type": "stream",
     "text": [
      "[CV] ... max_depth=7, max_features=16, n_estimators=200, total=   0.3s\n",
      "[CV] max_depth=7, max_features=16, n_estimators=200 ..................\n",
      "[CV] ... max_depth=7, max_features=16, n_estimators=200, total=   0.3s\n",
      "[CV] max_depth=7, max_features=16, n_estimators=200 ..................\n",
      "[CV] ... max_depth=7, max_features=16, n_estimators=200, total=   0.3s\n",
      "[CV] max_depth=7, max_features=16, n_estimators=300 ..................\n",
      "[CV] ... max_depth=7, max_features=16, n_estimators=300, total=   0.4s\n",
      "[CV] max_depth=7, max_features=16, n_estimators=300 ..................\n",
      "[CV] ... max_depth=7, max_features=16, n_estimators=300, total=   0.4s\n",
      "[CV] max_depth=7, max_features=16, n_estimators=300 ..................\n",
      "[CV] ... max_depth=7, max_features=16, n_estimators=300, total=   0.4s\n",
      "[CV] max_depth=7, max_features=16, n_estimators=300 ..................\n",
      "[CV] ... max_depth=7, max_features=16, n_estimators=300, total=   0.4s\n",
      "[CV] max_depth=7, max_features=16, n_estimators=400 ..................\n",
      "[CV] ... max_depth=7, max_features=16, n_estimators=400, total=   0.6s\n",
      "[CV] max_depth=7, max_features=16, n_estimators=400 ..................\n",
      "[CV] ... max_depth=7, max_features=16, n_estimators=400, total=   0.6s\n",
      "[CV] max_depth=7, max_features=16, n_estimators=400 ..................\n",
      "[CV] ... max_depth=7, max_features=16, n_estimators=400, total=   0.6s\n",
      "[CV] max_depth=7, max_features=16, n_estimators=400 ..................\n",
      "[CV] ... max_depth=7, max_features=16, n_estimators=400, total=   0.6s\n",
      "[CV] max_depth=7, max_features=16, n_estimators=500 ..................\n",
      "[CV] ... max_depth=7, max_features=16, n_estimators=500, total=   0.7s\n",
      "[CV] max_depth=7, max_features=16, n_estimators=500 ..................\n",
      "[CV] ... max_depth=7, max_features=16, n_estimators=500, total=   0.7s\n",
      "[CV] max_depth=7, max_features=16, n_estimators=500 ..................\n",
      "[CV] ... max_depth=7, max_features=16, n_estimators=500, total=   0.7s\n",
      "[CV] max_depth=7, max_features=16, n_estimators=500 ..................\n",
      "[CV] ... max_depth=7, max_features=16, n_estimators=500, total=   0.7s\n",
      "[CV] max_depth=9, max_features=2, n_estimators=100 ...................\n",
      "[CV] .... max_depth=9, max_features=2, n_estimators=100, total=   0.1s\n",
      "[CV] max_depth=9, max_features=2, n_estimators=100 ...................\n",
      "[CV] .... max_depth=9, max_features=2, n_estimators=100, total=   0.1s\n",
      "[CV] max_depth=9, max_features=2, n_estimators=100 ...................\n",
      "[CV] .... max_depth=9, max_features=2, n_estimators=100, total=   0.1s\n",
      "[CV] max_depth=9, max_features=2, n_estimators=100 ...................\n",
      "[CV] .... max_depth=9, max_features=2, n_estimators=100, total=   0.1s\n",
      "[CV] max_depth=9, max_features=2, n_estimators=200 ...................\n",
      "[CV] .... max_depth=9, max_features=2, n_estimators=200, total=   0.2s\n",
      "[CV] max_depth=9, max_features=2, n_estimators=200 ...................\n",
      "[CV] .... max_depth=9, max_features=2, n_estimators=200, total=   0.2s\n",
      "[CV] max_depth=9, max_features=2, n_estimators=200 ...................\n",
      "[CV] .... max_depth=9, max_features=2, n_estimators=200, total=   0.2s\n",
      "[CV] max_depth=9, max_features=2, n_estimators=200 ...................\n",
      "[CV] .... max_depth=9, max_features=2, n_estimators=200, total=   0.2s\n",
      "[CV] max_depth=9, max_features=2, n_estimators=300 ...................\n",
      "[CV] .... max_depth=9, max_features=2, n_estimators=300, total=   0.3s\n",
      "[CV] max_depth=9, max_features=2, n_estimators=300 ...................\n",
      "[CV] .... max_depth=9, max_features=2, n_estimators=300, total=   0.3s\n",
      "[CV] max_depth=9, max_features=2, n_estimators=300 ...................\n",
      "[CV] .... max_depth=9, max_features=2, n_estimators=300, total=   0.3s\n",
      "[CV] max_depth=9, max_features=2, n_estimators=300 ...................\n",
      "[CV] .... max_depth=9, max_features=2, n_estimators=300, total=   0.3s\n",
      "[CV] max_depth=9, max_features=2, n_estimators=400 ...................\n",
      "[CV] .... max_depth=9, max_features=2, n_estimators=400, total=   0.4s\n",
      "[CV] max_depth=9, max_features=2, n_estimators=400 ...................\n",
      "[CV] .... max_depth=9, max_features=2, n_estimators=400, total=   0.4s\n",
      "[CV] max_depth=9, max_features=2, n_estimators=400 ...................\n",
      "[CV] .... max_depth=9, max_features=2, n_estimators=400, total=   0.4s\n",
      "[CV] max_depth=9, max_features=2, n_estimators=400 ...................\n",
      "[CV] .... max_depth=9, max_features=2, n_estimators=400, total=   0.4s\n",
      "[CV] max_depth=9, max_features=2, n_estimators=500 ...................\n",
      "[CV] .... max_depth=9, max_features=2, n_estimators=500, total=   0.5s\n",
      "[CV] max_depth=9, max_features=2, n_estimators=500 ...................\n",
      "[CV] .... max_depth=9, max_features=2, n_estimators=500, total=   0.5s\n",
      "[CV] max_depth=9, max_features=2, n_estimators=500 ...................\n",
      "[CV] .... max_depth=9, max_features=2, n_estimators=500, total=   0.5s\n",
      "[CV] max_depth=9, max_features=2, n_estimators=500 ...................\n",
      "[CV] .... max_depth=9, max_features=2, n_estimators=500, total=   0.5s\n",
      "[CV] max_depth=9, max_features=4, n_estimators=100 ...................\n",
      "[CV] .... max_depth=9, max_features=4, n_estimators=100, total=   0.1s\n",
      "[CV] max_depth=9, max_features=4, n_estimators=100 ...................\n",
      "[CV] .... max_depth=9, max_features=4, n_estimators=100, total=   0.1s\n",
      "[CV] max_depth=9, max_features=4, n_estimators=100 ...................\n",
      "[CV] .... max_depth=9, max_features=4, n_estimators=100, total=   0.1s\n",
      "[CV] max_depth=9, max_features=4, n_estimators=100 ...................\n",
      "[CV] .... max_depth=9, max_features=4, n_estimators=100, total=   0.1s\n",
      "[CV] max_depth=9, max_features=4, n_estimators=200 ...................\n",
      "[CV] .... max_depth=9, max_features=4, n_estimators=200, total=   0.2s\n",
      "[CV] max_depth=9, max_features=4, n_estimators=200 ...................\n",
      "[CV] .... max_depth=9, max_features=4, n_estimators=200, total=   0.2s\n",
      "[CV] max_depth=9, max_features=4, n_estimators=200 ...................\n",
      "[CV] .... max_depth=9, max_features=4, n_estimators=200, total=   0.2s\n",
      "[CV] max_depth=9, max_features=4, n_estimators=200 ...................\n",
      "[CV] .... max_depth=9, max_features=4, n_estimators=200, total=   0.2s\n",
      "[CV] max_depth=9, max_features=4, n_estimators=300 ...................\n",
      "[CV] .... max_depth=9, max_features=4, n_estimators=300, total=   0.3s\n",
      "[CV] max_depth=9, max_features=4, n_estimators=300 ...................\n",
      "[CV] .... max_depth=9, max_features=4, n_estimators=300, total=   0.3s\n",
      "[CV] max_depth=9, max_features=4, n_estimators=300 ...................\n",
      "[CV] .... max_depth=9, max_features=4, n_estimators=300, total=   0.3s\n",
      "[CV] max_depth=9, max_features=4, n_estimators=300 ...................\n",
      "[CV] .... max_depth=9, max_features=4, n_estimators=300, total=   0.3s\n",
      "[CV] max_depth=9, max_features=4, n_estimators=400 ...................\n",
      "[CV] .... max_depth=9, max_features=4, n_estimators=400, total=   0.5s\n",
      "[CV] max_depth=9, max_features=4, n_estimators=400 ...................\n",
      "[CV] .... max_depth=9, max_features=4, n_estimators=400, total=   0.4s\n",
      "[CV] max_depth=9, max_features=4, n_estimators=400 ...................\n",
      "[CV] .... max_depth=9, max_features=4, n_estimators=400, total=   0.4s\n",
      "[CV] max_depth=9, max_features=4, n_estimators=400 ...................\n",
      "[CV] .... max_depth=9, max_features=4, n_estimators=400, total=   0.4s\n",
      "[CV] max_depth=9, max_features=4, n_estimators=500 ...................\n",
      "[CV] .... max_depth=9, max_features=4, n_estimators=500, total=   0.6s\n",
      "[CV] max_depth=9, max_features=4, n_estimators=500 ...................\n",
      "[CV] .... max_depth=9, max_features=4, n_estimators=500, total=   0.6s\n",
      "[CV] max_depth=9, max_features=4, n_estimators=500 ...................\n",
      "[CV] .... max_depth=9, max_features=4, n_estimators=500, total=   0.5s\n",
      "[CV] max_depth=9, max_features=4, n_estimators=500 ...................\n",
      "[CV] .... max_depth=9, max_features=4, n_estimators=500, total=   0.6s\n",
      "[CV] max_depth=9, max_features=6, n_estimators=100 ...................\n",
      "[CV] .... max_depth=9, max_features=6, n_estimators=100, total=   0.1s\n",
      "[CV] max_depth=9, max_features=6, n_estimators=100 ...................\n",
      "[CV] .... max_depth=9, max_features=6, n_estimators=100, total=   0.1s\n",
      "[CV] max_depth=9, max_features=6, n_estimators=100 ...................\n",
      "[CV] .... max_depth=9, max_features=6, n_estimators=100, total=   0.1s\n",
      "[CV] max_depth=9, max_features=6, n_estimators=100 ...................\n"
     ]
    },
    {
     "name": "stdout",
     "output_type": "stream",
     "text": [
      "[CV] .... max_depth=9, max_features=6, n_estimators=100, total=   0.1s\n",
      "[CV] max_depth=9, max_features=6, n_estimators=200 ...................\n",
      "[CV] .... max_depth=9, max_features=6, n_estimators=200, total=   0.3s\n",
      "[CV] max_depth=9, max_features=6, n_estimators=200 ...................\n",
      "[CV] .... max_depth=9, max_features=6, n_estimators=200, total=   0.3s\n",
      "[CV] max_depth=9, max_features=6, n_estimators=200 ...................\n",
      "[CV] .... max_depth=9, max_features=6, n_estimators=200, total=   0.3s\n",
      "[CV] max_depth=9, max_features=6, n_estimators=200 ...................\n",
      "[CV] .... max_depth=9, max_features=6, n_estimators=200, total=   0.3s\n",
      "[CV] max_depth=9, max_features=6, n_estimators=300 ...................\n",
      "[CV] .... max_depth=9, max_features=6, n_estimators=300, total=   0.4s\n",
      "[CV] max_depth=9, max_features=6, n_estimators=300 ...................\n",
      "[CV] .... max_depth=9, max_features=6, n_estimators=300, total=   0.4s\n",
      "[CV] max_depth=9, max_features=6, n_estimators=300 ...................\n",
      "[CV] .... max_depth=9, max_features=6, n_estimators=300, total=   0.4s\n",
      "[CV] max_depth=9, max_features=6, n_estimators=300 ...................\n",
      "[CV] .... max_depth=9, max_features=6, n_estimators=300, total=   0.4s\n",
      "[CV] max_depth=9, max_features=6, n_estimators=400 ...................\n",
      "[CV] .... max_depth=9, max_features=6, n_estimators=400, total=   0.5s\n",
      "[CV] max_depth=9, max_features=6, n_estimators=400 ...................\n",
      "[CV] .... max_depth=9, max_features=6, n_estimators=400, total=   0.5s\n",
      "[CV] max_depth=9, max_features=6, n_estimators=400 ...................\n",
      "[CV] .... max_depth=9, max_features=6, n_estimators=400, total=   0.5s\n",
      "[CV] max_depth=9, max_features=6, n_estimators=400 ...................\n",
      "[CV] .... max_depth=9, max_features=6, n_estimators=400, total=   0.5s\n",
      "[CV] max_depth=9, max_features=6, n_estimators=500 ...................\n",
      "[CV] .... max_depth=9, max_features=6, n_estimators=500, total=   0.6s\n",
      "[CV] max_depth=9, max_features=6, n_estimators=500 ...................\n",
      "[CV] .... max_depth=9, max_features=6, n_estimators=500, total=   0.6s\n",
      "[CV] max_depth=9, max_features=6, n_estimators=500 ...................\n",
      "[CV] .... max_depth=9, max_features=6, n_estimators=500, total=   0.6s\n",
      "[CV] max_depth=9, max_features=6, n_estimators=500 ...................\n",
      "[CV] .... max_depth=9, max_features=6, n_estimators=500, total=   0.6s\n",
      "[CV] max_depth=9, max_features=8, n_estimators=100 ...................\n",
      "[CV] .... max_depth=9, max_features=8, n_estimators=100, total=   0.1s\n",
      "[CV] max_depth=9, max_features=8, n_estimators=100 ...................\n",
      "[CV] .... max_depth=9, max_features=8, n_estimators=100, total=   0.1s\n",
      "[CV] max_depth=9, max_features=8, n_estimators=100 ...................\n",
      "[CV] .... max_depth=9, max_features=8, n_estimators=100, total=   0.1s\n",
      "[CV] max_depth=9, max_features=8, n_estimators=100 ...................\n",
      "[CV] .... max_depth=9, max_features=8, n_estimators=100, total=   0.1s\n",
      "[CV] max_depth=9, max_features=8, n_estimators=200 ...................\n",
      "[CV] .... max_depth=9, max_features=8, n_estimators=200, total=   0.3s\n",
      "[CV] max_depth=9, max_features=8, n_estimators=200 ...................\n",
      "[CV] .... max_depth=9, max_features=8, n_estimators=200, total=   0.3s\n",
      "[CV] max_depth=9, max_features=8, n_estimators=200 ...................\n",
      "[CV] .... max_depth=9, max_features=8, n_estimators=200, total=   0.3s\n",
      "[CV] max_depth=9, max_features=8, n_estimators=200 ...................\n",
      "[CV] .... max_depth=9, max_features=8, n_estimators=200, total=   0.3s\n",
      "[CV] max_depth=9, max_features=8, n_estimators=300 ...................\n",
      "[CV] .... max_depth=9, max_features=8, n_estimators=300, total=   0.4s\n",
      "[CV] max_depth=9, max_features=8, n_estimators=300 ...................\n",
      "[CV] .... max_depth=9, max_features=8, n_estimators=300, total=   0.4s\n",
      "[CV] max_depth=9, max_features=8, n_estimators=300 ...................\n",
      "[CV] .... max_depth=9, max_features=8, n_estimators=300, total=   0.4s\n",
      "[CV] max_depth=9, max_features=8, n_estimators=300 ...................\n",
      "[CV] .... max_depth=9, max_features=8, n_estimators=300, total=   0.4s\n",
      "[CV] max_depth=9, max_features=8, n_estimators=400 ...................\n",
      "[CV] .... max_depth=9, max_features=8, n_estimators=400, total=   0.5s\n",
      "[CV] max_depth=9, max_features=8, n_estimators=400 ...................\n",
      "[CV] .... max_depth=9, max_features=8, n_estimators=400, total=   0.5s\n",
      "[CV] max_depth=9, max_features=8, n_estimators=400 ...................\n",
      "[CV] .... max_depth=9, max_features=8, n_estimators=400, total=   0.5s\n",
      "[CV] max_depth=9, max_features=8, n_estimators=400 ...................\n",
      "[CV] .... max_depth=9, max_features=8, n_estimators=400, total=   0.5s\n",
      "[CV] max_depth=9, max_features=8, n_estimators=500 ...................\n",
      "[CV] .... max_depth=9, max_features=8, n_estimators=500, total=   0.6s\n",
      "[CV] max_depth=9, max_features=8, n_estimators=500 ...................\n",
      "[CV] .... max_depth=9, max_features=8, n_estimators=500, total=   0.6s\n",
      "[CV] max_depth=9, max_features=8, n_estimators=500 ...................\n",
      "[CV] .... max_depth=9, max_features=8, n_estimators=500, total=   0.6s\n",
      "[CV] max_depth=9, max_features=8, n_estimators=500 ...................\n",
      "[CV] .... max_depth=9, max_features=8, n_estimators=500, total=   0.6s\n",
      "[CV] max_depth=9, max_features=10, n_estimators=100 ..................\n",
      "[CV] ... max_depth=9, max_features=10, n_estimators=100, total=   0.2s\n",
      "[CV] max_depth=9, max_features=10, n_estimators=100 ..................\n",
      "[CV] ... max_depth=9, max_features=10, n_estimators=100, total=   0.1s\n",
      "[CV] max_depth=9, max_features=10, n_estimators=100 ..................\n",
      "[CV] ... max_depth=9, max_features=10, n_estimators=100, total=   0.2s\n",
      "[CV] max_depth=9, max_features=10, n_estimators=100 ..................\n",
      "[CV] ... max_depth=9, max_features=10, n_estimators=100, total=   0.2s\n",
      "[CV] max_depth=9, max_features=10, n_estimators=200 ..................\n",
      "[CV] ... max_depth=9, max_features=10, n_estimators=200, total=   0.3s\n",
      "[CV] max_depth=9, max_features=10, n_estimators=200 ..................\n",
      "[CV] ... max_depth=9, max_features=10, n_estimators=200, total=   0.3s\n",
      "[CV] max_depth=9, max_features=10, n_estimators=200 ..................\n",
      "[CV] ... max_depth=9, max_features=10, n_estimators=200, total=   0.3s\n",
      "[CV] max_depth=9, max_features=10, n_estimators=200 ..................\n",
      "[CV] ... max_depth=9, max_features=10, n_estimators=200, total=   0.3s\n",
      "[CV] max_depth=9, max_features=10, n_estimators=300 ..................\n",
      "[CV] ... max_depth=9, max_features=10, n_estimators=300, total=   0.4s\n",
      "[CV] max_depth=9, max_features=10, n_estimators=300 ..................\n",
      "[CV] ... max_depth=9, max_features=10, n_estimators=300, total=   0.4s\n",
      "[CV] max_depth=9, max_features=10, n_estimators=300 ..................\n",
      "[CV] ... max_depth=9, max_features=10, n_estimators=300, total=   0.4s\n",
      "[CV] max_depth=9, max_features=10, n_estimators=300 ..................\n",
      "[CV] ... max_depth=9, max_features=10, n_estimators=300, total=   0.4s\n",
      "[CV] max_depth=9, max_features=10, n_estimators=400 ..................\n",
      "[CV] ... max_depth=9, max_features=10, n_estimators=400, total=   0.5s\n",
      "[CV] max_depth=9, max_features=10, n_estimators=400 ..................\n",
      "[CV] ... max_depth=9, max_features=10, n_estimators=400, total=   0.5s\n",
      "[CV] max_depth=9, max_features=10, n_estimators=400 ..................\n",
      "[CV] ... max_depth=9, max_features=10, n_estimators=400, total=   0.5s\n",
      "[CV] max_depth=9, max_features=10, n_estimators=400 ..................\n",
      "[CV] ... max_depth=9, max_features=10, n_estimators=400, total=   0.5s\n",
      "[CV] max_depth=9, max_features=10, n_estimators=500 ..................\n",
      "[CV] ... max_depth=9, max_features=10, n_estimators=500, total=   0.7s\n",
      "[CV] max_depth=9, max_features=10, n_estimators=500 ..................\n",
      "[CV] ... max_depth=9, max_features=10, n_estimators=500, total=   0.7s\n",
      "[CV] max_depth=9, max_features=10, n_estimators=500 ..................\n",
      "[CV] ... max_depth=9, max_features=10, n_estimators=500, total=   0.7s\n",
      "[CV] max_depth=9, max_features=10, n_estimators=500 ..................\n",
      "[CV] ... max_depth=9, max_features=10, n_estimators=500, total=   0.7s\n",
      "[CV] max_depth=9, max_features=12, n_estimators=100 ..................\n",
      "[CV] ... max_depth=9, max_features=12, n_estimators=100, total=   0.2s\n",
      "[CV] max_depth=9, max_features=12, n_estimators=100 ..................\n"
     ]
    },
    {
     "name": "stdout",
     "output_type": "stream",
     "text": [
      "[CV] ... max_depth=9, max_features=12, n_estimators=100, total=   0.2s\n",
      "[CV] max_depth=9, max_features=12, n_estimators=100 ..................\n",
      "[CV] ... max_depth=9, max_features=12, n_estimators=100, total=   0.2s\n",
      "[CV] max_depth=9, max_features=12, n_estimators=100 ..................\n",
      "[CV] ... max_depth=9, max_features=12, n_estimators=100, total=   0.2s\n",
      "[CV] max_depth=9, max_features=12, n_estimators=200 ..................\n",
      "[CV] ... max_depth=9, max_features=12, n_estimators=200, total=   0.3s\n",
      "[CV] max_depth=9, max_features=12, n_estimators=200 ..................\n",
      "[CV] ... max_depth=9, max_features=12, n_estimators=200, total=   0.3s\n",
      "[CV] max_depth=9, max_features=12, n_estimators=200 ..................\n",
      "[CV] ... max_depth=9, max_features=12, n_estimators=200, total=   0.3s\n",
      "[CV] max_depth=9, max_features=12, n_estimators=200 ..................\n",
      "[CV] ... max_depth=9, max_features=12, n_estimators=200, total=   0.3s\n",
      "[CV] max_depth=9, max_features=12, n_estimators=300 ..................\n",
      "[CV] ... max_depth=9, max_features=12, n_estimators=300, total=   0.4s\n",
      "[CV] max_depth=9, max_features=12, n_estimators=300 ..................\n",
      "[CV] ... max_depth=9, max_features=12, n_estimators=300, total=   0.4s\n",
      "[CV] max_depth=9, max_features=12, n_estimators=300 ..................\n",
      "[CV] ... max_depth=9, max_features=12, n_estimators=300, total=   0.4s\n",
      "[CV] max_depth=9, max_features=12, n_estimators=300 ..................\n",
      "[CV] ... max_depth=9, max_features=12, n_estimators=300, total=   0.4s\n",
      "[CV] max_depth=9, max_features=12, n_estimators=400 ..................\n",
      "[CV] ... max_depth=9, max_features=12, n_estimators=400, total=   0.6s\n",
      "[CV] max_depth=9, max_features=12, n_estimators=400 ..................\n",
      "[CV] ... max_depth=9, max_features=12, n_estimators=400, total=   0.6s\n",
      "[CV] max_depth=9, max_features=12, n_estimators=400 ..................\n",
      "[CV] ... max_depth=9, max_features=12, n_estimators=400, total=   0.6s\n",
      "[CV] max_depth=9, max_features=12, n_estimators=400 ..................\n",
      "[CV] ... max_depth=9, max_features=12, n_estimators=400, total=   0.6s\n",
      "[CV] max_depth=9, max_features=12, n_estimators=500 ..................\n",
      "[CV] ... max_depth=9, max_features=12, n_estimators=500, total=   0.7s\n",
      "[CV] max_depth=9, max_features=12, n_estimators=500 ..................\n",
      "[CV] ... max_depth=9, max_features=12, n_estimators=500, total=   0.7s\n",
      "[CV] max_depth=9, max_features=12, n_estimators=500 ..................\n",
      "[CV] ... max_depth=9, max_features=12, n_estimators=500, total=   0.7s\n",
      "[CV] max_depth=9, max_features=12, n_estimators=500 ..................\n",
      "[CV] ... max_depth=9, max_features=12, n_estimators=500, total=   0.7s\n",
      "[CV] max_depth=9, max_features=14, n_estimators=100 ..................\n",
      "[CV] ... max_depth=9, max_features=14, n_estimators=100, total=   0.2s\n",
      "[CV] max_depth=9, max_features=14, n_estimators=100 ..................\n",
      "[CV] ... max_depth=9, max_features=14, n_estimators=100, total=   0.2s\n",
      "[CV] max_depth=9, max_features=14, n_estimators=100 ..................\n",
      "[CV] ... max_depth=9, max_features=14, n_estimators=100, total=   0.2s\n",
      "[CV] max_depth=9, max_features=14, n_estimators=100 ..................\n",
      "[CV] ... max_depth=9, max_features=14, n_estimators=100, total=   0.2s\n",
      "[CV] max_depth=9, max_features=14, n_estimators=200 ..................\n",
      "[CV] ... max_depth=9, max_features=14, n_estimators=200, total=   0.3s\n",
      "[CV] max_depth=9, max_features=14, n_estimators=200 ..................\n",
      "[CV] ... max_depth=9, max_features=14, n_estimators=200, total=   0.3s\n",
      "[CV] max_depth=9, max_features=14, n_estimators=200 ..................\n",
      "[CV] ... max_depth=9, max_features=14, n_estimators=200, total=   0.3s\n",
      "[CV] max_depth=9, max_features=14, n_estimators=200 ..................\n",
      "[CV] ... max_depth=9, max_features=14, n_estimators=200, total=   0.3s\n",
      "[CV] max_depth=9, max_features=14, n_estimators=300 ..................\n",
      "[CV] ... max_depth=9, max_features=14, n_estimators=300, total=   0.5s\n",
      "[CV] max_depth=9, max_features=14, n_estimators=300 ..................\n",
      "[CV] ... max_depth=9, max_features=14, n_estimators=300, total=   0.5s\n",
      "[CV] max_depth=9, max_features=14, n_estimators=300 ..................\n",
      "[CV] ... max_depth=9, max_features=14, n_estimators=300, total=   0.5s\n",
      "[CV] max_depth=9, max_features=14, n_estimators=300 ..................\n",
      "[CV] ... max_depth=9, max_features=14, n_estimators=300, total=   0.5s\n",
      "[CV] max_depth=9, max_features=14, n_estimators=400 ..................\n",
      "[CV] ... max_depth=9, max_features=14, n_estimators=400, total=   0.6s\n",
      "[CV] max_depth=9, max_features=14, n_estimators=400 ..................\n",
      "[CV] ... max_depth=9, max_features=14, n_estimators=400, total=   0.6s\n",
      "[CV] max_depth=9, max_features=14, n_estimators=400 ..................\n",
      "[CV] ... max_depth=9, max_features=14, n_estimators=400, total=   0.6s\n",
      "[CV] max_depth=9, max_features=14, n_estimators=400 ..................\n",
      "[CV] ... max_depth=9, max_features=14, n_estimators=400, total=   0.6s\n",
      "[CV] max_depth=9, max_features=14, n_estimators=500 ..................\n",
      "[CV] ... max_depth=9, max_features=14, n_estimators=500, total=   0.8s\n",
      "[CV] max_depth=9, max_features=14, n_estimators=500 ..................\n",
      "[CV] ... max_depth=9, max_features=14, n_estimators=500, total=   0.8s\n",
      "[CV] max_depth=9, max_features=14, n_estimators=500 ..................\n",
      "[CV] ... max_depth=9, max_features=14, n_estimators=500, total=   0.8s\n",
      "[CV] max_depth=9, max_features=14, n_estimators=500 ..................\n",
      "[CV] ... max_depth=9, max_features=14, n_estimators=500, total=   0.8s\n",
      "[CV] max_depth=9, max_features=16, n_estimators=100 ..................\n",
      "[CV] ... max_depth=9, max_features=16, n_estimators=100, total=   0.2s\n",
      "[CV] max_depth=9, max_features=16, n_estimators=100 ..................\n",
      "[CV] ... max_depth=9, max_features=16, n_estimators=100, total=   0.2s\n",
      "[CV] max_depth=9, max_features=16, n_estimators=100 ..................\n",
      "[CV] ... max_depth=9, max_features=16, n_estimators=100, total=   0.2s\n",
      "[CV] max_depth=9, max_features=16, n_estimators=100 ..................\n",
      "[CV] ... max_depth=9, max_features=16, n_estimators=100, total=   0.2s\n",
      "[CV] max_depth=9, max_features=16, n_estimators=200 ..................\n",
      "[CV] ... max_depth=9, max_features=16, n_estimators=200, total=   0.3s\n",
      "[CV] max_depth=9, max_features=16, n_estimators=200 ..................\n",
      "[CV] ... max_depth=9, max_features=16, n_estimators=200, total=   0.3s\n",
      "[CV] max_depth=9, max_features=16, n_estimators=200 ..................\n",
      "[CV] ... max_depth=9, max_features=16, n_estimators=200, total=   0.3s\n",
      "[CV] max_depth=9, max_features=16, n_estimators=200 ..................\n",
      "[CV] ... max_depth=9, max_features=16, n_estimators=200, total=   0.3s\n",
      "[CV] max_depth=9, max_features=16, n_estimators=300 ..................\n",
      "[CV] ... max_depth=9, max_features=16, n_estimators=300, total=   0.5s\n",
      "[CV] max_depth=9, max_features=16, n_estimators=300 ..................\n",
      "[CV] ... max_depth=9, max_features=16, n_estimators=300, total=   0.5s\n",
      "[CV] max_depth=9, max_features=16, n_estimators=300 ..................\n",
      "[CV] ... max_depth=9, max_features=16, n_estimators=300, total=   0.5s\n",
      "[CV] max_depth=9, max_features=16, n_estimators=300 ..................\n",
      "[CV] ... max_depth=9, max_features=16, n_estimators=300, total=   0.5s\n",
      "[CV] max_depth=9, max_features=16, n_estimators=400 ..................\n",
      "[CV] ... max_depth=9, max_features=16, n_estimators=400, total=   0.6s\n",
      "[CV] max_depth=9, max_features=16, n_estimators=400 ..................\n",
      "[CV] ... max_depth=9, max_features=16, n_estimators=400, total=   0.6s\n",
      "[CV] max_depth=9, max_features=16, n_estimators=400 ..................\n",
      "[CV] ... max_depth=9, max_features=16, n_estimators=400, total=   0.6s\n",
      "[CV] max_depth=9, max_features=16, n_estimators=400 ..................\n",
      "[CV] ... max_depth=9, max_features=16, n_estimators=400, total=   0.6s\n",
      "[CV] max_depth=9, max_features=16, n_estimators=500 ..................\n",
      "[CV] ... max_depth=9, max_features=16, n_estimators=500, total=   0.8s\n",
      "[CV] max_depth=9, max_features=16, n_estimators=500 ..................\n",
      "[CV] ... max_depth=9, max_features=16, n_estimators=500, total=   0.8s\n",
      "[CV] max_depth=9, max_features=16, n_estimators=500 ..................\n",
      "[CV] ... max_depth=9, max_features=16, n_estimators=500, total=   0.8s\n",
      "[CV] max_depth=9, max_features=16, n_estimators=500 ..................\n"
     ]
    },
    {
     "name": "stdout",
     "output_type": "stream",
     "text": [
      "[CV] ... max_depth=9, max_features=16, n_estimators=500, total=   0.8s\n",
      "[CV] max_depth=10, max_features=2, n_estimators=100 ..................\n",
      "[CV] ... max_depth=10, max_features=2, n_estimators=100, total=   0.1s\n",
      "[CV] max_depth=10, max_features=2, n_estimators=100 ..................\n",
      "[CV] ... max_depth=10, max_features=2, n_estimators=100, total=   0.1s\n",
      "[CV] max_depth=10, max_features=2, n_estimators=100 ..................\n",
      "[CV] ... max_depth=10, max_features=2, n_estimators=100, total=   0.1s\n",
      "[CV] max_depth=10, max_features=2, n_estimators=100 ..................\n",
      "[CV] ... max_depth=10, max_features=2, n_estimators=100, total=   0.1s\n",
      "[CV] max_depth=10, max_features=2, n_estimators=200 ..................\n",
      "[CV] ... max_depth=10, max_features=2, n_estimators=200, total=   0.2s\n",
      "[CV] max_depth=10, max_features=2, n_estimators=200 ..................\n",
      "[CV] ... max_depth=10, max_features=2, n_estimators=200, total=   0.2s\n",
      "[CV] max_depth=10, max_features=2, n_estimators=200 ..................\n",
      "[CV] ... max_depth=10, max_features=2, n_estimators=200, total=   0.2s\n",
      "[CV] max_depth=10, max_features=2, n_estimators=200 ..................\n",
      "[CV] ... max_depth=10, max_features=2, n_estimators=200, total=   0.2s\n",
      "[CV] max_depth=10, max_features=2, n_estimators=300 ..................\n",
      "[CV] ... max_depth=10, max_features=2, n_estimators=300, total=   0.3s\n",
      "[CV] max_depth=10, max_features=2, n_estimators=300 ..................\n",
      "[CV] ... max_depth=10, max_features=2, n_estimators=300, total=   0.3s\n",
      "[CV] max_depth=10, max_features=2, n_estimators=300 ..................\n",
      "[CV] ... max_depth=10, max_features=2, n_estimators=300, total=   0.3s\n",
      "[CV] max_depth=10, max_features=2, n_estimators=300 ..................\n",
      "[CV] ... max_depth=10, max_features=2, n_estimators=300, total=   0.3s\n",
      "[CV] max_depth=10, max_features=2, n_estimators=400 ..................\n",
      "[CV] ... max_depth=10, max_features=2, n_estimators=400, total=   0.4s\n",
      "[CV] max_depth=10, max_features=2, n_estimators=400 ..................\n",
      "[CV] ... max_depth=10, max_features=2, n_estimators=400, total=   0.4s\n",
      "[CV] max_depth=10, max_features=2, n_estimators=400 ..................\n",
      "[CV] ... max_depth=10, max_features=2, n_estimators=400, total=   0.4s\n",
      "[CV] max_depth=10, max_features=2, n_estimators=400 ..................\n",
      "[CV] ... max_depth=10, max_features=2, n_estimators=400, total=   0.4s\n",
      "[CV] max_depth=10, max_features=2, n_estimators=500 ..................\n",
      "[CV] ... max_depth=10, max_features=2, n_estimators=500, total=   0.5s\n",
      "[CV] max_depth=10, max_features=2, n_estimators=500 ..................\n",
      "[CV] ... max_depth=10, max_features=2, n_estimators=500, total=   0.5s\n",
      "[CV] max_depth=10, max_features=2, n_estimators=500 ..................\n",
      "[CV] ... max_depth=10, max_features=2, n_estimators=500, total=   0.5s\n",
      "[CV] max_depth=10, max_features=2, n_estimators=500 ..................\n",
      "[CV] ... max_depth=10, max_features=2, n_estimators=500, total=   0.5s\n",
      "[CV] max_depth=10, max_features=4, n_estimators=100 ..................\n",
      "[CV] ... max_depth=10, max_features=4, n_estimators=100, total=   0.1s\n",
      "[CV] max_depth=10, max_features=4, n_estimators=100 ..................\n",
      "[CV] ... max_depth=10, max_features=4, n_estimators=100, total=   0.1s\n",
      "[CV] max_depth=10, max_features=4, n_estimators=100 ..................\n",
      "[CV] ... max_depth=10, max_features=4, n_estimators=100, total=   0.1s\n",
      "[CV] max_depth=10, max_features=4, n_estimators=100 ..................\n",
      "[CV] ... max_depth=10, max_features=4, n_estimators=100, total=   0.1s\n",
      "[CV] max_depth=10, max_features=4, n_estimators=200 ..................\n",
      "[CV] ... max_depth=10, max_features=4, n_estimators=200, total=   0.2s\n",
      "[CV] max_depth=10, max_features=4, n_estimators=200 ..................\n",
      "[CV] ... max_depth=10, max_features=4, n_estimators=200, total=   0.2s\n",
      "[CV] max_depth=10, max_features=4, n_estimators=200 ..................\n",
      "[CV] ... max_depth=10, max_features=4, n_estimators=200, total=   0.2s\n",
      "[CV] max_depth=10, max_features=4, n_estimators=200 ..................\n",
      "[CV] ... max_depth=10, max_features=4, n_estimators=200, total=   0.2s\n",
      "[CV] max_depth=10, max_features=4, n_estimators=300 ..................\n",
      "[CV] ... max_depth=10, max_features=4, n_estimators=300, total=   0.3s\n",
      "[CV] max_depth=10, max_features=4, n_estimators=300 ..................\n",
      "[CV] ... max_depth=10, max_features=4, n_estimators=300, total=   0.3s\n",
      "[CV] max_depth=10, max_features=4, n_estimators=300 ..................\n",
      "[CV] ... max_depth=10, max_features=4, n_estimators=300, total=   0.3s\n",
      "[CV] max_depth=10, max_features=4, n_estimators=300 ..................\n",
      "[CV] ... max_depth=10, max_features=4, n_estimators=300, total=   0.3s\n",
      "[CV] max_depth=10, max_features=4, n_estimators=400 ..................\n",
      "[CV] ... max_depth=10, max_features=4, n_estimators=400, total=   0.4s\n",
      "[CV] max_depth=10, max_features=4, n_estimators=400 ..................\n",
      "[CV] ... max_depth=10, max_features=4, n_estimators=400, total=   0.4s\n",
      "[CV] max_depth=10, max_features=4, n_estimators=400 ..................\n",
      "[CV] ... max_depth=10, max_features=4, n_estimators=400, total=   0.4s\n",
      "[CV] max_depth=10, max_features=4, n_estimators=400 ..................\n",
      "[CV] ... max_depth=10, max_features=4, n_estimators=400, total=   0.4s\n",
      "[CV] max_depth=10, max_features=4, n_estimators=500 ..................\n",
      "[CV] ... max_depth=10, max_features=4, n_estimators=500, total=   0.6s\n",
      "[CV] max_depth=10, max_features=4, n_estimators=500 ..................\n",
      "[CV] ... max_depth=10, max_features=4, n_estimators=500, total=   0.6s\n",
      "[CV] max_depth=10, max_features=4, n_estimators=500 ..................\n",
      "[CV] ... max_depth=10, max_features=4, n_estimators=500, total=   0.6s\n",
      "[CV] max_depth=10, max_features=4, n_estimators=500 ..................\n",
      "[CV] ... max_depth=10, max_features=4, n_estimators=500, total=   0.6s\n",
      "[CV] max_depth=10, max_features=6, n_estimators=100 ..................\n",
      "[CV] ... max_depth=10, max_features=6, n_estimators=100, total=   0.1s\n",
      "[CV] max_depth=10, max_features=6, n_estimators=100 ..................\n",
      "[CV] ... max_depth=10, max_features=6, n_estimators=100, total=   0.1s\n",
      "[CV] max_depth=10, max_features=6, n_estimators=100 ..................\n",
      "[CV] ... max_depth=10, max_features=6, n_estimators=100, total=   0.1s\n",
      "[CV] max_depth=10, max_features=6, n_estimators=100 ..................\n",
      "[CV] ... max_depth=10, max_features=6, n_estimators=100, total=   0.1s\n",
      "[CV] max_depth=10, max_features=6, n_estimators=200 ..................\n",
      "[CV] ... max_depth=10, max_features=6, n_estimators=200, total=   0.3s\n",
      "[CV] max_depth=10, max_features=6, n_estimators=200 ..................\n",
      "[CV] ... max_depth=10, max_features=6, n_estimators=200, total=   0.3s\n",
      "[CV] max_depth=10, max_features=6, n_estimators=200 ..................\n",
      "[CV] ... max_depth=10, max_features=6, n_estimators=200, total=   0.3s\n",
      "[CV] max_depth=10, max_features=6, n_estimators=200 ..................\n",
      "[CV] ... max_depth=10, max_features=6, n_estimators=200, total=   0.3s\n",
      "[CV] max_depth=10, max_features=6, n_estimators=300 ..................\n",
      "[CV] ... max_depth=10, max_features=6, n_estimators=300, total=   0.4s\n",
      "[CV] max_depth=10, max_features=6, n_estimators=300 ..................\n",
      "[CV] ... max_depth=10, max_features=6, n_estimators=300, total=   0.4s\n",
      "[CV] max_depth=10, max_features=6, n_estimators=300 ..................\n",
      "[CV] ... max_depth=10, max_features=6, n_estimators=300, total=   0.4s\n",
      "[CV] max_depth=10, max_features=6, n_estimators=300 ..................\n",
      "[CV] ... max_depth=10, max_features=6, n_estimators=300, total=   0.4s\n",
      "[CV] max_depth=10, max_features=6, n_estimators=400 ..................\n",
      "[CV] ... max_depth=10, max_features=6, n_estimators=400, total=   0.5s\n",
      "[CV] max_depth=10, max_features=6, n_estimators=400 ..................\n",
      "[CV] ... max_depth=10, max_features=6, n_estimators=400, total=   0.5s\n",
      "[CV] max_depth=10, max_features=6, n_estimators=400 ..................\n",
      "[CV] ... max_depth=10, max_features=6, n_estimators=400, total=   0.5s\n",
      "[CV] max_depth=10, max_features=6, n_estimators=400 ..................\n",
      "[CV] ... max_depth=10, max_features=6, n_estimators=400, total=   0.5s\n",
      "[CV] max_depth=10, max_features=6, n_estimators=500 ..................\n",
      "[CV] ... max_depth=10, max_features=6, n_estimators=500, total=   0.6s\n",
      "[CV] max_depth=10, max_features=6, n_estimators=500 ..................\n"
     ]
    },
    {
     "name": "stdout",
     "output_type": "stream",
     "text": [
      "[CV] ... max_depth=10, max_features=6, n_estimators=500, total=   0.6s\n",
      "[CV] max_depth=10, max_features=6, n_estimators=500 ..................\n",
      "[CV] ... max_depth=10, max_features=6, n_estimators=500, total=   0.6s\n",
      "[CV] max_depth=10, max_features=6, n_estimators=500 ..................\n",
      "[CV] ... max_depth=10, max_features=6, n_estimators=500, total=   0.6s\n",
      "[CV] max_depth=10, max_features=8, n_estimators=100 ..................\n",
      "[CV] ... max_depth=10, max_features=8, n_estimators=100, total=   0.2s\n",
      "[CV] max_depth=10, max_features=8, n_estimators=100 ..................\n",
      "[CV] ... max_depth=10, max_features=8, n_estimators=100, total=   0.1s\n",
      "[CV] max_depth=10, max_features=8, n_estimators=100 ..................\n",
      "[CV] ... max_depth=10, max_features=8, n_estimators=100, total=   0.1s\n",
      "[CV] max_depth=10, max_features=8, n_estimators=100 ..................\n",
      "[CV] ... max_depth=10, max_features=8, n_estimators=100, total=   0.1s\n",
      "[CV] max_depth=10, max_features=8, n_estimators=200 ..................\n",
      "[CV] ... max_depth=10, max_features=8, n_estimators=200, total=   0.3s\n",
      "[CV] max_depth=10, max_features=8, n_estimators=200 ..................\n",
      "[CV] ... max_depth=10, max_features=8, n_estimators=200, total=   0.3s\n",
      "[CV] max_depth=10, max_features=8, n_estimators=200 ..................\n",
      "[CV] ... max_depth=10, max_features=8, n_estimators=200, total=   0.3s\n",
      "[CV] max_depth=10, max_features=8, n_estimators=200 ..................\n",
      "[CV] ... max_depth=10, max_features=8, n_estimators=200, total=   0.3s\n",
      "[CV] max_depth=10, max_features=8, n_estimators=300 ..................\n",
      "[CV] ... max_depth=10, max_features=8, n_estimators=300, total=   0.4s\n",
      "[CV] max_depth=10, max_features=8, n_estimators=300 ..................\n",
      "[CV] ... max_depth=10, max_features=8, n_estimators=300, total=   0.4s\n",
      "[CV] max_depth=10, max_features=8, n_estimators=300 ..................\n",
      "[CV] ... max_depth=10, max_features=8, n_estimators=300, total=   0.4s\n",
      "[CV] max_depth=10, max_features=8, n_estimators=300 ..................\n",
      "[CV] ... max_depth=10, max_features=8, n_estimators=300, total=   0.4s\n",
      "[CV] max_depth=10, max_features=8, n_estimators=400 ..................\n",
      "[CV] ... max_depth=10, max_features=8, n_estimators=400, total=   0.5s\n",
      "[CV] max_depth=10, max_features=8, n_estimators=400 ..................\n",
      "[CV] ... max_depth=10, max_features=8, n_estimators=400, total=   0.5s\n",
      "[CV] max_depth=10, max_features=8, n_estimators=400 ..................\n",
      "[CV] ... max_depth=10, max_features=8, n_estimators=400, total=   0.5s\n",
      "[CV] max_depth=10, max_features=8, n_estimators=400 ..................\n",
      "[CV] ... max_depth=10, max_features=8, n_estimators=400, total=   0.5s\n",
      "[CV] max_depth=10, max_features=8, n_estimators=500 ..................\n",
      "[CV] ... max_depth=10, max_features=8, n_estimators=500, total=   0.7s\n",
      "[CV] max_depth=10, max_features=8, n_estimators=500 ..................\n",
      "[CV] ... max_depth=10, max_features=8, n_estimators=500, total=   0.7s\n",
      "[CV] max_depth=10, max_features=8, n_estimators=500 ..................\n",
      "[CV] ... max_depth=10, max_features=8, n_estimators=500, total=   0.7s\n",
      "[CV] max_depth=10, max_features=8, n_estimators=500 ..................\n",
      "[CV] ... max_depth=10, max_features=8, n_estimators=500, total=   0.7s\n",
      "[CV] max_depth=10, max_features=10, n_estimators=100 .................\n",
      "[CV] .. max_depth=10, max_features=10, n_estimators=100, total=   0.2s\n",
      "[CV] max_depth=10, max_features=10, n_estimators=100 .................\n",
      "[CV] .. max_depth=10, max_features=10, n_estimators=100, total=   0.2s\n",
      "[CV] max_depth=10, max_features=10, n_estimators=100 .................\n",
      "[CV] .. max_depth=10, max_features=10, n_estimators=100, total=   0.2s\n",
      "[CV] max_depth=10, max_features=10, n_estimators=100 .................\n",
      "[CV] .. max_depth=10, max_features=10, n_estimators=100, total=   0.2s\n",
      "[CV] max_depth=10, max_features=10, n_estimators=200 .................\n",
      "[CV] .. max_depth=10, max_features=10, n_estimators=200, total=   0.3s\n",
      "[CV] max_depth=10, max_features=10, n_estimators=200 .................\n",
      "[CV] .. max_depth=10, max_features=10, n_estimators=200, total=   0.3s\n",
      "[CV] max_depth=10, max_features=10, n_estimators=200 .................\n",
      "[CV] .. max_depth=10, max_features=10, n_estimators=200, total=   0.3s\n",
      "[CV] max_depth=10, max_features=10, n_estimators=200 .................\n",
      "[CV] .. max_depth=10, max_features=10, n_estimators=200, total=   0.3s\n",
      "[CV] max_depth=10, max_features=10, n_estimators=300 .................\n",
      "[CV] .. max_depth=10, max_features=10, n_estimators=300, total=   0.4s\n",
      "[CV] max_depth=10, max_features=10, n_estimators=300 .................\n",
      "[CV] .. max_depth=10, max_features=10, n_estimators=300, total=   0.4s\n",
      "[CV] max_depth=10, max_features=10, n_estimators=300 .................\n",
      "[CV] .. max_depth=10, max_features=10, n_estimators=300, total=   0.4s\n",
      "[CV] max_depth=10, max_features=10, n_estimators=300 .................\n",
      "[CV] .. max_depth=10, max_features=10, n_estimators=300, total=   0.4s\n",
      "[CV] max_depth=10, max_features=10, n_estimators=400 .................\n",
      "[CV] .. max_depth=10, max_features=10, n_estimators=400, total=   0.6s\n",
      "[CV] max_depth=10, max_features=10, n_estimators=400 .................\n",
      "[CV] .. max_depth=10, max_features=10, n_estimators=400, total=   0.6s\n",
      "[CV] max_depth=10, max_features=10, n_estimators=400 .................\n",
      "[CV] .. max_depth=10, max_features=10, n_estimators=400, total=   0.6s\n",
      "[CV] max_depth=10, max_features=10, n_estimators=400 .................\n",
      "[CV] .. max_depth=10, max_features=10, n_estimators=400, total=   0.6s\n",
      "[CV] max_depth=10, max_features=10, n_estimators=500 .................\n",
      "[CV] .. max_depth=10, max_features=10, n_estimators=500, total=   0.7s\n",
      "[CV] max_depth=10, max_features=10, n_estimators=500 .................\n",
      "[CV] .. max_depth=10, max_features=10, n_estimators=500, total=   0.7s\n",
      "[CV] max_depth=10, max_features=10, n_estimators=500 .................\n",
      "[CV] .. max_depth=10, max_features=10, n_estimators=500, total=   0.7s\n",
      "[CV] max_depth=10, max_features=10, n_estimators=500 .................\n",
      "[CV] .. max_depth=10, max_features=10, n_estimators=500, total=   0.7s\n",
      "[CV] max_depth=10, max_features=12, n_estimators=100 .................\n",
      "[CV] .. max_depth=10, max_features=12, n_estimators=100, total=   0.2s\n",
      "[CV] max_depth=10, max_features=12, n_estimators=100 .................\n",
      "[CV] .. max_depth=10, max_features=12, n_estimators=100, total=   0.2s\n",
      "[CV] max_depth=10, max_features=12, n_estimators=100 .................\n",
      "[CV] .. max_depth=10, max_features=12, n_estimators=100, total=   0.2s\n",
      "[CV] max_depth=10, max_features=12, n_estimators=100 .................\n",
      "[CV] .. max_depth=10, max_features=12, n_estimators=100, total=   0.2s\n",
      "[CV] max_depth=10, max_features=12, n_estimators=200 .................\n",
      "[CV] .. max_depth=10, max_features=12, n_estimators=200, total=   0.3s\n",
      "[CV] max_depth=10, max_features=12, n_estimators=200 .................\n",
      "[CV] .. max_depth=10, max_features=12, n_estimators=200, total=   0.3s\n",
      "[CV] max_depth=10, max_features=12, n_estimators=200 .................\n",
      "[CV] .. max_depth=10, max_features=12, n_estimators=200, total=   0.3s\n",
      "[CV] max_depth=10, max_features=12, n_estimators=200 .................\n",
      "[CV] .. max_depth=10, max_features=12, n_estimators=200, total=   0.3s\n",
      "[CV] max_depth=10, max_features=12, n_estimators=300 .................\n",
      "[CV] .. max_depth=10, max_features=12, n_estimators=300, total=   0.5s\n",
      "[CV] max_depth=10, max_features=12, n_estimators=300 .................\n",
      "[CV] .. max_depth=10, max_features=12, n_estimators=300, total=   0.5s\n",
      "[CV] max_depth=10, max_features=12, n_estimators=300 .................\n",
      "[CV] .. max_depth=10, max_features=12, n_estimators=300, total=   0.5s\n",
      "[CV] max_depth=10, max_features=12, n_estimators=300 .................\n",
      "[CV] .. max_depth=10, max_features=12, n_estimators=300, total=   0.5s\n",
      "[CV] max_depth=10, max_features=12, n_estimators=400 .................\n",
      "[CV] .. max_depth=10, max_features=12, n_estimators=400, total=   0.6s\n",
      "[CV] max_depth=10, max_features=12, n_estimators=400 .................\n",
      "[CV] .. max_depth=10, max_features=12, n_estimators=400, total=   0.6s\n",
      "[CV] max_depth=10, max_features=12, n_estimators=400 .................\n",
      "[CV] .. max_depth=10, max_features=12, n_estimators=400, total=   0.6s\n",
      "[CV] max_depth=10, max_features=12, n_estimators=400 .................\n"
     ]
    },
    {
     "name": "stdout",
     "output_type": "stream",
     "text": [
      "[CV] .. max_depth=10, max_features=12, n_estimators=400, total=   0.6s\n",
      "[CV] max_depth=10, max_features=12, n_estimators=500 .................\n",
      "[CV] .. max_depth=10, max_features=12, n_estimators=500, total=   0.8s\n",
      "[CV] max_depth=10, max_features=12, n_estimators=500 .................\n",
      "[CV] .. max_depth=10, max_features=12, n_estimators=500, total=   0.8s\n",
      "[CV] max_depth=10, max_features=12, n_estimators=500 .................\n",
      "[CV] .. max_depth=10, max_features=12, n_estimators=500, total=   0.8s\n",
      "[CV] max_depth=10, max_features=12, n_estimators=500 .................\n",
      "[CV] .. max_depth=10, max_features=12, n_estimators=500, total=   0.8s\n",
      "[CV] max_depth=10, max_features=14, n_estimators=100 .................\n",
      "[CV] .. max_depth=10, max_features=14, n_estimators=100, total=   0.2s\n",
      "[CV] max_depth=10, max_features=14, n_estimators=100 .................\n",
      "[CV] .. max_depth=10, max_features=14, n_estimators=100, total=   0.2s\n",
      "[CV] max_depth=10, max_features=14, n_estimators=100 .................\n",
      "[CV] .. max_depth=10, max_features=14, n_estimators=100, total=   0.2s\n",
      "[CV] max_depth=10, max_features=14, n_estimators=100 .................\n",
      "[CV] .. max_depth=10, max_features=14, n_estimators=100, total=   0.2s\n",
      "[CV] max_depth=10, max_features=14, n_estimators=200 .................\n",
      "[CV] .. max_depth=10, max_features=14, n_estimators=200, total=   0.3s\n",
      "[CV] max_depth=10, max_features=14, n_estimators=200 .................\n",
      "[CV] .. max_depth=10, max_features=14, n_estimators=200, total=   0.3s\n",
      "[CV] max_depth=10, max_features=14, n_estimators=200 .................\n",
      "[CV] .. max_depth=10, max_features=14, n_estimators=200, total=   0.3s\n",
      "[CV] max_depth=10, max_features=14, n_estimators=200 .................\n",
      "[CV] .. max_depth=10, max_features=14, n_estimators=200, total=   0.3s\n",
      "[CV] max_depth=10, max_features=14, n_estimators=300 .................\n",
      "[CV] .. max_depth=10, max_features=14, n_estimators=300, total=   0.5s\n",
      "[CV] max_depth=10, max_features=14, n_estimators=300 .................\n",
      "[CV] .. max_depth=10, max_features=14, n_estimators=300, total=   0.5s\n",
      "[CV] max_depth=10, max_features=14, n_estimators=300 .................\n",
      "[CV] .. max_depth=10, max_features=14, n_estimators=300, total=   0.5s\n",
      "[CV] max_depth=10, max_features=14, n_estimators=300 .................\n",
      "[CV] .. max_depth=10, max_features=14, n_estimators=300, total=   0.5s\n",
      "[CV] max_depth=10, max_features=14, n_estimators=400 .................\n",
      "[CV] .. max_depth=10, max_features=14, n_estimators=400, total=   0.7s\n",
      "[CV] max_depth=10, max_features=14, n_estimators=400 .................\n",
      "[CV] .. max_depth=10, max_features=14, n_estimators=400, total=   0.7s\n",
      "[CV] max_depth=10, max_features=14, n_estimators=400 .................\n",
      "[CV] .. max_depth=10, max_features=14, n_estimators=400, total=   0.7s\n",
      "[CV] max_depth=10, max_features=14, n_estimators=400 .................\n",
      "[CV] .. max_depth=10, max_features=14, n_estimators=400, total=   0.7s\n",
      "[CV] max_depth=10, max_features=14, n_estimators=500 .................\n",
      "[CV] .. max_depth=10, max_features=14, n_estimators=500, total=   0.8s\n",
      "[CV] max_depth=10, max_features=14, n_estimators=500 .................\n",
      "[CV] .. max_depth=10, max_features=14, n_estimators=500, total=   0.8s\n",
      "[CV] max_depth=10, max_features=14, n_estimators=500 .................\n",
      "[CV] .. max_depth=10, max_features=14, n_estimators=500, total=   0.8s\n",
      "[CV] max_depth=10, max_features=14, n_estimators=500 .................\n",
      "[CV] .. max_depth=10, max_features=14, n_estimators=500, total=   0.8s\n",
      "[CV] max_depth=10, max_features=16, n_estimators=100 .................\n",
      "[CV] .. max_depth=10, max_features=16, n_estimators=100, total=   0.2s\n",
      "[CV] max_depth=10, max_features=16, n_estimators=100 .................\n",
      "[CV] .. max_depth=10, max_features=16, n_estimators=100, total=   0.2s\n",
      "[CV] max_depth=10, max_features=16, n_estimators=100 .................\n",
      "[CV] .. max_depth=10, max_features=16, n_estimators=100, total=   0.2s\n",
      "[CV] max_depth=10, max_features=16, n_estimators=100 .................\n",
      "[CV] .. max_depth=10, max_features=16, n_estimators=100, total=   0.2s\n",
      "[CV] max_depth=10, max_features=16, n_estimators=200 .................\n",
      "[CV] .. max_depth=10, max_features=16, n_estimators=200, total=   0.4s\n",
      "[CV] max_depth=10, max_features=16, n_estimators=200 .................\n",
      "[CV] .. max_depth=10, max_features=16, n_estimators=200, total=   0.4s\n",
      "[CV] max_depth=10, max_features=16, n_estimators=200 .................\n",
      "[CV] .. max_depth=10, max_features=16, n_estimators=200, total=   0.3s\n",
      "[CV] max_depth=10, max_features=16, n_estimators=200 .................\n",
      "[CV] .. max_depth=10, max_features=16, n_estimators=200, total=   0.3s\n",
      "[CV] max_depth=10, max_features=16, n_estimators=300 .................\n",
      "[CV] .. max_depth=10, max_features=16, n_estimators=300, total=   0.5s\n",
      "[CV] max_depth=10, max_features=16, n_estimators=300 .................\n",
      "[CV] .. max_depth=10, max_features=16, n_estimators=300, total=   0.5s\n",
      "[CV] max_depth=10, max_features=16, n_estimators=300 .................\n",
      "[CV] .. max_depth=10, max_features=16, n_estimators=300, total=   0.5s\n",
      "[CV] max_depth=10, max_features=16, n_estimators=300 .................\n",
      "[CV] .. max_depth=10, max_features=16, n_estimators=300, total=   0.5s\n",
      "[CV] max_depth=10, max_features=16, n_estimators=400 .................\n",
      "[CV] .. max_depth=10, max_features=16, n_estimators=400, total=   0.7s\n",
      "[CV] max_depth=10, max_features=16, n_estimators=400 .................\n",
      "[CV] .. max_depth=10, max_features=16, n_estimators=400, total=   0.7s\n",
      "[CV] max_depth=10, max_features=16, n_estimators=400 .................\n",
      "[CV] .. max_depth=10, max_features=16, n_estimators=400, total=   0.7s\n",
      "[CV] max_depth=10, max_features=16, n_estimators=400 .................\n",
      "[CV] .. max_depth=10, max_features=16, n_estimators=400, total=   0.7s\n",
      "[CV] max_depth=10, max_features=16, n_estimators=500 .................\n",
      "[CV] .. max_depth=10, max_features=16, n_estimators=500, total=   0.9s\n",
      "[CV] max_depth=10, max_features=16, n_estimators=500 .................\n",
      "[CV] .. max_depth=10, max_features=16, n_estimators=500, total=   0.9s\n",
      "[CV] max_depth=10, max_features=16, n_estimators=500 .................\n",
      "[CV] .. max_depth=10, max_features=16, n_estimators=500, total=   0.9s\n",
      "[CV] max_depth=10, max_features=16, n_estimators=500 .................\n",
      "[CV] .. max_depth=10, max_features=16, n_estimators=500, total=   0.8s\n",
      "[CV] max_depth=12, max_features=2, n_estimators=100 ..................\n",
      "[CV] ... max_depth=12, max_features=2, n_estimators=100, total=   0.1s\n",
      "[CV] max_depth=12, max_features=2, n_estimators=100 ..................\n",
      "[CV] ... max_depth=12, max_features=2, n_estimators=100, total=   0.1s\n",
      "[CV] max_depth=12, max_features=2, n_estimators=100 ..................\n",
      "[CV] ... max_depth=12, max_features=2, n_estimators=100, total=   0.1s\n",
      "[CV] max_depth=12, max_features=2, n_estimators=100 ..................\n",
      "[CV] ... max_depth=12, max_features=2, n_estimators=100, total=   0.1s\n",
      "[CV] max_depth=12, max_features=2, n_estimators=200 ..................\n",
      "[CV] ... max_depth=12, max_features=2, n_estimators=200, total=   0.2s\n",
      "[CV] max_depth=12, max_features=2, n_estimators=200 ..................\n",
      "[CV] ... max_depth=12, max_features=2, n_estimators=200, total=   0.2s\n",
      "[CV] max_depth=12, max_features=2, n_estimators=200 ..................\n",
      "[CV] ... max_depth=12, max_features=2, n_estimators=200, total=   0.2s\n",
      "[CV] max_depth=12, max_features=2, n_estimators=200 ..................\n",
      "[CV] ... max_depth=12, max_features=2, n_estimators=200, total=   0.2s\n",
      "[CV] max_depth=12, max_features=2, n_estimators=300 ..................\n",
      "[CV] ... max_depth=12, max_features=2, n_estimators=300, total=   0.3s\n",
      "[CV] max_depth=12, max_features=2, n_estimators=300 ..................\n",
      "[CV] ... max_depth=12, max_features=2, n_estimators=300, total=   0.3s\n",
      "[CV] max_depth=12, max_features=2, n_estimators=300 ..................\n",
      "[CV] ... max_depth=12, max_features=2, n_estimators=300, total=   0.3s\n",
      "[CV] max_depth=12, max_features=2, n_estimators=300 ..................\n",
      "[CV] ... max_depth=12, max_features=2, n_estimators=300, total=   0.3s\n",
      "[CV] max_depth=12, max_features=2, n_estimators=400 ..................\n",
      "[CV] ... max_depth=12, max_features=2, n_estimators=400, total=   0.4s\n",
      "[CV] max_depth=12, max_features=2, n_estimators=400 ..................\n"
     ]
    },
    {
     "name": "stdout",
     "output_type": "stream",
     "text": [
      "[CV] ... max_depth=12, max_features=2, n_estimators=400, total=   0.4s\n",
      "[CV] max_depth=12, max_features=2, n_estimators=400 ..................\n",
      "[CV] ... max_depth=12, max_features=2, n_estimators=400, total=   0.8s\n",
      "[CV] max_depth=12, max_features=2, n_estimators=400 ..................\n",
      "[CV] ... max_depth=12, max_features=2, n_estimators=400, total=   0.4s\n",
      "[CV] max_depth=12, max_features=2, n_estimators=500 ..................\n",
      "[CV] ... max_depth=12, max_features=2, n_estimators=500, total=   0.5s\n",
      "[CV] max_depth=12, max_features=2, n_estimators=500 ..................\n",
      "[CV] ... max_depth=12, max_features=2, n_estimators=500, total=   0.5s\n",
      "[CV] max_depth=12, max_features=2, n_estimators=500 ..................\n",
      "[CV] ... max_depth=12, max_features=2, n_estimators=500, total=   0.5s\n",
      "[CV] max_depth=12, max_features=2, n_estimators=500 ..................\n",
      "[CV] ... max_depth=12, max_features=2, n_estimators=500, total=   0.5s\n",
      "[CV] max_depth=12, max_features=4, n_estimators=100 ..................\n",
      "[CV] ... max_depth=12, max_features=4, n_estimators=100, total=   0.1s\n",
      "[CV] max_depth=12, max_features=4, n_estimators=100 ..................\n",
      "[CV] ... max_depth=12, max_features=4, n_estimators=100, total=   0.1s\n",
      "[CV] max_depth=12, max_features=4, n_estimators=100 ..................\n",
      "[CV] ... max_depth=12, max_features=4, n_estimators=100, total=   0.1s\n",
      "[CV] max_depth=12, max_features=4, n_estimators=100 ..................\n",
      "[CV] ... max_depth=12, max_features=4, n_estimators=100, total=   0.1s\n",
      "[CV] max_depth=12, max_features=4, n_estimators=200 ..................\n",
      "[CV] ... max_depth=12, max_features=4, n_estimators=200, total=   0.3s\n",
      "[CV] max_depth=12, max_features=4, n_estimators=200 ..................\n",
      "[CV] ... max_depth=12, max_features=4, n_estimators=200, total=   0.3s\n",
      "[CV] max_depth=12, max_features=4, n_estimators=200 ..................\n",
      "[CV] ... max_depth=12, max_features=4, n_estimators=200, total=   0.2s\n",
      "[CV] max_depth=12, max_features=4, n_estimators=200 ..................\n",
      "[CV] ... max_depth=12, max_features=4, n_estimators=200, total=   0.3s\n",
      "[CV] max_depth=12, max_features=4, n_estimators=300 ..................\n",
      "[CV] ... max_depth=12, max_features=4, n_estimators=300, total=   0.4s\n",
      "[CV] max_depth=12, max_features=4, n_estimators=300 ..................\n",
      "[CV] ... max_depth=12, max_features=4, n_estimators=300, total=   0.4s\n",
      "[CV] max_depth=12, max_features=4, n_estimators=300 ..................\n",
      "[CV] ... max_depth=12, max_features=4, n_estimators=300, total=   0.4s\n",
      "[CV] max_depth=12, max_features=4, n_estimators=300 ..................\n",
      "[CV] ... max_depth=12, max_features=4, n_estimators=300, total=   0.4s\n",
      "[CV] max_depth=12, max_features=4, n_estimators=400 ..................\n",
      "[CV] ... max_depth=12, max_features=4, n_estimators=400, total=   0.5s\n",
      "[CV] max_depth=12, max_features=4, n_estimators=400 ..................\n",
      "[CV] ... max_depth=12, max_features=4, n_estimators=400, total=   0.5s\n",
      "[CV] max_depth=12, max_features=4, n_estimators=400 ..................\n",
      "[CV] ... max_depth=12, max_features=4, n_estimators=400, total=   0.5s\n",
      "[CV] max_depth=12, max_features=4, n_estimators=400 ..................\n",
      "[CV] ... max_depth=12, max_features=4, n_estimators=400, total=   0.5s\n",
      "[CV] max_depth=12, max_features=4, n_estimators=500 ..................\n",
      "[CV] ... max_depth=12, max_features=4, n_estimators=500, total=   0.6s\n",
      "[CV] max_depth=12, max_features=4, n_estimators=500 ..................\n",
      "[CV] ... max_depth=12, max_features=4, n_estimators=500, total=   0.6s\n",
      "[CV] max_depth=12, max_features=4, n_estimators=500 ..................\n",
      "[CV] ... max_depth=12, max_features=4, n_estimators=500, total=   0.6s\n",
      "[CV] max_depth=12, max_features=4, n_estimators=500 ..................\n",
      "[CV] ... max_depth=12, max_features=4, n_estimators=500, total=   0.6s\n",
      "[CV] max_depth=12, max_features=6, n_estimators=100 ..................\n",
      "[CV] ... max_depth=12, max_features=6, n_estimators=100, total=   0.2s\n",
      "[CV] max_depth=12, max_features=6, n_estimators=100 ..................\n",
      "[CV] ... max_depth=12, max_features=6, n_estimators=100, total=   0.1s\n",
      "[CV] max_depth=12, max_features=6, n_estimators=100 ..................\n",
      "[CV] ... max_depth=12, max_features=6, n_estimators=100, total=   0.1s\n",
      "[CV] max_depth=12, max_features=6, n_estimators=100 ..................\n",
      "[CV] ... max_depth=12, max_features=6, n_estimators=100, total=   0.2s\n",
      "[CV] max_depth=12, max_features=6, n_estimators=200 ..................\n",
      "[CV] ... max_depth=12, max_features=6, n_estimators=200, total=   0.3s\n",
      "[CV] max_depth=12, max_features=6, n_estimators=200 ..................\n",
      "[CV] ... max_depth=12, max_features=6, n_estimators=200, total=   0.3s\n",
      "[CV] max_depth=12, max_features=6, n_estimators=200 ..................\n",
      "[CV] ... max_depth=12, max_features=6, n_estimators=200, total=   0.3s\n",
      "[CV] max_depth=12, max_features=6, n_estimators=200 ..................\n",
      "[CV] ... max_depth=12, max_features=6, n_estimators=200, total=   0.3s\n",
      "[CV] max_depth=12, max_features=6, n_estimators=300 ..................\n",
      "[CV] ... max_depth=12, max_features=6, n_estimators=300, total=   0.4s\n",
      "[CV] max_depth=12, max_features=6, n_estimators=300 ..................\n",
      "[CV] ... max_depth=12, max_features=6, n_estimators=300, total=   0.4s\n",
      "[CV] max_depth=12, max_features=6, n_estimators=300 ..................\n",
      "[CV] ... max_depth=12, max_features=6, n_estimators=300, total=   0.4s\n",
      "[CV] max_depth=12, max_features=6, n_estimators=300 ..................\n",
      "[CV] ... max_depth=12, max_features=6, n_estimators=300, total=   0.4s\n",
      "[CV] max_depth=12, max_features=6, n_estimators=400 ..................\n",
      "[CV] ... max_depth=12, max_features=6, n_estimators=400, total=   0.5s\n",
      "[CV] max_depth=12, max_features=6, n_estimators=400 ..................\n",
      "[CV] ... max_depth=12, max_features=6, n_estimators=400, total=   0.6s\n",
      "[CV] max_depth=12, max_features=6, n_estimators=400 ..................\n",
      "[CV] ... max_depth=12, max_features=6, n_estimators=400, total=   0.5s\n",
      "[CV] max_depth=12, max_features=6, n_estimators=400 ..................\n",
      "[CV] ... max_depth=12, max_features=6, n_estimators=400, total=   0.5s\n",
      "[CV] max_depth=12, max_features=6, n_estimators=500 ..................\n",
      "[CV] ... max_depth=12, max_features=6, n_estimators=500, total=   0.7s\n",
      "[CV] max_depth=12, max_features=6, n_estimators=500 ..................\n",
      "[CV] ... max_depth=12, max_features=6, n_estimators=500, total=   0.7s\n",
      "[CV] max_depth=12, max_features=6, n_estimators=500 ..................\n",
      "[CV] ... max_depth=12, max_features=6, n_estimators=500, total=   0.7s\n",
      "[CV] max_depth=12, max_features=6, n_estimators=500 ..................\n",
      "[CV] ... max_depth=12, max_features=6, n_estimators=500, total=   0.7s\n",
      "[CV] max_depth=12, max_features=8, n_estimators=100 ..................\n",
      "[CV] ... max_depth=12, max_features=8, n_estimators=100, total=   0.2s\n",
      "[CV] max_depth=12, max_features=8, n_estimators=100 ..................\n",
      "[CV] ... max_depth=12, max_features=8, n_estimators=100, total=   0.2s\n",
      "[CV] max_depth=12, max_features=8, n_estimators=100 ..................\n",
      "[CV] ... max_depth=12, max_features=8, n_estimators=100, total=   0.2s\n",
      "[CV] max_depth=12, max_features=8, n_estimators=100 ..................\n",
      "[CV] ... max_depth=12, max_features=8, n_estimators=100, total=   0.2s\n",
      "[CV] max_depth=12, max_features=8, n_estimators=200 ..................\n",
      "[CV] ... max_depth=12, max_features=8, n_estimators=200, total=   0.3s\n",
      "[CV] max_depth=12, max_features=8, n_estimators=200 ..................\n",
      "[CV] ... max_depth=12, max_features=8, n_estimators=200, total=   0.3s\n",
      "[CV] max_depth=12, max_features=8, n_estimators=200 ..................\n",
      "[CV] ... max_depth=12, max_features=8, n_estimators=200, total=   0.3s\n",
      "[CV] max_depth=12, max_features=8, n_estimators=200 ..................\n",
      "[CV] ... max_depth=12, max_features=8, n_estimators=200, total=   0.3s\n",
      "[CV] max_depth=12, max_features=8, n_estimators=300 ..................\n",
      "[CV] ... max_depth=12, max_features=8, n_estimators=300, total=   0.4s\n",
      "[CV] max_depth=12, max_features=8, n_estimators=300 ..................\n",
      "[CV] ... max_depth=12, max_features=8, n_estimators=300, total=   0.4s\n",
      "[CV] max_depth=12, max_features=8, n_estimators=300 ..................\n",
      "[CV] ... max_depth=12, max_features=8, n_estimators=300, total=   0.4s\n",
      "[CV] max_depth=12, max_features=8, n_estimators=300 ..................\n"
     ]
    },
    {
     "name": "stdout",
     "output_type": "stream",
     "text": [
      "[CV] ... max_depth=12, max_features=8, n_estimators=300, total=   0.4s\n",
      "[CV] max_depth=12, max_features=8, n_estimators=400 ..................\n",
      "[CV] ... max_depth=12, max_features=8, n_estimators=400, total=   0.6s\n",
      "[CV] max_depth=12, max_features=8, n_estimators=400 ..................\n",
      "[CV] ... max_depth=12, max_features=8, n_estimators=400, total=   0.6s\n",
      "[CV] max_depth=12, max_features=8, n_estimators=400 ..................\n",
      "[CV] ... max_depth=12, max_features=8, n_estimators=400, total=   0.6s\n",
      "[CV] max_depth=12, max_features=8, n_estimators=400 ..................\n",
      "[CV] ... max_depth=12, max_features=8, n_estimators=400, total=   0.6s\n",
      "[CV] max_depth=12, max_features=8, n_estimators=500 ..................\n",
      "[CV] ... max_depth=12, max_features=8, n_estimators=500, total=   0.7s\n",
      "[CV] max_depth=12, max_features=8, n_estimators=500 ..................\n",
      "[CV] ... max_depth=12, max_features=8, n_estimators=500, total=   0.7s\n",
      "[CV] max_depth=12, max_features=8, n_estimators=500 ..................\n",
      "[CV] ... max_depth=12, max_features=8, n_estimators=500, total=   0.7s\n",
      "[CV] max_depth=12, max_features=8, n_estimators=500 ..................\n",
      "[CV] ... max_depth=12, max_features=8, n_estimators=500, total=   0.7s\n",
      "[CV] max_depth=12, max_features=10, n_estimators=100 .................\n",
      "[CV] .. max_depth=12, max_features=10, n_estimators=100, total=   0.2s\n",
      "[CV] max_depth=12, max_features=10, n_estimators=100 .................\n",
      "[CV] .. max_depth=12, max_features=10, n_estimators=100, total=   0.2s\n",
      "[CV] max_depth=12, max_features=10, n_estimators=100 .................\n",
      "[CV] .. max_depth=12, max_features=10, n_estimators=100, total=   0.2s\n",
      "[CV] max_depth=12, max_features=10, n_estimators=100 .................\n",
      "[CV] .. max_depth=12, max_features=10, n_estimators=100, total=   0.2s\n",
      "[CV] max_depth=12, max_features=10, n_estimators=200 .................\n",
      "[CV] .. max_depth=12, max_features=10, n_estimators=200, total=   0.3s\n",
      "[CV] max_depth=12, max_features=10, n_estimators=200 .................\n",
      "[CV] .. max_depth=12, max_features=10, n_estimators=200, total=   0.3s\n",
      "[CV] max_depth=12, max_features=10, n_estimators=200 .................\n",
      "[CV] .. max_depth=12, max_features=10, n_estimators=200, total=   0.3s\n",
      "[CV] max_depth=12, max_features=10, n_estimators=200 .................\n",
      "[CV] .. max_depth=12, max_features=10, n_estimators=200, total=   0.3s\n",
      "[CV] max_depth=12, max_features=10, n_estimators=300 .................\n",
      "[CV] .. max_depth=12, max_features=10, n_estimators=300, total=   0.5s\n",
      "[CV] max_depth=12, max_features=10, n_estimators=300 .................\n",
      "[CV] .. max_depth=12, max_features=10, n_estimators=300, total=   0.5s\n",
      "[CV] max_depth=12, max_features=10, n_estimators=300 .................\n",
      "[CV] .. max_depth=12, max_features=10, n_estimators=300, total=   0.5s\n",
      "[CV] max_depth=12, max_features=10, n_estimators=300 .................\n",
      "[CV] .. max_depth=12, max_features=10, n_estimators=300, total=   0.5s\n",
      "[CV] max_depth=12, max_features=10, n_estimators=400 .................\n",
      "[CV] .. max_depth=12, max_features=10, n_estimators=400, total=   0.6s\n",
      "[CV] max_depth=12, max_features=10, n_estimators=400 .................\n",
      "[CV] .. max_depth=12, max_features=10, n_estimators=400, total=   0.6s\n",
      "[CV] max_depth=12, max_features=10, n_estimators=400 .................\n",
      "[CV] .. max_depth=12, max_features=10, n_estimators=400, total=   0.6s\n",
      "[CV] max_depth=12, max_features=10, n_estimators=400 .................\n",
      "[CV] .. max_depth=12, max_features=10, n_estimators=400, total=   0.6s\n",
      "[CV] max_depth=12, max_features=10, n_estimators=500 .................\n",
      "[CV] .. max_depth=12, max_features=10, n_estimators=500, total=   0.8s\n",
      "[CV] max_depth=12, max_features=10, n_estimators=500 .................\n",
      "[CV] .. max_depth=12, max_features=10, n_estimators=500, total=   0.8s\n",
      "[CV] max_depth=12, max_features=10, n_estimators=500 .................\n",
      "[CV] .. max_depth=12, max_features=10, n_estimators=500, total=   0.8s\n",
      "[CV] max_depth=12, max_features=10, n_estimators=500 .................\n",
      "[CV] .. max_depth=12, max_features=10, n_estimators=500, total=   0.8s\n",
      "[CV] max_depth=12, max_features=12, n_estimators=100 .................\n",
      "[CV] .. max_depth=12, max_features=12, n_estimators=100, total=   0.2s\n",
      "[CV] max_depth=12, max_features=12, n_estimators=100 .................\n",
      "[CV] .. max_depth=12, max_features=12, n_estimators=100, total=   0.2s\n",
      "[CV] max_depth=12, max_features=12, n_estimators=100 .................\n",
      "[CV] .. max_depth=12, max_features=12, n_estimators=100, total=   0.2s\n",
      "[CV] max_depth=12, max_features=12, n_estimators=100 .................\n",
      "[CV] .. max_depth=12, max_features=12, n_estimators=100, total=   0.2s\n",
      "[CV] max_depth=12, max_features=12, n_estimators=200 .................\n",
      "[CV] .. max_depth=12, max_features=12, n_estimators=200, total=   0.4s\n",
      "[CV] max_depth=12, max_features=12, n_estimators=200 .................\n",
      "[CV] .. max_depth=12, max_features=12, n_estimators=200, total=   0.4s\n",
      "[CV] max_depth=12, max_features=12, n_estimators=200 .................\n",
      "[CV] .. max_depth=12, max_features=12, n_estimators=200, total=   0.3s\n",
      "[CV] max_depth=12, max_features=12, n_estimators=200 .................\n",
      "[CV] .. max_depth=12, max_features=12, n_estimators=200, total=   0.3s\n",
      "[CV] max_depth=12, max_features=12, n_estimators=300 .................\n",
      "[CV] .. max_depth=12, max_features=12, n_estimators=300, total=   0.5s\n",
      "[CV] max_depth=12, max_features=12, n_estimators=300 .................\n",
      "[CV] .. max_depth=12, max_features=12, n_estimators=300, total=   0.5s\n",
      "[CV] max_depth=12, max_features=12, n_estimators=300 .................\n",
      "[CV] .. max_depth=12, max_features=12, n_estimators=300, total=   0.5s\n",
      "[CV] max_depth=12, max_features=12, n_estimators=300 .................\n",
      "[CV] .. max_depth=12, max_features=12, n_estimators=300, total=   0.5s\n",
      "[CV] max_depth=12, max_features=12, n_estimators=400 .................\n",
      "[CV] .. max_depth=12, max_features=12, n_estimators=400, total=   0.7s\n",
      "[CV] max_depth=12, max_features=12, n_estimators=400 .................\n",
      "[CV] .. max_depth=12, max_features=12, n_estimators=400, total=   0.7s\n",
      "[CV] max_depth=12, max_features=12, n_estimators=400 .................\n",
      "[CV] .. max_depth=12, max_features=12, n_estimators=400, total=   0.7s\n",
      "[CV] max_depth=12, max_features=12, n_estimators=400 .................\n",
      "[CV] .. max_depth=12, max_features=12, n_estimators=400, total=   0.7s\n",
      "[CV] max_depth=12, max_features=12, n_estimators=500 .................\n",
      "[CV] .. max_depth=12, max_features=12, n_estimators=500, total=   0.8s\n",
      "[CV] max_depth=12, max_features=12, n_estimators=500 .................\n",
      "[CV] .. max_depth=12, max_features=12, n_estimators=500, total=   0.8s\n",
      "[CV] max_depth=12, max_features=12, n_estimators=500 .................\n",
      "[CV] .. max_depth=12, max_features=12, n_estimators=500, total=   0.8s\n",
      "[CV] max_depth=12, max_features=12, n_estimators=500 .................\n",
      "[CV] .. max_depth=12, max_features=12, n_estimators=500, total=   0.8s\n",
      "[CV] max_depth=12, max_features=14, n_estimators=100 .................\n",
      "[CV] .. max_depth=12, max_features=14, n_estimators=100, total=   0.2s\n",
      "[CV] max_depth=12, max_features=14, n_estimators=100 .................\n",
      "[CV] .. max_depth=12, max_features=14, n_estimators=100, total=   0.2s\n",
      "[CV] max_depth=12, max_features=14, n_estimators=100 .................\n",
      "[CV] .. max_depth=12, max_features=14, n_estimators=100, total=   0.2s\n",
      "[CV] max_depth=12, max_features=14, n_estimators=100 .................\n",
      "[CV] .. max_depth=12, max_features=14, n_estimators=100, total=   0.2s\n",
      "[CV] max_depth=12, max_features=14, n_estimators=200 .................\n",
      "[CV] .. max_depth=12, max_features=14, n_estimators=200, total=   0.4s\n",
      "[CV] max_depth=12, max_features=14, n_estimators=200 .................\n",
      "[CV] .. max_depth=12, max_features=14, n_estimators=200, total=   0.4s\n",
      "[CV] max_depth=12, max_features=14, n_estimators=200 .................\n",
      "[CV] .. max_depth=12, max_features=14, n_estimators=200, total=   0.4s\n",
      "[CV] max_depth=12, max_features=14, n_estimators=200 .................\n",
      "[CV] .. max_depth=12, max_features=14, n_estimators=200, total=   0.4s\n",
      "[CV] max_depth=12, max_features=14, n_estimators=300 .................\n",
      "[CV] .. max_depth=12, max_features=14, n_estimators=300, total=   0.5s\n",
      "[CV] max_depth=12, max_features=14, n_estimators=300 .................\n"
     ]
    },
    {
     "name": "stdout",
     "output_type": "stream",
     "text": [
      "[CV] .. max_depth=12, max_features=14, n_estimators=300, total=   0.5s\n",
      "[CV] max_depth=12, max_features=14, n_estimators=300 .................\n",
      "[CV] .. max_depth=12, max_features=14, n_estimators=300, total=   0.6s\n",
      "[CV] max_depth=12, max_features=14, n_estimators=300 .................\n",
      "[CV] .. max_depth=12, max_features=14, n_estimators=300, total=   0.6s\n",
      "[CV] max_depth=12, max_features=14, n_estimators=400 .................\n",
      "[CV] .. max_depth=12, max_features=14, n_estimators=400, total=   0.7s\n",
      "[CV] max_depth=12, max_features=14, n_estimators=400 .................\n",
      "[CV] .. max_depth=12, max_features=14, n_estimators=400, total=   0.7s\n",
      "[CV] max_depth=12, max_features=14, n_estimators=400 .................\n",
      "[CV] .. max_depth=12, max_features=14, n_estimators=400, total=   0.7s\n",
      "[CV] max_depth=12, max_features=14, n_estimators=400 .................\n",
      "[CV] .. max_depth=12, max_features=14, n_estimators=400, total=   0.7s\n",
      "[CV] max_depth=12, max_features=14, n_estimators=500 .................\n",
      "[CV] .. max_depth=12, max_features=14, n_estimators=500, total=   0.9s\n",
      "[CV] max_depth=12, max_features=14, n_estimators=500 .................\n",
      "[CV] .. max_depth=12, max_features=14, n_estimators=500, total=   0.9s\n",
      "[CV] max_depth=12, max_features=14, n_estimators=500 .................\n",
      "[CV] .. max_depth=12, max_features=14, n_estimators=500, total=   0.9s\n",
      "[CV] max_depth=12, max_features=14, n_estimators=500 .................\n",
      "[CV] .. max_depth=12, max_features=14, n_estimators=500, total=   0.9s\n",
      "[CV] max_depth=12, max_features=16, n_estimators=100 .................\n",
      "[CV] .. max_depth=12, max_features=16, n_estimators=100, total=   0.2s\n",
      "[CV] max_depth=12, max_features=16, n_estimators=100 .................\n",
      "[CV] .. max_depth=12, max_features=16, n_estimators=100, total=   0.2s\n",
      "[CV] max_depth=12, max_features=16, n_estimators=100 .................\n",
      "[CV] .. max_depth=12, max_features=16, n_estimators=100, total=   0.2s\n",
      "[CV] max_depth=12, max_features=16, n_estimators=100 .................\n",
      "[CV] .. max_depth=12, max_features=16, n_estimators=100, total=   0.2s\n",
      "[CV] max_depth=12, max_features=16, n_estimators=200 .................\n",
      "[CV] .. max_depth=12, max_features=16, n_estimators=200, total=   0.4s\n",
      "[CV] max_depth=12, max_features=16, n_estimators=200 .................\n",
      "[CV] .. max_depth=12, max_features=16, n_estimators=200, total=   0.4s\n",
      "[CV] max_depth=12, max_features=16, n_estimators=200 .................\n",
      "[CV] .. max_depth=12, max_features=16, n_estimators=200, total=   0.4s\n",
      "[CV] max_depth=12, max_features=16, n_estimators=200 .................\n",
      "[CV] .. max_depth=12, max_features=16, n_estimators=200, total=   0.4s\n",
      "[CV] max_depth=12, max_features=16, n_estimators=300 .................\n",
      "[CV] .. max_depth=12, max_features=16, n_estimators=300, total=   0.6s\n",
      "[CV] max_depth=12, max_features=16, n_estimators=300 .................\n",
      "[CV] .. max_depth=12, max_features=16, n_estimators=300, total=   0.6s\n",
      "[CV] max_depth=12, max_features=16, n_estimators=300 .................\n",
      "[CV] .. max_depth=12, max_features=16, n_estimators=300, total=   0.6s\n",
      "[CV] max_depth=12, max_features=16, n_estimators=300 .................\n",
      "[CV] .. max_depth=12, max_features=16, n_estimators=300, total=   0.6s\n",
      "[CV] max_depth=12, max_features=16, n_estimators=400 .................\n",
      "[CV] .. max_depth=12, max_features=16, n_estimators=400, total=   0.8s\n",
      "[CV] max_depth=12, max_features=16, n_estimators=400 .................\n",
      "[CV] .. max_depth=12, max_features=16, n_estimators=400, total=   0.8s\n",
      "[CV] max_depth=12, max_features=16, n_estimators=400 .................\n",
      "[CV] .. max_depth=12, max_features=16, n_estimators=400, total=   0.8s\n",
      "[CV] max_depth=12, max_features=16, n_estimators=400 .................\n",
      "[CV] .. max_depth=12, max_features=16, n_estimators=400, total=   0.8s\n",
      "[CV] max_depth=12, max_features=16, n_estimators=500 .................\n",
      "[CV] .. max_depth=12, max_features=16, n_estimators=500, total=   1.0s\n",
      "[CV] max_depth=12, max_features=16, n_estimators=500 .................\n",
      "[CV] .. max_depth=12, max_features=16, n_estimators=500, total=   1.0s\n",
      "[CV] max_depth=12, max_features=16, n_estimators=500 .................\n",
      "[CV] .. max_depth=12, max_features=16, n_estimators=500, total=   1.0s\n",
      "[CV] max_depth=12, max_features=16, n_estimators=500 .................\n",
      "[CV] .. max_depth=12, max_features=16, n_estimators=500, total=   1.0s\n",
      "[CV] max_depth=14, max_features=2, n_estimators=100 ..................\n",
      "[CV] ... max_depth=14, max_features=2, n_estimators=100, total=   0.1s\n",
      "[CV] max_depth=14, max_features=2, n_estimators=100 ..................\n",
      "[CV] ... max_depth=14, max_features=2, n_estimators=100, total=   0.1s\n",
      "[CV] max_depth=14, max_features=2, n_estimators=100 ..................\n",
      "[CV] ... max_depth=14, max_features=2, n_estimators=100, total=   0.1s\n",
      "[CV] max_depth=14, max_features=2, n_estimators=100 ..................\n",
      "[CV] ... max_depth=14, max_features=2, n_estimators=100, total=   0.1s\n",
      "[CV] max_depth=14, max_features=2, n_estimators=200 ..................\n",
      "[CV] ... max_depth=14, max_features=2, n_estimators=200, total=   0.3s\n",
      "[CV] max_depth=14, max_features=2, n_estimators=200 ..................\n",
      "[CV] ... max_depth=14, max_features=2, n_estimators=200, total=   0.3s\n",
      "[CV] max_depth=14, max_features=2, n_estimators=200 ..................\n",
      "[CV] ... max_depth=14, max_features=2, n_estimators=200, total=   0.2s\n",
      "[CV] max_depth=14, max_features=2, n_estimators=200 ..................\n",
      "[CV] ... max_depth=14, max_features=2, n_estimators=200, total=   0.2s\n",
      "[CV] max_depth=14, max_features=2, n_estimators=300 ..................\n",
      "[CV] ... max_depth=14, max_features=2, n_estimators=300, total=   0.4s\n",
      "[CV] max_depth=14, max_features=2, n_estimators=300 ..................\n",
      "[CV] ... max_depth=14, max_features=2, n_estimators=300, total=   0.4s\n",
      "[CV] max_depth=14, max_features=2, n_estimators=300 ..................\n",
      "[CV] ... max_depth=14, max_features=2, n_estimators=300, total=   0.4s\n",
      "[CV] max_depth=14, max_features=2, n_estimators=300 ..................\n",
      "[CV] ... max_depth=14, max_features=2, n_estimators=300, total=   0.4s\n",
      "[CV] max_depth=14, max_features=2, n_estimators=400 ..................\n",
      "[CV] ... max_depth=14, max_features=2, n_estimators=400, total=   0.5s\n",
      "[CV] max_depth=14, max_features=2, n_estimators=400 ..................\n",
      "[CV] ... max_depth=14, max_features=2, n_estimators=400, total=   0.5s\n",
      "[CV] max_depth=14, max_features=2, n_estimators=400 ..................\n",
      "[CV] ... max_depth=14, max_features=2, n_estimators=400, total=   0.5s\n",
      "[CV] max_depth=14, max_features=2, n_estimators=400 ..................\n",
      "[CV] ... max_depth=14, max_features=2, n_estimators=400, total=   0.5s\n",
      "[CV] max_depth=14, max_features=2, n_estimators=500 ..................\n",
      "[CV] ... max_depth=14, max_features=2, n_estimators=500, total=   0.6s\n",
      "[CV] max_depth=14, max_features=2, n_estimators=500 ..................\n",
      "[CV] ... max_depth=14, max_features=2, n_estimators=500, total=   0.6s\n",
      "[CV] max_depth=14, max_features=2, n_estimators=500 ..................\n",
      "[CV] ... max_depth=14, max_features=2, n_estimators=500, total=   0.6s\n",
      "[CV] max_depth=14, max_features=2, n_estimators=500 ..................\n",
      "[CV] ... max_depth=14, max_features=2, n_estimators=500, total=   0.6s\n",
      "[CV] max_depth=14, max_features=4, n_estimators=100 ..................\n",
      "[CV] ... max_depth=14, max_features=4, n_estimators=100, total=   0.1s\n",
      "[CV] max_depth=14, max_features=4, n_estimators=100 ..................\n",
      "[CV] ... max_depth=14, max_features=4, n_estimators=100, total=   0.2s\n",
      "[CV] max_depth=14, max_features=4, n_estimators=100 ..................\n",
      "[CV] ... max_depth=14, max_features=4, n_estimators=100, total=   0.2s\n",
      "[CV] max_depth=14, max_features=4, n_estimators=100 ..................\n",
      "[CV] ... max_depth=14, max_features=4, n_estimators=100, total=   0.2s\n",
      "[CV] max_depth=14, max_features=4, n_estimators=200 ..................\n",
      "[CV] ... max_depth=14, max_features=4, n_estimators=200, total=   0.3s\n",
      "[CV] max_depth=14, max_features=4, n_estimators=200 ..................\n",
      "[CV] ... max_depth=14, max_features=4, n_estimators=200, total=   0.3s\n",
      "[CV] max_depth=14, max_features=4, n_estimators=200 ..................\n",
      "[CV] ... max_depth=14, max_features=4, n_estimators=200, total=   0.3s\n",
      "[CV] max_depth=14, max_features=4, n_estimators=200 ..................\n"
     ]
    },
    {
     "name": "stdout",
     "output_type": "stream",
     "text": [
      "[CV] ... max_depth=14, max_features=4, n_estimators=200, total=   0.3s\n",
      "[CV] max_depth=14, max_features=4, n_estimators=300 ..................\n",
      "[CV] ... max_depth=14, max_features=4, n_estimators=300, total=   0.4s\n",
      "[CV] max_depth=14, max_features=4, n_estimators=300 ..................\n",
      "[CV] ... max_depth=14, max_features=4, n_estimators=300, total=   0.4s\n",
      "[CV] max_depth=14, max_features=4, n_estimators=300 ..................\n",
      "[CV] ... max_depth=14, max_features=4, n_estimators=300, total=   0.4s\n",
      "[CV] max_depth=14, max_features=4, n_estimators=300 ..................\n",
      "[CV] ... max_depth=14, max_features=4, n_estimators=300, total=   0.4s\n",
      "[CV] max_depth=14, max_features=4, n_estimators=400 ..................\n",
      "[CV] ... max_depth=14, max_features=4, n_estimators=400, total=   0.5s\n",
      "[CV] max_depth=14, max_features=4, n_estimators=400 ..................\n",
      "[CV] ... max_depth=14, max_features=4, n_estimators=400, total=   0.5s\n",
      "[CV] max_depth=14, max_features=4, n_estimators=400 ..................\n",
      "[CV] ... max_depth=14, max_features=4, n_estimators=400, total=   0.5s\n",
      "[CV] max_depth=14, max_features=4, n_estimators=400 ..................\n",
      "[CV] ... max_depth=14, max_features=4, n_estimators=400, total=   0.5s\n",
      "[CV] max_depth=14, max_features=4, n_estimators=500 ..................\n",
      "[CV] ... max_depth=14, max_features=4, n_estimators=500, total=   0.7s\n",
      "[CV] max_depth=14, max_features=4, n_estimators=500 ..................\n",
      "[CV] ... max_depth=14, max_features=4, n_estimators=500, total=   0.7s\n",
      "[CV] max_depth=14, max_features=4, n_estimators=500 ..................\n",
      "[CV] ... max_depth=14, max_features=4, n_estimators=500, total=   0.6s\n",
      "[CV] max_depth=14, max_features=4, n_estimators=500 ..................\n",
      "[CV] ... max_depth=14, max_features=4, n_estimators=500, total=   0.6s\n",
      "[CV] max_depth=14, max_features=6, n_estimators=100 ..................\n",
      "[CV] ... max_depth=14, max_features=6, n_estimators=100, total=   0.2s\n",
      "[CV] max_depth=14, max_features=6, n_estimators=100 ..................\n",
      "[CV] ... max_depth=14, max_features=6, n_estimators=100, total=   0.2s\n",
      "[CV] max_depth=14, max_features=6, n_estimators=100 ..................\n",
      "[CV] ... max_depth=14, max_features=6, n_estimators=100, total=   0.2s\n",
      "[CV] max_depth=14, max_features=6, n_estimators=100 ..................\n",
      "[CV] ... max_depth=14, max_features=6, n_estimators=100, total=   0.2s\n",
      "[CV] max_depth=14, max_features=6, n_estimators=200 ..................\n",
      "[CV] ... max_depth=14, max_features=6, n_estimators=200, total=   0.3s\n",
      "[CV] max_depth=14, max_features=6, n_estimators=200 ..................\n",
      "[CV] ... max_depth=14, max_features=6, n_estimators=200, total=   0.3s\n",
      "[CV] max_depth=14, max_features=6, n_estimators=200 ..................\n",
      "[CV] ... max_depth=14, max_features=6, n_estimators=200, total=   0.3s\n",
      "[CV] max_depth=14, max_features=6, n_estimators=200 ..................\n",
      "[CV] ... max_depth=14, max_features=6, n_estimators=200, total=   0.3s\n",
      "[CV] max_depth=14, max_features=6, n_estimators=300 ..................\n",
      "[CV] ... max_depth=14, max_features=6, n_estimators=300, total=   0.4s\n",
      "[CV] max_depth=14, max_features=6, n_estimators=300 ..................\n",
      "[CV] ... max_depth=14, max_features=6, n_estimators=300, total=   0.4s\n",
      "[CV] max_depth=14, max_features=6, n_estimators=300 ..................\n",
      "[CV] ... max_depth=14, max_features=6, n_estimators=300, total=   0.4s\n",
      "[CV] max_depth=14, max_features=6, n_estimators=300 ..................\n",
      "[CV] ... max_depth=14, max_features=6, n_estimators=300, total=   0.4s\n",
      "[CV] max_depth=14, max_features=6, n_estimators=400 ..................\n",
      "[CV] ... max_depth=14, max_features=6, n_estimators=400, total=   0.6s\n",
      "[CV] max_depth=14, max_features=6, n_estimators=400 ..................\n",
      "[CV] ... max_depth=14, max_features=6, n_estimators=400, total=   0.6s\n",
      "[CV] max_depth=14, max_features=6, n_estimators=400 ..................\n",
      "[CV] ... max_depth=14, max_features=6, n_estimators=400, total=   0.6s\n",
      "[CV] max_depth=14, max_features=6, n_estimators=400 ..................\n",
      "[CV] ... max_depth=14, max_features=6, n_estimators=400, total=   0.6s\n",
      "[CV] max_depth=14, max_features=6, n_estimators=500 ..................\n",
      "[CV] ... max_depth=14, max_features=6, n_estimators=500, total=   0.7s\n",
      "[CV] max_depth=14, max_features=6, n_estimators=500 ..................\n",
      "[CV] ... max_depth=14, max_features=6, n_estimators=500, total=   0.7s\n",
      "[CV] max_depth=14, max_features=6, n_estimators=500 ..................\n",
      "[CV] ... max_depth=14, max_features=6, n_estimators=500, total=   0.7s\n",
      "[CV] max_depth=14, max_features=6, n_estimators=500 ..................\n",
      "[CV] ... max_depth=14, max_features=6, n_estimators=500, total=   0.7s\n",
      "[CV] max_depth=14, max_features=8, n_estimators=100 ..................\n",
      "[CV] ... max_depth=14, max_features=8, n_estimators=100, total=   0.2s\n",
      "[CV] max_depth=14, max_features=8, n_estimators=100 ..................\n",
      "[CV] ... max_depth=14, max_features=8, n_estimators=100, total=   0.2s\n",
      "[CV] max_depth=14, max_features=8, n_estimators=100 ..................\n",
      "[CV] ... max_depth=14, max_features=8, n_estimators=100, total=   0.2s\n",
      "[CV] max_depth=14, max_features=8, n_estimators=100 ..................\n",
      "[CV] ... max_depth=14, max_features=8, n_estimators=100, total=   0.2s\n",
      "[CV] max_depth=14, max_features=8, n_estimators=200 ..................\n",
      "[CV] ... max_depth=14, max_features=8, n_estimators=200, total=   0.3s\n",
      "[CV] max_depth=14, max_features=8, n_estimators=200 ..................\n",
      "[CV] ... max_depth=14, max_features=8, n_estimators=200, total=   0.3s\n",
      "[CV] max_depth=14, max_features=8, n_estimators=200 ..................\n",
      "[CV] ... max_depth=14, max_features=8, n_estimators=200, total=   0.3s\n",
      "[CV] max_depth=14, max_features=8, n_estimators=200 ..................\n",
      "[CV] ... max_depth=14, max_features=8, n_estimators=200, total=   0.3s\n",
      "[CV] max_depth=14, max_features=8, n_estimators=300 ..................\n",
      "[CV] ... max_depth=14, max_features=8, n_estimators=300, total=   0.5s\n",
      "[CV] max_depth=14, max_features=8, n_estimators=300 ..................\n",
      "[CV] ... max_depth=14, max_features=8, n_estimators=300, total=   0.5s\n",
      "[CV] max_depth=14, max_features=8, n_estimators=300 ..................\n",
      "[CV] ... max_depth=14, max_features=8, n_estimators=300, total=   0.5s\n",
      "[CV] max_depth=14, max_features=8, n_estimators=300 ..................\n",
      "[CV] ... max_depth=14, max_features=8, n_estimators=300, total=   0.5s\n",
      "[CV] max_depth=14, max_features=8, n_estimators=400 ..................\n",
      "[CV] ... max_depth=14, max_features=8, n_estimators=400, total=   0.6s\n",
      "[CV] max_depth=14, max_features=8, n_estimators=400 ..................\n",
      "[CV] ... max_depth=14, max_features=8, n_estimators=400, total=   0.6s\n",
      "[CV] max_depth=14, max_features=8, n_estimators=400 ..................\n",
      "[CV] ... max_depth=14, max_features=8, n_estimators=400, total=   0.6s\n",
      "[CV] max_depth=14, max_features=8, n_estimators=400 ..................\n",
      "[CV] ... max_depth=14, max_features=8, n_estimators=400, total=   0.6s\n",
      "[CV] max_depth=14, max_features=8, n_estimators=500 ..................\n",
      "[CV] ... max_depth=14, max_features=8, n_estimators=500, total=   0.8s\n",
      "[CV] max_depth=14, max_features=8, n_estimators=500 ..................\n",
      "[CV] ... max_depth=14, max_features=8, n_estimators=500, total=   0.8s\n",
      "[CV] max_depth=14, max_features=8, n_estimators=500 ..................\n",
      "[CV] ... max_depth=14, max_features=8, n_estimators=500, total=   0.8s\n",
      "[CV] max_depth=14, max_features=8, n_estimators=500 ..................\n",
      "[CV] ... max_depth=14, max_features=8, n_estimators=500, total=   0.8s\n",
      "[CV] max_depth=14, max_features=10, n_estimators=100 .................\n",
      "[CV] .. max_depth=14, max_features=10, n_estimators=100, total=   0.2s\n",
      "[CV] max_depth=14, max_features=10, n_estimators=100 .................\n",
      "[CV] .. max_depth=14, max_features=10, n_estimators=100, total=   0.2s\n",
      "[CV] max_depth=14, max_features=10, n_estimators=100 .................\n",
      "[CV] .. max_depth=14, max_features=10, n_estimators=100, total=   0.2s\n",
      "[CV] max_depth=14, max_features=10, n_estimators=100 .................\n",
      "[CV] .. max_depth=14, max_features=10, n_estimators=100, total=   0.2s\n",
      "[CV] max_depth=14, max_features=10, n_estimators=200 .................\n",
      "[CV] .. max_depth=14, max_features=10, n_estimators=200, total=   0.4s\n",
      "[CV] max_depth=14, max_features=10, n_estimators=200 .................\n"
     ]
    },
    {
     "name": "stdout",
     "output_type": "stream",
     "text": [
      "[CV] .. max_depth=14, max_features=10, n_estimators=200, total=   0.3s\n",
      "[CV] max_depth=14, max_features=10, n_estimators=200 .................\n",
      "[CV] .. max_depth=14, max_features=10, n_estimators=200, total=   0.3s\n",
      "[CV] max_depth=14, max_features=10, n_estimators=200 .................\n",
      "[CV] .. max_depth=14, max_features=10, n_estimators=200, total=   0.3s\n",
      "[CV] max_depth=14, max_features=10, n_estimators=300 .................\n",
      "[CV] .. max_depth=14, max_features=10, n_estimators=300, total=   0.5s\n",
      "[CV] max_depth=14, max_features=10, n_estimators=300 .................\n",
      "[CV] .. max_depth=14, max_features=10, n_estimators=300, total=   0.5s\n",
      "[CV] max_depth=14, max_features=10, n_estimators=300 .................\n",
      "[CV] .. max_depth=14, max_features=10, n_estimators=300, total=   0.5s\n",
      "[CV] max_depth=14, max_features=10, n_estimators=300 .................\n",
      "[CV] .. max_depth=14, max_features=10, n_estimators=300, total=   0.5s\n",
      "[CV] max_depth=14, max_features=10, n_estimators=400 .................\n",
      "[CV] .. max_depth=14, max_features=10, n_estimators=400, total=   0.7s\n",
      "[CV] max_depth=14, max_features=10, n_estimators=400 .................\n",
      "[CV] .. max_depth=14, max_features=10, n_estimators=400, total=   0.7s\n",
      "[CV] max_depth=14, max_features=10, n_estimators=400 .................\n",
      "[CV] .. max_depth=14, max_features=10, n_estimators=400, total=   0.7s\n",
      "[CV] max_depth=14, max_features=10, n_estimators=400 .................\n",
      "[CV] .. max_depth=14, max_features=10, n_estimators=400, total=   0.7s\n",
      "[CV] max_depth=14, max_features=10, n_estimators=500 .................\n",
      "[CV] .. max_depth=14, max_features=10, n_estimators=500, total=   0.8s\n",
      "[CV] max_depth=14, max_features=10, n_estimators=500 .................\n",
      "[CV] .. max_depth=14, max_features=10, n_estimators=500, total=   0.8s\n",
      "[CV] max_depth=14, max_features=10, n_estimators=500 .................\n",
      "[CV] .. max_depth=14, max_features=10, n_estimators=500, total=   0.8s\n",
      "[CV] max_depth=14, max_features=10, n_estimators=500 .................\n",
      "[CV] .. max_depth=14, max_features=10, n_estimators=500, total=   0.8s\n",
      "[CV] max_depth=14, max_features=12, n_estimators=100 .................\n",
      "[CV] .. max_depth=14, max_features=12, n_estimators=100, total=   0.2s\n",
      "[CV] max_depth=14, max_features=12, n_estimators=100 .................\n",
      "[CV] .. max_depth=14, max_features=12, n_estimators=100, total=   0.2s\n",
      "[CV] max_depth=14, max_features=12, n_estimators=100 .................\n",
      "[CV] .. max_depth=14, max_features=12, n_estimators=100, total=   0.2s\n",
      "[CV] max_depth=14, max_features=12, n_estimators=100 .................\n",
      "[CV] .. max_depth=14, max_features=12, n_estimators=100, total=   0.2s\n",
      "[CV] max_depth=14, max_features=12, n_estimators=200 .................\n",
      "[CV] .. max_depth=14, max_features=12, n_estimators=200, total=   0.4s\n",
      "[CV] max_depth=14, max_features=12, n_estimators=200 .................\n",
      "[CV] .. max_depth=14, max_features=12, n_estimators=200, total=   0.4s\n",
      "[CV] max_depth=14, max_features=12, n_estimators=200 .................\n",
      "[CV] .. max_depth=14, max_features=12, n_estimators=200, total=   0.4s\n",
      "[CV] max_depth=14, max_features=12, n_estimators=200 .................\n",
      "[CV] .. max_depth=14, max_features=12, n_estimators=200, total=   0.4s\n",
      "[CV] max_depth=14, max_features=12, n_estimators=300 .................\n",
      "[CV] .. max_depth=14, max_features=12, n_estimators=300, total=   0.6s\n",
      "[CV] max_depth=14, max_features=12, n_estimators=300 .................\n",
      "[CV] .. max_depth=14, max_features=12, n_estimators=300, total=   0.6s\n",
      "[CV] max_depth=14, max_features=12, n_estimators=300 .................\n",
      "[CV] .. max_depth=14, max_features=12, n_estimators=300, total=   0.6s\n",
      "[CV] max_depth=14, max_features=12, n_estimators=300 .................\n",
      "[CV] .. max_depth=14, max_features=12, n_estimators=300, total=   0.6s\n",
      "[CV] max_depth=14, max_features=12, n_estimators=400 .................\n",
      "[CV] .. max_depth=14, max_features=12, n_estimators=400, total=   0.7s\n",
      "[CV] max_depth=14, max_features=12, n_estimators=400 .................\n",
      "[CV] .. max_depth=14, max_features=12, n_estimators=400, total=   0.7s\n",
      "[CV] max_depth=14, max_features=12, n_estimators=400 .................\n",
      "[CV] .. max_depth=14, max_features=12, n_estimators=400, total=   0.7s\n",
      "[CV] max_depth=14, max_features=12, n_estimators=400 .................\n",
      "[CV] .. max_depth=14, max_features=12, n_estimators=400, total=   0.7s\n",
      "[CV] max_depth=14, max_features=12, n_estimators=500 .................\n",
      "[CV] .. max_depth=14, max_features=12, n_estimators=500, total=   0.9s\n",
      "[CV] max_depth=14, max_features=12, n_estimators=500 .................\n",
      "[CV] .. max_depth=14, max_features=12, n_estimators=500, total=   0.9s\n",
      "[CV] max_depth=14, max_features=12, n_estimators=500 .................\n",
      "[CV] .. max_depth=14, max_features=12, n_estimators=500, total=   0.9s\n",
      "[CV] max_depth=14, max_features=12, n_estimators=500 .................\n",
      "[CV] .. max_depth=14, max_features=12, n_estimators=500, total=   0.9s\n",
      "[CV] max_depth=14, max_features=14, n_estimators=100 .................\n",
      "[CV] .. max_depth=14, max_features=14, n_estimators=100, total=   0.2s\n",
      "[CV] max_depth=14, max_features=14, n_estimators=100 .................\n",
      "[CV] .. max_depth=14, max_features=14, n_estimators=100, total=   0.2s\n",
      "[CV] max_depth=14, max_features=14, n_estimators=100 .................\n",
      "[CV] .. max_depth=14, max_features=14, n_estimators=100, total=   0.2s\n",
      "[CV] max_depth=14, max_features=14, n_estimators=100 .................\n",
      "[CV] .. max_depth=14, max_features=14, n_estimators=100, total=   0.2s\n",
      "[CV] max_depth=14, max_features=14, n_estimators=200 .................\n",
      "[CV] .. max_depth=14, max_features=14, n_estimators=200, total=   0.4s\n",
      "[CV] max_depth=14, max_features=14, n_estimators=200 .................\n",
      "[CV] .. max_depth=14, max_features=14, n_estimators=200, total=   0.4s\n",
      "[CV] max_depth=14, max_features=14, n_estimators=200 .................\n",
      "[CV] .. max_depth=14, max_features=14, n_estimators=200, total=   0.4s\n",
      "[CV] max_depth=14, max_features=14, n_estimators=200 .................\n",
      "[CV] .. max_depth=14, max_features=14, n_estimators=200, total=   0.4s\n",
      "[CV] max_depth=14, max_features=14, n_estimators=300 .................\n",
      "[CV] .. max_depth=14, max_features=14, n_estimators=300, total=   0.6s\n",
      "[CV] max_depth=14, max_features=14, n_estimators=300 .................\n",
      "[CV] .. max_depth=14, max_features=14, n_estimators=300, total=   0.6s\n",
      "[CV] max_depth=14, max_features=14, n_estimators=300 .................\n",
      "[CV] .. max_depth=14, max_features=14, n_estimators=300, total=   0.6s\n",
      "[CV] max_depth=14, max_features=14, n_estimators=300 .................\n",
      "[CV] .. max_depth=14, max_features=14, n_estimators=300, total=   0.6s\n",
      "[CV] max_depth=14, max_features=14, n_estimators=400 .................\n",
      "[CV] .. max_depth=14, max_features=14, n_estimators=400, total=   0.8s\n",
      "[CV] max_depth=14, max_features=14, n_estimators=400 .................\n",
      "[CV] .. max_depth=14, max_features=14, n_estimators=400, total=   0.8s\n",
      "[CV] max_depth=14, max_features=14, n_estimators=400 .................\n",
      "[CV] .. max_depth=14, max_features=14, n_estimators=400, total=   0.8s\n",
      "[CV] max_depth=14, max_features=14, n_estimators=400 .................\n",
      "[CV] .. max_depth=14, max_features=14, n_estimators=400, total=   0.8s\n",
      "[CV] max_depth=14, max_features=14, n_estimators=500 .................\n",
      "[CV] .. max_depth=14, max_features=14, n_estimators=500, total=   1.0s\n",
      "[CV] max_depth=14, max_features=14, n_estimators=500 .................\n",
      "[CV] .. max_depth=14, max_features=14, n_estimators=500, total=   1.0s\n",
      "[CV] max_depth=14, max_features=14, n_estimators=500 .................\n",
      "[CV] .. max_depth=14, max_features=14, n_estimators=500, total=   1.0s\n",
      "[CV] max_depth=14, max_features=14, n_estimators=500 .................\n",
      "[CV] .. max_depth=14, max_features=14, n_estimators=500, total=   1.0s\n",
      "[CV] max_depth=14, max_features=16, n_estimators=100 .................\n",
      "[CV] .. max_depth=14, max_features=16, n_estimators=100, total=   0.2s\n",
      "[CV] max_depth=14, max_features=16, n_estimators=100 .................\n",
      "[CV] .. max_depth=14, max_features=16, n_estimators=100, total=   0.2s\n",
      "[CV] max_depth=14, max_features=16, n_estimators=100 .................\n",
      "[CV] .. max_depth=14, max_features=16, n_estimators=100, total=   0.2s\n",
      "[CV] max_depth=14, max_features=16, n_estimators=100 .................\n"
     ]
    },
    {
     "name": "stdout",
     "output_type": "stream",
     "text": [
      "[CV] .. max_depth=14, max_features=16, n_estimators=100, total=   0.2s\n",
      "[CV] max_depth=14, max_features=16, n_estimators=200 .................\n",
      "[CV] .. max_depth=14, max_features=16, n_estimators=200, total=   0.4s\n",
      "[CV] max_depth=14, max_features=16, n_estimators=200 .................\n",
      "[CV] .. max_depth=14, max_features=16, n_estimators=200, total=   0.4s\n",
      "[CV] max_depth=14, max_features=16, n_estimators=200 .................\n",
      "[CV] .. max_depth=14, max_features=16, n_estimators=200, total=   0.4s\n",
      "[CV] max_depth=14, max_features=16, n_estimators=200 .................\n",
      "[CV] .. max_depth=14, max_features=16, n_estimators=200, total=   0.4s\n",
      "[CV] max_depth=14, max_features=16, n_estimators=300 .................\n",
      "[CV] .. max_depth=14, max_features=16, n_estimators=300, total=   0.6s\n",
      "[CV] max_depth=14, max_features=16, n_estimators=300 .................\n",
      "[CV] .. max_depth=14, max_features=16, n_estimators=300, total=   0.6s\n",
      "[CV] max_depth=14, max_features=16, n_estimators=300 .................\n",
      "[CV] .. max_depth=14, max_features=16, n_estimators=300, total=   0.6s\n",
      "[CV] max_depth=14, max_features=16, n_estimators=300 .................\n",
      "[CV] .. max_depth=14, max_features=16, n_estimators=300, total=   0.6s\n",
      "[CV] max_depth=14, max_features=16, n_estimators=400 .................\n",
      "[CV] .. max_depth=14, max_features=16, n_estimators=400, total=   0.8s\n",
      "[CV] max_depth=14, max_features=16, n_estimators=400 .................\n",
      "[CV] .. max_depth=14, max_features=16, n_estimators=400, total=   0.8s\n",
      "[CV] max_depth=14, max_features=16, n_estimators=400 .................\n",
      "[CV] .. max_depth=14, max_features=16, n_estimators=400, total=   0.8s\n",
      "[CV] max_depth=14, max_features=16, n_estimators=400 .................\n",
      "[CV] .. max_depth=14, max_features=16, n_estimators=400, total=   0.8s\n",
      "[CV] max_depth=14, max_features=16, n_estimators=500 .................\n",
      "[CV] .. max_depth=14, max_features=16, n_estimators=500, total=   1.0s\n",
      "[CV] max_depth=14, max_features=16, n_estimators=500 .................\n",
      "[CV] .. max_depth=14, max_features=16, n_estimators=500, total=   1.0s\n",
      "[CV] max_depth=14, max_features=16, n_estimators=500 .................\n",
      "[CV] .. max_depth=14, max_features=16, n_estimators=500, total=   1.0s\n",
      "[CV] max_depth=14, max_features=16, n_estimators=500 .................\n",
      "[CV] .. max_depth=14, max_features=16, n_estimators=500, total=   1.0s\n",
      "[CV] max_depth=16, max_features=2, n_estimators=100 ..................\n",
      "[CV] ... max_depth=16, max_features=2, n_estimators=100, total=   0.1s\n",
      "[CV] max_depth=16, max_features=2, n_estimators=100 ..................\n",
      "[CV] ... max_depth=16, max_features=2, n_estimators=100, total=   0.1s\n",
      "[CV] max_depth=16, max_features=2, n_estimators=100 ..................\n",
      "[CV] ... max_depth=16, max_features=2, n_estimators=100, total=   0.1s\n",
      "[CV] max_depth=16, max_features=2, n_estimators=100 ..................\n",
      "[CV] ... max_depth=16, max_features=2, n_estimators=100, total=   0.1s\n",
      "[CV] max_depth=16, max_features=2, n_estimators=200 ..................\n",
      "[CV] ... max_depth=16, max_features=2, n_estimators=200, total=   0.3s\n",
      "[CV] max_depth=16, max_features=2, n_estimators=200 ..................\n",
      "[CV] ... max_depth=16, max_features=2, n_estimators=200, total=   0.3s\n",
      "[CV] max_depth=16, max_features=2, n_estimators=200 ..................\n",
      "[CV] ... max_depth=16, max_features=2, n_estimators=200, total=   0.2s\n",
      "[CV] max_depth=16, max_features=2, n_estimators=200 ..................\n",
      "[CV] ... max_depth=16, max_features=2, n_estimators=200, total=   0.3s\n",
      "[CV] max_depth=16, max_features=2, n_estimators=300 ..................\n",
      "[CV] ... max_depth=16, max_features=2, n_estimators=300, total=   0.4s\n",
      "[CV] max_depth=16, max_features=2, n_estimators=300 ..................\n",
      "[CV] ... max_depth=16, max_features=2, n_estimators=300, total=   0.4s\n",
      "[CV] max_depth=16, max_features=2, n_estimators=300 ..................\n",
      "[CV] ... max_depth=16, max_features=2, n_estimators=300, total=   0.4s\n",
      "[CV] max_depth=16, max_features=2, n_estimators=300 ..................\n",
      "[CV] ... max_depth=16, max_features=2, n_estimators=300, total=   0.4s\n",
      "[CV] max_depth=16, max_features=2, n_estimators=400 ..................\n",
      "[CV] ... max_depth=16, max_features=2, n_estimators=400, total=   0.5s\n",
      "[CV] max_depth=16, max_features=2, n_estimators=400 ..................\n",
      "[CV] ... max_depth=16, max_features=2, n_estimators=400, total=   0.5s\n",
      "[CV] max_depth=16, max_features=2, n_estimators=400 ..................\n",
      "[CV] ... max_depth=16, max_features=2, n_estimators=400, total=   0.5s\n",
      "[CV] max_depth=16, max_features=2, n_estimators=400 ..................\n",
      "[CV] ... max_depth=16, max_features=2, n_estimators=400, total=   0.5s\n",
      "[CV] max_depth=16, max_features=2, n_estimators=500 ..................\n",
      "[CV] ... max_depth=16, max_features=2, n_estimators=500, total=   0.6s\n",
      "[CV] max_depth=16, max_features=2, n_estimators=500 ..................\n",
      "[CV] ... max_depth=16, max_features=2, n_estimators=500, total=   0.6s\n",
      "[CV] max_depth=16, max_features=2, n_estimators=500 ..................\n",
      "[CV] ... max_depth=16, max_features=2, n_estimators=500, total=   0.6s\n",
      "[CV] max_depth=16, max_features=2, n_estimators=500 ..................\n",
      "[CV] ... max_depth=16, max_features=2, n_estimators=500, total=   0.6s\n",
      "[CV] max_depth=16, max_features=4, n_estimators=100 ..................\n",
      "[CV] ... max_depth=16, max_features=4, n_estimators=100, total=   0.2s\n",
      "[CV] max_depth=16, max_features=4, n_estimators=100 ..................\n",
      "[CV] ... max_depth=16, max_features=4, n_estimators=100, total=   0.2s\n",
      "[CV] max_depth=16, max_features=4, n_estimators=100 ..................\n",
      "[CV] ... max_depth=16, max_features=4, n_estimators=100, total=   0.1s\n",
      "[CV] max_depth=16, max_features=4, n_estimators=100 ..................\n",
      "[CV] ... max_depth=16, max_features=4, n_estimators=100, total=   0.2s\n",
      "[CV] max_depth=16, max_features=4, n_estimators=200 ..................\n",
      "[CV] ... max_depth=16, max_features=4, n_estimators=200, total=   0.3s\n",
      "[CV] max_depth=16, max_features=4, n_estimators=200 ..................\n",
      "[CV] ... max_depth=16, max_features=4, n_estimators=200, total=   0.3s\n",
      "[CV] max_depth=16, max_features=4, n_estimators=200 ..................\n",
      "[CV] ... max_depth=16, max_features=4, n_estimators=200, total=   0.3s\n",
      "[CV] max_depth=16, max_features=4, n_estimators=200 ..................\n",
      "[CV] ... max_depth=16, max_features=4, n_estimators=200, total=   0.3s\n",
      "[CV] max_depth=16, max_features=4, n_estimators=300 ..................\n",
      "[CV] ... max_depth=16, max_features=4, n_estimators=300, total=   0.4s\n",
      "[CV] max_depth=16, max_features=4, n_estimators=300 ..................\n",
      "[CV] ... max_depth=16, max_features=4, n_estimators=300, total=   0.4s\n",
      "[CV] max_depth=16, max_features=4, n_estimators=300 ..................\n",
      "[CV] ... max_depth=16, max_features=4, n_estimators=300, total=   0.4s\n",
      "[CV] max_depth=16, max_features=4, n_estimators=300 ..................\n",
      "[CV] ... max_depth=16, max_features=4, n_estimators=300, total=   0.4s\n",
      "[CV] max_depth=16, max_features=4, n_estimators=400 ..................\n",
      "[CV] ... max_depth=16, max_features=4, n_estimators=400, total=   0.6s\n",
      "[CV] max_depth=16, max_features=4, n_estimators=400 ..................\n",
      "[CV] ... max_depth=16, max_features=4, n_estimators=400, total=   0.6s\n",
      "[CV] max_depth=16, max_features=4, n_estimators=400 ..................\n",
      "[CV] ... max_depth=16, max_features=4, n_estimators=400, total=   0.5s\n",
      "[CV] max_depth=16, max_features=4, n_estimators=400 ..................\n",
      "[CV] ... max_depth=16, max_features=4, n_estimators=400, total=   0.6s\n",
      "[CV] max_depth=16, max_features=4, n_estimators=500 ..................\n",
      "[CV] ... max_depth=16, max_features=4, n_estimators=500, total=   0.7s\n",
      "[CV] max_depth=16, max_features=4, n_estimators=500 ..................\n",
      "[CV] ... max_depth=16, max_features=4, n_estimators=500, total=   0.7s\n",
      "[CV] max_depth=16, max_features=4, n_estimators=500 ..................\n",
      "[CV] ... max_depth=16, max_features=4, n_estimators=500, total=   0.7s\n",
      "[CV] max_depth=16, max_features=4, n_estimators=500 ..................\n",
      "[CV] ... max_depth=16, max_features=4, n_estimators=500, total=   0.7s\n",
      "[CV] max_depth=16, max_features=6, n_estimators=100 ..................\n",
      "[CV] ... max_depth=16, max_features=6, n_estimators=100, total=   0.2s\n",
      "[CV] max_depth=16, max_features=6, n_estimators=100 ..................\n"
     ]
    },
    {
     "name": "stdout",
     "output_type": "stream",
     "text": [
      "[CV] ... max_depth=16, max_features=6, n_estimators=100, total=   0.2s\n",
      "[CV] max_depth=16, max_features=6, n_estimators=100 ..................\n",
      "[CV] ... max_depth=16, max_features=6, n_estimators=100, total=   0.2s\n",
      "[CV] max_depth=16, max_features=6, n_estimators=100 ..................\n",
      "[CV] ... max_depth=16, max_features=6, n_estimators=100, total=   0.2s\n",
      "[CV] max_depth=16, max_features=6, n_estimators=200 ..................\n",
      "[CV] ... max_depth=16, max_features=6, n_estimators=200, total=   0.3s\n",
      "[CV] max_depth=16, max_features=6, n_estimators=200 ..................\n",
      "[CV] ... max_depth=16, max_features=6, n_estimators=200, total=   0.3s\n",
      "[CV] max_depth=16, max_features=6, n_estimators=200 ..................\n",
      "[CV] ... max_depth=16, max_features=6, n_estimators=200, total=   0.3s\n",
      "[CV] max_depth=16, max_features=6, n_estimators=200 ..................\n",
      "[CV] ... max_depth=16, max_features=6, n_estimators=200, total=   0.3s\n",
      "[CV] max_depth=16, max_features=6, n_estimators=300 ..................\n",
      "[CV] ... max_depth=16, max_features=6, n_estimators=300, total=   0.5s\n",
      "[CV] max_depth=16, max_features=6, n_estimators=300 ..................\n",
      "[CV] ... max_depth=16, max_features=6, n_estimators=300, total=   0.4s\n",
      "[CV] max_depth=16, max_features=6, n_estimators=300 ..................\n",
      "[CV] ... max_depth=16, max_features=6, n_estimators=300, total=   0.5s\n",
      "[CV] max_depth=16, max_features=6, n_estimators=300 ..................\n",
      "[CV] ... max_depth=16, max_features=6, n_estimators=300, total=   0.5s\n",
      "[CV] max_depth=16, max_features=6, n_estimators=400 ..................\n",
      "[CV] ... max_depth=16, max_features=6, n_estimators=400, total=   0.6s\n",
      "[CV] max_depth=16, max_features=6, n_estimators=400 ..................\n",
      "[CV] ... max_depth=16, max_features=6, n_estimators=400, total=   0.6s\n",
      "[CV] max_depth=16, max_features=6, n_estimators=400 ..................\n",
      "[CV] ... max_depth=16, max_features=6, n_estimators=400, total=   0.6s\n",
      "[CV] max_depth=16, max_features=6, n_estimators=400 ..................\n",
      "[CV] ... max_depth=16, max_features=6, n_estimators=400, total=   0.6s\n",
      "[CV] max_depth=16, max_features=6, n_estimators=500 ..................\n",
      "[CV] ... max_depth=16, max_features=6, n_estimators=500, total=   0.7s\n",
      "[CV] max_depth=16, max_features=6, n_estimators=500 ..................\n",
      "[CV] ... max_depth=16, max_features=6, n_estimators=500, total=   0.7s\n",
      "[CV] max_depth=16, max_features=6, n_estimators=500 ..................\n",
      "[CV] ... max_depth=16, max_features=6, n_estimators=500, total=   0.8s\n",
      "[CV] max_depth=16, max_features=6, n_estimators=500 ..................\n",
      "[CV] ... max_depth=16, max_features=6, n_estimators=500, total=   0.8s\n",
      "[CV] max_depth=16, max_features=8, n_estimators=100 ..................\n",
      "[CV] ... max_depth=16, max_features=8, n_estimators=100, total=   0.2s\n",
      "[CV] max_depth=16, max_features=8, n_estimators=100 ..................\n",
      "[CV] ... max_depth=16, max_features=8, n_estimators=100, total=   0.2s\n",
      "[CV] max_depth=16, max_features=8, n_estimators=100 ..................\n",
      "[CV] ... max_depth=16, max_features=8, n_estimators=100, total=   0.2s\n",
      "[CV] max_depth=16, max_features=8, n_estimators=100 ..................\n",
      "[CV] ... max_depth=16, max_features=8, n_estimators=100, total=   0.2s\n",
      "[CV] max_depth=16, max_features=8, n_estimators=200 ..................\n",
      "[CV] ... max_depth=16, max_features=8, n_estimators=200, total=   0.3s\n",
      "[CV] max_depth=16, max_features=8, n_estimators=200 ..................\n",
      "[CV] ... max_depth=16, max_features=8, n_estimators=200, total=   0.3s\n",
      "[CV] max_depth=16, max_features=8, n_estimators=200 ..................\n",
      "[CV] ... max_depth=16, max_features=8, n_estimators=200, total=   0.3s\n",
      "[CV] max_depth=16, max_features=8, n_estimators=200 ..................\n",
      "[CV] ... max_depth=16, max_features=8, n_estimators=200, total=   0.3s\n",
      "[CV] max_depth=16, max_features=8, n_estimators=300 ..................\n",
      "[CV] ... max_depth=16, max_features=8, n_estimators=300, total=   0.5s\n",
      "[CV] max_depth=16, max_features=8, n_estimators=300 ..................\n",
      "[CV] ... max_depth=16, max_features=8, n_estimators=300, total=   0.5s\n",
      "[CV] max_depth=16, max_features=8, n_estimators=300 ..................\n",
      "[CV] ... max_depth=16, max_features=8, n_estimators=300, total=   0.5s\n",
      "[CV] max_depth=16, max_features=8, n_estimators=300 ..................\n",
      "[CV] ... max_depth=16, max_features=8, n_estimators=300, total=   0.5s\n",
      "[CV] max_depth=16, max_features=8, n_estimators=400 ..................\n",
      "[CV] ... max_depth=16, max_features=8, n_estimators=400, total=   0.7s\n",
      "[CV] max_depth=16, max_features=8, n_estimators=400 ..................\n",
      "[CV] ... max_depth=16, max_features=8, n_estimators=400, total=   0.7s\n",
      "[CV] max_depth=16, max_features=8, n_estimators=400 ..................\n",
      "[CV] ... max_depth=16, max_features=8, n_estimators=400, total=   0.7s\n",
      "[CV] max_depth=16, max_features=8, n_estimators=400 ..................\n",
      "[CV] ... max_depth=16, max_features=8, n_estimators=400, total=   0.7s\n",
      "[CV] max_depth=16, max_features=8, n_estimators=500 ..................\n",
      "[CV] ... max_depth=16, max_features=8, n_estimators=500, total=   0.8s\n",
      "[CV] max_depth=16, max_features=8, n_estimators=500 ..................\n",
      "[CV] ... max_depth=16, max_features=8, n_estimators=500, total=   0.8s\n",
      "[CV] max_depth=16, max_features=8, n_estimators=500 ..................\n",
      "[CV] ... max_depth=16, max_features=8, n_estimators=500, total=   0.8s\n",
      "[CV] max_depth=16, max_features=8, n_estimators=500 ..................\n",
      "[CV] ... max_depth=16, max_features=8, n_estimators=500, total=   0.8s\n",
      "[CV] max_depth=16, max_features=10, n_estimators=100 .................\n",
      "[CV] .. max_depth=16, max_features=10, n_estimators=100, total=   0.2s\n",
      "[CV] max_depth=16, max_features=10, n_estimators=100 .................\n",
      "[CV] .. max_depth=16, max_features=10, n_estimators=100, total=   0.2s\n",
      "[CV] max_depth=16, max_features=10, n_estimators=100 .................\n",
      "[CV] .. max_depth=16, max_features=10, n_estimators=100, total=   0.2s\n",
      "[CV] max_depth=16, max_features=10, n_estimators=100 .................\n",
      "[CV] .. max_depth=16, max_features=10, n_estimators=100, total=   0.2s\n",
      "[CV] max_depth=16, max_features=10, n_estimators=200 .................\n",
      "[CV] .. max_depth=16, max_features=10, n_estimators=200, total=   0.4s\n",
      "[CV] max_depth=16, max_features=10, n_estimators=200 .................\n",
      "[CV] .. max_depth=16, max_features=10, n_estimators=200, total=   0.4s\n",
      "[CV] max_depth=16, max_features=10, n_estimators=200 .................\n",
      "[CV] .. max_depth=16, max_features=10, n_estimators=200, total=   0.4s\n",
      "[CV] max_depth=16, max_features=10, n_estimators=200 .................\n",
      "[CV] .. max_depth=16, max_features=10, n_estimators=200, total=   0.4s\n",
      "[CV] max_depth=16, max_features=10, n_estimators=300 .................\n",
      "[CV] .. max_depth=16, max_features=10, n_estimators=300, total=   0.5s\n",
      "[CV] max_depth=16, max_features=10, n_estimators=300 .................\n",
      "[CV] .. max_depth=16, max_features=10, n_estimators=300, total=   0.5s\n",
      "[CV] max_depth=16, max_features=10, n_estimators=300 .................\n",
      "[CV] .. max_depth=16, max_features=10, n_estimators=300, total=   0.5s\n",
      "[CV] max_depth=16, max_features=10, n_estimators=300 .................\n",
      "[CV] .. max_depth=16, max_features=10, n_estimators=300, total=   0.5s\n",
      "[CV] max_depth=16, max_features=10, n_estimators=400 .................\n",
      "[CV] .. max_depth=16, max_features=10, n_estimators=400, total=   0.7s\n",
      "[CV] max_depth=16, max_features=10, n_estimators=400 .................\n",
      "[CV] .. max_depth=16, max_features=10, n_estimators=400, total=   0.7s\n",
      "[CV] max_depth=16, max_features=10, n_estimators=400 .................\n",
      "[CV] .. max_depth=16, max_features=10, n_estimators=400, total=   0.7s\n",
      "[CV] max_depth=16, max_features=10, n_estimators=400 .................\n",
      "[CV] .. max_depth=16, max_features=10, n_estimators=400, total=   0.7s\n",
      "[CV] max_depth=16, max_features=10, n_estimators=500 .................\n",
      "[CV] .. max_depth=16, max_features=10, n_estimators=500, total=   0.9s\n",
      "[CV] max_depth=16, max_features=10, n_estimators=500 .................\n",
      "[CV] .. max_depth=16, max_features=10, n_estimators=500, total=   0.9s\n",
      "[CV] max_depth=16, max_features=10, n_estimators=500 .................\n",
      "[CV] .. max_depth=16, max_features=10, n_estimators=500, total=   0.9s\n",
      "[CV] max_depth=16, max_features=10, n_estimators=500 .................\n"
     ]
    },
    {
     "name": "stdout",
     "output_type": "stream",
     "text": [
      "[CV] .. max_depth=16, max_features=10, n_estimators=500, total=   0.9s\n",
      "[CV] max_depth=16, max_features=12, n_estimators=100 .................\n",
      "[CV] .. max_depth=16, max_features=12, n_estimators=100, total=   0.2s\n",
      "[CV] max_depth=16, max_features=12, n_estimators=100 .................\n",
      "[CV] .. max_depth=16, max_features=12, n_estimators=100, total=   0.2s\n",
      "[CV] max_depth=16, max_features=12, n_estimators=100 .................\n",
      "[CV] .. max_depth=16, max_features=12, n_estimators=100, total=   0.2s\n",
      "[CV] max_depth=16, max_features=12, n_estimators=100 .................\n",
      "[CV] .. max_depth=16, max_features=12, n_estimators=100, total=   0.2s\n",
      "[CV] max_depth=16, max_features=12, n_estimators=200 .................\n",
      "[CV] .. max_depth=16, max_features=12, n_estimators=200, total=   0.4s\n",
      "[CV] max_depth=16, max_features=12, n_estimators=200 .................\n",
      "[CV] .. max_depth=16, max_features=12, n_estimators=200, total=   0.4s\n",
      "[CV] max_depth=16, max_features=12, n_estimators=200 .................\n",
      "[CV] .. max_depth=16, max_features=12, n_estimators=200, total=   0.4s\n",
      "[CV] max_depth=16, max_features=12, n_estimators=200 .................\n",
      "[CV] .. max_depth=16, max_features=12, n_estimators=200, total=   0.4s\n",
      "[CV] max_depth=16, max_features=12, n_estimators=300 .................\n",
      "[CV] .. max_depth=16, max_features=12, n_estimators=300, total=   0.6s\n",
      "[CV] max_depth=16, max_features=12, n_estimators=300 .................\n",
      "[CV] .. max_depth=16, max_features=12, n_estimators=300, total=   0.6s\n",
      "[CV] max_depth=16, max_features=12, n_estimators=300 .................\n",
      "[CV] .. max_depth=16, max_features=12, n_estimators=300, total=   0.6s\n",
      "[CV] max_depth=16, max_features=12, n_estimators=300 .................\n",
      "[CV] .. max_depth=16, max_features=12, n_estimators=300, total=   0.6s\n",
      "[CV] max_depth=16, max_features=12, n_estimators=400 .................\n",
      "[CV] .. max_depth=16, max_features=12, n_estimators=400, total=   0.8s\n",
      "[CV] max_depth=16, max_features=12, n_estimators=400 .................\n",
      "[CV] .. max_depth=16, max_features=12, n_estimators=400, total=   0.8s\n",
      "[CV] max_depth=16, max_features=12, n_estimators=400 .................\n",
      "[CV] .. max_depth=16, max_features=12, n_estimators=400, total=   0.8s\n",
      "[CV] max_depth=16, max_features=12, n_estimators=400 .................\n",
      "[CV] .. max_depth=16, max_features=12, n_estimators=400, total=   0.8s\n",
      "[CV] max_depth=16, max_features=12, n_estimators=500 .................\n",
      "[CV] .. max_depth=16, max_features=12, n_estimators=500, total=   0.9s\n",
      "[CV] max_depth=16, max_features=12, n_estimators=500 .................\n",
      "[CV] .. max_depth=16, max_features=12, n_estimators=500, total=   0.9s\n",
      "[CV] max_depth=16, max_features=12, n_estimators=500 .................\n",
      "[CV] .. max_depth=16, max_features=12, n_estimators=500, total=   1.0s\n",
      "[CV] max_depth=16, max_features=12, n_estimators=500 .................\n",
      "[CV] .. max_depth=16, max_features=12, n_estimators=500, total=   0.9s\n",
      "[CV] max_depth=16, max_features=14, n_estimators=100 .................\n",
      "[CV] .. max_depth=16, max_features=14, n_estimators=100, total=   0.2s\n",
      "[CV] max_depth=16, max_features=14, n_estimators=100 .................\n",
      "[CV] .. max_depth=16, max_features=14, n_estimators=100, total=   0.2s\n",
      "[CV] max_depth=16, max_features=14, n_estimators=100 .................\n",
      "[CV] .. max_depth=16, max_features=14, n_estimators=100, total=   0.2s\n",
      "[CV] max_depth=16, max_features=14, n_estimators=100 .................\n",
      "[CV] .. max_depth=16, max_features=14, n_estimators=100, total=   0.2s\n",
      "[CV] max_depth=16, max_features=14, n_estimators=200 .................\n",
      "[CV] .. max_depth=16, max_features=14, n_estimators=200, total=   0.4s\n",
      "[CV] max_depth=16, max_features=14, n_estimators=200 .................\n",
      "[CV] .. max_depth=16, max_features=14, n_estimators=200, total=   0.4s\n",
      "[CV] max_depth=16, max_features=14, n_estimators=200 .................\n",
      "[CV] .. max_depth=16, max_features=14, n_estimators=200, total=   0.4s\n",
      "[CV] max_depth=16, max_features=14, n_estimators=200 .................\n",
      "[CV] .. max_depth=16, max_features=14, n_estimators=200, total=   0.4s\n",
      "[CV] max_depth=16, max_features=14, n_estimators=300 .................\n",
      "[CV] .. max_depth=16, max_features=14, n_estimators=300, total=   0.6s\n",
      "[CV] max_depth=16, max_features=14, n_estimators=300 .................\n",
      "[CV] .. max_depth=16, max_features=14, n_estimators=300, total=   0.6s\n",
      "[CV] max_depth=16, max_features=14, n_estimators=300 .................\n",
      "[CV] .. max_depth=16, max_features=14, n_estimators=300, total=   0.6s\n",
      "[CV] max_depth=16, max_features=14, n_estimators=300 .................\n",
      "[CV] .. max_depth=16, max_features=14, n_estimators=300, total=   0.6s\n",
      "[CV] max_depth=16, max_features=14, n_estimators=400 .................\n",
      "[CV] .. max_depth=16, max_features=14, n_estimators=400, total=   0.8s\n",
      "[CV] max_depth=16, max_features=14, n_estimators=400 .................\n",
      "[CV] .. max_depth=16, max_features=14, n_estimators=400, total=   0.8s\n",
      "[CV] max_depth=16, max_features=14, n_estimators=400 .................\n",
      "[CV] .. max_depth=16, max_features=14, n_estimators=400, total=   0.8s\n",
      "[CV] max_depth=16, max_features=14, n_estimators=400 .................\n",
      "[CV] .. max_depth=16, max_features=14, n_estimators=400, total=   0.8s\n",
      "[CV] max_depth=16, max_features=14, n_estimators=500 .................\n",
      "[CV] .. max_depth=16, max_features=14, n_estimators=500, total=   1.0s\n",
      "[CV] max_depth=16, max_features=14, n_estimators=500 .................\n",
      "[CV] .. max_depth=16, max_features=14, n_estimators=500, total=   1.0s\n",
      "[CV] max_depth=16, max_features=14, n_estimators=500 .................\n",
      "[CV] .. max_depth=16, max_features=14, n_estimators=500, total=   1.0s\n",
      "[CV] max_depth=16, max_features=14, n_estimators=500 .................\n",
      "[CV] .. max_depth=16, max_features=14, n_estimators=500, total=   1.0s\n",
      "[CV] max_depth=16, max_features=16, n_estimators=100 .................\n",
      "[CV] .. max_depth=16, max_features=16, n_estimators=100, total=   0.2s\n",
      "[CV] max_depth=16, max_features=16, n_estimators=100 .................\n",
      "[CV] .. max_depth=16, max_features=16, n_estimators=100, total=   0.2s\n",
      "[CV] max_depth=16, max_features=16, n_estimators=100 .................\n",
      "[CV] .. max_depth=16, max_features=16, n_estimators=100, total=   0.2s\n",
      "[CV] max_depth=16, max_features=16, n_estimators=100 .................\n",
      "[CV] .. max_depth=16, max_features=16, n_estimators=100, total=   0.2s\n",
      "[CV] max_depth=16, max_features=16, n_estimators=200 .................\n",
      "[CV] .. max_depth=16, max_features=16, n_estimators=200, total=   0.4s\n",
      "[CV] max_depth=16, max_features=16, n_estimators=200 .................\n",
      "[CV] .. max_depth=16, max_features=16, n_estimators=200, total=   0.5s\n",
      "[CV] max_depth=16, max_features=16, n_estimators=200 .................\n",
      "[CV] .. max_depth=16, max_features=16, n_estimators=200, total=   0.4s\n",
      "[CV] max_depth=16, max_features=16, n_estimators=200 .................\n",
      "[CV] .. max_depth=16, max_features=16, n_estimators=200, total=   0.4s\n",
      "[CV] max_depth=16, max_features=16, n_estimators=300 .................\n",
      "[CV] .. max_depth=16, max_features=16, n_estimators=300, total=   0.7s\n",
      "[CV] max_depth=16, max_features=16, n_estimators=300 .................\n",
      "[CV] .. max_depth=16, max_features=16, n_estimators=300, total=   0.6s\n",
      "[CV] max_depth=16, max_features=16, n_estimators=300 .................\n",
      "[CV] .. max_depth=16, max_features=16, n_estimators=300, total=   0.7s\n",
      "[CV] max_depth=16, max_features=16, n_estimators=300 .................\n",
      "[CV] .. max_depth=16, max_features=16, n_estimators=300, total=   0.7s\n",
      "[CV] max_depth=16, max_features=16, n_estimators=400 .................\n",
      "[CV] .. max_depth=16, max_features=16, n_estimators=400, total=   0.9s\n",
      "[CV] max_depth=16, max_features=16, n_estimators=400 .................\n",
      "[CV] .. max_depth=16, max_features=16, n_estimators=400, total=   0.9s\n",
      "[CV] max_depth=16, max_features=16, n_estimators=400 .................\n",
      "[CV] .. max_depth=16, max_features=16, n_estimators=400, total=   0.9s\n",
      "[CV] max_depth=16, max_features=16, n_estimators=400 .................\n",
      "[CV] .. max_depth=16, max_features=16, n_estimators=400, total=   0.9s\n",
      "[CV] max_depth=16, max_features=16, n_estimators=500 .................\n",
      "[CV] .. max_depth=16, max_features=16, n_estimators=500, total=   1.1s\n",
      "[CV] max_depth=16, max_features=16, n_estimators=500 .................\n"
     ]
    },
    {
     "name": "stdout",
     "output_type": "stream",
     "text": [
      "[CV] .. max_depth=16, max_features=16, n_estimators=500, total=   1.1s\n",
      "[CV] max_depth=16, max_features=16, n_estimators=500 .................\n",
      "[CV] .. max_depth=16, max_features=16, n_estimators=500, total=   1.1s\n",
      "[CV] max_depth=16, max_features=16, n_estimators=500 .................\n",
      "[CV] .. max_depth=16, max_features=16, n_estimators=500, total=   1.1s\n"
     ]
    },
    {
     "name": "stderr",
     "output_type": "stream",
     "text": [
      "[Parallel(n_jobs=1)]: Done 1280 out of 1280 | elapsed:  8.7min finished\n"
     ]
    },
    {
     "data": {
      "text/plain": [
       "GridSearchCV(cv=4, estimator=RandomForestRegressor(),\n",
       "             param_grid={'max_depth': [4, 5, 7, 9, 10, 12, 14, 16],\n",
       "                         'max_features': [2, 4, 6, 8, 10, 12, 14, 16],\n",
       "                         'n_estimators': [100, 200, 300, 400, 500]},\n",
       "             verbose=2)"
      ]
     },
     "execution_count": 1165,
     "metadata": {},
     "output_type": "execute_result"
    }
   ],
   "source": [
    "rf_grid = GridSearchCV(RandomForestRegressor(), param_grid=params, cv=4, verbose=2)\n",
    "\n",
    "rf_grid.fit(x_train, y_train)"
   ]
  },
  {
   "cell_type": "code",
   "execution_count": 1166,
   "metadata": {
    "ExecuteTime": {
     "end_time": "2022-04-24T10:09:40.547172Z",
     "start_time": "2022-04-24T10:09:40.532024Z"
    }
   },
   "outputs": [
    {
     "data": {
      "text/plain": [
       "{'max_depth': 16, 'max_features': 16, 'n_estimators': 300}"
      ]
     },
     "execution_count": 1166,
     "metadata": {},
     "output_type": "execute_result"
    }
   ],
   "source": [
    "rf_grid.best_params_"
   ]
  },
  {
   "cell_type": "code",
   "execution_count": 1167,
   "metadata": {
    "ExecuteTime": {
     "end_time": "2022-04-24T10:09:40.585134Z",
     "start_time": "2022-04-24T10:09:40.548210Z"
    }
   },
   "outputs": [],
   "source": [
    "rf = RandomForestRegressor(max_depth= 16, max_features= 16, n_estimators= 400)"
   ]
  },
  {
   "cell_type": "code",
   "execution_count": 1168,
   "metadata": {
    "ExecuteTime": {
     "end_time": "2022-04-24T10:09:41.678309Z",
     "start_time": "2022-04-24T10:09:40.585134Z"
    }
   },
   "outputs": [
    {
     "name": "stdout",
     "output_type": "stream",
     "text": [
      "RMSE : 22235.723772974176\n"
     ]
    }
   ],
   "source": [
    "rf.fit(x_train, y_train)\n",
    "y_pred = rf.predict(x_test)\n",
    "\n",
    "print('RMSE :', metrics.mean_squared_error(y_test, y_pred,squared=False))"
   ]
  },
  {
   "cell_type": "code",
   "execution_count": null,
   "metadata": {},
   "outputs": [],
   "source": []
  }
 ],
 "metadata": {
  "kernelspec": {
   "display_name": "Python 3",
   "language": "python",
   "name": "python3"
  },
  "language_info": {
   "codemirror_mode": {
    "name": "ipython",
    "version": 3
   },
   "file_extension": ".py",
   "mimetype": "text/x-python",
   "name": "python",
   "nbconvert_exporter": "python",
   "pygments_lexer": "ipython3",
   "version": "3.8.5"
  },
  "toc": {
   "base_numbering": 1,
   "nav_menu": {},
   "number_sections": true,
   "sideBar": true,
   "skip_h1_title": false,
   "title_cell": "Table of Contents",
   "title_sidebar": "Contents",
   "toc_cell": false,
   "toc_position": {
    "height": "calc(100% - 180px)",
    "left": "10px",
    "top": "150px",
    "width": "289.825px"
   },
   "toc_section_display": true,
   "toc_window_display": true
  }
 },
 "nbformat": 4,
 "nbformat_minor": 4
}
